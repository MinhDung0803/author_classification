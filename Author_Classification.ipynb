{
 "cells": [
  {
   "cell_type": "markdown",
   "id": "electoral-surveillance",
   "metadata": {},
   "source": [
    "# Data collection"
   ]
  },
  {
   "cell_type": "code",
   "execution_count": 1,
   "id": "related-chosen",
   "metadata": {},
   "outputs": [],
   "source": [
    "# As the requirement about Gutengerg Dataset, I have found out the link where I could get this data. I downloaded\n",
    "# it. In the data I got, there are about 143 authors but I only selected 12 of them as my data. For each author,\n",
    "# I chose about 6 to 10 .txt files and I was trying to make sure that all the text for each of them are above 1000\n",
    "# texts as the requiement.\n",
    "# About where I can get the data, you can see the link here \n",
    "# - \"https://web.eecs.umich.edu/~lahiri/gutenberg_dataset.html\" and see for more information."
   ]
  },
  {
   "cell_type": "markdown",
   "id": "similar-purpose",
   "metadata": {},
   "source": [
    "# 1. Pre-process data using Spacy and other methods."
   ]
  },
  {
   "cell_type": "code",
   "execution_count": 3,
   "id": "royal-shoot",
   "metadata": {},
   "outputs": [
    {
     "name": "stderr",
     "output_type": "stream",
     "text": [
      "[nltk_data] Downloading package stopwords to /home/dungpm/nltk_data...\n",
      "[nltk_data]   Package stopwords is already up-to-date!\n"
     ]
    }
   ],
   "source": [
    "import numpy as np\n",
    "import re\n",
    "import nltk\n",
    "from sklearn.datasets import load_files\n",
    "nltk.download('stopwords')\n",
    "import pickle\n",
    "from nltk.corpus import stopwords\n",
    "import warnings\n",
    "warnings.filterwarnings('ignore')\n",
    "warnings.simplefilter('ignore')"
   ]
  },
  {
   "cell_type": "code",
   "execution_count": 4,
   "id": "narrative-reporter",
   "metadata": {},
   "outputs": [],
   "source": [
    "movie_data = load_files(r\"/home/dungpm/dungpm/NLP_author_classification/data\")\n",
    "X, y = movie_data.data, movie_data.target"
   ]
  },
  {
   "cell_type": "code",
   "execution_count": 5,
   "id": "framed-hierarchy",
   "metadata": {},
   "outputs": [
    {
     "name": "stdout",
     "output_type": "stream",
     "text": [
      "Length of traning data - text files:  106\n",
      "Length of targets - authors:  106\n"
     ]
    }
   ],
   "source": [
    "# Take a look at length of traning data and target\n",
    "print(\"Length of traning data - text files: \", len(X))\n",
    "print(\"Length of targets - authors: \", len(y))"
   ]
  },
  {
   "cell_type": "code",
   "execution_count": 6,
   "id": "macro-concept",
   "metadata": {},
   "outputs": [
    {
     "name": "stdout",
     "output_type": "stream",
     "text": [
      "Target's lables:  [11  1  8  0  3 11 11  0  2  9  7  3  5  6  8  6  1  8  9  6 11  0  3 10\n",
      "  4  0  7  5  3  0  8 10  8 10  9  6  3  2  6  5  7  7  5  0  8  5  4  0\n",
      "  1  2  4  4  0  6 11  6  0  4  3  6  5  1  7  4  3  3 10  6  9 10  4  9\n",
      "  1  8  2  3  5 11 11  7  2 11  8  8  3  4  8  5 11  4  7  6  1 10  9  7\n",
      "  9  4  2  9  0 11  7  7  5  5]\n"
     ]
    }
   ],
   "source": [
    "# For target lables\n",
    "print(\"Target's lables: \", y)"
   ]
  },
  {
   "cell_type": "code",
   "execution_count": 7,
   "id": "military-prisoner",
   "metadata": {},
   "outputs": [],
   "source": [
    "# I use \"load_file\" function from sklearn to load all the data. This function will help me to automativally \n",
    "# devide the data into training data and target."
   ]
  },
  {
   "cell_type": "code",
   "execution_count": 8,
   "id": "becoming-capital",
   "metadata": {},
   "outputs": [],
   "source": [
    "# After I chose some .txt file for each author, I have done some simple filter on these file. I delete all the name\n",
    "# of each author in their file to make sure that these name will NOT effect as strong feature during traing data.\n",
    "# And I hope this - pre-processing data step will make a good result."
   ]
  },
  {
   "cell_type": "code",
   "execution_count": 9,
   "id": "judicial-habitat",
   "metadata": {},
   "outputs": [],
   "source": [
    "# Now let do some more other pre-processing step with this data using Spacy and other methods. Text may \n",
    "# contain numbers, special characters, and unwanted spaces. I am going to remove them out of the data."
   ]
  },
  {
   "cell_type": "code",
   "execution_count": 10,
   "id": "strong-theory",
   "metadata": {
    "scrolled": true
   },
   "outputs": [
    {
     "name": "stdout",
     "output_type": "stream",
     "text": [
      "b'\\r\\n\\r\\nA PHYLLIS OF THE SIERRAS\\r\\n\\r\\n\\r\\nBy Bret Harte\\r\\n\\r\\n\\r\\n\\r\\n\\r\\nCHAPTER I.\\r\\n\\r\\n\\r\\nWhere the great highway of the Sierras nears the summit, and the pines\\r\\nbegin to show sterile reaches of rock and waste in their drawn-up files,\\r\\nthere are signs of occasional departures from the main road, as if the\\r\\nweary traveller had at times succumbed to the long ascent, and turned\\r\\naside for rest and breath again. The tired eyes of many a dusty\\r\\npassenger on the old overland coach have gazed wistfully on those sylvan\\r\\nopenings, and imagined recesses of primeval shade and virgin wilderness\\r\\nin their dim perspectives. Had he descended, however, and followed one\\r\\nof these diverging paths, he would have come upon some rude wagon track,\\r\\nor \"logslide,\" leading from a clearing on the slope, or the ominous\\r\\nsaw-mill, half hidden in the forest it was slowly decimating. The\\r\\nwoodland hush might have been broken by the sound of water passing over\\r\\nsome unseen dam in the hollow, or the hiss of escaping steam and throb\\r\\nof an invisible engine in the covert.\\r\\n\\r\\nSuch, at least, was the experience of a young fellow of five-and-twenty,\\r\\nwho, knapsack on back and stick in hand, had turned aside from the\\r\\nhighway and entered the woods one pleasant afternoon in July. But he\\r\\nwas evidently a deliberate pedestrian, and not a recent deposit of\\r\\nthe proceeding stage-coach; and although his stout walking-shoes were\\r\\ncovered with dust, he had neither the habitual slouch and slovenliness\\r\\nof the tramp, nor the hurried fatigue and growing negligence of an\\r\\ninvoluntary wayfarer. His clothes, which were strong and serviceable,\\r\\nwere better fitted for their present usage than the ordinary garments\\r\\nof the Californian travellers, which were too apt to be either above or\\r\\nbelow their requirements. But perhaps the stranger\\'s greatest claim to\\r\\noriginality was the absence of any weapon in his equipment. He carried\\r\\nneither rifle nor gun in his hand, and his narrow leathern belt was\\r\\nempty of either knife or revolver.\\r\\n\\r\\nA half-mile from the main road, which seemed to him to have dropped out\\r\\nof sight the moment he had left it, he came upon a half-cleared area,\\r\\nwhere the hastily-cut stumps of pines, of irregular height, bore an odd\\r\\nresemblance to the broken columns of some vast and ruined temple. A few\\r\\nfallen shafts, denuded of their bark and tessellated branches, sawn into\\r\\nsymmetrical cylinders, lay beside the stumps, and lent themselves to the\\r\\nillusion. But the freshly-cut chips, so damp that they still clung in\\r\\nlayers to each other as they had fallen from the axe, and the stumps\\r\\nthemselves, still wet and viscous from their drained life-blood, were\\r\\nredolent of an odor of youth and freshness.\\r\\n\\r\\nThe young man seated himself on one of the logs and deeply inhaled the\\r\\nsharp balsamic fragrance--albeit with a slight cough and a later hurried\\r\\nrespiration. This, and a certain drawn look about his upper lip,\\r\\nseemed to indicate, in spite of his strength and color, some pulmonary\\r\\nweakness. He, however, rose after a moment\\'s rest with undiminished\\r\\nenergy and cheerfulness, readjusted his knapsack, and began to lightly\\r\\npick his way across the fallen timber. A few paces on, the muffled whir\\r\\nof machinery became more audible, with the lazy, monotonous command\\r\\nof \"Gee thar,\" from some unseen ox-driver. Presently, the slow,\\r\\ndeliberately-swaying heads of a team of oxen emerged from the bushes,\\r\\nfollowed by the clanking chain of the \"skids\" of sawn planks, which they\\r\\nwere ponderously dragging with that ostentatious submissiveness peculiar\\r\\nto their species. They had nearly passed him when there was a sudden\\r\\nhitch in the procession. From where he stood he could see that a\\r\\nprojecting plank had struck a pile of chips and become partly imbedded\\r\\nin it. To run to the obstruction and, with a few dexterous strokes and\\r\\nthe leverage of his stout stick, dislodge the plank was the work not\\r\\nonly of the moment but of an evidently energetic hand. The teamster\\r\\nlooked back and merely nodded his appreciation, and with a \"Gee up! Out\\r\\nof that, now!\" the skids moved on.\\r\\n\\r\\n\"Much obliged, there!\" said a hearty voice, as if supplementing the\\r\\nteamster\\'s imperfect acknowledgment.\\r\\n\\r\\nThe stranger looked up. The voice came from the open, sashless,\\r\\nshutterless window of a rude building--a mere shell of boards and beams\\r\\nhalf hidden in the still leafy covert before him. He had completely\\r\\noverlooked it in his approach, even as he had ignored the nearer\\r\\nthrobbing of the machinery, which was so violent as to impart a decided\\r\\ntremor to the slight edifice, and to shake the speaker so strongly that\\r\\nhe was obliged while speaking to steady himself by the sashless frame\\r\\nof the window at which he stood. He had a face of good-natured and alert\\r\\nintelligence, a master\\'s independence and authority of manner, in spite\\r\\nof his blue jean overalls and flannel shirt.\\r\\n\\r\\n\"Don\\'t mention it,\" said the stranger, smiling with equal but more\\r\\ndeliberate good-humor. Then, seeing that his interlocutor still\\r\\nlingered a hospitable moment in spite of his quick eyes and the jarring\\r\\nimpatience of the machinery, he added hesitatingly, \"I fancy I\\'ve\\r\\nwandered off the track a bit. Do you know a Mr. Bradley--somewhere\\r\\nhere?\"\\r\\n\\r\\nThe stranger\\'s hesitation seemed to be more from some habitual\\r\\nconscientiousness of statement than awkwardness. The man in the window\\r\\nreplied, \"I\\'m Bradley.\"\\r\\n\\r\\n\"Ah! Thank you: I\\'ve a letter for you--somewhere. Here it is.\" He\\r\\nproduced a note from his breast-pocket. Bradley stooped to a sitting\\r\\nposture in the window. \"Pitch it up.\" It was thrown and caught cleverly.\\r\\nBradley opened it, read it hastily, smiled and nodded, glanced behind\\r\\nhim as if to implore further delay from the impatient machinery, leaned\\r\\nperilously from the window, and said,--\\r\\n\\r\\n\"Look here! Do you see that silver-fir straight ahead?\"\\r\\n\\r\\n\"Yes.\"\\r\\n\\r\\n\"A little to the left there\\'s a trail. Follow it and skirt along the\\r\\nedge of the canyon until you see my house. Ask for my wife--that\\'s Mrs.\\r\\nBradley--and give her your letter. Stop!\" He drew a carpenter\\'s pencil\\r\\nfrom his pocket, scrawled two or three words across the open sheet\\r\\nand tossed it back to the stranger. \"See you at tea! Excuse me--Mr.\\r\\nMainwaring--we\\'re short-handed--and--the engine--\" But here he\\r\\ndisappeared suddenly.\\r\\n\\r\\nWithout glancing at the note again, the stranger quietly replaced it\\r\\nin his pocket, and struck out across the fallen trunks towards the\\r\\nsilver-fir. He quickly found the trail indicated by Bradley, although it\\r\\nwas faint and apparently worn by a single pair of feet as a shorter and\\r\\nprivate cut from some more travelled path. It was well for the stranger\\r\\nthat he had a keen eye or he would have lost it; it was equally\\r\\nfortunate that he had a mountaineering instinct, for a sudden profound\\r\\ndeepening of the blue mist seen dimly through the leaves before him\\r\\ncaused him to slacken his steps. The trail bent abruptly to the right;\\r\\na gulf fully two thousand feet deep was at his feet! It was the Great\\r\\nCanyon.\\r\\n\\r\\nAt the first glance it seemed so narrow that a rifle-shot could have\\r\\ncrossed its tranquil depths; but a second look at the comparative size\\r\\nof the trees on the opposite mountain convinced him of his error. A\\r\\nnearer survey of the abyss also showed him that instead of its walls\\r\\nbeing perpendicular they were made of successive ledges or terraces to\\r\\nthe valley below. Yet the air was so still, and the outlines so clearly\\r\\ncut, that they might have been only the reflections of the mountains\\r\\naround him cast upon the placid mirror of a lake. The spectacle arrested\\r\\nhim, as it arrested all men, by some occult power beyond the mere\\r\\nattraction of beauty or magnitude; even the teamster never passed\\r\\nit without the tribute of a stone or broken twig tossed into its\\r\\nimmeasurable profundity.\\r\\n\\r\\nReluctantly leaving the spot, the stranger turned with the trail that\\r\\nnow began to skirt its edge. This was no easy matter, as the undergrowth\\r\\nwas very thick, and the foliage dense to the perilous brink of the\\r\\nprecipice. He walked on, however, wondering why Bradley had chosen so\\r\\ncircuitous and dangerous a route to his house, which naturally would\\r\\nbe some distance back from the canyon. At the end of ten minutes\\'\\r\\nstruggling through the \"brush,\" the trail became vague, and, to all\\r\\nappearances, ended. Had he arrived? The thicket was as dense as before;\\r\\nthrough the interstices of leaf and spray he could see the blue void of\\r\\nthe canyon at his side, and he even fancied that the foliage ahead of\\r\\nhim was more symmetrical and less irregular, and was touched here and\\r\\nthere with faint bits of color. To complete his utter mystification,\\r\\na woman\\'s voice, very fresh, very youthful, and by no means unmusical,\\r\\nrose apparently from the circumambient air. He looked hurriedly to the\\r\\nright and left, and even hopelessly into the trees above him.\\r\\n\\r\\n\"Yes,\" said the voice, as if renewing a suspended conversation, \"it\\r\\nwas too funny for anything. There were the two Missouri girls from\\r\\nSkinner\\'s, with their auburn hair ringleted, my dear, like the old\\r\\n\\'Books of Beauty\\'--in white frocks and sashes of an unripe greenish\\r\\nyellow, that puckered up your mouth like persimmons. One of them was\\r\\nspeechless from good behavior, and the other--well! the other was\\r\\nso energetic she called out the figures before the fiddler did, and\\r\\nshrieked to my vis-a-vis to dance up to the entire stranger--meaning ME,\\r\\nif you please.\"\\r\\n\\r\\nThe voice appeared to come from the foliage that overhung the canyon,\\r\\nand the stranger even fancied he could detect through the shimmering\\r\\nleafy veil something that moved monotonously to and fro. Mystified and\\r\\nimpatient, he made a hurried stride forward, his foot struck a wooden\\r\\nstep, and the next moment the mystery was made clear. He had almost\\r\\nstumbled upon the end of a long veranda that projected over the abyss\\r\\nbefore a low, modern dwelling, till then invisible, nestling on its\\r\\nvery brink. The symmetrically-trimmed foliage he had noticed were the\\r\\nluxuriant Madeira vines that hid the rude pillars of the veranda; the\\r\\nmoving object was a rocking-chair, with its back towards the intruder,\\r\\nthat disclosed only the brown hair above, and the white skirts and small\\r\\nslippered feet below, of a seated female figure. In the mean time, a\\r\\nsecond voice from the interior of the house had replied to the figure in\\r\\nthe chair, who was evidently the first speaker:--\\r\\n\\r\\n\"It must have been very funny; but as long as Jim is always bringing\\r\\nsomebody over from the mill, I don\\'t see how I can go to those places.\\r\\nYou were lucky, my dear, to escape from the new Division Superintendent\\r\\nlast night; he was insufferable to Jim with his talk of his friend the\\r\\nSan Francisco millionaire, and to me with his cheap society airs. I do\\r\\nhate a provincial fine gentleman.\"\\r\\n\\r\\nThe situation was becoming embarrassing to the intruder. At the\\r\\napparition of the woman, the unaffected and simple directness he had\\r\\npreviously shown in his equally abrupt contact with Bradley had fled\\r\\nutterly; confused by the awkwardness of his arrival, and shocked at the\\r\\nidea of overhearing a private conversation, he stepped hurriedly on the\\r\\nveranda.\\r\\n\\r\\n\"Well? go on!\" said the second voice impatiently. \"Well, who else was\\r\\nthere? WHAT did you say? I don\\'t hear you. What\\'s the matter?\"\\r\\n\\r\\nThe seated figure had risen from her chair, and turned a young and\\r\\npretty face somewhat superciliously towards the stranger, as she said in\\r\\na low tone to her unseen auditor, \"Hush! there is somebody here.\"\\r\\n\\r\\nThe young man came forward with an awkwardness that was more boyish than\\r\\nrustic. His embarrassment was not lessened by the simultaneous entrance\\r\\nfrom the open door of a second woman, apparently as young as and\\r\\nprettier than the first.\\r\\n\\r\\n\"I trust you\\'ll excuse me for--for--being so wretchedly stupid,\" he\\r\\nstammered, \"but I really thought, you know, that--that--I was following\\r\\nthe trail to--to--the front of the house, when I stumbled in--in here.\"\\r\\n\\r\\nLong before he had finished, both women, by some simple feminine\\r\\nintuition, were relieved and even prepossessed by his voice and manner.\\r\\nThey smiled graciously. The later-comer pointed to the empty chair. But\\r\\nwith his habit of pertinacious conscientiousness the stranger continued,\\r\\n\"It was regularly stupid, wasn\\'t it?--and I ought to have known better.\\r\\nI should have turned back and gone away when I found out what an ass I\\r\\nwas likely to be, but I was--afraid--you know, of alarming you by the\\r\\nnoise.\"\\r\\n\\r\\n\"Won\\'t you sit down?\" said the second lady, pleasantly.\\r\\n\\r\\n\"Oh, thanks! I\\'ve a letter here--I\"--he transferred his stick and hat\\r\\nto his left hand as he felt in his breast-pocket with his right. But the\\r\\naction was so awkward that the stick dropped on the veranda. Both women\\r\\nmade a movement to restore it to its embarrassed owner, who, however,\\r\\nquickly anticipated them. \"Pray don\\'t mind it,\" he continued, with\\r\\naccelerated breath and heightened color. \"Ah, here\\'s the letter!\" He\\r\\nproduced the note Bradley had returned to him. \"It\\'s mine, in\\r\\nfact--that is, I brought it to Mr. Bradley. He said I was to give it\\r\\nto--to--to--Mrs. Bradley.\" He paused, glancing embarrassedly from the\\r\\none to the other.\\r\\n\\r\\n\"I\\'m Mrs. Bradley,\" said the prettiest one, with a laugh. He handed her\\r\\nthe letter. It ran as follows:--\\r\\n\\r\\n\"DEAR BRADLEY--Put Mr. Mainwaring through as far as he wants to go, or\\r\\nhang him up at The Lookout, just as he likes. The Bank\\'s behind him, and\\r\\nhis hat\\'s chalked all over the Road; but he don\\'t care much about being\\r\\non velvet. That ain\\'t his style--and you\\'ll like him. He\\'s somebody\\'s\\r\\nson in England. B.\"\\r\\n\\r\\nMrs. Bradley glanced simply at the first sentence. \"Pray sit down, Mr.\\r\\nMainwaring,\" she said gently; \"or, rather, let me first introduce my\\r\\ncousin--Miss Macy.\"\\r\\n\\r\\n\"Thanks,\" said Mainwaring, with a bow to Miss Macy, \"but\\r\\nI--I--I--think,\" he added conscientiously, \"you did not notice that your\\r\\nhusband had written something across the paper.\"\\r\\n\\r\\nMrs. Bradley smiled, and glanced at her husband\\'s indorsement--\"All\\r\\nright. Wade in.\" \"It\\'s nothing but Jim\\'s slang,\" she said, with a laugh\\r\\nand a slightly heightened color. \"He ought not to have sent you by that\\r\\nshort cut; it\\'s a bother, and even dangerous for a stranger. If you had\\r\\ncome directly to US by the road, without making your first call at\\r\\nthe mill,\" she added, with a touch of coquetry, \"you would have had a\\r\\npleasanter walk, and seen US sooner. I suppose, however, you got off the\\r\\nstage at the mill?\"\\r\\n\\r\\n\"I was not on the coach,\" said Mainwaring, unfastening the strap of his\\r\\nknapsack. \"I walked over from Lone Pine Flat.\"\\r\\n\\r\\n\"Walked!\" echoed both women in simultaneous astonishment.\\r\\n\\r\\n\"Yes,\" returned Mainwaring simply, laying aside his burden and taking\\r\\nthe proffered seat. \"It\\'s a very fine bit of country.\"\\r\\n\\r\\n\"Why, it\\'s fifteen miles,\" said Mrs. Bradley, glancing horror-stricken\\r\\nat her cousin. \"How dreadful! And to think Jim could have sent you a\\r\\nhorse to Lone Pine. Why, you must be dead!\"\\r\\n\\r\\n\"Thanks, I\\'m all right! I rather enjoyed it, you know.\"\\r\\n\\r\\n\"But,\" said Miss Macy, glancing wonderingly at his knapsack, \"you must\\r\\nwant something, a change--or some refreshment--after fifteen miles.\"\\r\\n\\r\\n\"Pray don\\'t disturb yourself,\" said Mainwaring, rising hastily, but not\\r\\nquickly enough to prevent the young girl from slipping past him into the\\r\\nhouse, whence she rapidly returned with a decanter and glasses.\\r\\n\\r\\n\"Perhaps Mr. Mainwaring would prefer to go into Jim\\'s room and wash his\\r\\nhands and put on a pair of slippers?\" said Mrs. Bradley, with gentle\\r\\nconcern.\\r\\n\\r\\n\"Thanks, no. I really am not tired. I sent some luggage yesterday by the\\r\\ncoach to the Summit Hotel,\" he said, observing the women\\'s eyes still\\r\\nfixed upon his knapsack. \"I dare say I can get them if I want them.\\r\\nI\\'ve got a change here,\" he continued, lifting the knapsack as if with a\\r\\nsudden sense of its incongruity with its surroundings, and depositing it\\r\\non the end of the veranda.\\r\\n\\r\\n\"Do let it remain where it is,\" said Mrs. Bradley, greatly amused, \"and\\r\\npray sit still and take some refreshment. You\\'ll make yourself ill\\r\\nafter your exertions,\" she added, with a charming assumption of matronly\\r\\nsolicitude.\\r\\n\\r\\n\"But I\\'m not at all deserving of your sympathy,\" said Mainwaring, with\\r\\na laugh. \"I\\'m awfully fond of walking, and my usual constitutional isn\\'t\\r\\nmuch under this.\"\\r\\n\\r\\n\"Perhaps you were stronger than you are now,\" said Mrs. Bradley, gazing\\r\\nat him with a frank curiosity that, however, brought a faint deepening\\r\\nof color to his cheek.\\r\\n\\r\\n\"I dare say you\\'re right,\" he said suddenly, with an apologetic smile.\\r\\n\"I quite forgot that I\\'m a sort of an invalid, you know, travelling\\r\\nfor my health. I\\'m not very strong here,\" he added, lightly tapping\\r\\nhis chest, that now, relieved of the bands of his knapsack, appeared\\r\\nsomewhat thin and hollow in spite of his broad shoulders. His voice,\\r\\ntoo, had become less clear and distinct.\\r\\n\\r\\nMrs. Bradley, who was still watching him, here rose potentially. \"You\\r\\nought to take more care of yourself,\" she said. \"You should begin by\\r\\neating this biscuit, drinking that glass of whiskey, and making yourself\\r\\nmore comfortable in Jim\\'s room until we can get the spare room fixed a\\r\\nlittle.\"\\r\\n\\r\\n\"But I am not to be sent to bed--am I?\" asked Mainwaring, in half-real,\\r\\nhalf-amused consternation.\\r\\n\\r\\n\"I\\'m not so sure of that,\" said Mrs. Bradley, with playful precision.\\r\\n\"But for the present we\\'ll let you off with a good wash and a nap\\r\\nafterwards in that rocking-chair, while my cousin and I make some\\r\\nlittle domestic preparations. You see,\" she added with a certain proud\\r\\nhumility, \"we\\'ve got only one servant--a Chinaman, and there are many\\r\\nthings we can\\'t leave to him.\"\\r\\n\\r\\nThe color again rose in Mainwaring\\'s cheek, but he had tact enough to\\r\\nreflect that any protest or hesitation on his part at that moment would\\r\\nonly increase the difficulties of his gentle entertainers. He allowed\\r\\nhimself to be ushered into the house by Mrs. Bradley, and shown to her\\r\\nhusband\\'s room, without perceiving that Miss Macy had availed herself of\\r\\nhis absence to run to the end of the veranda, mischievously try to\\r\\nlift the discarded knapsack to her own pretty shoulder, but, failing,\\r\\nheroically stagger with it into the passage and softly deposit it at his\\r\\ndoor. This done, she pantingly rejoined her cousin in the kitchen.\\r\\n\\r\\n\"Well,\" said Mrs. Bradley, emphatically. \"DID you ever? Walking fifteen\\r\\nmiles for pleasure--and with such lungs!\"\\r\\n\\r\\n\"And that knapsack!\" added Louise Macy, pointing to the mark in her\\r\\nlittle palm where the strap had imbedded itself in the soft flesh.\\r\\n\\r\\n\"He\\'s nice, though; isn\\'t he?\" said Mrs. Bradley, tentatively.\\r\\n\\r\\n\"Yes,\" said Miss Macy, \"he isn\\'t, certainly, one of those provincial\\r\\nfine gentlemen you object to. But DID you see his shoes? I suppose they\\r\\nmake the miles go quickly, or seem to measure less by comparison.\"\\r\\n\\r\\n\"They\\'re probably more serviceable than those high-heeled things that\\r\\nCaptain Greyson hops about in.\"\\r\\n\\r\\n\"But the Captain always rides--and rides very well--you know,\" said\\r\\nLouise, reflectively. There was a moment\\'s pause.\\r\\n\\r\\n\"I suppose Jim will tell us all about him,\" said Mrs. Bradley,\\r\\ndismissing the subject, as she turned her sleeves back over her white\\r\\narms, preparatory to grappling certain culinary difficulties.\\r\\n\\r\\n\"Jim,\" observed Miss Macy, shortly, \"in my opinion, knows nothing more\\r\\nthan his note says. That\\'s like Jim.\"\\r\\n\\r\\n\"There\\'s nothing more to know, really,\" said Mrs. Bradley, with a\\r\\nsuperior air. \"He\\'s undoubtedly the son of some Englishman of fortune,\\r\\nsent out here for his health.\"\\r\\n\\r\\n\"Hush!\"\\r\\n\\r\\nMiss Macy had heard a step in the passage. It halted at last, half\\r\\nirresolutely, before the open door of the kitchen, and the stranger\\r\\nappeared with an embarrassed air.\\r\\n\\r\\nBut in his brief absence he seemed to have completely groomed himself,\\r\\nand stood there, the impersonation of close-cropped, clean, and\\r\\nwholesome English young manhood. The two women appreciated it with\\r\\ncat-like fastidiousness.\\r\\n\\r\\n\"I beg your pardon; but really you\\'re going to let a fellow do something\\r\\nfor you,\" he said, \"just to keep him from looking like a fool. I really\\r\\ncan do no end of things, you know, if you\\'ll try me. I\\'ve done some\\r\\ncamping-out, and can cook as well as the next man.\"\\r\\n\\r\\nThe two women made a movement of smiling remonstrance, half coquettish,\\r\\nand half superior, until Mrs. Bradley, becoming conscious of her bare\\r\\narms and the stranger\\'s wandering eyes, colored faintly, and said with\\r\\nmore decision:--\\r\\n\\r\\n\"Certainly not. You\\'d only be in the way. Besides, you need rest more\\r\\nthan we do. Put yourself in the rocking-chair in the veranda, and go to\\r\\nsleep until Mr. Bradley comes.\"\\r\\n\\r\\nMainwaring saw that she was serious, and withdrew, a little ashamed at\\r\\nhis familiarity into which his boyishness had betrayed him. But he had\\r\\nscarcely seated himself in the rocking-chair before Miss Macy appeared,\\r\\ncarrying with both hands a large tin basin of unshelled peas.\\r\\n\\r\\n\"There,\" she said pantingly, placing her burden in his lap, \"if you\\r\\nreally want to help, there\\'s something to do that isn\\'t very fatiguing.\\r\\nYou may shell these peas.\"\\r\\n\\r\\n\"SHELL them--I beg pardon, but how?\" he asked, with smiling earnestness.\\r\\n\\r\\n\"How? Why, I\\'ll show you--look.\"\\r\\n\\r\\nShe frankly stepped beside him, so close that her full-skirted dress\\r\\nhalf encompassed him and the basin in a delicious confusion, and,\\r\\nleaning over his lap, with her left hand picked up a pea-cod, which,\\r\\nwith a single movement of her charming little right thumb, she broke at\\r\\nthe end, and stripped the green shallow of its tiny treasures.\\r\\n\\r\\nHe watched her with smiling eyes; her own, looking down on him, were\\r\\nvery bright and luminous. \"There; that\\'s easy enough,\" she said, and\\r\\nturned away.\\r\\n\\r\\n\"But--one moment, Miss--Miss--?\"\\r\\n\\r\\n\"Macy,\" said louise.\\r\\n\\r\\n\"Where am I to put the shells?\"\\r\\n\\r\\n\"Oh! throw them down there--there\\'s room enough.\"\\r\\n\\r\\nShe was pointing to the canyon below. The veranda actually projected\\r\\nover its brink, and seemed to hang in mid air above it. Mainwaring\\r\\nalmost mechanically threw his arm out to catch the incautious girl, who\\r\\nhad stepped heedlessly to its extreme edge.\\r\\n\\r\\n\"How odd! Don\\'t you find it rather dangerous here?\" he could not help\\r\\nsaying. \"I mean--you might have had a railing that wouldn\\'t intercept\\r\\nthe view and yet be safe?\"\\r\\n\\r\\n\"It\\'s a fancy of Mr. Bradley\\'s,\" returned the young girl carelessly.\\r\\n\"It\\'s all like this. The house was built on a ledge against the side of\\r\\nthe precipice, and the road suddenly drops down to it.\"\\r\\n\\r\\n\"It\\'s tremendously pretty, all the same, you know,\" said the young man\\r\\nthoughtfully, gazing, however, at the girl\\'s rounded chin above him.\\r\\n\\r\\n\"Yes,\" she replied curtly. \"But this isn\\'t working. I must go back to\\r\\nJenny. You can shell the peas until Mr. Bradley comes home. He won\\'t be\\r\\nlong.\"\\r\\n\\r\\nShe turned away, and re-entered the house. Without knowing why, he\\r\\nthought her withdrawal abrupt, and he was again feeling his ready color\\r\\nrise with the suspicion of either having been betrayed by the young\\r\\ngirl\\'s innocent fearlessness into some unpardonable familiarity, which\\r\\nshe had quietly resented, or of feeling an ease and freedom in the\\r\\ncompany of these two women that were inconsistent with respect, and\\r\\nshould be restrained.\\r\\n\\r\\nHe, however, began to apply himself to the task given to him with his\\r\\nusual conscientiousness of duty, and presently acquired a certain manual\\r\\ndexterity in the operation. It was \"good fun\" to throw the cast-off\\r\\nhusks into the mighty unfathomable void before him, and watch them\\r\\nlinger with suspended gravity in mid air for a moment--apparently\\r\\nmotionless--until they either lost themselves, a mere vanishing black\\r\\nspot in the thin ether, or slid suddenly at a sharp angle into unknown\\r\\nshadow. How deuced odd for him to be sitting here in this fashion! It\\r\\nwould be something to talk of hereafter, and yet,--he stopped--it was\\r\\nnot at all in the line of that characteristic adventure, uncivilized\\r\\nnovelty, and barbarous freedom which for the last month he had sought\\r\\nand experienced. It was not at all like his meeting with the grizzly\\r\\nlast week while wandering in a lonely canyon; not a bit in the line of\\r\\nhis chance acquaintance with that notorious ruffian, Spanish Jack, or\\r\\nhis witnessing with his own eyes that actual lynching affair at Angels.\\r\\nNo! Nor was it at all characteristic, according to his previous ideas of\\r\\nfrontier rural seclusion--as for instance the Pike County cabin of the\\r\\nfamily where he stayed one night, and where the handsome daughter asked\\r\\nhim what his Christian name was. No! These two young women were very\\r\\nunlike her; they seemed really quite the equals of his family and\\r\\nfriends in England,--perhaps more attractive,--and yet, yes, it was\\r\\nthis very attractiveness that alarmed his inbred social conservatism\\r\\nregarding women. With a man it was very different; that alert, active,\\r\\nintelligent husband, instinct with the throbbing life of his saw-mill,\\r\\ncreator and worker in one, challenged his unqualified trust and\\r\\nadmiration.\\r\\n\\r\\nHe had become conscious for the last minute or two of thinking rapidly\\r\\nand becoming feverishly excited; of breathing with greater difficulty,\\r\\nand a renewed tendency to cough. The tendency increased until he\\r\\ninstinctively put aside the pan from his lap and half rose. But even\\r\\nthat slight exertion brought on an accession of coughing. He put his\\r\\nhandkerchief to his lips, partly to keep the sound from disturbing the\\r\\nwomen in the kitchen, partly because of a certain significant taste\\r\\nin his mouth which he unpleasantly remembered. When he removed the\\r\\nhandkerchief it was, as he expected, spotted with blood. He turned\\r\\nquickly and re-entered the house softly, regaining the bedroom without\\r\\nattracting attention. An increasing faintness here obliged him to lie\\r\\ndown on the bed until it should pass.\\r\\n\\r\\nEverything was quiet. He hoped they would not discover his absence from\\r\\nthe veranda until he was better; it was deucedly awkward that he should\\r\\nhave had this attack just now--and after he had made so light of his\\r\\nprevious exertions. They would think him an effeminate fraud, these two\\r\\nbright, active women and that alert, energetic man. A faint color came\\r\\ninto his cheek at the idea, and an uneasy sense that he had been in some\\r\\nway foolishly imprudent about his health. Again, they might be alarmed\\r\\nat missing him from the veranda; perhaps he had better have remained\\r\\nthere; perhaps he ought to tell them that he had concluded to take their\\r\\nadvice and lie down. He tried to rise, but the deep blue chasm before\\r\\nthe window seemed to be swelling up to meet him, the bed slowly sinking\\r\\ninto its oblivious profundity. He knew no more.\\r\\n\\r\\nHe came to with the smell and taste of some powerful volatile spirit,\\r\\nand the vague vision of Mr. Bradley still standing at the window of\\r\\nthe mill and vibrating with the machinery; this changed presently to a\\r\\npleasant lassitude and lazy curiosity as he perceived Mr. Bradley smile\\r\\nand apparently slip from the window of the mill to his bedside. \"You\\'re\\r\\nall right now,\" said Bradley, cheerfully.\\r\\n\\r\\nHe was feeling Mainwaring\\'s pulse. Had he really been ill and was\\r\\nBradley a doctor?\\r\\n\\r\\nBradley evidently saw what was passing in his mind. \"Don\\'t be alarmed,\"\\r\\nhe said gayly. \"I\\'m not a doctor, but I practise a little medicine and\\r\\nsurgery on account of the men at the mill, and accidents, you know.\\r\\nYou\\'re all right now; you\\'ve lost a little blood: but in a couple of\\r\\nweeks in this air we\\'ll have that tubercle healed, and you\\'ll be as\\r\\nright as a trivet.\"\\r\\n\\r\\n\"In a couple of weeks!\" echoed Mainwaring, in faint astonishment. \"Why,\\r\\nI leave here to-morrow.\"\\r\\n\\r\\n\"You\\'ll do nothing of the kind\" said Mrs. Bradley, with smiling\\r\\nperemptoriness, suddenly slipping out from behind her husband.\\r\\n\"Everything is all perfectly arranged. Jim has sent off messengers to\\r\\nyour friends, so that if you can\\'t come to them, they can come to you.\\r\\nYou see you can\\'t help yourself! If you WILL walk fifteen miles with\\r\\nsuch lungs, and then frighten people to death, you must abide by the\\r\\nconsequences.\"\\r\\n\\r\\n\"You see the old lady has fixed you,\" said Bradley, smiling; \"and she\\'s\\r\\nthe master here. Come, Mainwaring, you can send any other message you\\r\\nlike, and have who and what you want here; but HERE you must stop for a\\r\\nwhile.\"\\r\\n\\r\\n\"But did I frighten you really?\" stammered Mainwaring, faintly, to Mrs.\\r\\nBradley.\\r\\n\\r\\n\"Frighten us!\" said Mrs. Bradley. \"Well, look there!\"\\r\\n\\r\\nShe pointed to the window, which commanded a view of the veranda. Miss\\r\\nMacy had dropped into the vacant chair, with her little feet stretched\\r\\nout before her, her cheeks burning with heat and fire, her eyes partly\\r\\nclosed, her straw hat hanging by a ribbon round her neck, her brown\\r\\nhair clinging to her ears and forehead in damp tendrils, and an enormous\\r\\npalm-leaf fan in each hand violently playing upon this charming picture\\r\\nof exhaustion and abandonment.\\r\\n\\r\\n\"She came tearing down to the mill, bare-backed on our half-broken\\r\\nmustang, about half an hour ago, to call me \\'to help you,\\'\" explained\\r\\nBradley. \"Heaven knows how she managed to do it!\"\\r\\n\\r\\n\\r\\n\\r\\n\\r\\nCHAPER II.\\r\\n\\r\\n\\r\\nThe medication of the woods was not overestimated by Bradley. There was\\r\\nsurely some occult healing property in that vast reservoir of balmy and\\r\\nresinous odors over which The Lookout beetled and clung, and from which\\r\\nat times the pure exhalations of the terraced valley seemed to rise.\\r\\nUnder its remedial influence and a conscientious adherence to the rules\\r\\nof absolute rest and repose laid down for him, Mainwaring had no return\\r\\nof the hemorrhage. The nearest professional medical authority, hastily\\r\\nsummoned, saw no reason for changing or for supplementing Bradley\\'s\\r\\nintelligent and simple treatment, although astounded that the patient\\r\\nhad been under no more radical or systematic cure than travel and\\r\\nexercise. The women especially were amazed that Mainwaring had taken\\r\\n\"nothing for it,\" in their habitual experience of an unfettered\\r\\npill-and-elixir-consuming democracy. In their knowledge of the thousand\\r\\n\"panaceas\" that filled the shelves of the general store, this singular\\r\\nabstention of their guest seemed to indicate a national peculiarity.\\r\\n\\r\\nHis bed was moved beside the low window, from which he could not only\\r\\nview the veranda but converse at times with its occupants, and even\\r\\nlisten to the book which Miss Macy, seated without, read aloud to him.\\r\\nIn the evening Bradley would linger by his couch until late, beguiling\\r\\nthe tedium of his convalescence with characteristic stories and\\r\\ninformation which he thought might please the invalid. For Mainwaring,\\r\\nwho had been early struck with Bradley\\'s ready and cultivated\\r\\nintelligence, ended by shyly avoiding the discussion of more serious\\r\\ntopics, partly because Bradley impressed him with a suspicion of his\\r\\nown inferiority, and partly because Mainwaring questioned the taste of\\r\\nBradley\\'s apparent exhibition of his manifest superiority. He learned\\r\\naccidentally that this mill-owner and backwoodsman was a college-bred\\r\\nman; but the practical application of that education to the ordinary\\r\\naffairs of life was new to the young Englishman\\'s traditions, and grated\\r\\na little harshly on his feelings. He would have been quite content if\\r\\nBradley had, like himself and fellows he knew, undervalued his training,\\r\\nand kept his gifts conservatively impractical. The knowledge also that\\r\\nhis host\\'s education naturally came from some provincial institution\\r\\nunlike Oxford and Cambridge may have unconsciously affected his general\\r\\nestimate. I say unconsciously, for his strict conscientiousness would\\r\\nhave rejected any such formal proposition.\\r\\n\\r\\nAnother trifle annoyed him. He could not help noticing also that\\r\\nalthough Bradley\\'s manner and sympathy were confidential and almost\\r\\nbrotherly, he never made any allusion to Mainwaring\\'s own family or\\r\\nconnections, and, in fact, gave no indication of what he believed was\\r\\nthe national curiosity in regard to strangers. Somewhat embarrassed by\\r\\nthis indifference, Mainwaring made the occasion of writing some letters\\r\\nhome an opportunity for laughingly alluding to the fact that he had made\\r\\nhis mother and his sisters fully aware of the great debt they owed the\\r\\nhousehold of The Lookout.\\r\\n\\r\\n\"They\\'ll probably all send you a round robin of thanks, except, perhaps,\\r\\nmy next brother, Bob.\"\\r\\n\\r\\nBradley contented himself with a gesture of general deprecation, and did\\r\\nnot ask WHY Mainwaring\\'s young brother should contemplate his death with\\r\\nsatisfaction. Nevertheless, some time afterwards Miss Macy remarked\\r\\nthat it seemed hard that the happiness of one member of a family should\\r\\ndepend upon a calamity to another. \"As for instance?\" asked Mainwaring,\\r\\nwho had already forgotten the circumstance. \"Why, if you had died and\\r\\nyour younger brother succeeded to the baronetcy, and become Sir Robert\\r\\nMainwaring,\" responded Miss Macy, with precision. This was the first and\\r\\nonly allusion to his family and prospective rank. On the other hand,\\r\\nhe had--through naive and boyish inquiries, which seemed to amuse his\\r\\nentertainers--acquired, as he believed, a full knowledge of the history\\r\\nand antecedents of the Bradley household. He knew how Bradley had\\r\\nbrought his young wife and her cousin to California and abandoned a\\r\\nlucrative law practice in San Francisco to take possession of this\\r\\nmountain mill and woodland, which he had acquired through some\\r\\nprofessional service.\\r\\n\\r\\n\"Then you are a barrister really?\" said Mainwaring, gravely.\\r\\n\\r\\nBradley laughed. \"I\\'m afraid I\\'ve had more practice--though not as\\r\\nlucrative a one--as surgeon or doctor.\"\\r\\n\\r\\n\"But you\\'re regularly on the rolls, you know; you\\'re entered as\\r\\nCounsel, and all that sort of thing?\" continued Mainwaring, with great\\r\\nseriousness.\\r\\n\\r\\n\"Well, yes,\" replied Bradley, much amused. \"I\\'m afraid I must plead\\r\\nguilty to that.\"\\r\\n\\r\\n\"It\\'s not a bad sort of thing,\" said Mainwaring, naively, ignoring\\r\\nBradley\\'s amusement. \"I\\'ve got a cousin who\\'s gone in for the law. Got\\r\\nout of the army to do it--too. He\\'s a sharp fellow.\"\\r\\n\\r\\n\"Then you DO allow a man to try many trades--over there,\" said Miss\\r\\nMacy, demurely.\\r\\n\\r\\n\"Yes, sometimes,\" said Mainwaring, graciously, but by no means certain\\r\\nthat the case was at all analogous.\\r\\n\\r\\nNevertheless, as if relieved of certain doubts of the conventional\\r\\nquality of his host\\'s attainments, he now gave himself up to a very\\r\\nhearty and honest admiration of Bradley. \"You know it\\'s awfully kind of\\r\\nhim to talk to a fellow like me who just pulled through, and never got\\r\\nany prizes at Oxford, and don\\'t understand the half of these things,\" he\\r\\nremarked confidentially to Mrs. Bradley. \"He knows more about the things\\r\\nwe used to go in for at Oxford than lots of our men, and he\\'s never been\\r\\nthere. He\\'s uncommonly clever.\"\\r\\n\\r\\n\"Jim was always very brilliant,\" returned Mrs. Bradley, indifferently,\\r\\nand with more than even conventionally polite wifely deprecation; \"I\\r\\nwish he were more practical.\"\\r\\n\\r\\n\"Practical! Oh, I say, Mrs. Bradley! Why, a fellow that can go in among\\r\\na lot of workmen and tell them just what to do--an all-round chap\\r\\nthat can be independent of his valet, his doctor, and his--banker! By\\r\\nJove--THAT\\'S practical!\"\\r\\n\\r\\n\"I mean,\" said Mrs. Bradley, coldly, \"that there are some things that\\r\\na gentleman ought not to be practical about nor independent of. Mr.\\r\\nBradley would have done better to have used his talents in some more\\r\\nlegitimate and established way.\"\\r\\n\\r\\nMainwaring looked at her in genuine surprise. To his inexperienced\\r\\nobservation Bradley\\'s intelligent energy and, above all, his\\r\\noriginality, ought to have been priceless in the eyes of his wife--the\\r\\nAmerican female of his species. He felt that slight shock which most\\r\\nloyal or logical men feel when first brought face to face with the easy\\r\\ndisloyalty and incomprehensible logic of the feminine affections. Here\\r\\nwas a fellow, by Jove, that any woman ought to be proud of, and--and--he\\r\\nstopped blankly. He wondered if Miss Macy sympathized with her cousin.\\r\\n\\r\\nHowbeit, this did not affect the charm of their idyllic life at The\\r\\nLookout. The precipice over which they hung was as charming as ever\\r\\nin its poetic illusions of space and depth and color; the isolation of\\r\\ntheir comfortable existence in the tasteful yet audacious habitation,\\r\\nthe pleasant routine of daily tasks and amusements, all tended to make\\r\\nthe enforced quiet and inaction of his convalescence a lazy recreation.\\r\\nHe was really improving; more than that, he was conscious of a certain\\r\\nsatisfaction in this passive observation of novelty that was healthier\\r\\nand perhaps TRUER than his previous passion for adventure and that\\r\\nfebrile desire for change and excitement which he now felt was a part\\r\\nof his disease. Nor were incident and variety entirely absent from this\\r\\ntranquil experience. He was one day astonished at being presented by\\r\\nBradley with copies of the latest English newspapers, procured from\\r\\nSacramento, and he equally astonished his host, after profusely thanking\\r\\nhim, by only listlessly glancing at their columns. He estopped a\\r\\nproposed visit from one of his influential countrymen; in the absence\\r\\nof his fair entertainers at their domestic duties, he extracted infinite\\r\\nsatisfaction from Foo-Yup, the Chinese servant, who was particularly\\r\\ndetached for his service. From his invalid coign of vantage at the\\r\\nwindow he was observant of all that passed upon the veranda, that\\r\\nal-fresco audience-room of The Lookout, and he was good-humoredly\\r\\nconscious that a great many eccentric and peculiar visitors were\\r\\ninvariably dragged thither by Miss Macy, and goaded into characteristic\\r\\nexhibition within sight and hearing of her guest, with a too evident\\r\\nview, under the ostentatious excuse of extending his knowledge of\\r\\nnational character or mischievously shocking him.\\r\\n\\r\\n\"When you are strong enough to stand Captain Gashweiler\\'s opinions of\\r\\nthe Established Church and Chinamen,\" said Miss Macy, after one of these\\r\\nrevelations, \"I\\'ll get Jim to bring him here, for really he swears\\r\\nso outrageously that even in the broadest interests of international\\r\\nunderstanding and good-will neither Mrs. Bradley nor myself could be\\r\\npresent.\"\\r\\n\\r\\nOn another occasion she provokingly lingered before his window for a\\r\\nmoment with a rifle slung jauntily over her shoulder. \"If you hear a\\r\\nshot or two don\\'t excite yourself, and believe we\\'re having a lynching\\r\\ncase in the woods. It will be only me. There\\'s some creature--confess,\\r\\nyou expected me to say \\'critter\\'--hanging round the barn. It may be a\\r\\nbear. Good-by.\" She missed the creature,--which happened to be really a\\r\\nbear,--much to Mainwaring\\'s illogical satisfaction. \"I wonder why,\" he\\r\\nreflected, with vague uneasiness, \"she doesn\\'t leave all that sort of\\r\\nthing to girls like that tow-headed girl at the blacksmith\\'s.\"\\r\\n\\r\\nIt chanced, however, that this blacksmith\\'s tow-headed daughter, who, it\\r\\nmay be incidentally remarked, had the additional eccentricities of large\\r\\nblack eyes and large white teeth, came to the fore in quite another\\r\\nfashion. Shortly after this, Mainwaring being able to leave his room and\\r\\njoin the family board, Mrs. Bradley found it necessary to enlarge\\r\\nher domestic service, and arranged with her nearest neighbor, the\\r\\nblacksmith, to allow his daughter to come to The Lookout for a few\\r\\ndays to \"do the chores\" and assist in the housekeeping, as she had on\\r\\nprevious occasions. The day of her advent Bradley entered Mainwaring\\'s\\r\\nroom, and, closing the door mysteriously, fixed his blue eyes, kindling\\r\\nwith mischief, on the young Englishman.\\r\\n\\r\\n\"You are aware, my dear boy,\" he began with affected gravity, \"that you\\r\\nare now living in a land of liberty, where mere artificial distinctions\\r\\nare not known, and where Freedom from her mountain heights generally\\r\\nlevels all social positions. I think you have graciously admitted that\\r\\nfact.\"\\r\\n\\r\\n\"I know I\\'ve been taking a tremendous lot of freedom with you and yours,\\r\\nold man, and it\\'s a deuced shame,\" interrupted Mainwaring, with a faint\\r\\nsmile.\\r\\n\\r\\n\"And that nowhere,\" continued Bradley, with immovable features, \"does\\r\\nequality exist as perfectly as above yonder unfathomable abyss, where\\r\\nyou have also, doubtless, observed the American eagle proudly soars and\\r\\nscreams defiance.\"\\r\\n\\r\\n\"Then that was the fellow that kept me awake this morning, and made me\\r\\nwonder if I was strong enough to hold a gun again.\"\\r\\n\\r\\n\"That wouldn\\'t have settled the matter,\" continued Bradley,\\r\\nimperturbably. \"The case is simply this: Miss Minty Sharpe, that\\r\\nblacksmith\\'s daughter, has once or twice consented, for a slight\\r\\nemolument, to assist in our domestic service for a day or two, and she\\r\\ncomes back again to-day. Now, under the aegis of that noble bird whom\\r\\nyour national instincts tempt you to destroy, she has on all previous\\r\\noccasions taken her meals with us, at the same table, on terms of\\r\\nperfect equality. She will naturally expect to do the same now. Mrs.\\r\\nBradley thought it proper, therefore, to warn you, that, in case your\\r\\nhealth was not quite equal to this democratic simplicity, you could\\r\\nstill dine in your room.\"\\r\\n\\r\\n\"It would be great fun--if Miss Sharpe won\\'t object to my presence.\"\\r\\n\\r\\n\"But it must not be \\'great fun,\\'\" returned Bradley, more seriously; \"for\\r\\nMiss Minty\\'s perception of humor is probably as keen as yours, and she\\r\\nwould be quick to notice it. And, so far from having any objection\\r\\nto you, I am inclined to think that we owe her consent to come to her\\r\\ndesire of making your acquaintance.\"\\r\\n\\r\\n\"She will find my conduct most exemplary,\" said Mainwaring, earnestly.\\r\\n\\r\\n\"Let us hope so,\" concluded Bradley, with unabated gravity. \"And, now\\r\\nthat you have consented, let me add from my own experience that Miss\\r\\nMinty\\'s lemon-pies alone are worthy of any concession.\"\\r\\n\\r\\nThe dinner-hour came. Mainwaring, a little pale and interesting, leaning\\r\\non the arm of Bradley, crossed the hall, and for the first time entered\\r\\nthe dining-room of the house where he had lodged for three weeks. It\\r\\nwas a bright, cheerful apartment, giving upon the laurels of the rocky\\r\\nhillside, and permeated, like the rest of the house, with the wholesome\\r\\nspice of the valley--an odor that, in its pure desiccating property,\\r\\nseemed to obliterate all flavor of alien human habitation, and even to\\r\\ndominate and etherealize the appetizing smell of the viands before\\r\\nthem. The bare, shining, planed, boarded walls appeared to resent any\\r\\ndecoration that might have savored of dust, decay, or moisture. The four\\r\\nlarge windows and long, open door, set in scanty strips of the plainest\\r\\nspotless muslin, framed in themselves pictures of woods and rock and sky\\r\\nof limitless depth, color, and distance, that made all other adornment\\r\\nimpertinent. Nature, invading the room at every opening, had banished\\r\\nArt from those neutral walls.\\r\\n\\r\\n\"It\\'s like a picnic, with comfort,\" said Mainwaring, glancing round him\\r\\nwith boyish appreciation. Miss Minty was not yet there; the Chinaman\\r\\nwas alone in attendance. Mainwaring could not help whispering, half\\r\\nmischievously, to Louise, \"You draw the line at Chinamen, I suppose?\"\\r\\n\\r\\n\"WE don\\'t, but HE does,\" answered the young girl. \"He considers us his\\r\\nsocial inferiors. But--hush!\"\\r\\n\\r\\nMinty Sharpe had just entered the room, and was advancing with smiling\\r\\nconfidence towards the table. Mainwaring was a little startled; he had\\r\\nseen Minty in a holland sun-bonnet and turned up skirt crossing\\r\\nthe veranda, only a moment before; in the brief instant between the\\r\\ndishing-up of dinner and its actual announcement she had managed to\\r\\nchange her dress, put on a clean collar, cuffs, and a large jet brooch,\\r\\nand apply some odorous unguent to her rebellious hair. Her face,\\r\\nguiltless of powder or cold cream, was still shining with the healthy\\r\\nperspiration of her last labors as she promptly took the vacant chair\\r\\nbeside Mainwaring.\\r\\n\\r\\n\"Don\\'t mind me, folks,\" she said cheerfully, resting her plump elbow on\\r\\nthe table, and addressing the company generally, but gazing with frank\\r\\ncuriosity into the face of the young man at her side. \"It was a keen\\r\\njump, I tell yer, to get out of my old duds inter these, and look\\r\\ndecent inside o\\' five minutes. But I reckon I ain\\'t kept yer waitin\\'\\r\\nlong--least of all this yer sick stranger. But you\\'re looking pearter\\r\\nthan you did. You\\'re wonderin\\' like ez not where I ever saw ye before?\"\\r\\nshe continued, laughing. \"Well, I\\'ll tell you. Last week! I\\'d kem over\\r\\nyer on a chance of seein\\' Jenny Bradley, and while I was meanderin\\' down\\r\\nthe veranda I saw you lyin\\' back in your chair by the window drowned\\r\\nin sleep, like a baby. Lordy! I mout hev won a pair o\\' gloves, but I\\r\\nreckoned you were Loo\\'s game, and not mine.\"\\r\\n\\r\\nThe slightly constrained laugh which went round the table after Miss\\r\\nMinty\\'s speech was due quite as much to the faint flush that had\\r\\naccented Mainwaring\\'s own smile as to the embarrassing remark itself.\\r\\nMrs. Bradley and Miss Macy exchanged rapid glances. Bradley, who alone\\r\\nretained his composure, with a slight flicker of amusement in the corner\\r\\nof his eye and nostril, said quickly: \"You see, Mainwaring, how nature\\r\\nstands ready to help your convalescence at every turn. If Miss Minty\\r\\nhad only followed up her healing opportunity, your cure would have been\\r\\ncomplete.\"\\r\\n\\r\\n\"Ye mout hev left some o\\' that pretty talk for HIM to say,\" said Minty,\\r\\ntaking up her knife and fork with a slight shrug, \"and you needn\\'t call\\r\\nme MISS Minty either, jest because there\\'s kempeny present.\"\\r\\n\\r\\n\"I hope you won\\'t look upon me as company, Minty, or I shall be obliged\\r\\nto call you \\'Miss\\' too,\" said Mainwaring, unexpectedly regaining his\\r\\nusual frankness.\\r\\n\\r\\nBradley\\'s face brightened; Miss Minty raised her black eyes from her\\r\\nplate with still broader appreciation.\\r\\n\\r\\n\"There\\'s nothin\\' mean about that,\" she said, showing her white teeth.\\r\\n\"Well, what\\'s YOUR first name?\"\\r\\n\\r\\n\"Not as pretty as yours, I\\'m afraid. It\\'s Frank.\"\\r\\n\\r\\n\"No it ain\\'t, it\\'s Francis! You reckon to be Sir Francis some day,\" she\\r\\nsaid gravely. \"You can\\'t play any Frank off on me. You wouldn\\'t do it on\\r\\nHER,\" she added, indicating Louise with her elbow.\\r\\n\\r\\nA momentous silence followed. The particular form that Minty\\'s vulgarity\\r\\nhad taken had not been anticipated by the two other women. They had,\\r\\nnot unreasonably, expected some original audacity or gaucherie from the\\r\\nblacksmith\\'s daughter, which might astonish yet amuse their guest, and\\r\\ncondone for the situation forced upon them. But they were not prepared\\r\\nfor a playfulness that involved themselves in a ridiculous indiscretion.\\r\\nMrs. Bradley\\'s eyes sought her husband\\'s meaningly; Louise\\'s pretty\\r\\nmouth hardened. Luckily the cheerful cause of it suddenly jumped up\\r\\nfrom the table, and saying that the stranger was starving, insisted upon\\r\\nbringing a dish from the other side and helping him herself plentifully.\\r\\nMainwaring rose gallantly to take the dish from her hand, a slight\\r\\nscuffle ensued which ended in the young man being forced down in his\\r\\nchair by the pressure of Minty\\'s strong plump hand on his shoulder.\\r\\n\"There,\" she said, \"ye kin mind your dinner now, and I reckon we\\'ll give\\r\\nthe others a chance to chip into the conversation,\" and at once applied\\r\\nherself to the plate before her.\\r\\n\\r\\nThe conversation presently became general, with the exception that\\r\\nMinty, more or less engrossed by professional anxiety in the quality\\r\\nof the dinner and occasional hurried visits to the kitchen, briefly\\r\\nanswered the few polite remarks which Mainwaring felt called upon to\\r\\naddress to her. Nevertheless, he was conscious, malgre her rallying\\r\\nallusions to Miss Macy, that he felt none of the vague yet half pleasant\\r\\nanxiety with which Louise was beginning to inspire him. He felt at\\r\\nease in Minty\\'s presence, and believed, rightly or wrongly, that she\\r\\nunderstood him as well as he understood her. And there were certainly\\r\\npoints in common between his two hostesses and their humbler though\\r\\nproud dependent. The social evolution of Mrs. Bradley and Louise\\r\\nMacy from some previous Minty was neither remote nor complete; the\\r\\nself-sufficient independence, ease, and quiet self-assertion were alike\\r\\nin each. The superior position was still too recent and accidental for\\r\\neither to resent or criticise qualities that were common to both. At\\r\\nleast, this was what he thought when not abandoning himself to the\\r\\ngratification of a convalescent appetite; to the presence of two pretty\\r\\nwomen, the sympathy of a genial friend, the healthy intoxication of the\\r\\nwhite sunlight that glanced upon the pine walls, the views that mirrored\\r\\nthemselves in the open windows, and the pure atmosphere in which The\\r\\nLookout seemed to swim. Wandering breezes of balm and spice lightly\\r\\nstirred the flowers on the table, and seemed to fan his hair and\\r\\nforehead with softly healing breath. Looking up in an interval of\\r\\nsilence, he caught Bradley\\'s gray eyes fixed upon him with a subdued\\r\\nlight of amusement and affection, as of an elder brother regarding a\\r\\nschoolboy\\'s boisterous appetite at some feast. Mainwaring laid down\\r\\nhis knife and fork with a laughing color, touched equally by Bradley\\'s\\r\\nfraternal kindliness and the consciousness of his gastronomical powers.\\r\\n\\r\\n\"Hang it, Bradley; look here! I know my appetite\\'s disgraceful, but what\\r\\ncan a fellow do? In such air, with such viands and such company! It\\'s\\r\\nlike the bees getting drunk on Hybla and Hymettus, you know. I\\'m not\\r\\nresponsible!\"\\r\\n\\r\\n\"It\\'s the first square meal I believe you\\'ve really eaten in six\\r\\nmonths,\" said Bradley, gravely. \"I can\\'t understand why your doctor\\r\\nallowed you to run down so dreadfully.\"\\r\\n\\r\\n\"I reckon you ain\\'t as keerful of yourself, you Britishers, ez us,\" said\\r\\nMinty. \"Lordy! Why there\\'s Pop invests in more patent medicines in one\\r\\nday than you have in two weeks, and he\\'d make two of you. Mebbe your\\r\\nfolks don\\'t look after you enough.\"\\r\\n\\r\\n\"I\\'m a splendid advertisement of what YOUR care and your medicines have\\r\\ndone,\" said Mainwaring, gratefully, to Mrs. Bradley; \"and if you ever\\r\\nwant to set up a \\'Cure\\' here, I\\'m ready with a ten-page testimonial.\"\\r\\n\\r\\n\"Have a care, Mainwaring,\" said Bradley, laughing, \"that the ladies\\r\\ndon\\'t take you at your word. Louise and Jenny have been doing their\\r\\nbest for the last year to get me to accept a flattering offer from\\r\\na Sacramento firm to put up a hotel for tourists on the site of The\\r\\nLookout. Why, I believe that they have already secretly in their\\r\\nhearts concocted a flaming prospectus of \\'Unrivalled Scenery\\' and\\r\\n\\'Health-giving Air,\\' and are looking forward to Saturday night hops on\\r\\nthe piazza.\"\\r\\n\\r\\n\"Have you really, though?\" said Mainwaring, gazing from the one to the\\r\\nother.\\r\\n\\r\\n\"We should certainly see more company than we do now, and feel a little\\r\\nless out of the world,\" said Louise, candidly. \"There are no neighbors\\r\\nhere--I mean the people at the Summit are not,\" she added, with a slight\\r\\nglance towards Minty.\\r\\n\\r\\n\"And Mr. Bradley would find it more profitable--not to say more suitable\\r\\nto a man of his position--than this wretched saw-mill and timber\\r\\nbusiness,\" said Mrs. Bradley, decidedly.\\r\\n\\r\\nMainwaring was astounded; was it possible they considered it more\\r\\ndignified for a lawyer to keep a hotel than a saw-mill? Bradley, as if\\r\\nanswering what was passing in his mind, said mischievously, \"I\\'m\\r\\nnot sure, exactly, what my position is, my dear, and I\\'m afraid I\\'ve\\r\\ndeclined the hotel on business principles. But, by the way, Mainwaring,\\r\\nI found a letter at the mill this morning from Mr. Richardson. He is\\r\\nabout to pay us the distinguished honor of visiting The Lookout, solely\\r\\non your account, my dear fellow.\"\\r\\n\\r\\n\"But I wrote him that I was much better, and it wasn\\'t necessary for him\\r\\nto come,\" said Mainwaring.\\r\\n\\r\\n\"He makes an excuse of some law business with me. I suppose he considers\\r\\nthe mere fact of his taking the trouble to come here, all the way from\\r\\nSan Francisco, a sufficient honor to justify any absence of formal\\r\\ninvitation,\" said Bradley, smiling.\\r\\n\\r\\n\"But he\\'s only--I mean he\\'s my father\\'s banker,\" said Mainwaring,\\r\\ncorrecting himself, \"and--you don\\'t keep a hotel.\"\\r\\n\\r\\n\"Not yet,\" returned Bradley, with a mischievous glance at the two women,\\r\\n\"but The Lookout is elastic, and I dare say we can manage to put him\\r\\nup.\"\\r\\n\\r\\nA silence ensued. It seemed as if some shadow, or momentary darkening\\r\\nof the brilliant atmosphere; some film across the mirror-like expanse of\\r\\nthe open windows, or misty dimming of their wholesome light, had arisen\\r\\nto their elevation. Mainwaring felt that he was looking forward with\\r\\nunreasoning indignation and uneasiness to this impending interruption\\r\\nof their idyllic life; Mrs. Bradley and Louise, who had become a\\r\\nlittle more constrained and formal under Minty\\'s freedom, were less\\r\\nsympathetic; even the irrepressible Minty appeared absorbed in the\\r\\nresponsibilities of the dinner.\\r\\n\\r\\nBradley alone preserved his usual patient good-humor. \"We\\'ll take\\r\\nour coffee on the veranda, and the ladies will join us by and by,\\r\\nMainwaring; besides, I don\\'t know that I can allow you, as an invalid,\\r\\nto go entirely through Minty\\'s bountiful menu at present. You shall have\\r\\nthe sweets another time.\"\\r\\n\\r\\nWhen they were alone on the veranda, he said, between the puffs of his\\r\\nblack brier-wood pipe,--a pet aversion of Mrs. Bradley,--\"I wonder how\\r\\nRichardson will accept Minty!\"\\r\\n\\r\\n\"If I can, I think he MUST,\" returned Mainwaring, dryly. \"By Jove, it\\r\\nwill be great fun to see him; but\"--he stopped and hesitated--\"I don\\'t\\r\\nknow about the ladies. I don\\'t think, you know, that they\\'ll stand Minty\\r\\nagain before another stranger.\"\\r\\n\\r\\nBradley glanced quickly at the young man; their eyes met, and they both\\r\\njoined in a superior and, I fear, disloyal smile. After a pause Bradley,\\r\\nas if in a spirit of further confidence, took his pipe from his mouth\\r\\nand pointed to the blue abyss before them.\\r\\n\\r\\n\"Look at that profundity, Mainwaring, and think of it ever being bullied\\r\\nand overawed by a long veranda-load of gaping, patronizing tourists,\\r\\nand the idiotic flirting females of their species. Think of a lot of\\r\\nover-dressed creatures flouting those severe outlines and deep-toned\\r\\ndistances with frippery and garishness. You know how you have been\\r\\nlulled to sleep by that delicious, indefinite, far-off murmur of\\r\\nthe canyon at night--think of it being broken by a crazy waltz or a\\r\\nmonotonous german--by the clatter of waiters and the pop of champagne\\r\\ncorks. And yet, by thunder, those women are capable of liking both and\\r\\nfinding no discord in them!\"\\r\\n\\r\\n\"Dancing ain\\'t half bad, you know,\" said Mainwaring, conscientiously,\\r\\n\"if a chap\\'s got the wind to do it; and all Americans, especially the\\r\\nwomen, dance better than we do. But I say, Bradley, to hear you talk,\\r\\na fellow wouldn\\'t suspect you were as big a Vandal as anybody, with a\\r\\nbeastly, howling saw-mill in the heart of the primeval forest. By Jove,\\r\\nyou quite bowled me over that first day we met, when you popped your\\r\\nhead out of that delirium tremens shaking mill, like the very genius of\\r\\ndestructive improvement.\"\\r\\n\\r\\n\"But that was FIGHTING Nature, not patronizing her; and it\\'s a business\\r\\nthat pays. That reminds me that I must go back to it,\" said Bradley,\\r\\nrising and knocking the ashes from his pipe.\\r\\n\\r\\n\"Not AFTER dinner, surely!\" said Mainwaring, in surprise. \"Come now,\\r\\nthat\\'s too much like the bolting Yankee of the travellers\\' books.\"\\r\\n\\r\\n\"There\\'s a heavy run to get through tonight. We\\'re working against\\r\\ntime,\" returned Bradley. Even while speaking he had vanished within the\\r\\nhouse, returned quickly--having replaced his dark suit by jean trousers\\r\\ntucked in heavy boots, and a red flannel shirt over his starched white\\r\\none--and, nodding gayly to Mainwaring, stepped from the lower end of the\\r\\nveranda. \"The beggar actually looks pleased to go,\" said Mainwaring to\\r\\nhimself in wonderment.\\r\\n\\r\\n\"Oh! Jim,\" said Mrs. Bradley, appearing at the door.\\r\\n\\r\\n\"Yes,\" said Bradley, faintly, from the bushes.\\r\\n\\r\\n\"Minty\\'s ready. You might take her home.\"\\r\\n\\r\\n\"All right. I\\'ll wait.\"\\r\\n\\r\\n\"I hope I haven\\'t frightened Miss Sharpe away,\" said Mainwaring. \"She\\r\\nisn\\'t going, surely?\"\\r\\n\\r\\n\"Only to get some better clothes, on account of company. I\\'m afraid\\r\\nyou are giving her a good deal of trouble, Mr. Mainwaring,\" said Mrs.\\r\\nBradley, laughing.\\r\\n\\r\\n\"She wished me to say good-by to you for her, as she couldn\\'t come on\\r\\nthe veranda in her old shawl and sun-bonnet,\" added Louise, who had\\r\\njoined them. \"What do you really think of her, Mr. Mainwaring? I call\\r\\nher quite pretty, at times. Don\\'t you?\"\\r\\n\\r\\nMainwaring knew not what to say. He could not understand why they\\r\\ncould have any special interest in the girl, or care to know what he, a\\r\\nperfect stranger, thought of her. He avoided a direct reply, however, by\\r\\nplayfully wondering how Mrs. Bradley could subject her husband to Miss\\r\\nMinty\\'s undivided fascinations.\\r\\n\\r\\n\"Oh, Jim always takes her home--if it\\'s in the evening. He gets along\\r\\nwith these people better than we do,\" returned Mrs. Bradley,\\r\\ndryly. \"But,\" she added, with a return of her piquant Quaker-like\\r\\ncoquettishness, \"Jim says we are to devote ourselves to you to-night--in\\r\\nretaliation, I suppose. We are to amuse you, and not let you get\\r\\nexcited; and you are to be sent to bed early.\"\\r\\n\\r\\nIt is to be feared that these latter wise precautions--invaluable for\\r\\nall defenceless and enfeebled humanity--were not carried out: and it\\r\\nwas late when Mainwaring eventually retired, with brightened eyes and a\\r\\nsomewhat accelerated pulse. For the ladies, who had quite regained that\\r\\nkindly equanimity which Minty had rudely interrupted, had also added\\r\\na delicate and confidential sympathy in their relations with\\r\\nMainwaring,--as of people who had suffered in common,--and he\\r\\nexperienced these tender attentions at their hands which any two women\\r\\nare emboldened by each other\\'s saving presence to show any single member\\r\\nof our sex. Indeed, he hardly knew if his satisfaction was the more\\r\\ncomplete when Mrs. Bradley, withdrawing for a few moments, left him\\r\\nalone on the veranda with Louise and the vast, omnipotent night.\\r\\n\\r\\nFor a while they sat silent, in the midst of the profound and\\r\\nmeasureless calm. Looking down upon the dim moonlit abyss at their feet,\\r\\nthey themselves seemed a part of this night that arched above it; the\\r\\nhalf-risen moon appeared to linger long enough at their side to enwrap\\r\\nand suffuse them with its glory; a few bright stars quietly ringed\\r\\nthemselves around them, and looked wonderingly into the level of their\\r\\nown shining eyes. For some vague yearning to humanity seemed to draw\\r\\nthis dark and passionless void towards them. The vast protecting\\r\\nmaternity of Nature leant hushed and breathless over the solitude. Warm\\r\\ncurrents of air rose occasionally from the valley, which one might have\\r\\nbelieved were sighs from its full and overflowing breast, or a grateful\\r\\ncoolness swept their cheeks and hair when the tranquil heights around\\r\\nthem were moved to slowly respond. Odors from invisible bay and\\r\\nlaurel sometimes filled the air; the incense of some rare and remoter\\r\\ncultivated meadow beyond their ken, or the strong germinating breath\\r\\nof leagues of wild oats, that had yellowed the upland by day. In the\\r\\nsilence and shadow, their voices took upon themselves, almost without\\r\\ntheir volition, a far-off confidential murmur, with intervals of meaning\\r\\nsilence--rather as if their thoughts had spoken for themselves, and they\\r\\nhad stopped wonderingly to listen. They talked at first vaguely to this\\r\\ndiscreet audience of space and darkness, and then, growing bolder, spoke\\r\\nto each other and of themselves. Invested by the infinite gravity of\\r\\nnature, they had no fear of human ridicule to restrain their youthful\\r\\nconceit or the extravagance of their unimportant confessions.\\r\\nThey talked of their tastes, of their habits, of their friends\\r\\nand acquaintances. They settled some points of doctrine, duty, and\\r\\netiquette, with the sweet seriousness of youth and its all-powerful\\r\\nconvictions. The listening vines would have recognized no flirtation or\\r\\nlove-making in their animated but important confidences; yet when Mrs.\\r\\nBradley reappeared to warn the invalid that it was time to seek his\\r\\ncouch, they both coughed slightly in the nervous consciousness of some\\r\\nunaccustomed quality in their voices, and a sense of interruption far\\r\\nbeyond their own or the innocent intruder\\'s ken.\\r\\n\\r\\n\"Well?\" said Mrs. Bradley, in the sitting-room as Mainwaring\\'s steps\\r\\nretreated down the passage to his room.\\r\\n\\r\\n\"Well,\" said Louise with a slight yawn, leaning her pretty shoulders\\r\\nlanguidly against the door-post, as she shaded her moonlight-accustomed\\r\\neyes from the vulgar brilliancy of Mrs. Bradley\\'s bedroom candle.\\r\\n\"Well--oh, he talked a great deal about \\'his people\\' as he called them,\\r\\nand I talked about us. He\\'s very nice. You know in some things he\\'s\\r\\nreally like a boy.\"\\r\\n\\r\\n\"He looks much better.\"\\r\\n\\r\\n\"Yes; but he is far from strong yet.\"\\r\\n\\r\\nMeantime, Mainwaring had no other confidant of his impressions than his\\r\\nown thoughts. Mingled with his exaltation, which was the more seductive\\r\\nthat it had no well-defined foundation for existing, and implied\\r\\nno future responsibility, was a recurrence of his uneasiness at the\\r\\nimpending visit of Richardson the next day. Strangely enough, it had\\r\\nincreased under the stimulus of the evening. Just as he was really\\r\\ngetting on with the family, he felt sure that this visitor would import\\r\\nsome foreign element into their familiarity, as Minty had done. It was\\r\\npossible they would not like him: now he remembered there was\\r\\nreally something ostentatiously British and insular about this\\r\\nRichardson--something they would likely resent. Why couldn\\'t this fellow\\r\\nhave come later--or even before? Before what? But here he fell asleep,\\r\\nand almost instantly slipped from this veranda in the Sierras, six\\r\\nthousand miles away, to an ancient terrace, overgrown with moss and\\r\\ntradition, that overlooked the sedate glory of an English park. Here he\\r\\nfound himself, restricted painfully by his inconsistent night-clothes,\\r\\nendeavoring to impress his mother and sisters with the singular\\r\\nvirtues and excellences of his American host and hostesses--virtues and\\r\\nexcellences that he himself was beginning to feel conscious had become\\r\\nmore or less apocryphal in that atmosphere. He heard his mother\\'s voice\\r\\nsaying severely, \"When you learn, Francis, to respect the opinions and\\r\\nprejudices of your family enough to prevent your appearing before them\\r\\nin this uncivilized aboriginal costume, we will listen to what you have\\r\\nto say of the friends whose habits you seem to have adopted;\" and he\\r\\nwas frantically indignant that his efforts to convince them that his\\r\\nnegligence was a personal oversight, and not a Californian custom,\\r\\nwere utterly futile. But even then this vision was brushed away by the\\r\\nbewildering sweep of Louise\\'s pretty skirt across the dreamy picture,\\r\\nand her delicate features and softly-fringed eyes remained the last to\\r\\nslip from his fading consciousness.\\r\\n\\r\\nThe moon rose higher and higher above the sleeping house and softly\\r\\nbreathing canyon. There was nothing to mar the idyllic repose of the\\r\\nlandscape; only the growing light of the last two hours had brought out\\r\\nin the far eastern horizon a dim white peak, that gleamed faintly among\\r\\nthe stars, like a bridal couch spread between the hills fringed with\\r\\nfading nuptial torches. No one would have believed that behind that\\r\\nimpenetrable shadow to the west, in the heart of the forest, the\\r\\nthrobbing saw-mill of James Bradley was even at that moment eating its\\r\\ndestructive way through the conserved growth of Nature and centuries,\\r\\nand that the refined proprietor of house and greenwood, with the glow of\\r\\nhis furnace fires on his red shirt, and his alert, intelligent eyes, was\\r\\nthe genie of that devastation, and the toiling leader of the shadowy,\\r\\ntoiling figures around him.\\r\\n\\r\\n\\r\\n\\r\\n\\r\\nCHAPER III.\\r\\n\\r\\n\\r\\nAmid the beauty of the most uncultivated and untrodden wilderness there\\r\\nare certain localities where the meaner and mere common processes\\r\\nof Nature take upon themselves a degrading likeness to the slovenly,\\r\\nwasteful, and improvident processes of man. The unrecorded land-slip\\r\\ndisintegrating a whole hillside will not only lay bare the delicate\\r\\nframework of strata and deposit to the vulgar eye, but hurl into the\\r\\nvalley a debris so monstrous and unlovely as to shame even the hideous\\r\\nruins left by dynamite, hydraulic, or pick and shovel; an overflown and\\r\\nforgotten woodland torrent will leave in some remote hollow a disturbed\\r\\nand ungraceful chaos of inextricable logs, branches, rock, and soil that\\r\\nwill rival the unsavory details of some wrecked or abandoned settlement.\\r\\nOf lesser magnitude and importance, there are certain natural\\r\\ndust-heaps, sinks, and cesspools, where the elements have collected the\\r\\ncast-off, broken, and frayed disjecta of wood and field--the sweepings\\r\\nof the sylvan household. It was remarkable that Nature, so kindly\\r\\nconsiderate of mere human ruins, made no attempt to cover up or disguise\\r\\nthese monuments of her own mortality: no grass grew over the unsightly\\r\\nlandslides, no moss or ivy clothed the stripped and bleached skeletons\\r\\nof overthrown branch and tree; the dead leaves and withered husks rotted\\r\\nin their open grave uncrossed by vine and creeper. Even the animals,\\r\\nexcept the lower organizations, shunned those haunts of decay and ruin.\\r\\n\\r\\nIt was scarcely a hundred yards from one of those dreary receptacles\\r\\nthat Mr. Bradley had taken leave of Miss Minty Sharpe. The cabin\\r\\noccupied by her father, herself, and a younger brother stood, in fact,\\r\\non the very edge of the little hollow, which was partly filled with\\r\\ndecayed wood, leaves, and displacements of the crumbling bank, with\\r\\nthe coal dust and ashes which Mr. Sharpe had added from his forge, that\\r\\nstood a few paces distant at the corner of a cross-road. The occupants\\r\\nof the cabin had also contributed to the hollow the refuse of their\\r\\nhousehold in broken boxes, earthenware, tin cans, and cast-off clothing;\\r\\nand it is not improbable that the site of the cabin was chosen with\\r\\nreference to this convenient disposal of useless and encumbering\\r\\nimpedimenta. It was true that the locality offered little choice in\\r\\nthe way of beauty. An outcrop of brown granite--a portent of higher\\r\\naltitudes--extended a quarter of a mile from the nearest fringe of dwarf\\r\\nlaurel and \"brush\" in one direction; in the other an advanced file of\\r\\nBradley\\'s woods had suffered from some long-forgotten fire, and still\\r\\nraised its blackened masts and broken stumps over the scorched and arid\\r\\nsoil, swept of older underbrush and verdure. On the other side of the\\r\\nroad a dark ravine, tangled with briers and haunted at night by owls and\\r\\nwild cats, struggled wearily on, until blundering at last upon the edge\\r\\nof the Great Canyon, it slipped and lost itself forever in a single\\r\\nfurrow of those mighty flanks. When Bradley had once asked Sharpe why he\\r\\nhad not built his house in the ravine, the blacksmith had replied: \"That\\r\\nuntil the Lord had appointed his time, he reckoned to keep his head\\r\\nabove ground and the foundations thereof.\" Howbeit, the ravine, or the\\r\\n\"run,\" as it was locally known, was Minty\\'s only Saturday afternoon\\r\\nresort for recreation or berries. \"It was,\" she had explained, \"pow\\'ful\\r\\nsoothin\\', and solitary.\"\\r\\n\\r\\nShe entered the house--a rude, square building of unpainted\\r\\nboards--containing a sitting-room, a kitchen, and two bedrooms. A glance\\r\\nat these rooms, which were plainly furnished, and whose canvas-colored\\r\\nwalls were adorned with gorgeous agricultural implement\\r\\ncirculars, patent medicine calendars, with polytinted chromos and\\r\\ncheaply-illuminated Scriptural texts, showed her that a certain neatness\\r\\nand order had been preserved during her absence; and, finding the house\\r\\nempty, she crossed the barren and blackened intervening space between\\r\\nthe back door and her father\\'s forge, and entered the open shed. The\\r\\nlight was fading from the sky; but the glow of the forge lit up the\\r\\ndusty road before it, and accented the blackness of the rocky ledge\\r\\nbeyond. A small curly-headed boy, bearing a singular likeness to a\\r\\nsmudged and blackened crayon drawing of Minty, was mechanically\\r\\nblowing the bellows and obviously intent upon something else; while her\\r\\nfather--a powerfully built man, with a quaintly dissatisfied expression\\r\\nof countenance--was with equal want of interest mechanically hammering\\r\\nat a horseshoe. Without noticing Minty\\'s advent, he lazily broke into a\\r\\nquerulous drawling chant of some vague religious character:\\r\\n\\r\\n     \"O tur-ren, sinner; tur-ren.\\r\\n     For the Lord bids you turn--ah!\\r\\n     O tur-ren, sinner; tur-ren.\\r\\n     Why will you die?\"\\r\\n\\r\\nThe musical accent adapted itself to the monotonous fall of the\\r\\nsledge-hammer; and at every repetition of the word \"turn\" he suited the\\r\\naction to the word by turning the horseshoe with the iron in his left\\r\\nhand. A slight grunt at the end of every stroke, and the simultaneous\\r\\nrepetition of \"turn\" seemed to offer him amusement and relief. Minty,\\r\\nwithout speaking, crossed the shop, and administered a sound box on her\\r\\nbrother\\'s ear. \"Take that, and let me ketch you agen layin\\' low when my\\r\\nback\\'s turned, to put on your store pants.\"\\r\\n\\r\\n\"The others had fetched away in the laig,\" said the boy, opposing a knee\\r\\nand elbow at acute angle to further attack.\\r\\n\\r\\n\"You jest get and change \\'em,\" said Minty.\\r\\n\\r\\nThe sudden collapse of the bellows broke in upon the soothing refrain of\\r\\nMr. Sharpe, and caused him to turn also.\\r\\n\\r\\n\"It\\'s Minty,\" he said, replacing the horseshoe on the coals, and setting\\r\\nhis powerful arms and the sledge on the anvil with an exaggerated\\r\\nexpression of weariness.\\r\\n\\r\\n\"Yes; it\\'s me,\" said Minty, \"and Creation knows it\\'s time I DID come, to\\r\\nkeep that boy from ruinin\\' us with his airs and conceits.\"\\r\\n\\r\\n\"Did ye bring over any o\\' that fever mixter?\"\\r\\n\\r\\n\"No. Bradley sez you\\'re loading yerself up with so much o\\' that bitter\\r\\nbark--kuinine they call it over there--that you\\'ll lift the ruff off\\r\\nyour head next. He allows ye ain\\'t got no ague; it\\'s jest wind and\\r\\ndyspepsy. He sez yer\\'s strong ez a hoss.\"\\r\\n\\r\\n\"Bradley,\" said Sharpe, laying aside his sledge with an aggrieved manner\\r\\nwhich was, however, as complacent as his fatigue and discontent, \"ez one\\r\\nof them nat\\'ral born finikin skunks ez I despise. I reckon he began\\r\\nto give p\\'ints to his parents when he was about knee-high to Richelieu\\r\\nthere. He\\'s on them confidential terms with hisself and the Almighty\\r\\nthat he reckons he ken run a saw-mill and a man\\'s insides at the same\\r\\ntime with one hand tied behind him. And this finikin is up to his\\r\\nconceit: he wanted to tell me that that yer handy brush dump outside our\\r\\nshanty was unhealthy. Give a man with frills like that his own way and\\r\\nhe\\'d be a sprinkling odor cologne and peppermint all over the country.\"\\r\\n\\r\\n\"He set your shoulder as well as any doctor,\" said Minty.\\r\\n\\r\\n\"That\\'s bone-settin\\', and a nat\\'ral gift,\" returned Sharpe, as\\r\\ntriumphantly as his habitual depression would admit; \"it ain\\'t conceit\\r\\nand finikin got out o\\' books! Well,\" he added, after a pause, \"wot\\'s\\r\\nhappened?\"\\r\\n\\r\\nMinty\\'s face slightly changed. \"Nothin\\'; I kem back to get some things,\"\\r\\nshe said shortly, moving away.\\r\\n\\r\\n\"And ye saw HIM?\"\\r\\n\\r\\n\"Ye-e-s,\" drawled Minty, carelessly, still retreating.\\r\\n\\r\\n\"Bixby was along here about noon. He says the stranger was suthin\\' high\\r\\nand mighty in his own country, and them \\'Frisco millionaires are quite\\r\\nsweet on him. Where are ye goin\\'?\"\\r\\n\\r\\n\"In the house.\"\\r\\n\\r\\n\"Well, look yer, Minty. Now that you\\'re here, ye might get up a batch\\r\\no\\' hot biscuit for supper. Dinner was that promiscous and experimental\\r\\nto-day, along o\\' Richelieu\\'s nat\\'ral foolin\\', that I think I could git\\r\\noutside of a little suthin\\' now, if only to prop up a kind of innard\\r\\nsinkin\\' that takes me. Ye ken tell me the news at supper.\"\\r\\n\\r\\nLater, however, when Mr. Sharpe had quitted his forge for the night and,\\r\\nseated at his domestic board, was, with a dismal presentiment of future\\r\\nindigestion, voraciously absorbing his favorite meal of hot saleratus\\r\\nbiscuits swimming in butter, he had apparently forgotten his curiosity\\r\\nconcerning Mainwaring and settled himself to a complaining chronicle of\\r\\nthe day\\'s mishaps. \"Nat\\'rally, havin\\' an extra lot o\\' work on hand and\\r\\nno time for foolin\\', what does that ornery Richelieu get up and do this\\r\\nmornin\\'? Ye know them ridiklus specimens that he\\'s been chippin\\' outer\\r\\nthat ledge that the yearth slipped from down the run, and litterin\\' up\\r\\nthe whole shanty with \\'em. Well, darn my skin! if he didn\\'t run a heap\\r\\nof \\'em, mixed up with coal, unbeknowned to me, in the forge, to make\\r\\nwhat he called a \\'fire essay\\' of \\'em. Nat\\'rally, I couldn\\'t get a\\r\\nblessed iron hot, and didn\\'t know what had gone of the fire, or the coal\\r\\neither, for two hours, till I stopped work and raked out the coal. That\\r\\ncomes from his hangin\\' round that saw-mill in the woods, and listenin\\'\\r\\nto Bradley\\'s high-falutin\\' talk about rocks and strata and sich.\"\\r\\n\\r\\n\"But Bradley don\\'t go a cent on minin\\', Pop,\" said Minty. \"He sez the\\r\\nwoods is good enough for him; and there\\'s millions to be made when the\\r\\nrailroad comes along, and timber\\'s wanted.\"\\r\\n\\r\\n\"But until then he\\'s got to keep hisself, to pay wages, and keep the\\r\\nmill runnin\\'. Onless it\\'s, ez Bixby says, that he hopes to get that\\r\\nEnglishman to rope in some o\\' them \\'Frisco friends of his to take a\\r\\nhand. Ye didn\\'t have any o\\' that kind o\\' talk, did ye?\"\\r\\n\\r\\n\"No; not THAT kind o\\' talk,\" said Minty.\\r\\n\\r\\n\"Not THAT kind o\\' talk!\" repeated her father with aggrieved curiosity,\\r\\n\"Wot kind, then?\"\\r\\n\\r\\n\"Well,\" said Minty, lifting her black eyes to her father\\'s; \"I ain\\'t\\r\\nno account, and you ain\\'t no account either. You ain\\'t got no college\\r\\neducation, ain\\'t got no friends in \\'Frisco, and ain\\'t got no high-toned\\r\\nstyle; I can\\'t play the pianner, jabber French, nor get French dresses.\\r\\nWe ain\\'t got no fancy \\'Shallet,\\' as they call it, with a first-class\\r\\nview of nothing; but only a shanty on dry rock. But, afore I\\'D take\\r\\nadvantage of a lazy, gawky boy--for it ain\\'t anything else, though he\\'s\\r\\ngood meanin\\' enough--that happened to fall sick in MY house, and coax\\r\\nand cosset him, and wrap him in white cotton, and mother him, and sister\\r\\nhim, and Aunt Sukey him, and almost dry-nuss him gin\\'rally, jist to get\\r\\nhim sweet on me and on mine, and take the inside track of others--I\\'D be\\r\\nan Injin! And if you\\'d allow it, Pop, you\\'d be wuss nor a nigger!\"\\r\\n\\r\\n\"Sho!\" said her father, kindling with that intense gratification with\\r\\nwhich the male receives any intimation of alien feminine weakness. \"It\\r\\nain\\'t that, Minty, I wanter know!\"\\r\\n\\r\\n\"It\\'s jist that, Pop; and I ez good ez let \\'em know I seed it. I ain\\'t a\\r\\nfool, if some folks do drop their eyes and pertend to wipe the laugh out\\r\\nof their noses with a handkerchief when I let out to speak. I mayn\\'t be\\r\\ngood enough kempany--\"\\r\\n\\r\\n\"Look yer, Minty,\" interrupted the blacksmith, sternly, half rising\\r\\nfrom his seat with every trace of his former weakness vanished from his\\r\\nhardset face; \"do you mean to say that they put on airs to ye--to MY\\r\\ndarter?\"\\r\\n\\r\\n\"No,\" said Minty quickly; \"the men didn\\'t; and don\\'t you, a man, mix\\r\\nyourself up with women\\'s meannesses. I ken manage \\'em, Pop, with one\\r\\nhand.\"\\r\\n\\r\\nMr. Sharpe looked at his daughter\\'s flashing black eyes. Perhaps an\\r\\nuneasy recollection of the late Mrs. Sharpe\\'s remarkable capacity in\\r\\nthat respect checked his further rage.\\r\\n\\r\\n\"No. Wot I was sayin\\',\" resumed Minty, \"ez that I mayn\\'t be thought by\\r\\nothers good enough to keep kempany with baronetts ez is to be--though\\r\\nbaronetts mightn\\'t object--but I ain\\'t mean enough to try to steal away\\r\\nsome ole woman\\'s darling boy in England, or snatch some likely young\\r\\nEnglish girl\\'s big brother outer the family without sayin\\' by your\\r\\nleave. How\\'d you like it if Richelieu was growed up, and went to\\r\\nsea,--and it would be like his peartness,--and he fell sick in some\\r\\nforeign land, and some princess or other skyulged HIM underhand away\\r\\nfrom us?\"\\r\\n\\r\\nProbably owing to the affair of the specimens, the elder Sharpe did not\\r\\nseem to regard the possible mesalliance of Richelieu with extraordinary\\r\\ndisfavor. \"That boy is conceited enough with hair ile and fine clothes\\r\\nfor anything,\" he said plaintively. \"But didn\\'t that Louise Macy hev a\\r\\nfeller already--that Captain Greyson? Wot\\'s gone o\\' him?\"\\r\\n\\r\\n\"That\\'s it,\" said Minty: \"he kin go out in the woods and whistle now.\\r\\nBut all the same, she could hitch him in again at any time if the other\\r\\nstranger kicked over the traces. That\\'s the style over there at The\\r\\nLookout. There ain\\'t ez much heart in them two women put together ez\\r\\nwould make a green gal flush up playin\\' forfeits. It\\'s all in their\\r\\nbreed, Pop. Love ain\\'t going to spile their appetites and complexions,\\r\\ngive \\'em nose-bleed, nor put a drop o\\' water into their eyes in all\\r\\ntheir natural born days. That\\'s wot makes me mad. Ef I thought that Loo\\r\\ncared a bit for that child I wouldn\\'t mind; I\\'d just advise her to make\\r\\nhim get up and get--pack his duds out o\\' camp, and go home and not come\\r\\nback until he had a written permit from his mother, or the other baronet\\r\\nin office.\"\\r\\n\\r\\n\"Looks sorter ef some one orter interfere,\" said the blacksmith,\\r\\nreflectively. \"\\'Tain\\'t exackly a case for a vigilance committee, tho\\'\\r\\nit\\'s agin public morals, this sorter kidnappin\\' o\\' strangers. Looks ez\\r\\nif it might bring the country into discredit in England.\"\\r\\n\\r\\n\"Well, don\\'t YOU go and interfere and havin\\' folks say ez my nose\\r\\nwas put out o\\' jint over there,\" said Minty, curtly. \"There\\'s another\\r\\nEnglishman comin\\' up from \\'Frisco to see him to-morrow. Ef he ain\\'t\\r\\nscooped up by Jenny Bradley he\\'ll guess there\\'s a nigger in the fence\\r\\nsomewhere. But there, Pop, let it drop. It\\'s a bad aig, anyway,\" she\\r\\nconcluded, rising from the table, and passing her hands down her frock\\r\\nand her shapely hips, as if to wipe off further contamination of the\\r\\nsubject. \"Where\\'s Richelieu agin?\"\\r\\n\\r\\n\"Said he didn\\'t want supper, and like ez not he\\'s gone over to see that\\r\\nfammerly at the Summit. There\\'s a little girl thar he\\'s sparkin\\', about\\r\\nhis own age.\"\\r\\n\\r\\n\"His own age!\" said Minty, indignantly. \"Why, she\\'s double that, if\\r\\nshe\\'s a day. Well--if he ain\\'t the triflinest, conceitednest little limb\\r\\nthat ever grew! I\\'d like to know where he got it from--it wasn\\'t mar\\'s\\r\\nstyle.\"\\r\\n\\r\\nMr. Sharpe smiled darkly. Richelieu\\'s precocious gallantry evidently was\\r\\nnot considered as gratuitous as his experimental metallurgy. But as his\\r\\neyes followed his daughter\\'s wholesome, Phyllis-like figure, a new idea\\r\\ntook possession of him: needless to say, however, it was in the line\\r\\nof another personal aggrievement, albeit it took the form of religious\\r\\nreflection.\\r\\n\\r\\n\"It\\'s curous, Minty, wot\\'s foreordained, and wot ain\\'t. Now, yer\\'s one\\r\\nof them high and mighty fellows, after the Lord, ez comes meanderin\\'\\r\\naround here, and drops off--ez fur ez I kin hear--in a kind o\\' faint at\\r\\nthe first house he kems to, and is taken in and lodged and sumptuously\\r\\nfed; and, nat\\'rally, they gets their reward for it. Now wot\\'s to hev\\r\\nkept that young feller from coming HERE and droppin\\' down in my forge,\\r\\nor in this very room, and YOU a tendin\\' him, and jist layin\\' over them\\r\\nfolks at The Lookout?\"\\r\\n\\r\\n\"Wot\\'s got hold o\\' ye, Pop? Don\\'t I tell ye he had a letter to Jim\\r\\nBradley?\" said Minty, quickly, with an angry flash of color in her\\r\\ncheek.\\r\\n\\r\\n\"That ain\\'t it,\" said Sharpe confidently; \"it\\'s cos he WALKED.\\r\\nNat\\'rally, you\\'d think he\\'d RIDE, being high and mighty, and that\\'s\\r\\nwhere, ez the parson will tell ye, wot\\'s merely fi-nite and human wisdom\\r\\nerrs! Ef that feller had ridden, he\\'d have had to come by this yer\\r\\nroad, and by this yer forge, and stop a spell like any other. But it\\r\\nwas foreordained that he should walk, jest cos it wasn\\'t generally\\r\\nkalkilated and reckoned on. So, YOU had no show.\"\\r\\n\\r\\nFor a moment, Minty seemed struck with her father\\'s original theory.\\r\\nBut with a vigorous shake of her shoulders she threw it off. Her eyes\\r\\ndarkened.\\r\\n\\r\\n\"I reckon you ain\\'t thinking, Pop--\" she began.\\r\\n\\r\\n\"I was only sayin\\' it was curous,\" he rejoined quietly. Nevertheless,\\r\\nafter a pause, he rose, coughed, and going up to the young girl, as she\\r\\nleaned over the dresser, bent his powerful arm around her, and, drawing\\r\\nher and the plate she was holding against his breast, laid his bearded\\r\\ncheek for an instant softly upon her rebellious head. \"It\\'s all right,\\r\\nMinty,\" he said; \"ain\\'t it, pet?\" Minty\\'s eyelids closed gently under\\r\\nthe familiar pressure. \"Wot\\'s that in your hair, Minty?\" he said\\r\\ntactfully, breaking an embarrassing pause.\\r\\n\\r\\n\"Bar\\'s grease, father,\" murmured Minty, in a child\\'s voice--the grown-up\\r\\nwoman, under that magic touch, having lapsed again into her father\\'s\\r\\nmotherless charge of ten years before.\\r\\n\\r\\n\"It\\'s pow\\'ful soothin\\', and pretty,\" said her father.\\r\\n\\r\\n\"I made it myself--do you want some?\" asked Minty.\\r\\n\\r\\n\"Not now, girl!\" For a moment they slightly rocked each other in that\\r\\nattitude--the man dexterously, the woman with infinite tenderness--and\\r\\nthen they separated.\\r\\n\\r\\nLate that night, after Richelieu had returned, and her father wrestled\\r\\nin his fitful sleep with the remorse of his guilty indulgence at supper,\\r\\nMinty remained alone in her room, hard at work, surrounded by the\\r\\ncontents of one of her mother\\'s trunks and the fragments of certain\\r\\nripped-up and newly-turned dresses. For Minty had conceived the bold\\r\\nidea of altering one of her mother\\'s gowns to the fashion of a certain\\r\\nfascinating frock worn by Louise Macy. It was late when her self-imposed\\r\\ntask was completed. With a nervous trepidation that was novel to\\r\\nher, Minty began to disrobe herself preparatory to trying on her new\\r\\ncreation. The light of a tallow candle and a large swinging lantern,\\r\\nborrowed from her father\\'s forge, fell shyly on her milky neck and\\r\\nshoulders, and shone in her sparkling eyes, as she stood before her\\r\\nlargest mirror--the long glazed door of a kitchen clock which she had\\r\\nplaced upon her chest of drawers. Had poor Minty been content with the\\r\\nfull, free, and goddess-like outlines that it reflected, she would have\\r\\nbeen spared her impending disappointment. For, alas! the dress of her\\r\\nmodel had been framed upon a symmetrically attenuated French corset, and\\r\\nthe unfortunate Minty\\'s fuller and ampler curves had under her simple\\r\\ncountry stays known no more restraining cincture than knew the Venus\\r\\nof Milo. The alteration was a hideous failure, it was neither Minty\\'s\\r\\nstatuesque outline nor Louise Macy\\'s graceful contour. Minty was no\\r\\nfool, and the revelation of this slow education of the figure and\\r\\ntraining of outline--whether fair or false in art--struck her quick\\r\\nintelligence with all its full and hopeless significance. A bitter light\\r\\nsprang to her eyes; she tore the wretched sham from her shoulders, and\\r\\nthen wrapping a shawl around her, threw herself heavily and sullenly on\\r\\nthe bed. But inaction was not a characteristic of Minty\\'s emotion; she\\r\\npresently rose again, and, taking an old work-box from her trunk, began\\r\\nto rummage in its recesses. It was an old shell-incrusted affair, and\\r\\nthe apparent receptacle of such cheap odds and ends of jewelry as she\\r\\npossessed; a hideous cameo ring, the property of the late Mrs. Sharpe,\\r\\nwas missing. She again rapidly explored the contents of the box, and\\r\\nthen an inspiration seized her, and she darted into her brother\\'s\\r\\nbedroom.\\r\\n\\r\\nThat precocious and gallant Lovelace of ten, despite all sentiment, had\\r\\nbasely succumbed to the gross materialism of youthful slumber. On a\\r\\ncot in the corner, half hidden under the wreck of his own careless and\\r\\nhurried disrobing, with one arm hanging out of the coverlid, Richelieu\\r\\nlay supremely unconscious. On the forefinger of his small but dirty hand\\r\\nthe missing cameo was still glittering guiltily. With a swift movement\\r\\nof indignation Minty rushed with uplifted palm towards the tempting\\r\\nexpanse of youthful cheek that lay invitingly exposed upon the pillow.\\r\\nThen she stopped suddenly.\\r\\n\\r\\nShe had seen him lying thus a hundred times before. On the pillow near\\r\\nhim an indistinguishable mass of golden fur--the helpless bulk of a\\r\\nsquirrel chained to the leg of his cot; at his feet a wall-eyed cat, who\\r\\nhad followed his tyrannous caprices with the long-suffering devotion\\r\\nof her sex; on the shelf above him a loathsome collection of flies\\r\\nand tarantulas in dull green bottles: a slab of ginger-bread for light\\r\\nnocturnal refection, and her own pot of bear\\'s grease. Perhaps it was\\r\\nthe piteous defencelessness of youthful sleep, perhaps it was some\\r\\nlingering memory of her father\\'s caress; but as she gazed at him with\\r\\ntroubled eyes, the juvenile reprobate slipped back into the baby-boy\\r\\nthat she had carried in her own childish arms such a short time ago,\\r\\nwhen the maternal responsibility had descended with the dead mother\\'s\\r\\nill-fitting dresses upon her lank girlish figure and scant virgin\\r\\nbreast--and her hand fell listlessly at her side.\\r\\n\\r\\nThe sleeper stirred slightly and awoke. At the same moment, by some\\r\\nmysterious sympathy, a pair of beady bright eyes appeared in the bulk\\r\\nof fur near his curls, the cat stretched herself, and even a vague\\r\\nagitation was heard in the bottles on the shelf. Richelieu\\'s blinking\\r\\neyes wandered from the candle to his sister, and then the guilty hand\\r\\nwas suddenly withdrawn under the bedclothes.\\r\\n\\r\\n\"No matter, dear,\" said Minty; \"it\\'s mar\\'s, and you kin wear it when you\\r\\nlike, if you\\'ll only ask for it.\"\\r\\n\\r\\nRichelieu wondered if he was dreaming! This unexpected mildness--this\\r\\ninexplicable tremor in his sister\\'s voice: it must be some occult\\r\\ninfluence of the night season on the sisterly mind, possibly akin to a\\r\\nfear of ghosts! He made a mental note of it in view of future favors,\\r\\nyet for the moment he felt embarrassedly gratified. \"Ye ain\\'t wantin\\'\\r\\nanything, Minty,\" he said affectionately; \"a pail o\\' cold water from the\\r\\nfar spring--no nothin\\'?\" He made an ostentatious movement as if to\\r\\nrise, yet sufficiently protracted to prevent any hasty acceptance of his\\r\\nprodigal offer.\\r\\n\\r\\n\"No, dear,\" she said, still gazing at him with an absorbed look in her\\r\\ndark eyes.\\r\\n\\r\\nRichelieu felt a slight creepy sensation under that lonely far-off gaze.\\r\\n\"Your eyes look awful big at night, Minty,\" he said. He would have added\\r\\n\"and pretty,\" but she was his sister, and he had the lofty fraternal\\r\\nconviction of his duty in repressing the inordinate vanity of the sex.\\r\\n\"Ye\\'re sure ye ain\\'t wantin\\' nothin\\'?\"\\r\\n\\r\\n\"Not now, dear.\" She paused a moment, and then said deliberately: \"But\\r\\nyou wouldn\\'t mind turnin\\' out after sun-up and runnin\\' an errand for me\\r\\nover to The Lookout?\"\\r\\n\\r\\nRichelieu\\'s eyes sparkled so suddenly that even in her absorption\\r\\nMinty noticed the change. \"But ye\\'re not goin\\' to tarry over there, ner\\r\\ngossip--you hear? Yer to take this yer message. Yer to say \\'that it will\\r\\nbe onpossible for me to come back there, on account--on account of--\\'\"\\r\\n\\r\\n\"Important business,\" suggested Richelieu; \"that\\'s the perlite style.\"\\r\\n\\r\\n\"Ef you like.\" She leaned over the bed and put her lips to his forehead,\\r\\nstill damp with the dews of sleep, and then to his long-lashed lids.\\r\\n\"Mind Nip!\"--the squirrel--he practically suggested. For an instant\\r\\ntheir blond curls mingled on the pillow. \"Now go to sleep,\" she said\\r\\ncurtly.\\r\\n\\r\\nBut Richelieu had taken her white neck in the short strangulatory hug of\\r\\nthe small boy, and held her fast. \"Ye\\'ll let me put on my best pants?\"\\r\\n\\r\\n\"Yes.\"\\r\\n\\r\\n\"And wear that ring?\"\\r\\n\\r\\n\"Yes\"--a little sadly.\\r\\n\\r\\n\"Then yer kin count me in, Minty; and see here\"--his voice sank to a\\r\\nconfidential whisper--\"mebbee some day ye\\'ll be beholden to ME for a lot\\r\\no\\' real jewelry.\"\\r\\n\\r\\nShe returned slowly to her room, and, opening the window, looked out\\r\\nupon the night. The same moon that had lent such supererogatory grace to\\r\\nthe natural beauty of The Lookout, here seemed to have failed; as Minty\\r\\nhad, in disguising the relentless limitations of Nature or the cruel\\r\\nbonds of custom. The black plain of granite, under its rays, appeared\\r\\nonly to extend its poverty to some remoter barrier; the blackened stumps\\r\\nof the burnt forest stood bleaker against the sky, like broken and\\r\\ntwisted pillars of iron. The cavity of the broken ledge where Richelieu\\r\\nhad prospected was a hideous chasm of bluish blackness, over which a\\r\\npurple vapor seemed to hover; the \"brush dump\" beside the house showed\\r\\na cavern of writhing and distorted objects stiffened into dark rigidity.\\r\\nShe had often looked upon the prospect: it had never seemed so hard and\\r\\nchangeless; yet she accepted it, as she had accepted it before.\\r\\n\\r\\nShe turned away, undressed herself mechanically, and went to bed. She\\r\\nhad an idea that she had been very foolish; that her escape from\\r\\nbeing still more foolish was something miraculous, and in some measure\\r\\nconnected with Providence, her father, her little brother, and her dead\\r\\nmother, whose dress she had recklessly spoiled. But that she had even so\\r\\nslightly touched the bitterness and glory of renunciation--as written\\r\\nof heroines and fine ladies by novelists and poets--never entered the\\r\\nfoolish head of Minty Sharpe, the blacksmith\\'s daughter.\\r\\n\\r\\n\\r\\n\\r\\n\\r\\nCHAPER IV.\\r\\n\\r\\n\\r\\nIt was a little after daybreak next morning that Mainwaring awoke from\\r\\nthe first unrefreshing night he had passed at The Lookout. He was so\\r\\nfeverish and restless that he dressed himself at sunrise, and cautiously\\r\\nstepped out upon the still silent veranda. The chairs which he and\\r\\nLouise Macy had occupied were still, it seemed to him, conspicuously\\r\\nconfidential with each other, and he separated them, but as he looked\\r\\ndown into the Great Canyon at his feet he was conscious of some\\r\\nundefinable change in the prospect. A slight mist was rising from the\\r\\nvalley, as if it were the last of last night\\'s illusions; the first\\r\\nlevel sunbeams were obtrusively searching, and the keen morning air had\\r\\na dryly practical insistence which irritated him, until a light footstep\\r\\non the farther end of the veranda caused him to turn sharply.\\r\\n\\r\\nIt was the singular apparition of a small boy, bearing a surprising\\r\\nresemblance to Minty Sharpe, and dressed in an unique fashion. On a\\r\\ntumbled sea of blond curls a \"chip\" sailor hat, with a broad red ribbon,\\r\\nrode jauntily. But here the nautical suggestion changed, as had the\\r\\ndesire of becoming a pirate which induced it. A red shirt, with a white\\r\\ncollar, and a yellow plaid ribbon tie, that also recalled Minty Sharpe,\\r\\nlightly turned the suggestion of his costume to mining. Short black\\r\\nvelvet trousers, coming to his knee, and ostentatiously new short-legged\\r\\nboots, with visible straps like curling ears, completed the entirely\\r\\noriginal character of his lower limbs.\\r\\n\\r\\nMainwaring, always easily gentle and familiar with children and his\\r\\ninferiors, looked at him with an encouraging smile. Richelieu--for it\\r\\nwas he--advanced gravely and held out his hand, with the cameo ring\\r\\napparent. Mainwaring, with equal gravity, shook it warmly, and removed\\r\\nhis hat. Richelieu, keenly observant, did the same.\\r\\n\\r\\n\"Is Jim Bradley out yet?\" asked Richelieu, carelessly.\\r\\n\\r\\n\"No; I think not. But I\\'m Frank Mainwaring. Will I do?\"\\r\\n\\r\\nRichelieu smiled. The dimples, the white teeth, the dark, laughing eyes,\\r\\nwere surely Minty\\'s?\\r\\n\\r\\n\"I\\'m Richelieu,\" he rejoined with equal candor.\\r\\n\\r\\n\"Richelieu?\"\\r\\n\\r\\n\"Yes. That Frenchman--the Lord Cardinal--you know. Mar saw Forrest do\\r\\nhim out in St. Louis.\"\\r\\n\\r\\n\"Do him?\"\\r\\n\\r\\n\"Yes, in the theayter.\"\\r\\n\\r\\nWith a confused misconception of his meaning, Mainwaring tried to\\r\\nrecall the historical dress of the great Cardinal and fit it to the\\r\\nmasquerader--if such he were--before him. But Richelieu relieved him by\\r\\nadding,--\\r\\n\\r\\n\"Richelieu Sharpe.\"\\r\\n\\r\\n\"Oh, that\\'s your NAME!\" said Mainwaring, cheerfully. \"Then you\\'re Miss\\r\\nMinty\\'s brother. I know her. How jolly lucky!\"\\r\\n\\r\\nThey both shook hands again. Richelieu, eager to get rid of the burden\\r\\nof his sister\\'s message, which he felt was in the way of free-and-easy\\r\\nintercourse with this charming stranger, looked uneasily towards the\\r\\nhouse.\\r\\n\\r\\n\"I say,\" said Mainwaring, \"if you\\'re in a hurry, you\\'d better go in\\r\\nthere and knock. I hear some one stirring in the kitchen.\"\\r\\n\\r\\nRichelieu nodded, but first went back to the steps of the veranda,\\r\\npicked up a small blue knotted handkerchief, apparently containing some\\r\\nheavy objects, and repassed Mainwaring.\\r\\n\\r\\n\"What! have you cut it, Richelieu, with your valuables? What have you\\r\\ngot there?\"\\r\\n\\r\\n\"Specimins,\" said Richelieu, shortly, and vanished.\\r\\n\\r\\nHe returned presently. \"Well, Cardinal, did you see anybody?\" asked\\r\\nMainwaring.\\r\\n\\r\\n\"Mrs. Bradley; but Jim\\'s over to the mill. I\\'m goin\\' there.\"\\r\\n\\r\\n\"Did you see Miss Macy?\" continued Mainwaring, carelessly.\\r\\n\\r\\n\"Loo?\"\\r\\n\\r\\n\"Loo!--well; yes.\"\\r\\n\\r\\n\"No. She\\'s philanderin\\' with Captain Greyson.\"\\r\\n\\r\\n\"Philandering with Greyson?\" echoed Mainwaring, in wonder.\\r\\n\\r\\n\"Yes; on horseback on the ridge.\"\\r\\n\\r\\n\"You mean she\\'s riding out with Mr.--with Captain Greyson?\"\\r\\n\\r\\n\"Yes; ridin\\' AND philanderin\\',\" persisted Richelieu.\\r\\n\\r\\n\"And what do you call philandering?\"\\r\\n\\r\\n\"Well; I reckon you and she oughter know,\" returned Richelieu, with a\\r\\nprecocious air.\\r\\n\\r\\n\"Certainly,\" said Mainwaring, with a faint smile. Richelieu really was\\r\\nlike Minty.\\r\\n\\r\\nThere was a long silence. This young Englishman was becoming exceedingly\\r\\nuninteresting. Richelieu felt that he was gaining neither profit nor\\r\\namusement, and losing time. \"I\\'m going,\" he said.\\r\\n\\r\\n\"Good morning,\" said Mainwaring, without looking up.\\r\\n\\r\\nRichelieu picked up his specimens, thoroughly convinced of the\\r\\nstranger\\'s glittering deceitfulness, and vanished.\\r\\n\\r\\nIt was nearly eight o\\'clock when Mrs. Bradley came from the house. She\\r\\napologized, with a slightly distrait smile, for the tardiness of the\\r\\nhousehold. \"Mr. Bradley stayed at the mill all night, and will not be\\r\\nhere until breakfast, when he brings your friend Mr. Richardson with\\r\\nhim\"--Mainwaring scarcely repressed a movement of impatience--\"who\\r\\narrives early. It\\'s unfortunate that Miss Sharpe can\\'t come to-day.\"\\r\\n\\r\\nIn his abstraction Mainwaring did not notice that Mrs. Bradley slightly\\r\\naccented Minty\\'s formal appellation, and said carelessly,--\\r\\n\\r\\n\"Oh, that\\'s why her brother came over here so early!\"\\r\\n\\r\\n\"Did YOU see him?\" asked Mrs. Bradley, almost abruptly.\\r\\n\\r\\n\"Yes. He is an amusing little beggar; but I think he shares his sister\\'s\\r\\npreference for Mr. Bradley. He deserted me here in the veranda for him\\r\\nat the mill.\"\\r\\n\\r\\n\"Louise will keep you company as soon as she has changed her dress,\"\\r\\ncontinued Mrs. Bradley. \"She was out riding early this morning with a\\r\\nfriend. She\\'s very fond of early morning rides.\"\\r\\n\\r\\n\"AND philandering,\" repeated Mainwaring to himself. It was quite natural\\r\\nfor Miss Macy to ride out in the morning, after the fashion of\\r\\nthe country, with an escort; but why had the cub insisted on the\\r\\n\"philandering\"? He had said, \"AND philandering,\" distinctly. It was a\\r\\nnasty thing for him to say. Any other fellow but he, Mainwaring, might\\r\\nmisunderstand the whole thing. Perhaps he ought to warn her--but no! he\\r\\ncould not repeat the gossip of a child, and that child the brother of\\r\\none of her inferiors. But was Minty an inferior? Did she and Minty talk\\r\\ntogether about this fellow Greyson? At all events, it would only revive\\r\\nthe awkwardness of the preceding day, and he resolved to say nothing.\\r\\n\\r\\nHe was rewarded by a half-inquiring, half-confiding look in Louise\\'s\\r\\nbright eyes, when she presently greeted him on the veranda. \"She had\\r\\nquite forgotten,\" she said, \"to tell him last night of her morning\\'s\\r\\nengagement; indeed, she had half forgotten IT. It used to be a favorite\\r\\npractice of hers, with Captain Greyson; but she had lately given it up.\\r\\nShe believed she had not ridden since--since--\"\\r\\n\\r\\n\"Since when?\" asked Mainwaring.\\r\\n\\r\\n\"Well, since you were ill,\" she said frankly.\\r\\n\\r\\nA quick pleasure shone in Mainwaring\\'s cheek and eye; but Louise\\'s\\r\\npretty lids did not drop, nor her faint, quiet bloom deepen. Breakfast\\r\\nwas already waiting when Mr. Richardson arrived alone.\\r\\n\\r\\nHe explained that Mr. Bradley had some important and unexpected business\\r\\nwhich had delayed him, but which, he added, \"Mr. Bradley says may\\r\\nprove interesting enough to you to excuse his absence this morning.\"\\r\\nMainwaring was not displeased that his critical and observant host was\\r\\nnot present at their meeting. Louise Macy was, however, as demurely\\r\\nconscious of the different bearing of the two compatriots. Richardson\\'s\\r\\nsomewhat self-important patronage of the two ladies, and that\\r\\nCalifornian familiarity he had acquired, changed to a certain uneasy\\r\\ndeference towards Mainwaring; while the younger Englishman\\'s slightly\\r\\nstiff and deliberate cordiality was, nevertheless, mingled with a\\r\\nmysterious understanding that appeared innate and unconscious. Louise\\r\\nwas quick to see that these two men, more widely divergent in quality\\r\\nthan any two of her own countrymen, were yet more subtly connected\\r\\nby some unknown sympathy than the most equal of Americans. Minty\\'s\\r\\nprophetic belief of the effect of the two women upon Richardson was\\r\\ncertainly true as regarded Mrs. Bradley. The banker--a large material\\r\\nnature--was quickly fascinated by the demure, puritanic graces of that\\r\\nlady, and was inclined to exhibit a somewhat broad and ostentatious\\r\\ngallantry that annoyed Mainwaring. When they were seated alone on\\r\\nthe veranda, which the ladies had discreetly left to them, Richardson\\r\\nsaid,--\\r\\n\\r\\n\"Odd I didn\\'t hear of Bradley\\'s wife before. She seems a spicy, pretty,\\r\\ncomfortable creature. Regularly thrown away with him up here.\"\\r\\n\\r\\nMainwaring replied coldly that she was \"an admirable helpmeet of a very\\r\\nadmirable man,\" not, however, without an uneasy recollection of her\\r\\nprevious confidences respecting her husband. \"They have been most\\r\\nthoroughly good and kind to me; my own brother and sister could not have\\r\\ndone more. And certainly not with better taste or delicacy,\" he added,\\r\\nmarkedly.\\r\\n\\r\\n\"Certainly, certainly,\" said Richardson, hurriedly. \"I wrote to Lady\\r\\nMainwaring that you were taken capital care of by some very honest\\r\\npeople; and that--\"\\r\\n\\r\\n\"Lady Mainwaring already knows what I think of them, and what she owes\\r\\nto their kindness,\" said Mainwaring, dryly.\\r\\n\\r\\n\"True, true,\" said Richardson, apologetically. \"Of course you must have\\r\\nseen a good deal of them. I only know Bradley in a business way. He\\'s\\r\\nbeen trying to get the Bank to help him to put up some new mills here;\\r\\nbut we didn\\'t see it. I dare say he is good company--rather amusing,\\r\\neh?\"\\r\\n\\r\\nMainwaring had the gift of his class of snubbing by the polite and\\r\\nforgiving oblivion of silence. Richardson shifted uneasily in his chair,\\r\\nbut continued with assumed carelessness:--\\r\\n\\r\\n\"No; I only knew of this cousin, Miss Macy. I heard of her when she\\r\\nwas visiting some friends in Menlo Park last year. Rather an attractive\\r\\ngirl. They say Colonel Johnson, of Sacramento, took quite a fancy\\r\\nto her--it would have been a good match, I dare say, for he is very\\r\\nrich--but the thing fell through in some way. Then, they say, SHE wanted\\r\\nto marry that Spaniard, young Pico, of the Amador Ranche; but his family\\r\\nwouldn\\'t hear of it. Somehow, she\\'s deuced unlucky. I suppose she\\'ll\\r\\nmake a mess of it with Captain Greyson she was out riding with this\\r\\nmorning.\"\\r\\n\\r\\n\"Didn\\'t the Bank think Bradley\\'s mills a good investment?\" asked\\r\\nMainwaring quietly, when Richardson paused.\\r\\n\\r\\n\"Not with him in it; he is not a business man, you know.\"\\r\\n\\r\\n\"I thought he was. He seems to me an energetic man, who knows his work,\\r\\nand is not afraid to look after it himself.\"\\r\\n\\r\\n\"That\\'s just it. He has got absurd ideas of co-operating with his\\r\\nworkmen, you know, and doing everything slowly and on a limited scale.\\r\\nThe only thing to be done is to buy up all the land on this ridge, run\\r\\noff the settlers, freeze out all the other mills, and put it into a big\\r\\nSan Francisco company on shares. That\\'s the only way we would look at\\r\\nit.\"\\r\\n\\r\\n\"But you don\\'t consider the investment bad, even from HIS point of\\r\\nview?\"\\r\\n\\r\\n\"Perhaps not.\"\\r\\n\\r\\n\"And you only decline it because it isn\\'t big enough for the Bank?\"\\r\\n\\r\\n\"Exactly.\"\\r\\n\\r\\n\"Richardson,\" said Mainwaring, slowly rising, putting his hands in his\\r\\ntrousers pockets, and suddenly looking down upon the banker from the\\r\\neasy level of habitual superiority, \"I wish you\\'d attend to this thing\\r\\nfor me. I desire to make some return to Mr. Bradley for his kindness. I\\r\\nwish to give him what help he wants--in his own way--you understand. I\\r\\nwish it, and I believe my father wishes it, too. If you\\'d like him to\\r\\nwrite to you to that effect--\"\\r\\n\\r\\n\"By no means, it\\'s not at all necessary,\" said Richardson, dropping with\\r\\nequal suddenness into his old-world obsequiousness. \"I shall certainly\\r\\ndo as you wish. It is not a bad investment, Mr. Mainwaring, and as you\\r\\nsuggest, a very proper return for their kindness. And, being here, it\\r\\nwill come quite naturally for me to take up the affair again.\"\\r\\n\\r\\n\"And--I say, Richardson.\"\\r\\n\\r\\n\"Yes, sir?\"\\r\\n\\r\\n\"As these ladies are rather short-handed in their domestic service, you\\r\\nknow, perhaps you\\'d better not stay to luncheon or dinner, but go on to\\r\\nthe Summit House--it\\'s only a mile or two farther--and come back here\\r\\nthis evening. I shan\\'t want you until then.\"\\r\\n\\r\\n\"Certainly!\" stammered Richardson. \"I\\'ll just take leave of the ladies!\"\\r\\n\\r\\n\"It\\'s not at all necessary,\" said Mainwaring, quietly; \"you would only\\r\\ndisturb them in their household duties. I\\'ll tell them what I\\'ve done\\r\\nwith you, if they ask. You\\'ll find your stick and hat in the passage,\\r\\nand you can leave the veranda by these steps. By the way, you had better\\r\\nmanage at the Summit to get some one to bring my traps from here to be\\r\\nforwarded to Sacramento to-morrow. I\\'ll want a conveyance, or a horse\\r\\nof some kind, myself, for I\\'ve given up walking for a while; but we can\\r\\nsettle about that to-night. Come early. Good morning?\"\\r\\n\\r\\nHe accompanied his thoroughly subjugated countryman--who, however, far\\r\\nfrom attempting to reassert himself, actually seemed easier and more\\r\\ncheerful in his submission--to the end of the veranda, and watched\\r\\nhim depart. As he turned back, he saw the pretty figure of Louise Macy\\r\\nleaning against the doorway. How graceful and refined she looked in that\\r\\nsimple morning dress! What wonder that she was admired by Greyson, by\\r\\nJohnson, and by that Spaniard!--no, by Jove, it was SHE that wanted to\\r\\nmarry him!\\r\\n\\r\\n\"What have you sent away Mr. Richardson for?\" asked the young girl, with\\r\\na half-reproachful, half-mischievous look in her bright eyes.\\r\\n\\r\\n\"I packed him off because I thought it was a little too hard on you and\\r\\nMrs. Bradley to entertain him without help.\"\\r\\n\\r\\n\"But as he was OUR guest, you might have left that to us,\" said Miss\\r\\nMacy.\\r\\n\\r\\n\"By Jove! I never thought of that,\" said Mainwaring, coloring in\\r\\nconsternation. \"Pray forgive me, Miss Macy--but you see I knew the man,\\r\\nand could say it, and you couldn\\'t.\"\\r\\n\\r\\n\"Well, I forgive you, for you look really so cut up,\" said Louise,\\r\\nlaughing. \"But I don\\'t know what Jenny will say of your disposing of her\\r\\nconquest so summarily.\" She stopped and regarded him more attentively.\\r\\n\"Has he brought you any bad news? if so, it\\'s a pity you didn\\'t send him\\r\\naway before. He\\'s quite spoiling our cure.\"\\r\\n\\r\\nMainwaring thought bitterly that he had. \"But it\\'s a cure for all that,\\r\\nMiss Macy,\" he said, with an attempt at cheerfulness, \"and being a cure,\\r\\nyou see, there\\'s no longer an excuse for my staying here. I have been\\r\\nmaking arrangements for leaving here to-morrow.\"\\r\\n\\r\\n\"So soon?\"\\r\\n\\r\\n\"Do you think it soon, Miss Macy?\" asked Mainwaring, turning pale in\\r\\nspite of himself.\\r\\n\\r\\n\"I quite forgot--that you were here as an invalid only, and that we owe\\r\\nour pleasure to the accident of your pain.\"\\r\\n\\r\\nShe spoke a little artificially, he thought, yet her cheeks had not lost\\r\\ntheir pink bloom, nor her eyes their tranquillity. Had he heard Minty\\'s\\r\\ncriticism he might have believed that the organic omission noticed by\\r\\nher was a fact.\\r\\n\\r\\n\"And now that your good work as Sister of Charity is completed, you\\'ll\\r\\nbe able to enter the world of gayety again with a clear conscience,\"\\r\\nsaid Mainwaring, with a smile that he inwardly felt was a miserable\\r\\nfailure. \"You\\'ll be able to resume your morning rides, you know, which\\r\\nthe wretched invalid interrupted.\"\\r\\n\\r\\nLouise raised her clear eyes to his, without reproach, indignation, or\\r\\neven wonder. He felt as if he had attempted an insult and failed.\\r\\n\\r\\n\"Does my cousin know you are going so soon?\" she asked finally.\\r\\n\\r\\n\"No, I did not know myself until to-day. You see,\" he added hastily,\\r\\nwhile his honest blood blazoned the lie in his cheek, \"I\\'ve heard of\\r\\nsome miserable business affairs that will bring me back to England\\r\\nsooner that I expected.\"\\r\\n\\r\\n\"I think you should consider your health more important than any mere\\r\\nbusiness,\" said Louise. \"I don\\'t mean that you should remain HERE,\" she\\r\\nadded with a hasty laugh, \"but it would be a pity, now that you have\\r\\nreaped the benefit of rest and taking care of yourself, that you should\\r\\nnot make it your only business to seek it elsewhere.\"\\r\\n\\r\\nMainwaring longed to say that within the last half hour, living or dying\\r\\nhad become of little moment to him; but he doubted the truth or efficacy\\r\\nof this timeworn heroic of passion. He felt, too, that anything he said\\r\\nwas a mere subterfuge for the real reason of his sudden departure. And\\r\\nhow was he to question her as to that reason? In escaping from these\\r\\nsubterfuges--he was compelled to lie again. With an assumption of\\r\\nchanging the subject, he said calmly, \"Richardson thought he had met you\\r\\nbefore--in Menlo Park, I think.\"\\r\\n\\r\\nAmazed at the evident irrelevance of the remark, Louise said coldly,\\r\\nthat she did not remember having seen him before.\\r\\n\\r\\n\"I think it was at a Mr. Johnson\\'s--or WITH a Mr. Johnson--or perhaps at\\r\\none of those Spanish ranches--I think he mentioned some name like Pico!\"\\r\\n\\r\\nLouise looked at him wonderingly for an instant, and then gave way to\\r\\na frank, irrepressible laugh, which lent her delicate but rather set\\r\\nlittle face all the color he had missed. Partially relieved by her\\r\\nunconcern, and yet mortified that he had only provoked her sense of the\\r\\nludicrous, he tried to laugh also.\\r\\n\\r\\n\"Then, to be quite plain,\" said Louise, wiping her now humid eyes, \"you\\r\\nwant me to understand that you really didn\\'t pay sufficient attention\\r\\nto hear correctly! Thank you; that\\'s a pretty English compliment, I\\r\\nsuppose.\"\\r\\n\\r\\n\"I dare say you wouldn\\'t call it \\'philandering\\'?\"\\r\\n\\r\\n\"I certainly shouldn\\'t, for I don\\'t know what \\'philandering\\' means.\"\\r\\n\\r\\nMainwaring could not reply, with Richelieu, \"You ought to know\"; nor did\\r\\nhe dare explain what he thought it meant, and how he knew it. Louise,\\r\\nhowever, innocently solved the difficulty.\\r\\n\\r\\n\"There\\'s a country song I\\'ve heard Minty sing,\" she said. \"It runs--\\r\\n\\r\\n     Come, Philander, let us be a-marchin\\',\\r\\n     Every one for his true love a-sarchin\\'\\r\\n     Choose your true love now or never. . . .\\r\\n\\r\\nHave you been listening to her also?\"\\r\\n\\r\\n\"No,\" said Mainwaring, with a sudden incomprehensible, but utterly\\r\\nirrepressible, resolution; \"but I\\'M \\'a-marchin\\',\\' you know, and perhaps\\r\\nI must \\'choose my true love now or never.\\' Will you help me, Miss Macy?\"\\r\\n\\r\\nHe drew gently near her. He had become quite white, but also very manly,\\r\\nand it struck her, more deeply, thoroughly, and conscientiously sincere\\r\\nthan any man who had before addressed her. She moved slightly away, as\\r\\nif to rest herself by laying both hands upon the back of the chair.\\r\\n\\r\\n\"Where do you expect to begin your \\'sarchin\\'\\'?\" she said, leaning on\\r\\nthe chair and tilting it before her; \"or are you as vague as usual as to\\r\\nlocality? Is it at some \\'Mr. Johnson\\' or \\'Mr. Pico,\\' or--\"\\r\\n\\r\\n\"Here,\" he interrupted boldly.\\r\\n\\r\\n\"I really think you ought to first tell my cousin that you are going\\r\\naway to-morrow,\" she said, with a faint smile. \"It\\'s such short notice.\\r\\nShe\\'s just in there.\" She nodded her pretty head, without raising her\\r\\neyes, towards the hall.\\r\\n\\r\\n\"But it may not be so soon,\" said Mainwaring.\\r\\n\\r\\n\"Oh, then the \\'sarchin\\'\\' is not so important?\" said Louise, raising\\r\\nher head, and looking towards the hall with some uneasy but indefinable\\r\\nfeminine instinct.\\r\\n\\r\\nShe was right; the sitting-room door opened, and Mrs. Bradley made her\\r\\nsmiling appearance.\\r\\n\\r\\n\"Mr. Mainwaring was just looking for you,\" said Louise, for the first\\r\\ntime raising her eyes to him. \"He\\'s not only sent off Mr. Richardson,\\r\\nbut he\\'s going away himself to-morrow.\"\\r\\n\\r\\nMrs. Bradley looked from the one to the other in mute wonder. Mainwaring\\r\\ncast an imploring glance at Louise, which had the desired effect. Much\\r\\nmore seriously, and in a quaint, business-like way, the young girl took\\r\\nit upon herself to explain to Mrs. Bradley that Richardson had brought\\r\\nthe invalid some important news that would, unfortunately, not only\\r\\nshorten his stay in America, but even compel him to leave The Lookout\\r\\nsooner than he expected, perhaps to-morrow. Mainwaring thanked her with\\r\\nhis eyes, and then turned to Mrs. Bradley.\\r\\n\\r\\n\"Whether I go to-morrow or next day,\" he said with simple and earnest\\r\\ndirectness, \"I intend, you know, to see you soon again, either here or\\r\\nin my own home in England. I do not know,\" he added with marked gravity,\\r\\n\"that I have succeeded in convincing you that I have made your family\\r\\nalready well known to my people, and that\"--he fixed his eyes with a\\r\\nmeaning look on Louise--\"no matter when, or in what way, you come to\\r\\nthem, your place is made ready for you. You may not like them, you know:\\r\\nthe governor is getting to be an old man--perhaps too old for young\\r\\nAmericans--but THEY will like YOU, and you must put up with that. My\\r\\nmother and sisters know Miss Macy as well as I do, and will make her one\\r\\nof the family.\"\\r\\n\\r\\nThe conscientious earnestness with which these apparent\\r\\nconventionalities were uttered, and some occult quality of quiet\\r\\nconviction in the young man\\'s manner, brought a pleasant sparkle to the\\r\\neyes of Mrs. Bradley and Louise.\\r\\n\\r\\n\"But,\" said Mrs. Bradley, gayly, \"our going to England is quite beyond\\r\\nour present wildest dreams; nothing but a windfall, an unexpected\\r\\nrise in timber, or even the tabooed hotel speculation, could make it\\r\\npossible.\"\\r\\n\\r\\n\"But I shall take the liberty of trying to present it to Mr. Bradley\\r\\ntonight in some practical way that may convince even his critical\\r\\njudgment,\" said Mainwaring, still seriously. \"It will be,\" he added more\\r\\nlightly, \"the famous testimonial of my cure which I promised you.\"\\r\\n\\r\\n\"And you will find Mr. Bradley so sceptical that you will be obliged to\\r\\ndefer your going,\" said Mrs. Bradley, triumphantly. \"Come, Louise, we\\r\\nmust not forget that we have still Mr. Mainwaring\\'s present comfort to\\r\\nlook after; that Minty has basely deserted us, and that we ourselves\\r\\nmust see that the last days of our guest beneath our roof are not\\r\\nremembered for their privation.\"\\r\\n\\r\\nShe led Louise away with a half-mischievous suggestion of maternal\\r\\npropriety, and left Mainwaring once more alone on the veranda.\\r\\n\\r\\nHe had done it! Certainly she must have understood his meaning, and\\r\\nthere was nothing left for him to do but to acquaint Bradley with his\\r\\nintentions to-night, and press her for a final answer in the morning.\\r\\nThere would be no indelicacy then in asking her for an interview more\\r\\nfree from interruption than this public veranda. Without conceit, he\\r\\ndid not doubt what the answer would be. His indecision, his sudden\\r\\nresolution to leave her, had been all based upon the uncertainty of HIS\\r\\nown feelings, the propriety of HIS declaration, the possibility of some\\r\\nprevious experience of hers that might compromise HIM. Convinced by\\r\\nher unembarrassed manner of her innocence, or rather satisfied of her\\r\\nindifference to Richardson\\'s gossip, he had been hurried by his feelings\\r\\ninto an unexpected avowal. Brought up in the perfect security of his\\r\\nown social position, and familiarly conscious--without vanity--of\\r\\nits importance and power in such a situation, he believed, without\\r\\nundervaluing Louise\\'s charms or independence, that he had no one else\\r\\nthan himself to consult. Even the slight uneasiness that still pursued\\r\\nhim was more due to his habitual conscientiousness of his own intention\\r\\nthan to any fear that she would not fully respond to it. Indeed, with\\r\\nhis conservative ideas of proper feminine self-restraint, Louise\\'s calm\\r\\npassivity and undemonstrative attitude were a proof of her superiority;\\r\\nhad she blushed overmuch, cried, or thrown herself into his arms, he\\r\\nwould have doubted the wisdom of so easy a selection. It was true he had\\r\\nknown her scarcely three weeks; if he chose to be content with that, his\\r\\nown accessible record of three centuries should be sufficient for her,\\r\\nand condone any irregularity.\\r\\n\\r\\nNevertheless, as an hour slipped away and Louise did not make her\\r\\nappearance, either on the veranda or in the little sitting-room off the\\r\\nhall, Mainwaring became more uneasy as to the incompleteness of their\\r\\ninterview. Perhaps a faint suspicion of the inadequacy of her response\\r\\nbegan to trouble him; but he still fatuously regarded it rather as\\r\\nowing to his own hurried and unfinished declaration. It was true that\\r\\nhe hadn\\'t said half what he intended to say; it was true that she might\\r\\nhave misunderstood it as the conventional gallantry of the situation,\\r\\nas--terrible thought!--the light banter of the habitual love-making\\r\\nAmerican, to which she had been accustomed; perhaps even now she\\r\\nrelegated him to the level of Greyson, and this accounted for her\\r\\nsingular impassiveness--an impassiveness that certainly was singular\\r\\nnow he reflected upon it--that might have been even contempt. The last\\r\\nthought pricked his deep conscientiousness; he walked hurriedly up and\\r\\ndown the veranda, and then, suddenly re-entering his room, took up a\\r\\nsheet of note-paper, and began to write to her:--\\r\\n\\r\\n\\r\\n\"Can you grant me a few moments\\' interview alone? I cannot bear you\\r\\nshould think that what I was trying to tell you when we were interrupted\\r\\nwas prompted by anything but the deepest sincerity and conviction,\\r\\nor that I am willing it should be passed over lightly by you or be\\r\\nforgotten. Pray give me a chance of proving it, by saying you will see\\r\\nme. F. M.\"\\r\\n\\r\\n\\r\\nBut how should he convey this to her? His delicacy revolted against\\r\\nhanding it to her behind Mrs. Bradley\\'s back, or the prestidigitation of\\r\\nslipping it into her lap or under her plate before them at luncheon; he\\r\\nthought for an instant of the Chinaman, but gentlemen--except in that\\r\\n\"mirror of nature\" the stage--usually hesitate to suborn other people\\'s\\r\\nservants, or entrust a woman\\'s secret to her inferiors. He remembered\\r\\nthat Louise\\'s room was at the farther end of the house, and its low\\r\\nwindow gave upon the veranda, and was guarded at night by a film of\\r\\nwhite and blue curtains that were parted during the day, to allow\\r\\na triangular revelation of a pale blue and white draped interior.\\r\\nMainwaring reflected that the low inside window ledge was easily\\r\\naccessible from the veranda, would afford a capital lodgment for the\\r\\nnote, and be quickly seen by the fair occupant of the room on entering.\\r\\nHe sauntered slowly past the window; the room was empty, the moment\\r\\npropitious. A slight breeze was stirring the blue ribbons of the\\r\\ncurtain; it would be necessary to secure the note with something; he\\r\\nreturned along the veranda to the steps, where he had noticed a small\\r\\nirregular stone lying, which had evidently escaped from Richelieu\\'s bag\\r\\nof treasure specimens, and had been overlooked by that ingenuous child.\\r\\nIt was of a pretty peacock-blue color, and, besides securing a paper,\\r\\nwould be sure to attract her attention. He placed his note on the inside\\r\\nledge, and the blue stone atop, and went away with a sense of relief.\\r\\n\\r\\nAnother half hour passed without incident. He could hear the voices\\r\\nof the two women in the kitchen and dining-room. After a while they\\r\\nappeared to cease, and he heard the sound of an opening door. It\\r\\nthen occurred to him that the veranda was still too exposed for a\\r\\nconfidential interview, and he resolved to descend the steps, pass\\r\\nbefore the windows of the kitchen where Louise might see him, and\\r\\npenetrate the shrubbery, where she might be induced to follow him. They\\r\\nwould not be interrupted nor overheard there.\\r\\n\\r\\nBut he had barely left the veranda before the figure of Richelieu,\\r\\nwho had been patiently waiting for Mainwaring\\'s disappearance, emerged\\r\\nstealthily from the shrubbery. He had discovered his loss on handing his\\r\\n\"fire assays\" to the good-humored Bradley for later examination, and he\\r\\nhad retraced his way, step by step, looking everywhere for his missing\\r\\nstone with the unbounded hopefulness, lazy persistency, and lofty\\r\\ndisregard for time and occupation known only to the genuine boy.\\r\\nHe remembered to have placed his knotted bag upon the veranda, and,\\r\\nslipping off his stiff boots slowly and softly, slid along against the\\r\\nwall of the house, looking carefully on the floor, and yet preserving\\r\\na studied negligence of demeanor, with one hand in his pocket, and his\\r\\nsmall mouth contracted into a singularly soothing and almost voiceless\\r\\nwhistle--Richelieu\\'s own peculiar accomplishment. But no stone appeared.\\r\\nLike most of his genus he was superstitious, and repeated to himself the\\r\\ncabalistic formula: \"Losin\\'s seekin\\'s, findin\\'s keepin\\'s\"--presumed\\r\\nto be of great efficacy in such cases--with religious fervor. He had\\r\\nlaboriously reached the end of the veranda when he noticed the open\\r\\nwindow of Louise\\'s room, and stopped as a perfunctory duty to look in.\\r\\nAnd then Richelieu Sharpe stood for an instant utterly confounded and\\r\\naghast at this crowning proof of the absolute infamy and sickening\\r\\nenormity of Man.\\r\\n\\r\\nThere was HIS stone--HIS, RICHELIEU\\'S, OWN SPECIMEN, carefully gathered\\r\\nby himself and none other--and now stolen, abstracted, \"skyugled,\"\\r\\n\"smouged,\" \"hooked\" by this \"rotten, skunkified, long-legged,\\r\\nsplay-footed, hoss-laughin\\', nigger-toothed, or\\'nary despot\" And,\\r\\nworse than all, actually made to do infamous duty as a \"love token\"--a\\r\\n\"candy-gift!\"--a \"philanderin\\' box\" to HIS, Richelieu\\'s, girl--for\\r\\nLouise belonged to that innocent and vague outside seraglio of\\r\\nRichelieu\\'s boyish dreams--and put atop of a letter to her! and\\r\\nProvidence permitted such an outrage! \"Wot was he, Richelieu, sent to\\r\\nschool for, and organized wickedness in the shape of gorilla Injins like\\r\\nthis allowed to ride high horses rampant over Californey!\" He looked\\r\\nat the heavens in mute appeal. And then--Providence not immediately\\r\\ninterfering--he thrust his own small arm into the window, regained his\\r\\npriceless treasure, and fled swiftly.\\r\\n\\r\\nA fateful silence ensued. The wind slightly moved the curtain outward,\\r\\nas if in a playful attempt to follow him, and then subsided. A moment\\r\\nlater, apparently re-enforced by other winds, or sympathizing with\\r\\nRichelieu, it lightly lifted the unlucky missive and cast it softly from\\r\\nthe window. But here another wind, lying in wait, caught it cleverly,\\r\\nand tossed it, in a long curve, into the abyss. For an instant it seemed\\r\\nto float lazily, as on the mirrored surface of a lake, until, turning\\r\\nupon its side, it suddenly darted into utter oblivion.\\r\\n\\r\\nWhen Mainwaring returned from the shrubbery, he went softly to the\\r\\nwindow. The disappearance of the letter and stone satisfied him of the\\r\\nsuccess of his stratagem, and for the space of three hours relieved his\\r\\nanxiety. But at the end of that time, finding no response from Louise,\\r\\nhis former uneasiness returned. Was she offended, or--the first doubt of\\r\\nher acceptance of him crossed his mind!\\r\\n\\r\\nA sudden and inexplicable sense of shame came upon him. At the same\\r\\nmoment, he heard his name called from the steps, turned--and beheld\\r\\nMinty.\\r\\n\\r\\nHer dark eyes were shining with a pleasant light, and her lips parted on\\r\\nher white teeth with a frank, happy smile. She advanced and held out her\\r\\nhand. He took it with a mingling of disappointment and embarrassment.\\r\\n\\r\\n\"You\\'re wondering why I kem on here, arter I sent word this morning that\\r\\nI kelkilated not to come. Well, \\'twixt then and now suthin\\' \\'s happened.\\r\\nWe\\'ve had fine doin\\'s over at our house, you bet! Pop don\\'t know which\\r\\nend he\\'s standin\\' on; and I reckon that for about ten minutes I didn\\'t\\r\\nknow my own name. But ez soon ez I got fairly hold o\\' the hull thing,\\r\\nand had it put straight in my mind, I sez to myself, Minty Sharpe, sez\\r\\nI, the first thing for you to do now, is to put on yer bonnet and shawl,\\r\\nand trapse over to Jim Bradley\\'s and help them two womenfolks get dinner\\r\\nfor themselves and that sick stranger. And,\" continued Minty, throwing\\r\\nherself into a chair and fanning her glowing face with her apron, \"yer I\\r\\nam!\"\\r\\n\\r\\n\"But you have not told me WHAT has happened,\" said Mainwaring, with a\\r\\nconstrained smile, and an uneasy glance towards the house.\\r\\n\\r\\n\"That\\'s so,\" said Minty, with a brilliant laugh. \"I clean forgot the\\r\\nhull gist of the thing. Well, we\\'re rich folks now--over thar\\' on Barren\\r\\nLedge! That onery brother of mine, Richelieu, hez taken some of his\\r\\nspecimens over to Jim Bradley to be tested. And Bradley, just to please\\r\\nthat child, takes \\'em; and not an hour ago Bradley comes running, likety\\r\\nswitch, over to Pop to tell him to put up his notices, for the hull of\\r\\nthat ledge where the forge stands is a mine o\\' silver and copper. Afore\\r\\nye knew it, Lordy! half the folks outer the Summit and the mill was\\r\\nscattered down thar all over it. Richardson--that stranger ez knows\\r\\nyou--kem thar too with Jim, and he allows, ef Bradley\\'s essay is right,\\r\\nit\\'s worth more than a hundred thousand dollars ez it stands!\"\\r\\n\\r\\n\"I suppose I must congratulate you, Miss Sharpe,\" said Mainwaring with\\r\\nan attempt at interest, but his attention still preoccupied with the\\r\\nopen doorway.\\r\\n\\r\\n\"Oh, THEY know all about it!\" said Minty, following the direction of his\\r\\nabstracted eyes with a slight darkening of her own, \"I jest kem out o\\'\\r\\nthe kitchen the other way, and Jim sent \\'em a note; but I allowed I\\'d\\r\\ntell YOU myself. Specially ez you are going away to-morrow.\"\\r\\n\\r\\n\"Who said I was going away to-morrow?\" asked Mainwaring, uneasily.\\r\\n\\r\\n\"Loo Macy!\"\\r\\n\\r\\n\"Ah--she did? But I may change my mind, you know!\" he continued, with a\\r\\nfaint smile.\\r\\n\\r\\nMinty shook her curls decisively. \"I reckon SHE knows,\" she said dryly,\\r\\n\"she\\'s got law and gospel for wot she says. But yer she comes. Ask her!\\r\\nLook yer, Loo,\" she added, as the two women appeared at the doorway,\\r\\nwith a certain exaggeration of congratulatory manner that struck\\r\\nMainwaring as being as artificial and disturbed as his own, \"didn\\'t Sir\\r\\nFrancis yer say he was going to-morrow?\"\\r\\n\\r\\n\"That\\'s what I understood!\" returned Louise, with cold astonishment,\\r\\nletting her clear indifferent eyes fall upon Mainwaring. \"I do not know\\r\\nthat he has changed his mind.\"\\r\\n\\r\\n\"Unless, as Miss Sharpe is a great capitalist now, she is willing to use\\r\\nher powers of persuasion,\" added Mrs. Bradley, with a slight acidulous\\r\\npointing of her usual prim playfulness.\\r\\n\\r\\n\"I reckon Minty Sharpe\\'s the same ez she allus wos, unless more so,\"\\r\\nreturned Minty, with an honest egotism that carried so much conviction\\r\\nto the hearer as to condone its vanity. \"But I kem yer to do a day\\'s\\r\\nwork, gals, and I allow to pitch in and do it, and not sit yer swoppin\\'\\r\\ncompliments and keeping HIM from packin\\' his duds. Onless,\" she stopped,\\r\\nand looked around at the uneasy, unsympathetic circle with a faint\\r\\ntremulousness of lip that belied the brave black eyes above it, \"onless\\r\\nI\\'m in yer way.\"\\r\\n\\r\\nThe two women sprang forward with a feminine bewildering excess of\\r\\nprotestation; and Mainwaring, suddenly pierced through his outer selfish\\r\\nembarrassment to his more honest depths, stammered quickly--\\r\\n\\r\\n\"Look here, Miss Sharpe, if you think of running away again, after\\r\\nhaving come all the way here to make us share the knowledge of your good\\r\\nfortune and your better heart, by Jove! I\\'ll go back with you.\"\\r\\n\\r\\nBut here the two women effusively hurried her away from the dangerous\\r\\nproximity of such sympathetic honesty, and a moment later Mainwaring\\r\\nheard her laughing voice, as of old, ringing in the kitchen. And then,\\r\\nas if unconsciously responding to the significant common sense that lay\\r\\nin her last allusion to him, he went to his room and grimly began his\\r\\npacking.\\r\\n\\r\\nHe did not again see Louise alone. At their informal luncheon the\\r\\nconversation turned upon the more absorbing topic of the Sharpes\\'\\r\\ndiscovery, its extent, and its probable effect upon the fortunes of\\r\\nthe locality. He noticed, abstractedly, that both Mrs. Bradley and her\\r\\ncousin showed a real or assumed scepticism of its value. This did\\r\\nnot disturb him greatly, except for its intended check upon Minty\\'s\\r\\nenthusiasm. He was more conscious, perhaps,--with a faint touch of\\r\\nmortified vanity,--that his own contemplated departure was of lesser\\r\\nimportance than this local excitement. Yet in his growing conviction\\r\\nthat all was over--if, indeed, it had ever begun--between himself and\\r\\nLouise, he was grateful to this natural diversion of incident which\\r\\nspared them both an interval of embarrassing commonplaces. And, with\\r\\nthe suspicion of some indefinable insincerity--either of his own or\\r\\nLouise\\'s--haunting him, Minty\\'s frank heartiness and outspoken loyalty\\r\\ngave him a strange relief. It seemed to him as if the clear cool breath\\r\\nof the forest had entered with her homely garments, and the steadfast\\r\\ntruth of Nature were incarnate in her shining eyes. How far this poetic\\r\\nfancy would have been consistent or even coexistent with any gleam of\\r\\ntenderness or self-forgetfulness in Louise\\'s equally pretty orbs, I\\r\\nleave the satirical feminine reader to determine.\\r\\n\\r\\nIt was late when Bradley at last returned, bringing further and more\\r\\ncomplete corroboration of the truth of Sharpe\\'s good fortune. Two\\r\\nexperts had arrived, one from Pine Flat and another from the Summit, and\\r\\nupon this statement Richardson had offered to purchase an interest in\\r\\nthe discovery that would at once enable the blacksmith to develop his\\r\\nmine. \"I shouldn\\'t wonder, Mainwaring,\" he added cheerfully, \"if he\\'d\\r\\nput you into it, too, and make your eternal fortune.\"\\r\\n\\r\\n\"With larks falling from the skies all round you, it\\'s a pity YOU\\r\\ncouldn\\'t get put into something,\" said Mrs. Bradley, straightening her\\r\\npretty brows.\\r\\n\\r\\n\"I\\'m not a gold-miner, my dear,\" said Bradley, pleasantly.\\r\\n\\r\\n\"Nor a gold-finder,\" returned his wife, with a cruel little depression\\r\\nof her pink nostrils, \"but you can work all night in that stupid mill\\r\\nand then,\" she added in a low voice, to escape Minty\\'s attention, \"spend\\r\\nthe whole of the next day examining and following up a boy\\'s discovery\\r\\nthat his own relations had been too lazy and too ignorant to understand\\r\\nand profit by. I suppose that next you will be hunting up a site on the\\r\\nOTHER SIDE of the Canyon, where somebody else can put up a hotel and\\r\\nruin your own prospects.\"\\r\\n\\r\\nA sensitive shadow of pain quickly dimmed Bradley\\'s glance--not the\\r\\nfirst or last time evidently, for it was gradually bringing out a\\r\\nbackground of sadness in his intelligent eyes. But the next moment he\\r\\nturned kindly to Mainwaring, and began to deplore the necessity of his\\r\\nearly departure, which Richardson had already made known to him with\\r\\npractical and satisfying reasons.\\r\\n\\r\\n\"I hope you won\\'t forget, my dear fellow, that your most really urgent\\r\\nbusiness is to look after your health; and if, hereafter, you\\'ll only\\r\\nremember the old Lookout enough to impress that fact upon you, I shall\\r\\nfeel that any poor service I have rendered you has been amply repaid.\"\\r\\n\\r\\nMainwaring, notwithstanding that he winced slightly at this fateful\\r\\necho of Louise\\'s advice, returned the grasp of his friend\\'s hand with an\\r\\nhonest pressure equal to his own. He longed now only for the coming of\\r\\nRichardson, to complete his scheme of grateful benefaction to his host.\\r\\n\\r\\nThe banker came fortunately as the conversation began to flag; and Mrs.\\r\\nBradley\\'s half-coquettish ill-humor of a pretty woman, and Louise\\'s\\r\\nabstracted indifference, were becoming so noticeable as to even impress\\r\\nMinty into a thoughtful taciturnity. The graciousness of his reception\\r\\nby Mrs. Bradley somewhat restored his former ostentatious gallantry, and\\r\\nhis self-satisfied, domineering manner had enough masculine power in it\\r\\nto favorably affect the three women, who, it must be confessed, were a\\r\\nlittle bored by the finer abstractions of Bradley and Mainwaring.\\r\\nAfter a few moments, Mainwaring rose and, with a significant glance at\\r\\nRichardson to remind him of his proposed conference with Bradley, turned\\r\\nto leave the room. He was obliged to pass Louise, who was sitting by the\\r\\ntable. His attention was suddenly arrested by something in her hand with\\r\\nwhich she was listlessly playing. It was the stone which he had put on\\r\\nhis letter to her.\\r\\n\\r\\nAs he had not been present when Bradley arrived, he did not know that\\r\\nthis fateful object had been brought home by his host, who, after\\r\\nreceiving it from Richelieu, had put it in his pocket to illustrate\\r\\nhis story of the discovery. On the contrary, it seemed that Louise\\'s\\r\\ncareless exposure of his foolish stratagem was gratuitously and\\r\\npurposely cruel. Nevertheless, he stopped and looked at her.\\r\\n\\r\\n\"That\\'s a queer stone you have there,\" he said, in a tone which she\\r\\nrecognized as coldly and ostentatiously civil.\\r\\n\\r\\n\"Yes,\" she replied, without looking up; \"it\\'s the outcrop of that mine.\"\\r\\nShe handed it to him as if to obviate any further remark. \"I thought you\\r\\nhad seen it before.\"\\r\\n\\r\\n\"The outcrop,\" he repeated dryly. \"That is--it--it--it is the indication\\r\\nor sign of something important that\\'s below it--isn\\'t it?\"\\r\\n\\r\\nLouise shrugged her shoulders sceptically. \"It don\\'t follow. It\\'s just\\r\\nas likely to cover rubbish, after you\\'ve taken the trouble to look.\"\\r\\n\\r\\n\"Thanks,\" he said, with measured gentleness, and passed quietly out of\\r\\nthe room.\\r\\n\\r\\nThe moon had already risen when Bradley, with his brierwood pipe,\\r\\npreceded Richardson upon the veranda. The latter threw his large frame\\r\\ninto Louise\\'s rocking-chair near the edge of the abyss; Bradley, with\\r\\nhis own chair tilted against the side of the house after the national\\r\\nfashion, waited for him to speak. The absence of Mainwaring and the\\r\\nstimulus of Mrs. Bradley\\'s graciousness had given the banker a certain\\r\\ncondescending familiarity, which Bradley received with amused and\\r\\nironical tolerance that his twinkling eyes made partly visible in the\\r\\ndarkness.\\r\\n\\r\\n\"One of the things I wanted to talk to you about, Bradley, was that old\\r\\naffair of the advance you asked for from the Bank. We did not quite see\\r\\nour way to it then, and, speaking as a business man, it isn\\'t really a\\r\\nmatter of business now; but it has lately been put to me in a light that\\r\\nwould make the doing of it possible--you understand? The fact of the\\r\\nmatter is this: Sir Robert Mainwaring, the father of the young\\r\\nfellow you\\'ve got in your house, is one of our directors and\\r\\nlargest shareholders, and I can tell you--if you don\\'t suspect it\\r\\nalready--you\\'ve been lucky, Bradley--deucedly lucky--to have had him in\\r\\nyour house and to have rendered him a service. He\\'s the heir to one\\r\\nof the largest landed estates in his country, one of the oldest county\\r\\nfamilies, and will step into the title some day. But, ahem!\" he coughed\\r\\npatronizingly, \"you knew all that! No? Well, that charming wife of\\r\\nyours, at least, does; for she\\'s been talking about it. Gad, Bradley, it\\r\\ntakes those women to find out anything of that kind, eh?\"\\r\\n\\r\\nThe light in Bradley\\'s eyes and his pipe went slowly out together.\\r\\n\\r\\n\"Then we\\'ll say that affair of the advance is as good as settled. It\\'s\\r\\nSir Robert\\'s wish, you understand, and this young fellow\\'s wish,--and if\\r\\nyou\\'ll come down to the Bank next week we\\'ll arrange it for you; I\\r\\nthink you\\'ll admit they\\'re doing the handsome to you and yours. And\\r\\ntherefore,\" he lowered his voice confidentially, \"you\\'ll see, Bradley,\\r\\nthat it will only be the honorable thing in you, you know, to look upon\\r\\nthe affair as finished, and, in fact, to do all you can\"--he drew his\\r\\nchair closer--\"to--to--to drop this other foolishness.\"\\r\\n\\r\\n\"I don\\'t think I quite understand you!\" said Bradley, slowly.\\r\\n\\r\\n\"But your wife does, if you don\\'t,\" returned Richardson, bluntly; \"I\\r\\nmean this foolish flirtation between Louise Macy and Mainwaring, which\\r\\nis utterly preposterous. Why, man, it can\\'t possibly come to anything,\\r\\nand it couldn\\'t be allowed for a moment. Look at his position and hers.\\r\\nI should think, as a practical man, it would strike you--\"\\r\\n\\r\\n\"Only one thing strikes me, Richardson,\" interrupted Bradley, in a\\r\\nsingularly distinct whisper, rising, and moving nearer the speaker; \"it\\r\\nis that you\\'re sitting perilously near the edge of this veranda. For, by\\r\\nthe living God, if you don\\'t take yourself out of that chair and out of\\r\\nthis house, I won\\'t be answerable for the consequences!\"\\r\\n\\r\\n\"Hold on there a minute, will you?\" said Mainwaring\\'s voice from the\\r\\nwindow.\\r\\n\\r\\nBoth men turned towards it. A long leg was protruding from Mainwaring\\'s\\r\\nwindow; it was quickly followed by the other leg and body of the\\r\\noccupant, and the next moment Mainwaring come towards the two men, with\\r\\nhis hands in his pockets.\\r\\n\\r\\n\"Not so loud,\" he said, looking towards the house.\\r\\n\\r\\n\"Let that man go,\" said Bradley, in a repressed voice. \"You and I,\\r\\nMainwaring, can speak together afterwards.\"\\r\\n\\r\\n\"That man must stay until he hears what I have got to say,\" said\\r\\nMainwaring, stepping between them. He was very white and grave in\\r\\nthe moonlight, but very quiet; and he did not take his hands from his\\r\\npockets. \"I\\'ve listened to what he said because he came here on MY\\r\\nbusiness, which was simply to offer to do you a service. That was all,\\r\\nBradley, that I told him to do. This rot about what he expects of you in\\r\\nreturn is his own impertinence. If you\\'d punched his head when he began\\r\\nit, it would have been all right. But since he has begun it, before he\\r\\ngoes I think he ought to hear me tell you that I have already OFFERED\\r\\nmyself to Miss Macy, and she has REFUSED me! If she had given me the\\r\\nleast encouragement, I should have told you before. Further, I want to\\r\\nsay that, in spite of that man\\'s insinuations, I firmly believe that no\\r\\none is aware of the circumstance except Miss Macy and myself.\"\\r\\n\\r\\n\"I had no idea of intimating that anything had happened that was not\\r\\nhighly honorable and creditable to you and the young lady,\" began\\r\\nRichardson hurriedly.\\r\\n\\r\\n\"I don\\'t know that it was necessary for you to have any ideas on the\\r\\nsubject at all,\" said Mainwaring, sternly; \"nor that, having been shown\\r\\nhow you have insulted this gentleman and myself, you need trouble us an\\r\\ninstant longer with your company. You need not come back. I will manage\\r\\nmy other affairs myself.\"\\r\\n\\r\\n\"Very well, Mr. Mainwaring--but--you may be sure that I shall certainly\\r\\ntake the first opportunity to explain myself to Sir Robert,\" returned\\r\\nRichardson as, with an attempt at dignity, he strode away.\\r\\n\\r\\nThere was an interval of silence.\\r\\n\\r\\n\"Don\\'t be too hard upon a fellow, Bradley,\" said Mainwaring as Bradley\\r\\nremained dark and motionless in the shadow. \"It is a poor return I\\'m\\r\\nmaking you for your kindness, but I swear I never thought of anything\\r\\nlike--like--this.\"\\r\\n\\r\\n\"Nor did I,\" said Bradley, bitterly.\\r\\n\\r\\n\"I know it, and that\\'s what makes it so infernally bad for me. Forgive\\r\\nme, won\\'t you? Think of me, old fellow, as the wretchedest ass you ever\\r\\nmet, but not such a cad as this would make me!\" As Mainwaring stepped\\r\\nout from the moonlight towards him with extended hand, Bradley grasped\\r\\nit warmly.\\r\\n\\r\\n\"Thanks--there--thanks, old fellow! And, Bradley--I say--don\\'t\\r\\nsay anything to your wife, for I don\\'t think she knows it. And,\\r\\nBradley--look here--I didn\\'t like to be anything but plain before that\\r\\nfellow; but I don\\'t mind telling YOU, now that it\\'s all over, that I\\r\\nreally think Louise--Miss Macy--didn\\'t altogether understand me either.\"\\r\\n\\r\\nWith another shake of the hand they separated for the night. For a long\\r\\ntime after Mainwaring had gone, Bradley remained gazing thoughtfully\\r\\ninto the Great Canyon. He thought of the time when he had first come\\r\\nthere, full of life and enthusiasm, making an ideal world of his pure\\r\\nand wholesome eyrie on the ledge. What else he thought will, probably,\\r\\nnever be known until the misunderstanding of honorable and chivalrous\\r\\nmen by a charming and illogical sex shall incite the audacious pen of\\r\\nsome more daring romancer.\\r\\n\\r\\nWhen he returned to the house, he said kindly to his wife, \"I have been\\r\\nthinking to-day about your hotel scheme, and I shall write to Sacramento\\r\\nto-night to accept that capitalist\\'s offer.\"\\r\\n\\r\\n\\r\\n\\r\\n\\r\\nCHAPER V.\\r\\n\\r\\n\\r\\nThe sun was just rising. In two years of mutation and change it had seen\\r\\nthe little cottage clinging like a swallow\\'s nest to the rocky caves of\\r\\na great Sierran canyon give way to a straggling, many-galleried hotel,\\r\\nand a dozen blackened chimneys rise above the barren tableland where\\r\\nonce had stood the lonely forge. To that conservative orb of light and\\r\\nheat there must have been a peculiar satisfaction in looking down a few\\r\\nhours earlier upon the battlements and gables of Oldenhurst, whose base\\r\\nwas deeply embedded in the matured foundations and settled traditions\\r\\nof an English county. For the rising sun had for ten centuries found\\r\\nOldenhurst in its place, from the heavy stone terrace that covered the\\r\\ndead-and-forgotten wall, where a Roman sentinel had once paced, to\\r\\nthe little grating in the cloistered quadrangle, where it had seen a\\r\\nCistercian brother place the morning dole. It had daily welcomed the\\r\\ngrowth of this vast and picturesque excrescence of the times; it had\\r\\nsmiled every morning upon this formidable yet quaint incrustation\\r\\nof power and custom, ignoring, as Oldenhurst itself had ignored, the\\r\\ngenerations who possessed it, the men who built it, the men who carried\\r\\nit with fire and sword, the men who had lied and cringed for it, the\\r\\nKing who had given it to a favorite, the few brave hearts who had died\\r\\nfor it in exile, and the one or two who had bought and paid for it. For\\r\\nOldenhurst had absorbed all these and more until it had become a story\\r\\nof the past, incarnate in stone, greenwood, and flower; it had even\\r\\ndrained the life-blood from adjacent hamlets, repaying them with tumuli\\r\\ngrowths like its own, in the shape of purposeless lodges, quaintly\\r\\nincompetent hospitals and schools, and churches where the inestimable\\r\\nblessing and knowledge of its gospel were taught and fostered. Nor had\\r\\nit dealt more kindly with the gentry within its walls, sending some to\\r\\nthe scaffold, pillorying others in infamous office, reducing a few to\\r\\npoverty, and halting its later guests with gout and paralysis. It had\\r\\ngiven them in exchange the dubious immortality of a portrait gallery,\\r\\nfrom which they stared with stony and equal resignation; it had\\r\\npreserved their useless armor and accoutrements; it had set up their\\r\\nmarble effigies in churches or laid them in cross-legged attitudes to\\r\\ntrip up the unwary, until in death, as in life, they got between the\\r\\ncongregation and the Truth that was taught there. It had allowed an\\r\\nOldenhurst crusader, with a broken nose like a pugilist, on the strength\\r\\nof his having been twice to the Holy Land, to hide the beautifully\\r\\nilluminated Word from the lowlier worshipper on the humbler benches; it\\r\\nhad sent an iconoclastic Bishop of the Reformation to a nearer minster\\r\\nto ostentatiously occupy the place of the consecrated image he had\\r\\noverthrown. Small wonder that crowding the Oldenhurst retainers\\r\\ngradually into smaller space, with occasional Sabbath glimpses of the\\r\\nliving rulers of Oldenhurst already in railed-off exaltation, it had\\r\\nforced them to accept Oldenhurst as a synonym of eternity, and left the\\r\\nknowledge of a higher Power to what time they should be turned out\\r\\nto their longer sleep under the tender grass of the beautiful outer\\r\\nchurchyard.\\r\\n\\r\\nAnd even so, while every stone of the pile of Oldenhurst and every tree\\r\\nin its leafy park might have been eloquent with the story of vanity,\\r\\nselfishness, and unequal justice, it had been left to the infinite mercy\\r\\nof Nature to seal their lips with a spell of beauty that left mankind\\r\\nequally dumb; earth, air, and moisture had entered into a gentle\\r\\nconspiracy to soften, mellow, and clothe its external blemishes of\\r\\nbreach and accident, its irregular design, its additions, accretions,\\r\\nruins, and lapses with a harmonious charm of outline and color; poets,\\r\\nromancers, and historians had equally conspired to illuminate the\\r\\ndark passages and uglier inconsistencies of its interior life with the\\r\\nglamour of their own fancy. The fragment of menacing keep, with its\\r\\nchoked oubliettes, became a bower of tender ivy; the grim story of its\\r\\ncrimes, properly edited by a contemporary bard of the family, passed\\r\\ninto a charming ballad. Even the superstitious darkness of its religious\\r\\nhouse had escaped through fallen roof and shattered wall, leaving only\\r\\nthe foliated and sun-pierced screen of front, with its rose-window and\\r\\npinnacle of cross behind. Pilgrims from all lands had come to see\\r\\nit; fierce Republicans had crossed the seas to gaze at its mediaeval\\r\\noutlines, and copy them in wood and stucco on their younger soil.\\r\\nPoliticians had equally pointed to it as a convincing evidence of their\\r\\nown principles and in refutation of each other; and it had survived\\r\\nboth. For it was this belief in its own perpetuity that was its strength\\r\\nand weakness. And that belief was never stronger than on this bright\\r\\nAugust morning, when it was on the verge of dissolution. A telegram\\r\\nbrought to Sir Robert Mainwaring had even then as completely shattered\\r\\nand disintegrated Oldenhurst, in all it was and all it meant, as if the\\r\\nbrown-paper envelope had been itself charged with the electric fluid.\\r\\n\\r\\nSir Robert Mainwaring, whose family had for three centuries possessed\\r\\nOldenhurst, had received the news of his financial ruin; and the vast\\r\\npile which had survived the repeated invasion of superstition, force,\\r\\nintrigue, and even progress, had succumbed to a foe its founders and\\r\\nproprietors had loftily ignored and left to Jews and traders. The\\r\\nacquisition of money, except by despoilment, gift, royal favor, or\\r\\ninheritance, had been unknown at Oldenhurst. The present degenerate\\r\\ncustodian of its fortunes, staggering under the weight of its\\r\\nsentimental mortmain already alluded to, had speculated in order to\\r\\nkeep up its material strength, that was gradually shrinking through\\r\\nimpoverished land and the ruined trade it had despised. He had invested\\r\\nlargely in California mines, and was the chief shareholder in a San\\r\\nFrancisco Bank. But the mines had proved worthless, the Bank had that\\r\\nmorning suspended payment, owing to the failure of a large land and\\r\\ntimber company on the Sierras which it had imprudently \"carried.\"\\r\\nThe spark which had demolished Oldenhurst had been fired from the new\\r\\ntelegraph-station in the hotel above the great Sierran canyon.\\r\\n\\r\\nThere was a large house-party at Oldenhurst that morning. But it had\\r\\nbeen a part of the history of the Mainwarings to accept defeat gallantly\\r\\nand as became their blood. Sir Percival,--the second gentleman on the\\r\\nleft as you entered the library,--unhorsed, dying on a distant moor,\\r\\nwith a handful of followers, abandoned by a charming Prince and a\\r\\nmiserable cause, was scarcely a greater hero than this ruined but\\r\\nundaunted gentleman of eighty, entering the breakfast-room a few\\r\\nhours later as jauntily as his gout would permit, and conscientiously\\r\\ndispensing the hospitalities of his crumbling house. When he had\\r\\narranged a few pleasure parties for the day and himself thoughtfully\\r\\nanticipated the different tastes of his guests, he turned to Lady\\r\\nMainwaring.\\r\\n\\r\\n\"Don\\'t forget that somebody ought to go to the station to meet the\\r\\nBradleys. Frank writes from St. Moritz that they are due here to-day.\"\\r\\n\\r\\nLady Mainwaring glanced quickly at her husband, and said sotto voce, \"Do\\r\\nyou think they\\'ll care to come NOW? They probably have heard all about\\r\\nit.\"\\r\\n\\r\\n\"Not how it affects me,\" returned Sir Robert, in the same tone; \"and\\r\\nas they might think that because Frank was with them on that California\\r\\nmountain we would believe it had something to do with Richardson\\r\\ninvolving the Bank in that wretched company, we must really INSIST upon\\r\\ntheir coming.\"\\r\\n\\r\\n\"Bradley!\" echoed the Hon. Captain FitzHarry, overhearing the name\\r\\nduring a late forage on the sideboard, \"Bradley!--there was an awfully\\r\\npretty American at Biarritz, travelling with a cousin, I think--a Miss\\r\\nMason or Macy. Those sort of people, you know, who have a companion\\r\\nas pretty as themselves; bring you down with the other barrel if one\\r\\nmisses--eh? Very clever, both of them, and hardly any accent.\"\\r\\n\\r\\n\"Mr. Bradley was a very dear friend of Frank\\'s, and most kind to him,\"\\r\\nsaid Lady Mainwaring, gravely.\\r\\n\\r\\n\"Didn\\'t know there WAS a Mr. Bradley, really. He didn\\'t come to the\\r\\nfore, then,\" said the unabashed Captain. \"Deuced hard to follow up those\\r\\nAmerican husbands!\"\\r\\n\\r\\n\"And their wives wouldn\\'t thank you, if you did,\" said Lady Griselda\\r\\nArmiger, with a sweet smile.\\r\\n\\r\\n\"If it is the Mrs. Bradley I mean,\" said Lady Canterbridge from the\\r\\nlower end of the table, looking up from her letter, \"who looks a little\\r\\nlike Mrs. Summertree, and has a pretty cousin with her who has very good\\r\\nfrocks, I\\'m afraid you won\\'t be able to get her down here. She\\'s booked\\r\\nwith engagements for the next six weeks. She and her cousin made all the\\r\\nrunning at Grigsby Royal, and she has quite deposed that other American\\r\\nbeauty in Northforeland\\'s good graces. She regularly affiche\\'d him, and\\r\\nit is piteous to see him follow her about. No, my dear; I don\\'t believe\\r\\nthey\\'ll come to any one of less rank than a Marquis. If they did, I\\'m\\r\\nsure Canterbridge would have had them at Buckenthorpe already.\"\\r\\n\\r\\n\"I wonder if there was ever anything in Frank\\'s admiration of this Miss\\r\\nMacy?\" said Lady Mainwaring a few moments later, lingering beside her\\r\\nhusband in his study.\\r\\n\\r\\n\"I really don\\'t know,\" said Sir Robert, abstractedly: \"his letters were\\r\\nfilled with her praises, and Richardson thought--\"\\r\\n\\r\\n\"Pray don\\'t mention that man\\'s name again,\" said Lady Mainwaring, with\\r\\nthe first indication of feeling she had shown. \"I shouldn\\'t trust him.\"\\r\\n\\r\\n\"But why do you ask?\" returned her husband.\\r\\n\\r\\nLady Mainwaring was silent for a moment. \"She is very rich, I believe,\"\\r\\nshe said slowly. \"At least, Frank writes that some neighbors of theirs\\r\\nwhom he met in the Engadine told him they had sold the site of that\\r\\nabsurd cottage where he was ill for some extravagant sum.\"\\r\\n\\r\\n\"My dear Geraldine,\" said the old man, affectionately, taking his wife\\'s\\r\\nhand in his own, that now for the first time trembled, \"if you have any\\r\\nhope based upon what you are thinking of now, let it be the last and\\r\\nleast. You forget that Paget told us that with the best care he could\\r\\nscarcely ensure Frank\\'s return to perfect health. Even if God in his\\r\\nmercy spared him long enough to take my place, what girl would be\\r\\nwilling to tie herself to a man doomed to sickness and poverty? Hardly\\r\\nthe one you speak of, my dear.\"\\r\\n\\r\\nLady Canterbridge proved a true prophet. Mrs. Bradley and Miss Macy\\r\\ndid not come, regretfully alleging a previous engagement made on the\\r\\ncontinent with the Duke of Northforeland and the Marquis of Dungeness;\\r\\nbut the unexpected and apocryphal husband DID arrive. \"I myself have not\\r\\nseen my wife and cousin since I returned from my visit to your son\\r\\nin Switzerland. I am glad they were able to amuse themselves without\\r\\nwaiting for me at a London hotel, though I should have preferred to\\r\\nhave met them here.\" Sir Robert and Lady Mainwaring were courteous but\\r\\nslightly embarrassed. Lady Canterbridge, who had come to the station in\\r\\nbored curiosity, raised her clear blue eyes to his. He did not look like\\r\\na fool, a complaisant or fashionably-cynical husband--this well-dressed,\\r\\nwell-mannered, but quietly and sympathetically observant man. Did he\\r\\nreally care for his selfish wife? was it perfect trust or some absurd\\r\\nTransatlantic custom? She did not understand him. It wearied her and she\\r\\nturned her eyes indifferently away. Bradley, a little irritated, he knew\\r\\nnot why, at the scrutiny of this tall, handsome, gentlemanly-looking\\r\\nwoman, who, however, in spite of her broad shoulders and narrow hips\\r\\npossessed a refined muliebrity superior to mere womanliness of outline,\\r\\nturned slightly towards Sir Robert. \"Lady Canterbridge, Frank\\'s cousin,\"\\r\\nexplained Sir Robert, hesitatingly, as if conscious of some vague\\r\\nawkwardness. Bradley and Lady Canterbridge both bowed,--possibly the\\r\\nlatter\\'s salutation was the most masculine,--and Bradley, eventually\\r\\nforgetting her presence, plunged into an earnest, sympathetic, and\\r\\nintelligent account of the condition in which he found the invalid at\\r\\nSt. Moritz. The old man at first listened with an almost perfunctory\\r\\ncourtesy and a hesitating reserve; but as Bradley was lapsing into\\r\\nequal reserve and they drove up to the gates of the quadrangle, he\\r\\nunexpectedly warmed with a word or two of serious welcome. Looking up\\r\\nwith a half-unconscious smile, Bradley met Lady Canterbridge\\'s examining\\r\\neyes.\\r\\n\\r\\nThe next morning, finding an opportunity to be alone with him, Bradley,\\r\\nwith a tactful mingling of sympathy and directness informed his host\\r\\nthat he was cognizant of the disaster that had overtaken the Bank, and\\r\\ndelicately begged him to accept any service he could render him. \"Pardon\\r\\nme,\" he said, \"if I speak as plainly to you as I would to your son: my\\r\\nfriendship for him justifies an equal frankness to any one he loves; but\\r\\nI should not intrude upon your confidence if I did not believe that my\\r\\nknowledge and assistance might be of benefit to you. Although I did not\\r\\nsell my lands to Richardson or approve of his methods,\" he continued, \"I\\r\\nfear it was some suggestion of mine that eventually induced him to form\\r\\nthe larger and more disastrous scheme that ruined the Bank. So you see,\"\\r\\nhe added lightly, \"I claim a right to offer you my services.\" Touched\\r\\nby Bradley\\'s sincerity and discreet intelligence, Sir Robert was equally\\r\\nfrank. During the recital of his Californian investments--a chronicle\\r\\nof almost fatuous speculation and imbecile enterprise--Bradley was\\r\\nprofoundly moved at the naive ignorance of business and hopeless\\r\\ningenuousness of this old habitue of a cynical world and an intriguing\\r\\nand insincere society, to whom no scheme had been too wild for\\r\\nacceptance. As Bradley listened with a half-saddened smile to the grave\\r\\nvisions of this aged enthusiast, he remembered the son\\'s unsophisticated\\r\\nsimplicity: what he had considered as the \"boyishness\" of immaturity was\\r\\nthe taint of the utterly unpractical Mainwaring blood. It was upon this\\r\\nblood, and others like it, that Oldenhurst had for centuries waxed and\\r\\nfattened.\\r\\n\\r\\nBradley was true to his promise of assistance, and with the aid of two\\r\\nor three of his brother-millionaires, whose knowledge of the resources\\r\\nof the locality was no less powerful and convincing than the security\\r\\nof their actual wealth, managed to stay the immediate action of the\\r\\ncatastrophe until the affairs of the Sierran Land and Timber Company\\r\\ncould be examined and some plan of reconstruction arranged.\\r\\n\\r\\nDuring this interval of five months, in which the credit of Sir Robert\\r\\nMainwaring was preserved with the secret of his disaster, Bradley was a\\r\\nfrequent and welcome visitor to Oldenhurst. Apart from his strange and\\r\\nchivalrous friendship for the Mainwarings--which was as incomprehensible\\r\\nto Sir Robert as Sir Robert\\'s equally eccentric and Quixotic\\r\\nspeculations had been to Bradley--he began to feel a singular and weird\\r\\nfascination for the place. A patient martyr in the vast London house he\\r\\nhad taken for his wife and cousin\\'s amusement, he loved to escape the\\r\\nloneliness of its autumn solitude or the occasional greater loneliness\\r\\nof his wife\\'s social triumphs. The handsome, thoughtful man who\\r\\nsometimes appeared at the foot of his wife\\'s table or melted away like\\r\\na well-bred ghost in the hollow emptiness of her brilliant receptions,\\r\\npiqued the languid curiosity of a few. A distinguished personage, known\\r\\nfor his tactful observance of convenances that others forgot, had made a\\r\\npoint of challenging this gentlemanly apparition, and had followed it up\\r\\nwith courteous civilities, which led to exchange of much respect but no\\r\\nincrease of acquaintance. He had even spent a week at Buckenthorpe, with\\r\\nCanterbridge in the coverts and Lady Canterbridge in the music-room and\\r\\nlibrary. He had returned more thoughtful, and for some time after\\r\\nwas more frequent in his appearances at home, and more earnest in his\\r\\nrenewed efforts to induce his wife to return to America with him.\\r\\n\\r\\n\"You\\'ll never be happy anywhere but in California, among those common\\r\\npeople,\" she replied; \"and while I was willing to share your poverty\\r\\nTHERE,\" she added dryly, \"I prefer to share your wealth among civilized\\r\\nladies and gentlemen. Besides,\" she continued, \"we must consider Louise.\\r\\nShe is as good as engaged to Lord Dunshunner, and I do not intend that\\r\\nyou shall make a mess of her affairs here as you did in California.\"\\r\\n\\r\\nIt was the first time he had heard of Lord Dunshunner\\'s proposals; it\\r\\nwas the first allusion she had ever made to Louise and Mainwaring.\\r\\n\\r\\nMeantime, the autumn leaves had fallen silently over the broad terraces\\r\\nof Oldenhurst with little changes to the fortunes of the great house\\r\\nitself. The Christmas house-party included Lady Canterbridge, whose\\r\\nhusband was still detained at Homburg in company with Dunshunner;\\r\\nand Bradley, whose wife and cousin lingered on the continent. He was\\r\\nslightly embarrassed when Lady Canterbridge turned to him one afternoon\\r\\nas they were returning from the lake and congratulated him abruptly upon\\r\\nLouise\\'s engagement.\\r\\n\\r\\n\"Perhaps you don\\'t care to be congratulated,\" she said, as he did not\\r\\nimmediately respond, \"and you had as little to do with it as with that\\r\\nother? It is a woman\\'s function.\"\\r\\n\\r\\n\"What other?\" echoed Bradley.\\r\\n\\r\\nLady Canterbridge slightly turned her handsome head towards him as she\\r\\nwalked unbendingly at his side. \"Tell me how you manage to keep\\r\\nyour absolute simplicity so fresh. Do you suppose it wasn\\'t known at\\r\\nOldenhurst that Frank had quite compromised himself with Miss Macy over\\r\\nthere?\"\\r\\n\\r\\n\"It certainly was not known \\'over there,\\'\" said Bradley, curtly.\\r\\n\\r\\n\"Don\\'t be angry with me.\"\\r\\n\\r\\nSuch an appeal from the tall, indifferent woman at his side, so\\r\\nconfidently superior to criticism, and uttered in a low tone, made him\\r\\nsmile, albeit uneasily.\\r\\n\\r\\n\"I only meant to congratulate you,\" she continued carelessly.\\r\\n\"Dunshunner is not a bad sort of fellow, and will come into a good\\r\\nproperty some day. And then, society is so made up of caprice, just\\r\\nnow, that it is well for your wife\\'s cousin to make the most of her\\r\\nopportunities while they last. She is very popular now; but next\\r\\nseason--\" Seeing that Bradley remained silent, she did not finish\\r\\nthe sentence, but said with her usual abruptness, \"Do you know a Miss\\r\\nAraminta Eulalie Sharpe?\"\\r\\n\\r\\nBradley started. Could any one recognize honest Minty in the hopeless\\r\\nvulgarity which this fine lady had managed to carelessly import into her\\r\\nname? His eye kindled.\\r\\n\\r\\n\"She is an old friend of mine, Lady Canterbridge.\"\\r\\n\\r\\n\"How fortunate! Then I can please you by giving you good news of her.\\r\\nShe is the coming sensation. They say she is very rich, but quite one of\\r\\nthe people, you know: in fact, she makes no scruples of telling you her\\r\\nfather was a blacksmith, I think, and takes the dear old man with her\\r\\neverywhere. FitzHarry raves about her, and says her naivete is something\\r\\ntoo delicious. She is regularly in with some of the best people already.\\r\\nLady Dungeness has taken her up, and Northforeland is only waiting for\\r\\nyour cousin\\'s engagement to be able to go over decently. Shall I ask\\r\\nher to Buckenthorpe?--come, now, as an apology for my rudeness to your\\r\\ncousin?\" She was very womanly now in spite of her high collar, her\\r\\nstraight back, and her tightly-fitting jacket, as she stood there\\r\\nsmiling. Suddenly, her smile faded; she drew her breath in quickly.\\r\\n\\r\\nShe had caught a glimpse of his usually thoughtful face and eyes, now\\r\\nilluminated with some pleasant memory.\\r\\n\\r\\n\"Thank you,\" he said smilingly, yet with a certain hesitation, as\\r\\nhe thought of The Lookout and Araminta Eulalie Sharpe, and tried to\\r\\nreconcile them with the lady before him. \"I should like it very much.\"\\r\\n\\r\\n\"Then you have known Miss Sharpe a long time?\" continued Lady\\r\\nCanterbridge as they walked on.\\r\\n\\r\\n\"While we were at The Lookout she was our nearest neighbor.\"\\r\\n\\r\\n\"And I suppose your wife will consider it quite proper for you to\\r\\nsee her again at my house?\" said Lady Canterbridge, with a return of\\r\\nconventional levity.\\r\\n\\r\\n\"Oh! quite,\" said Bradley.\\r\\n\\r\\nThey had reached the low Norman-arched side-entrance to the quadrangle.\\r\\nAs Bradley swung open the bolt-studded oaken door to let her pass, she\\r\\nsaid carelessly,--\\r\\n\\r\\n\"Then you are not coming in now?\"\\r\\n\\r\\n\"No; I shall walk a little longer.\"\\r\\n\\r\\n\"And I am quite forgiven?\"\\r\\n\\r\\n\"I am thanking you very much,\" he said, smiling directly into her blue\\r\\neyes. She lowered them, and vanished into the darkness of the passage.\\r\\n\\r\\nThe news of Minty\\'s success was further corroborated by Sir Robert,\\r\\nwho later that evening called Bradley into the study. \"Frank has been\\r\\nwriting from Nice that he has renewed his acquaintance with some old\\r\\nCalifornian friends of yours--a Mr. and Miss Sharpe. Lady Canterbridge\\r\\nsays that they are well known in London to some of our friends, but I\\r\\nwould like to ask you something about them. Lady Mainwaring was on the\\r\\npoint of inviting them here when I received a letter from Mr. Sharpe\\r\\nasking for a BUSINESS interview. Pray who is this Sharpe?\"\\r\\n\\r\\n\"You say he writes for a BUSINESS interview?\" asked Bradley.\\r\\n\\r\\n\"Yes.\"\\r\\n\\r\\nBradley hesitated for a moment and then said quietly, \"Perhaps, then, I\\r\\nam justified in a breach of confidence to him, in order to answer your\\r\\nquestion. He is the man who has assumed all the liabilities of the\\r\\nSierran Land and Timber Company to enable the Bank to resume payment.\\r\\nBut he did it on the condition that you were never to know it. For the\\r\\nrest, he was a blacksmith who made a fortune, as Lady Canterbridge will\\r\\ntell you.\"\\r\\n\\r\\n\"How very odd--how kind, I mean. I should like to have been civil to him\\r\\non Frank\\'s account alone.\"\\r\\n\\r\\n\"I should see him on business and be civil to him afterwards.\" Sir\\r\\nRobert received the American\\'s levity with his usual seriousness.\\r\\n\\r\\n\"No, they must come here for Christmas. His daughter is--?\"\\r\\n\\r\\n\"Araminta Eulalie Sharpe,\" said Bradley, in defiant memory of Lady\\r\\nCanterbridge.\\r\\n\\r\\nSir Robert winced audibly. \"I shall rely on you, my dear boy, to help me\\r\\nmake it pleasant for them,\" he said.\\r\\n\\r\\nChristmas came, but not Minty. It drew a large contingent from\\r\\nOldenhurst to the quaint old church, who came to view the green-wreathed\\r\\nmonuments, and walls spotted with crimson berries, as if with the blood\\r\\nof former Oldenhurst warriors, and to impress the wondering villagers\\r\\nwith the ineffable goodness and bounty of the Creator towards the Lords\\r\\nof Oldenhurst and their friends. Sir Robert, a little gouty, kept the\\r\\nhouse, and Bradley, somewhat uneasy at the Sharpes\\' absence, but more\\r\\ndistrait with other thoughts, wandered listlessly in the long library.\\r\\nAt the lower angle it was embayed into the octagon space of a former\\r\\ntower, which was furnished as a quaint recess for writing or study,\\r\\npierced through its enormous walls with a lance-shaped window, hidden by\\r\\nheavy curtains. He was gazing abstractedly at the melancholy eyes of Sir\\r\\nPercival, looking down from the dark panel opposite, when he heard the\\r\\ncrisp rustle of a skirt. Lady Canterbridge tightly and stiffly buttoned\\r\\nin black from her long narrow boots to her slim, white-collared neck,\\r\\nstood beside him with a prayer-book in her ungloved hand. Bradley\\r\\ncolored quickly; the penetrating incense of the Christmas boughs\\r\\nand branches that decked the walls and ceilings, mingled with some\\r\\nindefinable intoxicating aura from the woman at his side, confused his\\r\\nsenses. He seemed to be losing himself in some forgotten past coeval\\r\\nwith the long, quaintly-lighted room, the rich hangings, and the painted\\r\\nancestor of this handsome woman. He recovered himself with an effort,\\r\\nand said,\\r\\n\\r\\n\"You are going to church?\"\\r\\n\\r\\n\"I may meet them coming home; it\\'s all the same. You like HIM?\" she said\\r\\nabruptly, pointing to the portrait. \"I thought you did not care for that\\r\\nsort of man over there.\"\\r\\n\\r\\n\"A man like that must have felt the impotence of his sacrifice before he\\r\\ndied, and that condoned everything,\" said Bradley, thoughtfully.\\r\\n\\r\\n\"Then you don\\'t think him a fool? Bob says it was a fair bargain for\\r\\na title and an office, and that by dying he escaped trial and the\\r\\nconfiscation of what he had.\"\\r\\n\\r\\nBradley did not reply.\\r\\n\\r\\n\"I am disturbing your illusions again. Yet I rather like them. I think\\r\\nyou are quite capable of a sacrifice--perhaps you know what it is\\r\\nalready.\"\\r\\n\\r\\nHe felt that she was looking at him; he felt equally that he could not\\r\\nrespond with a commonplace. He was silent.\\r\\n\\r\\n\"I have offended you again, Mr. Bradley,\" she said. \"Please be\\r\\nChristian, and pardon me. You know this is a season of peace and\\r\\ngoodwill.\" She raised her blue eyes at the same moment to the Christmas\\r\\ndecorations on the ceiling. They were standing before the parted drapery\\r\\nof the lance window. Midway between the arched curtains hung a spray\\r\\nof mistletoe--the conceit of a mischievous housemaid. Their eyes met it\\r\\nsimultaneously.\\r\\n\\r\\nBradley had Lady Canterbridge\\'s slim, white hand in his own. The next\\r\\nmoment voices were heard in the passage, and the door nearly opposite to\\r\\nthem opened deliberately. The idea of their apparent seclusion and half\\r\\ncompromising attitude flashed through the minds of both at the same\\r\\ntime. Lady Canterbridge stepped quickly backward, drawing Bradley with\\r\\nher, into the embrasure of the window; the folds of the curtain swung\\r\\ntogether and concealed them from view.\\r\\n\\r\\nThe door had been opened by the footman, ushering in a broad-shouldered\\r\\nman, who was carrying a travelling-bag and an umbrella in his hand.\\r\\nDropping into an arm-chair before the curtain, he waved away the\\r\\nfootman, who, even now, mechanically repeated a previously vain attempt\\r\\nto relieve the stranger of his luggage.\\r\\n\\r\\n\"You leave that \\'ere grip sack where it is, young man, and tell Sir\\r\\nRobert Mainwaring that Mr. Demander Sharpe, of Californy, wishes to\\r\\nsee him--on business--on BUSINESS, do ye\\' hear? You hang onter that\\r\\nsentence--on BUSINESS! it\\'s about ez much ez you kin carry, I reckon,\\r\\nand leave that grip sack alone.\"\\r\\n\\r\\nFrom behind the curtain Bradley made a sudden movement to go forward;\\r\\nbut Lady Canterbridge--now quite pale but collected--restrained him with\\r\\na warning movement of her hand. Sir Robert\\'s stick and halting step were\\r\\nnext heard along the passage, and he entered the room. His simple and\\r\\ncourteous greeting of the stranger was instantly followed by a renewed\\r\\nattack upon the \"grip sack,\" and a renewed defence of it by the\\r\\nstranger.\\r\\n\\r\\n\"No, Sir Robert,\" said the voice argumentatively, \"this yer\\'s a BUSINESS\\r\\ninterview, and until it\\'s over--if YOU please--we\\'ll remain ez we air.\\r\\nI\\'m Demander Sharpe, of Californy, and I and my darter, Minty, oncet had\\r\\nthe pleasure of knowing your boy over thar, and of meeting him agin the\\r\\nother day at Nice.\"\\r\\n\\r\\n\"I think,\" said Sir Robert\\'s voice gently, \"that these are not the only\\r\\nclaims you have upon me. I have only a day or two ago heard from\\r\\nMr. Bradley that I owe to your generous hands and your disinterested\\r\\nliberality the saving of my California fortune.\"\\r\\n\\r\\nThere was the momentary sound of a pushed-back chair, a stamping of\\r\\nfeet, and then Mr. Sharpe\\'s voice rose high with the blacksmith\\'s old\\r\\nquerulous aggrieved utterance.\\r\\n\\r\\n\"So it\\'s that finikin\\', conceited Bradley agin--that\\'s giv\\' me away!\\r\\nEf that man\\'s all-fired belief in his being the Angel Gabriel and Dan\\'l\\r\\nWebster rolled inter one don\\'t beat anythin\\'! I suppose that high-flyin\\'\\r\\njay-bird kalkilated to put you and me and my gal and yer boy inter\\r\\nharness for his four hoss chariot and he sittin\\' kam on the box drivin\\'\\r\\nus! Why don\\'t he tend to his own business, and look arter his own\\r\\nconcerns--instead o\\' leaving Jinny Bradley and Loo Macy dependent\\r\\non Kings and Queens and titled folks gen\\'rally, and he, Jim Bradley,\\r\\nphilanderin\\' with another man\\'s wife--while that thar man is hard at\\r\\nwork tryin\\' to make a honest livin\\' fer his wife, buckin\\' agin faro an\\'\\r\\nthe tiger gen\\'rally at Monaco! Eh? And that man a-inter-meddlin\\' with\\r\\nme! Ef,\" continued the voice, dropped to a tone of hopeless moral\\r\\nconviction, \"ef there\\'s a man I mor\\'aly despise--it\\'s that finikin\\' Jim\\r\\nBradley.\"\\r\\n\\r\\n\"You quite misunderstand me, my dear sir,\" said Sir Robert\\'s hurried\\r\\nvoice; \"he told me you had pledged him to secrecy, and he only revealed\\r\\nit to explain why you wished to see me.\"\\r\\n\\r\\nThere was a grunt of half-placated wrath from Sharpe, and then the voice\\r\\nresumed, but more deliberately, \"Well, to come back to business: you\\'ve\\r\\ngot a boy, Francis, and I\\'ve got a darter, Araminty. They\\'ve sorter\\r\\ntaken a shine to each other and they want to get married. Mind yer--wait\\r\\na moment!--it wasn\\'t allus so. No, sir; when my gal Araminty first seed\\r\\nyour boy in Californy she was poor, and she didn\\'t kalkilate to get\\r\\ninter anybody\\'s family unbeknownst or on sufferance. Then she got rich\\r\\nand you got poor; and then--hold on a minit!--she allows, does my girl,\\r\\nthat there ain\\'t any nearer chance o\\' their making a match than they\\r\\nwere afore, for she isn\\'t goin\\' to hev it said that she married your son\\r\\nfur the chance of some day becomin\\' Lady Mainwaring.\"\\r\\n\\r\\n\"One moment, Mr. Sharpe,\" said the voice of the Baronet, gravely: \"I am\\r\\nboth flattered and pained by what I believe to be the kindly object of\\r\\nyour visit. Indeed, I may say I have gathered a suspicion of what might\\r\\nbe the sequel of this most unhappy acquaintance of my son and your\\r\\ndaughter; but I cannot believe that he has kept you in ignorance of his\\r\\nunfortunate prospects and his still more unfortunate state of health.\"\\r\\n\\r\\n\"When I told ye to hold on a minit,\" continued the blacksmith\\'s voice,\\r\\nwith a touch of querulousness in its accent, \"that was jist wot I was\\r\\ncomin\\' to. I knowed part of it from my own pocket, she knowed the rest\\r\\nof it from his lip and the doctors she interviewed. And then she says to\\r\\nme--sez my girl Minty--Pop,\\' she sez, \\'he\\'s got nothing to live for now\\r\\nbut his title, and that he never may live to get, so that I think ye kin\\r\\njist go, Pop, and fairly and squarely, as a honest man, ask his father\\r\\nto let me hev him.\\' Them\\'s my darter\\'s own words, Sir Robert, and when\\r\\nI tell yer that she\\'s got a million o\\' dollars to back them, ye\\'ll know\\r\\nshe means business, every time.\"\\r\\n\\r\\n\"Did Francis know that you were coming here?\"\\r\\n\\r\\n\"Bless ye, no! he don\\'t know that she would have him. Ef it kem to that,\\r\\nhe ain\\'t even asked her! She wouldn\\'t let him until she was sure of\\r\\nYOU.\"\\r\\n\\r\\n\"Then you mean to say there is no engagement?\"\\r\\n\\r\\n\"In course not. I reckoned to do the square thing first with ye.\"\\r\\n\\r\\nThe halting step of the Baronet crossing the room was heard distinctly.\\r\\nHe had stopped beside Sharpe. \"My dear Mr. Sharpe,\" he said, in a\\r\\ntroubled voice, \"I cannot permit this sacrifice. It is too--too great!\"\\r\\n\\r\\n\"Then,\" said Sharpe\\' s voice querulously, \"I\\'m afraid we must do without\\r\\nyour permission. I didn\\'t reckon to find a sort o\\' British Jim Bradley\\r\\nin you. If YOU can\\'t permit my darter to sacrifice herself by marryin\\'\\r\\nyour son, I can\\'t permit her to sacrifice her love and him by NOT\\r\\nmarryin\\' him. So I reckon this yer interview is over.\"\\r\\n\\r\\n\"I am afraid we are both old fools, Mr. Sharpe; but--we will talk this\\r\\nover with Lady Mainwaring. Come--\" There was evidently a slight struggle\\r\\nnear the chair over some inanimate object. But the next moment the\\r\\nBaronet\\'s voice rose, persuasively, \"Really, I must insist upon\\r\\nrelieving you of your bag and umbrella.\"\\r\\n\\r\\n\"Well, if you\\'ll let me telegraph \\'yes\\' to Minty, I don\\'t care if yer\\r\\ndo.\"\\r\\n\\r\\nWhen the room was quiet again, Lady Canterbridge and James Bradley\\r\\nsilently slipped from the curtain, and, without a word, separated at the\\r\\ndoor.\\r\\n\\r\\n\\r\\nThere was a merry Christmas at Oldenhurst and at Nice. But whether\\r\\nMinty\\'s loving sacrifice was accepted or not, or whether she ever\\r\\nreigned as Lady Mainwaring, or lived an untitled widow, I cannot\\r\\nsay. But as Oldenhurst still exists in all its pride and power, it is\\r\\npresumed that the peril that threatened its fortunes was averted,\\r\\nand that if another heroine was not found worthy of a frame in its\\r\\npicture-gallery, at least it had been sustained as of old by devotion\\r\\nand renunciation.\\r\\n\\r\\n\\r\\n\\r\\n\\r\\n'\n"
     ]
    }
   ],
   "source": [
    "print(X[0])"
   ]
  },
  {
   "cell_type": "code",
   "execution_count": 11,
   "id": "proved-roman",
   "metadata": {
    "scrolled": false
   },
   "outputs": [
    {
     "name": "stdout",
     "output_type": "stream",
     "text": [
      "Average number of words in each text file:  379659 words\n"
     ]
    }
   ],
   "source": [
    "# find out average number of words in each text file\n",
    "length_of_data = []\n",
    "for i in range(len(X)):\n",
    "    length_of_data.append(len(X[i]))\n",
    "ave_num = round(sum(length_of_data)/len(length_of_data))\n",
    "print(\"Average number of words in each text file: \", ave_num, \"words\")"
   ]
  },
  {
   "cell_type": "code",
   "execution_count": 12,
   "id": "personal-croatia",
   "metadata": {},
   "outputs": [
    {
     "name": "stderr",
     "output_type": "stream",
     "text": [
      "[nltk_data] Downloading package wordnet to /home/dungpm/nltk_data...\n",
      "[nltk_data]   Package wordnet is already up-to-date!\n"
     ]
    }
   ],
   "source": [
    "from nltk.stem import WordNetLemmatizer\n",
    "nltk.download('wordnet')\n",
    "documents = []\n",
    "stemmer = WordNetLemmatizer()\n",
    "for sen in range(0, len(X)):\n",
    "    # Remove all the special characters\n",
    "    document = re.sub(r'\\W', ' ', str(X[sen]))\n",
    "    # remove \"\\n\"\n",
    "    document = re.sub(r'\\n\\s+', ' ', document)\n",
    "    # remove \"\\n\"\n",
    "    document = re.sub(r'\\r\\s+', ' ', document)\n",
    "    # remove all single characters\n",
    "    document = re.sub(r'\\s+[a-zA-Z]\\s+', ' ', document)\n",
    "    # Remove single characters from the start\n",
    "    document = re.sub(r'\\^[a-zA-Z]\\s+', ' ', document) \n",
    "    # Substituting multiple spaces with single space\n",
    "    document = re.sub(r'\\s+', ' ', document, flags=re.I)\n",
    "    # Removing prefixed 'b'\n",
    "    document = re.sub(r'^b\\s+', '', document)\n",
    "    # Converting to Lowercase\n",
    "    document = document.lower()\n",
    "    # remove all single \"n\" characters\n",
    "    document = re.sub(r'n\\s+', ' ', document)\n",
    "    # remove all single \"r\" characters\n",
    "    document = re.sub(r'r\\s+', ' ', document)\n",
    "    # Lemmatization\n",
    "    document = document.split()\n",
    "    document = [stemmer.lemmatize(word) for word in document]\n",
    "    document = ' '.join(document)\n",
    "    documents.append(document)"
   ]
  },
  {
   "cell_type": "code",
   "execution_count": 13,
   "id": "level-comparison",
   "metadata": {},
   "outputs": [
    {
     "name": "stdout",
     "output_type": "stream",
     "text": [
      "na phyllis of the sierra nby bret harte nchapte nwhere the great highway of the sierra nears the summit and the pine nbegi to show sterile reach of rock and waste i thei draw up file nthere are sign of occasional departure from the mai road a if the nweary travelle had at time succumbed to the long ascent and turned naside fo rest and breath agai the tired eye of many dusty npassenge o the old overland coach have gazed wistfully o those sylva nopenings and imagined recess of primeval shade and virgi wilderness ni thei dim perspective had he descended howeve and followed one nof these diverging path he would have come upo some rude wago track no logslide leading from clearing o the slope o the ominous nsaw mill half hidde i the forest it wa slowly decimating the nwoodland hush might have bee broke by the sound of wate passing ove nsome unsee dam i the hollow o the hiss of escaping steam and throb nof a invisible engine i the covert nsuch at least wa the experience of young fellow of five and twenty nwho knapsack o back and stick i hand had turned aside from the nhighway and entered the wood one pleasant afternoo i july but he nwas evidently deliberate pedestria and not recent deposit of nthe proceeding stage coach and although his stout walking shoe were ncovered with dust he had neithe the habitual slouch and slovenliness nof the tramp no the hurried fatigue and growing negligence of a ninvoluntary wayfare his clothes which were strong and serviceable nwere bette fitted fo thei present usage tha the ordinary garment nof the california traveller which were too apt to be eithe above o nbelow thei requirement but perhaps the strange greatest claim to noriginality wa the absence of any weapo i his equipment he carried nneithe rifle no gu i his hand and his narrow leathe belt wa nempty of eithe knife o revolve na half mile from the mai road which seemed to him to have dropped out nof sight the moment he had left it he came upo half cleared area nwhere the hastily cut stump of pine of irregula height bore a odd nresemblance to the broke column of some vast and ruined temple few nfalle shaft denuded of thei bark and tessellated branch saw into nsymmetrical cylinder lay beside the stump and lent themselves to the nillusio but the freshly cut chip so damp that they still clung i nlayers to each othe a they had falle from the axe and the stump nthemselves still wet and viscous from thei drained life blood were nredolent of a odo of youth and freshness nthe young ma seated himself o one of the log and deeply inhaled the nsharp balsamic fragrance albeit with slight cough and late hurried nrespiratio this and certai draw look about his uppe lip nseemed to indicate i spite of his strength and colo some pulmonary nweakness he howeve rose afte moment rest with undiminished nenergy and cheerfulness readjusted his knapsack and bega to lightly npick his way across the falle timbe few pace o the muffled whi nof machinery became more audible with the lazy monotonous command nof gee tha from some unsee ox drive presently the slow ndeliberately swaying head of team of oxe emerged from the bush nfollowed by the clanking chai of the skid of saw plank which they nwere ponderously dragging with that ostentatious submissiveness peculia nto thei specie they had nearly passed him whe there wa sudde nhitch i the processio from where he stood he could see that nprojecting plank had struck pile of chip and become partly imbedded ni it to ru to the obstructio and with few dexterous stroke and nthe leverage of his stout stick dislodge the plank wa the work not nonly of the moment but of a evidently energetic hand the teamste nlooked back and merely nodded his appreciatio and with gee up out nof that now the skid moved o much obliged there said hearty voice a if supplementing the nteamste imperfect acknowledgment nthe strange looked up the voice came from the ope sashless nshutterless window of rude building mere shell of board and beam nhalf hidde i the still leafy covert before him he had completely noverlooked it i his approach eve a he had ignored the neare nthrobbing of the machinery which wa so violent a to impart decided ntremo to the slight edifice and to shake the speake so strongly that nhe wa obliged while speaking to steady himself by the sashless frame nof the window at which he stood he had face of good natured and alert nintelligence maste independence and authority of manne i spite nof his blue jea overall and flannel shirt do mentio it said the strange smiling with equal but more ndeliberate good humo the seeing that his interlocuto still nlingered hospitable moment i spite of his quick eye and the jarring nimpatience of the machinery he added hesitatingly fancy ve nwandered off the track bit do you know m bradley somewhere nhere nthe strange hesitatio seemed to be more from some habitual nconscientiousness of statement tha awkwardness the ma i the window nreplied m bradley ah thank you ve lette fo you somewhere here it is he nproduced note from his breast pocket bradley stooped to sitting nposture i the window pitch it up it wa throw and caught cleverly nbradley opened it read it hastily smiled and nodded glanced behind nhim a if to implore furthe delay from the impatient machinery leaned nperilously from the window and said look here do you see that silve fi straight ahead yes little to the left there a trail follow it and skirt along the nedge of the canyo until you see my house ask fo my wife that mr nbradley and give he you lette stop he drew carpente pencil nfrom his pocket scrawled two o three word across the ope sheet nand tossed it back to the strange see you at tea excuse me m nmainwaring we re short handed and the engine but here he ndisappeared suddenly nwithout glancing at the note agai the strange quietly replaced it ni his pocket and struck out across the falle trunk towards the nsilve fi he quickly found the trail indicated by bradley although it nwas faint and apparently wo by single pai of foot a shorte and nprivate cut from some more travelled path it wa well fo the strange nthat he had kee eye o he would have lost it it wa equally nfortunate that he had mountaineering instinct fo sudde profound ndeepening of the blue mist see dimly through the leaf before him ncaused him to slacke his step the trail bent abruptly to the right na gulf fully two thousand foot deep wa at his foot it wa the great ncanyo nat the first glance it seemed so narrow that rifle shot could have ncrossed it tranquil depth but second look at the comparative size nof the tree o the opposite mountai convinced him of his erro nneare survey of the abyss also showed him that instead of it wall nbeing perpendicula they were made of successive ledge o terrace to nthe valley below yet the ai wa so still and the outline so clearly ncut that they might have bee only the reflection of the mountain naround him cast upo the placid mirro of lake the spectacle arrested nhim a it arrested all me by some occult powe beyond the mere nattractio of beauty o magnitude eve the teamste neve passed nit without the tribute of stone o broke twig tossed into it nimmeasurable profundity nreluctantly leaving the spot the strange turned with the trail that nnow bega to skirt it edge this wa no easy matte a the undergrowth nwas very thick and the foliage dense to the perilous brink of the nprecipice he walked o howeve wondering why bradley had chose so ncircuitous and dangerous route to his house which naturally would nbe some distance back from the canyo at the end of te minute nstruggling through the brush the trail became vague and to all nappearances ended had he arrived the thicket wa a dense a before nthrough the interstice of leaf and spray he could see the blue void of nthe canyo at his side and he eve fancied that the foliage ahead of nhim wa more symmetrical and le irregula and wa touched here and nthere with faint bit of colo to complete his utte mystificatio na woma voice very fresh very youthful and by no mean unmusical nrose apparently from the circumambient ai he looked hurriedly to the nright and left and eve hopelessly into the tree above him yes said the voice a if renewing suspended conversatio it nwas too funny fo anything there were the two missouri girl from nskinne with thei aubu hai ringleted my dea like the old book of beauty i white frock and sash of a unripe greenish nyellow that puckered up you mouth like persimmon one of them wa nspeechless from good behavio and the othe well the othe wa nso energetic she called out the figure before the fiddle did and nshrieked to my vi vi to dance up to the entire strange meaning me nif you please nthe voice appeared to come from the foliage that overhung the canyo nand the strange eve fancied he could detect through the shimmering nleafy veil something that moved monotonously to and fro mystified and nimpatient he made hurried stride forward his foot struck woode nstep and the next moment the mystery wa made clea he had almost nstumbled upo the end of long veranda that projected ove the abyss nbefore low mode dwelling till the invisible nestling o it nvery brink the symmetrically trimmed foliage he had noticed were the nluxuriant madeira vine that hid the rude pillar of the veranda the nmoving object wa rocking chai with it back towards the intrude nthat disclosed only the brow hai above and the white skirt and small nslippered foot below of seated female figure i the mea time nsecond voice from the interio of the house had replied to the figure i nthe chai who wa evidently the first speake it must have bee very funny but a long a jim is always bringing nsomebody ove from the mill do see how ca go to those place nyou were lucky my dea to escape from the new divisio superintendent nlast night he wa insufferable to jim with his talk of his friend the nsa francisco millionaire and to me with his cheap society air do nhate provincial fine gentlema nthe situatio wa becoming embarrassing to the intrude at the napparitio of the woma the unaffected and simple directness he had npreviously show i his equally abrupt contact with bradley had fled nutterly confused by the awkwardness of his arrival and shocked at the nidea of overhearing private conversatio he stepped hurriedly o the nveranda well go o said the second voice impatiently well who else wa nthere what did you say do hea you what the matte nthe seated figure had rise from he chai and turned young and npretty face somewhat superciliously towards the strange a she said i na low tone to he unsee audito hush there is somebody here nthe young ma came forward with a awkwardness that wa more boyish tha nrustic his embarrassment wa not lessened by the simultaneous entrance nfrom the ope doo of second woma apparently a young a and nprettie tha the first trust you ll excuse me fo fo being so wretchedly stupid he nstammered but really thought you know that that wa following nthe trail to to the front of the house whe stumbled i i here nlong before he had finished both wome by some simple feminine nintuitio were relieved and eve prepossessed by his voice and manne nthey smiled graciously the late come pointed to the empty chai but nwith his habit of pertinacious conscientiousness the strange continued it wa regularly stupid wa it and ought to have know bette ni should have turned back and gone away whe found out what a as nwas likely to be but wa afraid you know of alarming you by the nnoise wo you sit dow said the second lady pleasantly oh thanks ve lette here he transferred his stick and hat nto his left hand a he felt i his breast pocket with his right but the nactio wa so awkward that the stick dropped o the veranda both wome nmade movement to restore it to it embarrassed owne who howeve nquickly anticipated them pray do mind it he continued with naccelerated breath and heightened colo ah here the lette he nproduced the note bradley had returned to him it mine i nfact that is brought it to m bradley he said wa to give it nto to to mr bradley he paused glancing embarrassedly from the none to the othe m mr bradley said the prettiest one with laugh he handed he nthe lette it ra a follows dea bradley put m mainwaring through a fa a he want to go o nhang him up at the lookout just a he like the bank behind him and nhis hat chalked all ove the road but he do care much about being no velvet that ai his style and you ll like him he somebody nso i england nmr bradley glanced simply at the first sentence pray sit dow m nmainwaring she said gently o rathe let me first introduce my ncousi miss macy thanks said mainwaring with bow to miss macy but ni i think he added conscientiously you did not notice that you nhusband had writte something across the pape nmr bradley smiled and glanced at he husband indorsement all nright wade i it nothing but jim slang she said with laugh nand slightly heightened colo he ought not to have sent you by that nshort cut it a bothe and eve dangerous fo strange if you had ncome directly to u by the road without making you first call at nthe mill she added with touch of coquetry you would have had npleasante walk and see u soone suppose howeve you got off the nstage at the mill wa not o the coach said mainwaring unfastening the strap of his nknapsack walked ove from lone pine flat walked echoed both wome i simultaneous astonishment yes returned mainwaring simply laying aside his burde and taking nthe proffered seat it a very fine bit of country why it fiftee mile said mr bradley glancing horro stricke nat he cousi how dreadful and to think jim could have sent you nhorse to lone pine why you must be dead thanks m all right rathe enjoyed it you know but said miss macy glancing wonderingly at his knapsack you must nwant something change o some refreshment afte fiftee mile pray do disturb yourself said mainwaring rising hastily but not nquickly enough to prevent the young girl from slipping past him into the nhouse whence she rapidly returned with decante and glass perhaps m mainwaring would prefe to go into jim room and wash his nhands and put o pai of slipper said mr bradley with gentle nconce thanks no really am not tired sent some luggage yesterday by the ncoach to the summit hotel he said observing the wome eye still nfixed upo his knapsack dare say ca get them if want them ni ve got change here he continued lifting the knapsack a if with nsudde sense of it incongruity with it surroundings and depositing it no the end of the veranda do let it remai where it is said mr bradley greatly amused and npray sit still and take some refreshment you ll make yourself ill nafte you exertion she added with charming assumptio of matronly nsolicitude but m not at all deserving of you sympathy said mainwaring with na laugh m awfully fond of walking and my usual constitutional is nmuch unde this perhaps you were stronge tha you are now said mr bradley gazing nat him with frank curiosity that howeve brought faint deepening nof colo to his cheek dare say you re right he said suddenly with a apologetic smile quite forgot that m sort of a invalid you know travelling nfo my health m not very strong here he added lightly tapping nhis chest that now relieved of the band of his knapsack appeared nsomewhat thi and hollow i spite of his broad shoulder his voice ntoo had become le clea and distinct nmr bradley who wa still watching him here rose potentially you nought to take more care of yourself she said you should begi by neating this biscuit drinking that glass of whiskey and making yourself nmore comfortable i jim room until we ca get the spare room fixed nlittle but am not to be sent to bed am asked mainwaring i half real nhalf amused consternatio m not so sure of that said mr bradley with playful precisio but fo the present we ll let you off with good wash and nap nafterwards i that rocking chai while my cousi and make some nlittle domestic preparation you see she added with certai proud nhumility we ve got only one servant chinama and there are many nthings we ca leave to him nthe colo agai rose i mainwaring cheek but he had tact enough to nreflect that any protest o hesitatio o his part at that moment would nonly increase the difficulty of his gentle entertainer he allowed nhimself to be ushered into the house by mr bradley and show to he nhusband room without perceiving that miss macy had availed herself of nhis absence to ru to the end of the veranda mischievously try to nlift the discarded knapsack to he ow pretty shoulde but failing nheroically stagge with it into the passage and softly deposit it at his ndoo this done she pantingly rejoined he cousi i the kitche well said mr bradley emphatically did you eve walking fiftee nmiles fo pleasure and with such lung and that knapsack added louise macy pointing to the mark i he nlittle palm where the strap had imbedded itself i the soft flesh he nice though is he said mr bradley tentatively yes said miss macy he is certainly one of those provincial nfine gentleme you object to but did you see his shoe suppose they nmake the mile go quickly o seem to measure le by compariso they re probably more serviceable tha those high heeled thing that ncaptai greyso hop about i but the captai always ride and ride very well you know said nlouise reflectively there wa moment pause suppose jim will tell u all about him said mr bradley ndismissing the subject a she turned he sleeve back ove he white narms preparatory to grappling certai culinary difficulty jim observed miss macy shortly i my opinio know nothing more ntha his note say that like jim there nothing more to know really said mr bradley with nsuperio ai he undoubtedly the so of some englishma of fortune nsent out here fo his health hush nmiss macy had heard step i the passage it halted at last half nirresolutely before the ope doo of the kitche and the strange nappeared with a embarrassed ai nbut i his brief absence he seemed to have completely groomed himself nand stood there the impersonatio of close cropped clea and nwholesome english young manhood the two wome appreciated it with ncat like fastidiousness beg you pardo but really you re going to let fellow do something nfo you he said just to keep him from looking like fool really nca do no end of thing you know if you ll try me ve done some ncamping out and ca cook a well a the next ma nthe two wome made movement of smiling remonstrance half coquettish nand half superio until mr bradley becoming conscious of he bare narms and the strange wandering eye colored faintly and said with nmore decisio certainly not you only be i the way besides you need rest more ntha we do put yourself i the rocking chai i the veranda and go to nsleep until m bradley come nmainwaring saw that she wa serious and withdrew little ashamed at nhis familiarity into which his boyishness had betrayed him but he had nscarcely seated himself i the rocking chai before miss macy appeared ncarrying with both hand large ti basi of unshelled pea there she said pantingly placing he burde i his lap if you nreally want to help there something to do that is very fatiguing nyou may shell these pea shell them beg pardo but how he asked with smiling earnestness how why ll show you look nshe frankly stepped beside him so close that he full skirted dress nhalf encompassed him and the basi i delicious confusio and nleaning ove his lap with he left hand picked up pea cod which nwith single movement of he charming little right thumb she broke at nthe end and stripped the gree shallow of it tiny treasure nhe watched he with smiling eye he ow looking dow o him were nvery bright and luminous there that easy enough she said and nturned away but one moment miss miss macy said louise where am to put the shell oh throw them dow there there room enough nshe wa pointing to the canyo below the veranda actually projected nove it brink and seemed to hang i mid ai above it mainwaring nalmost mechanically threw his arm out to catch the incautious girl who nhad stepped heedlessly to it extreme edge how odd do you find it rathe dangerous here he could not help nsaying mea you might have had railing that would intercept nthe view and yet be safe it a fancy of m bradley returned the young girl carelessly it all like this the house wa built o ledge against the side of nthe precipice and the road suddenly drop dow to it it tremendously pretty all the same you know said the young ma nthoughtfully gazing howeve at the girl rounded chi above him yes she replied curtly but this is working must go back to njenny you ca shell the pea until m bradley come home he wo be nlong nshe turned away and re entered the house without knowing why he nthought he withdrawal abrupt and he wa agai feeling his ready colo nrise with the suspicio of eithe having bee betrayed by the young ngirl innocent fearlessness into some unpardonable familiarity which nshe had quietly resented o of feeling a ease and freedom i the ncompany of these two wome that were inconsistent with respect and nshould be restrained nhe howeve bega to apply himself to the task give to him with his nusual conscientiousness of duty and presently acquired certai manual ndexterity i the operatio it wa good fu to throw the cast off nhusks into the mighty unfathomable void before him and watch them nlinge with suspended gravity i mid ai fo moment apparently nmotionless until they eithe lost themselves mere vanishing black nspot i the thi ethe o slid suddenly at sharp angle into unknow nshadow how deuced odd fo him to be sitting here i this fashio it nwould be something to talk of hereafte and yet he stopped it wa nnot at all i the line of that characteristic adventure uncivilized nnovelty and barbarous freedom which fo the last month he had sought nand experienced it wa not at all like his meeting with the grizzly nlast week while wandering i lonely canyo not bit i the line of nhis chance acquaintance with that notorious ruffia spanish jack o nhis witnessing with his ow eye that actual lynching affai at angel nno no wa it at all characteristic according to his previous idea of nfrontie rural seclusio a fo instance the pike county cabi of the nfamily where he stayed one night and where the handsome daughte asked nhim what his christia name wa no these two young wome were very nunlike he they seemed really quite the equal of his family and nfriends i england perhaps more attractive and yet yes it wa nthis very attractiveness that alarmed his inbred social conservatism nregarding wome with ma it wa very different that alert active nintelligent husband instinct with the throbbing life of his saw mill ncreato and worke i one challenged his unqualified trust and nadmiratio nhe had become conscious fo the last minute o two of thinking rapidly nand becoming feverishly excited of breathing with greate difficulty nand renewed tendency to cough the tendency increased until he ninstinctively put aside the pa from his lap and half rose but eve nthat slight exertio brought o a accessio of coughing he put his nhandkerchief to his lip partly to keep the sound from disturbing the nwome i the kitche partly because of certai significant taste ni his mouth which he unpleasantly remembered whe he removed the nhandkerchief it wa a he expected spotted with blood he turned nquickly and re entered the house softly regaining the bedroom without nattracting attentio a increasing faintness here obliged him to lie ndow o the bed until it should pas neverything wa quiet he hoped they would not discove his absence from nthe veranda until he wa bette it wa deucedly awkward that he should nhave had this attack just now and afte he had made so light of his nprevious exertion they would think him a effeminate fraud these two nbright active wome and that alert energetic ma faint colo came ninto his cheek at the idea and a uneasy sense that he had bee i some nway foolishly imprudent about his health agai they might be alarmed nat missing him from the veranda perhaps he had bette have remained nthere perhaps he ought to tell them that he had concluded to take thei nadvice and lie dow he tried to rise but the deep blue chasm before nthe window seemed to be swelling up to meet him the bed slowly sinking ninto it oblivious profundity he knew no more nhe came to with the smell and taste of some powerful volatile spirit nand the vague visio of m bradley still standing at the window of nthe mill and vibrating with the machinery this changed presently to npleasant lassitude and lazy curiosity a he perceived m bradley smile nand apparently slip from the window of the mill to his bedside you re nall right now said bradley cheerfully nhe wa feeling mainwaring pulse had he really bee ill and wa nbradley docto nbradley evidently saw what wa passing i his mind do be alarmed nhe said gayly m not docto but practise little medicine and nsurgery o account of the me at the mill and accident you know nyou re all right now you ve lost little blood but i couple of nweeks i this ai we ll have that tubercle healed and you ll be a nright a trivet i couple of week echoed mainwaring i faint astonishment why ni leave here to morrow you ll do nothing of the kind said mr bradley with smiling nperemptoriness suddenly slipping out from behind he husband everything is all perfectly arranged jim ha sent off messenger to nyou friend so that if you ca come to them they ca come to you nyou see you ca help yourself if you will walk fiftee mile with nsuch lung and the frighte people to death you must abide by the nconsequences you see the old lady ha fixed you said bradley smiling and she nthe maste here come mainwaring you ca send any othe message you nlike and have who and what you want here but here you must stop fo nwhile but did frighte you really stammered mainwaring faintly to mr nbradley frighte u said mr bradley well look there nshe pointed to the window which commanded view of the veranda miss nmacy had dropped into the vacant chai with he little foot stretched nout before he he cheek burning with heat and fire he eye partly nclosed he straw hat hanging by ribbo round he neck he brow nhai clinging to he ear and forehead i damp tendril and a enormous npalm leaf fa i each hand violently playing upo this charming picture nof exhaustio and abandonment she came tearing dow to the mill bare backed o ou half broke nmustang about half a hou ago to call me to help you explained nbradley heave know how she managed to do it nchape ii nthe medicatio of the wood wa not overestimated by bradley there wa nsurely some occult healing property i that vast reservoi of balmy and nresinous odor ove which the lookout beetled and clung and from which nat time the pure exhalation of the terraced valley seemed to rise nunde it remedial influence and conscientious adherence to the rule nof absolute rest and repose laid dow fo him mainwaring had no retu nof the hemorrhage the nearest professional medical authority hastily nsummoned saw no reaso fo changing o fo supplementing bradley nintelligent and simple treatment although astounded that the patient nhad bee unde no more radical o systematic cure tha travel and nexercise the wome especially were amazed that mainwaring had take nothing fo it i thei habitual experience of a unfettered npill and elixi consuming democracy i thei knowledge of the thousand panacea that filled the shelf of the general store this singula nabstentio of thei guest seemed to indicate national peculiarity nhis bed wa moved beside the low window from which he could not only nview the veranda but converse at time with it occupant and eve nliste to the book which miss macy seated without read aloud to him ni the evening bradley would linge by his couch until late beguiling nthe tedium of his convalescence with characteristic story and ninformatio which he thought might please the invalid fo mainwaring nwho had bee early struck with bradley ready and cultivated nintelligence ended by shyly avoiding the discussio of more serious ntopics partly because bradley impressed him with suspicio of his now inferiority and partly because mainwaring questioned the taste of nbradley apparent exhibitio of his manifest superiority he learned naccidentally that this mill owne and backwoodsma wa college bred nma but the practical applicatio of that educatio to the ordinary naffairs of life wa new to the young englishma tradition and grated na little harshly o his feeling he would have bee quite content if nbradley had like himself and fellow he knew undervalued his training nand kept his gift conservatively impractical the knowledge also that nhis host educatio naturally came from some provincial institutio nunlike oxford and cambridge may have unconsciously affected his general nestimate say unconsciously fo his strict conscientiousness would nhave rejected any such formal propositio nanothe trifle annoyed him he could not help noticing also that nalthough bradley manne and sympathy were confidential and almost nbrotherly he neve made any allusio to mainwaring ow family o nconnections and i fact gave no indicatio of what he believed wa nthe national curiosity i regard to stranger somewhat embarrassed by nthis indifference mainwaring made the occasio of writing some letter nhome a opportunity fo laughingly alluding to the fact that he had made nhis mothe and his sister fully aware of the great debt they owed the nhousehold of the lookout they ll probably all send you round robi of thanks except perhaps nmy next brothe bob nbradley contented himself with gesture of general deprecatio and did nnot ask why mainwaring young brothe should contemplate his death with nsatisfactio nevertheless some time afterwards miss macy remarked nthat it seemed hard that the happiness of one membe of family should ndepend upo calamity to anothe a fo instance asked mainwaring nwho had already forgotte the circumstance why if you had died and nyou younge brothe succeeded to the baronetcy and become si robert nmainwaring responded miss macy with precisio this wa the first and nonly allusio to his family and prospective rank o the othe hand nhe had through naive and boyish inquiry which seemed to amuse his nentertainers acquired a he believed full knowledge of the history nand antecedent of the bradley household he knew how bradley had nbrought his young wife and he cousi to california and abandoned nlucrative law practice i sa francisco to take possessio of this nmountai mill and woodland which he had acquired through some nprofessional service the you are barriste really said mainwaring gravely nbradley laughed m afraid ve had more practice though not a nlucrative one a surgeo o docto but you re regularly o the roll you know you re entered a ncounsel and all that sort of thing continued mainwaring with great nseriousness well yes replied bradley much amused m afraid must plead nguilty to that it not bad sort of thing said mainwaring naively ignoring nbradley amusement ve got cousi who gone i fo the law got nout of the army to do it too he a sharp fellow the you do allow ma to try many trade ove there said miss nmacy demurely yes sometimes said mainwaring graciously but by no mean certai nthat the case wa at all analogous nnevertheless a if relieved of certai doubt of the conventional nquality of his host attainment he now gave himself up to very nhearty and honest admiratio of bradley you know it awfully kind of nhim to talk to fellow like me who just pulled through and neve got nany prize at oxford and do understand the half of these thing he nremarked confidentially to mr bradley he know more about the thing nwe used to go i fo at oxford tha lot of ou me and he neve bee nthere he uncommonly cleve jim wa always very brilliant returned mr bradley indifferently nand with more tha eve conventionally polite wifely deprecatio nwish he were more practical practical oh say mr bradley why fellow that ca go i among na lot of workme and tell them just what to do a all round chap nthat ca be independent of his valet his docto and his banke by njove that practical mea said mr bradley coldly that there are some thing that na gentlema ought not to be practical about no independent of m nbradley would have done bette to have used his talent i some more nlegitimate and established way nmainwaring looked at he i genuine surprise to his inexperienced nobservatio bradley intelligent energy and above all his noriginality ought to have bee priceless i the eye of his wife the namerica female of his specie he felt that slight shock which most nloyal o logical me feel whe first brought face to face with the easy ndisloyalty and incomprehensible logic of the feminine affection here nwas fellow by jove that any woma ought to be proud of and and he nstopped blankly he wondered if miss macy sympathized with he cousi nhowbeit this did not affect the charm of thei idyllic life at the nlookout the precipice ove which they hung wa a charming a eve ni it poetic illusion of space and depth and colo the isolatio of nthei comfortable existence i the tasteful yet audacious habitatio nthe pleasant routine of daily task and amusement all tended to make nthe enforced quiet and inactio of his convalescence lazy recreatio nhe wa really improving more tha that he wa conscious of certai nsatisfactio i this passive observatio of novelty that wa healthie nand perhaps true tha his previous passio fo adventure and that nfebrile desire fo change and excitement which he now felt wa part nof his disease no were incident and variety entirely absent from this ntranquil experience he wa one day astonished at being presented by nbradley with copy of the latest english newspaper procured from nsacramento and he equally astonished his host afte profusely thanking nhim by only listlessly glancing at thei column he estopped nproposed visit from one of his influential countryme i the absence nof his fai entertainer at thei domestic duty he extracted infinite nsatisfactio from foo yup the chinese servant who wa particularly ndetached fo his service from his invalid coig of vantage at the nwindow he wa observant of all that passed upo the veranda that nal fresco audience room of the lookout and he wa good humoredly nconscious that great many eccentric and peculia visitor were ninvariably dragged thithe by miss macy and goaded into characteristic nexhibitio withi sight and hearing of he guest with too evident nview unde the ostentatious excuse of extending his knowledge of nnational characte o mischievously shocking him whe you are strong enough to stand captai gashweile opinion of nthe established church and chiname said miss macy afte one of these nrevelations ll get jim to bring him here fo really he swears nso outrageously that eve i the broadest interest of international nunderstanding and good will neithe mr bradley no myself could be npresent no anothe occasio she provokingly lingered before his window fo nmoment with rifle slung jauntily ove he shoulde if you hea nshot o two do excite yourself and believe we re having lynching ncase i the wood it will be only me there some creature confess nyou expected me to say critte hanging round the ba it may be nbea good by she missed the creature which happened to be really nbea much to mainwaring illogical satisfactio wonde why he nreflected with vague uneasiness she doe leave all that sort of nthing to girl like that tow headed girl at the blacksmith nit chanced howeve that this blacksmith tow headed daughte who it nmay be incidentally remarked had the additional eccentricity of large nblack eye and large white teeth came to the fore i quite anothe nfashio shortly afte this mainwaring being able to leave his room and njoi the family board mr bradley found it necessary to enlarge nhe domestic service and arranged with he nearest neighbo the nblacksmith to allow his daughte to come to the lookout fo few ndays to do the chore and assist i the housekeeping a she had o nprevious occasion the day of he advent bradley entered mainwaring nroom and closing the doo mysteriously fixed his blue eye kindling nwith mischief o the young englishma you are aware my dea boy he bega with affected gravity that you nare now living i land of liberty where mere artificial distinction nare not know and where freedom from he mountai height generally nlevels all social position think you have graciously admitted that nfact know ve bee taking tremendous lot of freedom with you and yours nold ma and it a deuced shame interrupted mainwaring with faint nsmile and that nowhere continued bradley with immovable feature doe nequality exist a perfectly a above yonde unfathomable abyss where nyou have also doubtless observed the america eagle proudly soar and nscreams defiance the that wa the fellow that kept me awake this morning and made me nwonde if wa strong enough to hold gu agai that would have settled the matte continued bradley nimperturbably the case is simply this miss minty sharpe that nblacksmith daughte ha once o twice consented fo slight nemolument to assist i ou domestic service fo day o two and she ncomes back agai to day now unde the aegis of that noble bird whom nyou national instinct tempt you to destroy she ha o all previous noccasions take he meal with u at the same table o term of nperfect equality she will naturally expect to do the same now mr nbradley thought it prope therefore to wa you that i case you nhealth wa not quite equal to this democratic simplicity you could nstill dine i you room it would be great fu if miss sharpe wo object to my presence but it must not be great fu returned bradley more seriously fo nmiss minty perceptio of humo is probably a kee a yours and she nwould be quick to notice it and so fa from having any objectio nto you am inclined to think that we owe he consent to come to he ndesire of making you acquaintance she will find my conduct most exemplary said mainwaring earnestly let u hope so concluded bradley with unabated gravity and now nthat you have consented let me add from my ow experience that miss nminty lemo pie alone are worthy of any concessio nthe dinne hou came mainwaring little pale and interesting leaning no the arm of bradley crossed the hall and fo the first time entered nthe dining room of the house where he had lodged fo three week it nwas bright cheerful apartment giving upo the laurel of the rocky nhillside and permeated like the rest of the house with the wholesome nspice of the valley a odo that i it pure desiccating property nseemed to obliterate all flavo of alie huma habitatio and eve to ndominate and etherealize the appetizing smell of the viand before nthem the bare shining planed boarded wall appeared to resent any ndecoratio that might have savored of dust decay o moisture the fou nlarge window and long ope doo set i scanty strip of the plainest nspotless musli framed i themselves picture of wood and rock and sky nof limitless depth colo and distance that made all othe adornment nimpertinent nature invading the room at every opening had banished nart from those neutral wall it like picnic with comfort said mainwaring glancing round him nwith boyish appreciatio miss minty wa not yet there the chinama nwas alone i attendance mainwaring could not help whispering half nmischievously to louise you draw the line at chiname suppose we do but he doe answered the young girl he considers u his nsocial inferior but hush nminty sharpe had just entered the room and wa advancing with smiling nconfidence towards the table mainwaring wa little startled he had nsee minty i holland su bonnet and turned up skirt crossing nthe veranda only moment before i the brief instant betwee the ndishing up of dinne and it actual announcement she had managed to nchange he dress put o clea colla cuff and large jet brooch nand apply some odorous unguent to he rebellious hai he face nguiltless of powde o cold cream wa still shining with the healthy nperspiratio of he last labor a she promptly took the vacant chai nbeside mainwaring do mind me folk she said cheerfully resting he plump elbow o nthe table and addressing the company generally but gazing with frank ncuriosity into the face of the young ma at he side it wa kee njump tell ye to get out of my old dud inte these and look ndecent inside five minute but recko ai kept ye waiti nlong least of all this ye sick strange but you re looking pearte ntha you did you re wonderi like ez not where eve saw ye before nshe continued laughing well ll tell you last week d kem ove nye o chance of seei jenny bradley and while wa meanderi dow nthe veranda saw you lyi back i you chai by the window drowned ni sleep like baby lordy mout hev wo pai glove but nreckoned you were loo game and not mine nthe slightly constrained laugh which went round the table afte miss nminty speech wa due quite a much to the faint flush that had naccented mainwaring ow smile a to the embarrassing remark itself nmr bradley and miss macy exchanged rapid glance bradley who alone nretained his composure with slight flicke of amusement i the corne nof his eye and nostril said quickly you see mainwaring how nature nstands ready to help you convalescence at every tu if miss minty nhad only followed up he healing opportunity you cure would have bee ncomplete ye mout hev left some that pretty talk fo him to say said minty ntaking up he knife and fork with slight shrug and you need call nme miss minty eithe jest because there kempeny present hope you wo look upo me a company minty o shall be obliged nto call you miss too said mainwaring unexpectedly regaining his nusual frankness nbradley face brightened miss minty raised he black eye from he nplate with still broade appreciatio there nothi mea about that she said showing he white teeth well what you first name not a pretty a yours m afraid it frank no it ai it francis you recko to be si francis some day she nsaid gravely you ca play any frank off o me you would do it o nhe she added indicating louise with he elbow na momentous silence followed the particula form that minty vulgarity nhad take had not bee anticipated by the two othe wome they had nnot unreasonably expected some original audacity o gaucherie from the nblacksmith daughte which might astonish yet amuse thei guest and ncondone fo the situatio forced upo them but they were not prepared nfo playfulness that involved themselves i ridiculous indiscretio nmr bradley eye sought he husband meaningly louise pretty nmouth hardened luckily the cheerful cause of it suddenly jumped up nfrom the table and saying that the strange wa starving insisted upo nbringing dish from the othe side and helping him herself plentifully nmainwaring rose gallantly to take the dish from he hand slight nscuffle ensued which ended i the young ma being forced dow i his nchai by the pressure of minty strong plump hand o his shoulde there she said ye ki mind you dinne now and recko we ll give nthe others chance to chip into the conversatio and at once applied nherself to the plate before he nthe conversatio presently became general with the exceptio that nminty more o le engrossed by professional anxiety i the quality nof the dinne and occasional hurried visit to the kitche briefly nanswered the few polite remark which mainwaring felt called upo to naddress to he nevertheless he wa conscious malgre he rallying nallusions to miss macy that he felt none of the vague yet half pleasant nanxiety with which louise wa beginning to inspire him he felt at nease i minty presence and believed rightly o wrongly that she nunderstood him a well a he understood he and there were certainly npoints i commo betwee his two hostess and thei humble though nproud dependent the social evolutio of mr bradley and louise nmacy from some previous minty wa neithe remote no complete the nself sufficient independence ease and quiet self assertio were alike ni each the superio positio wa still too recent and accidental fo neithe to resent o criticise quality that were commo to both at nleast this wa what he thought whe not abandoning himself to the ngratificatio of convalescent appetite to the presence of two pretty nwome the sympathy of genial friend the healthy intoxicatio of the nwhite sunlight that glanced upo the pine wall the view that mirrored nthemselves i the ope window and the pure atmosphere i which the nlookout seemed to swim wandering breeze of balm and spice lightly nstirred the flower o the table and seemed to fa his hai and nforehead with softly healing breath looking up i a interval of nsilence he caught bradley gray eye fixed upo him with subdued nlight of amusement and affectio a of a elde brothe regarding nschoolboy boisterous appetite at some feast mainwaring laid dow nhis knife and fork with laughing colo touched equally by bradley nfraternal kindliness and the consciousness of his gastronomical power hang it bradley look here know my appetite disgraceful but what nca fellow do i such ai with such viand and such company it nlike the bee getting drunk o hybla and hymettus you know m not nresponsible it the first square meal believe you ve really eate i six nmonths said bradley gravely ca understand why you docto nallowed you to ru dow so dreadfully recko you ai a keerful of yourself you britisher ez u said nminty lordy why there pop invests i more patent medicine i one nday tha you have i two week and he make two of you mebbe you nfolks do look afte you enough m splendid advertisement of what you care and you medicine have ndone said mainwaring gratefully to mr bradley and if you eve nwant to set up cure here m ready with te page testimonial have care mainwaring said bradley laughing that the lady ndo take you at you word louise and jenny have bee doing thei nbest fo the last yea to get me to accept flattering offe from na sacramento firm to put up hotel fo tourist o the site of the nlookout why believe that they have already secretly i thei nhearts concocted flaming prospectus of unrivalled scenery and health giving ai and are looking forward to saturday night hop o nthe piazza have you really though said mainwaring gazing from the one to the nothe we should certainly see more company tha we do now and feel little nless out of the world said louise candidly there are no neighbor nhere mea the people at the summit are not she added with slight nglance towards minty and m bradley would find it more profitable not to say more suitable nto ma of his positio tha this wretched saw mill and timbe nbusiness said mr bradley decidedly nmainwaring wa astounded wa it possible they considered it more ndignified fo lawye to keep hotel tha saw mill bradley a if nanswering what wa passing i his mind said mischievously m nnot sure exactly what my positio is my dea and m afraid ve ndeclined the hotel o business principle but by the way mainwaring ni found lette at the mill this morning from m richardso he is nabout to pay u the distinguished hono of visiting the lookout solely no you account my dea fellow but wrote him that wa much bette and it wa necessary fo him nto come said mainwaring he make a excuse of some law business with me suppose he considers nthe mere fact of his taking the trouble to come here all the way from nsa francisco sufficient hono to justify any absence of formal ninvitatio said bradley smiling but he only mea he my fathe banke said mainwaring ncorrecting himself and you do keep hotel not yet returned bradley with mischievous glance at the two wome but the lookout is elastic and dare say we ca manage to put him nup na silence ensued it seemed a if some shadow o momentary darkening nof the brilliant atmosphere some film across the mirro like expanse of nthe ope window o misty dimming of thei wholesome light had arise nto thei elevatio mainwaring felt that he wa looking forward with nunreasoning indignatio and uneasiness to this impending interruptio nof thei idyllic life mr bradley and louise who had become nlittle more constrained and formal unde minty freedom were le nsympathetic eve the irrepressible minty appeared absorbed i the nresponsibilities of the dinne nbradley alone preserved his usual patient good humo we ll take nou coffee o the veranda and the lady will joi u by and by nmainwaring besides do know that ca allow you a a invalid nto go entirely through minty bountiful menu at present you shall have nthe sweet anothe time nwhe they were alone o the veranda he said betwee the puff of his nblack brie wood pipe pet aversio of mr bradley wonde how nrichardso will accept minty if ca think he must returned mainwaring dryly by jove it nwill be great fu to see him but he stopped and hesitated do nknow about the lady do think you know that they ll stand minty nagai before anothe strange nbradley glanced quickly at the young ma thei eye met and they both njoined i superio and fea disloyal smile afte pause bradley na if i spirit of furthe confidence took his pipe from his mouth nand pointed to the blue abyss before them look at that profundity mainwaring and think of it eve being bullied nand overawed by long veranda load of gaping patronizing tourist nand the idiotic flirting female of thei specie think of lot of nove dressed creature flouting those severe outline and deep toned ndistances with frippery and garishness you know how you have bee nlulled to sleep by that delicious indefinite fa off murmu of nthe canyo at night think of it being broke by crazy waltz o nmonotonous germa by the clatte of waiter and the pop of champagne ncorks and yet by thunde those wome are capable of liking both and nfinding no discord i them dancing ai half bad you know said mainwaring conscientiously if chap got the wind to do it and all american especially the nwome dance bette tha we do but say bradley to hea you talk na fellow would suspect you were a big vandal a anybody with nbeastly howling saw mill i the heart of the primeval forest by jove nyou quite bowled me ove that first day we met whe you popped you nhead out of that delirium tremens shaking mill like the very genius of ndestructive improvement but that wa fighting nature not patronizing he and it a business nthat pay that reminds me that must go back to it said bradley nrising and knocking the ash from his pipe not afte dinne surely said mainwaring i surprise come now nthat too much like the bolting yankee of the traveller book there a heavy ru to get through tonight we re working against ntime returned bradley eve while speaking he had vanished withi the nhouse returned quickly having replaced his dark suit by jea trouser ntucked i heavy boot and red flannel shirt ove his starched white none and nodding gayly to mainwaring stepped from the lowe end of the nveranda the begga actually look pleased to go said mainwaring to nhimself i wonderment oh jim said mr bradley appearing at the doo yes said bradley faintly from the bush minty ready you might take he home all right ll wait hope have frightened miss sharpe away said mainwaring she ni going surely only to get some bette clothes o account of company m afraid nyou are giving he good deal of trouble m mainwaring said mr nbradley laughing she wished me to say good by to you fo he a she could come o nthe veranda i he old shawl and su bonnet added louise who had njoined them what do you really think of he m mainwaring call nhe quite pretty at time do you nmainwaring knew not what to say he could not understand why they ncould have any special interest i the girl o care to know what he nperfect strange thought of he he avoided direct reply howeve by nplayfully wondering how mr bradley could subject he husband to miss nminty undivided fascination oh jim always take he home if it i the evening he get along nwith these people bette tha we do returned mr bradley ndryly but she added with retu of he piquant quake like ncoquettishness jim say we are to devote ourselves to you to night i nretaliatio suppose we are to amuse you and not let you get nexcited and you are to be sent to bed early nit is to be feared that these latte wise precaution invaluable fo nall defenceless and enfeebled humanity were not carried out and it nwas late whe mainwaring eventually retired with brightened eye and nsomewhat accelerated pulse fo the lady who had quite regained that nkindly equanimity which minty had rudely interrupted had also added na delicate and confidential sympathy i thei relation with nmainwaring a of people who had suffered i commo and he nexperienced these tende attention at thei hand which any two wome nare emboldened by each othe saving presence to show any single membe nof ou sex indeed he hardly knew if his satisfactio wa the more ncomplete whe mr bradley withdrawing fo few moment left him nalone o the veranda with louise and the vast omnipotent night nfo while they sat silent i the midst of the profound and nmeasureless calm looking dow upo the dim moonlit abyss at thei foot nthey themselves seemed part of this night that arched above it the nhalf rise moo appeared to linge long enough at thei side to enwrap nand suffuse them with it glory few bright star quietly ringed nthemselves around them and looked wonderingly into the level of thei now shining eye fo some vague yearning to humanity seemed to draw nthis dark and passionless void towards them the vast protecting nmaternity of nature leant hushed and breathless ove the solitude warm ncurrents of ai rose occasionally from the valley which one might have nbelieved were sigh from it full and overflowing breast o grateful ncoolness swept thei cheek and hai whe the tranquil height around nthem were moved to slowly respond odor from invisible bay and nlaurel sometimes filled the ai the incense of some rare and remote ncultivated meadow beyond thei ke o the strong germinating breath nof league of wild oat that had yellowed the upland by day i the nsilence and shadow thei voice took upo themselves almost without nthei volitio fa off confidential murmu with interval of meaning nsilence rathe a if thei thought had spoke fo themselves and they nhad stopped wonderingly to liste they talked at first vaguely to this ndiscreet audience of space and darkness and the growing bolde spoke nto each othe and of themselves invested by the infinite gravity of nnature they had no fea of huma ridicule to restrai thei youthful nconceit o the extravagance of thei unimportant confession nthey talked of thei taste of thei habit of thei friend nand acquaintance they settled some point of doctrine duty and netiquette with the sweet seriousness of youth and it all powerful nconvictions the listening vine would have recognized no flirtatio o nlove making i thei animated but important confidence yet whe mr nbradley reappeared to wa the invalid that it wa time to seek his ncouch they both coughed slightly i the nervous consciousness of some nunaccustomed quality i thei voice and sense of interruptio fa nbeyond thei ow o the innocent intrude ke well said mr bradley i the sitting room a mainwaring step nretreated dow the passage to his room well said louise with slight yaw leaning he pretty shoulder nlanguidly against the doo post a she shaded he moonlight accustomed neyes from the vulga brilliancy of mr bradley bedroom candle well oh he talked great deal about his people a he called them nand talked about u he very nice you know i some thing he nreally like boy he look much bette yes but he is fa from strong yet nmeantime mainwaring had no othe confidant of his impression tha his now thought mingled with his exaltatio which wa the more seductive nthat it had no well defined foundatio fo existing and implied nno future responsibility wa recurrence of his uneasiness at the nimpending visit of richardso the next day strangely enough it had nincreased unde the stimulus of the evening just a he wa really ngetting o with the family he felt sure that this visito would import nsome foreig element into thei familiarity a minty had done it wa npossible they would not like him now he remembered there wa nreally something ostentatiously british and insula about this nrichardso something they would likely resent why could this fellow nhave come late o eve before before what but here he fell asleep nand almost instantly slipped from this veranda i the sierra six nthousand mile away to a ancient terrace overgrow with moss and ntraditio that overlooked the sedate glory of a english park here he nfound himself restricted painfully by his inconsistent night clothes nendeavoring to impress his mothe and sister with the singula nvirtues and excellence of his america host and hostess virtue and nexcellences that he himself wa beginning to feel conscious had become nmore o le apocryphal i that atmosphere he heard his mothe voice nsaying severely whe you lea francis to respect the opinion and nprejudices of you family enough to prevent you appearing before them ni this uncivilized aboriginal costume we will liste to what you have nto say of the friend whose habit you seem to have adopted and he nwas frantically indignant that his effort to convince them that his nnegligence wa personal oversight and not california custom nwere utterly futile but eve the this visio wa brushed away by the nbewildering sweep of louise pretty skirt across the dreamy picture nand he delicate feature and softly fringed eye remained the last to nslip from his fading consciousness nthe moo rose highe and highe above the sleeping house and softly nbreathing canyo there wa nothing to ma the idyllic repose of the nlandscape only the growing light of the last two hour had brought out ni the fa easte horizo dim white peak that gleamed faintly among nthe star like bridal couch spread betwee the hill fringed with nfading nuptial torch no one would have believed that behind that nimpenetrable shadow to the west i the heart of the forest the nthrobbing saw mill of james bradley wa eve at that moment eating it ndestructive way through the conserved growth of nature and century nand that the refined proprieto of house and greenwood with the glow of nhis furnace fire o his red shirt and his alert intelligent eye wa nthe genie of that devastatio and the toiling leade of the shadowy ntoiling figure around him nchape iii namid the beauty of the most uncultivated and untrodde wilderness there nare certai locality where the meane and mere commo process nof nature take upo themselves degrading likeness to the slovenly nwasteful and improvident process of ma the unrecorded land slip ndisintegrating whole hillside will not only lay bare the delicate nframework of stratum and deposit to the vulga eye but hurl into the nvalley debris so monstrous and unlovely a to shame eve the hideous nruins left by dynamite hydraulic o pick and shovel a overflow and nforgotte woodland torrent will leave i some remote hollow disturbed nand ungraceful chaos of inextricable log branch rock and soil that nwill rival the unsavory detail of some wrecked o abandoned settlement nof lesse magnitude and importance there are certai natural ndust heap sink and cesspool where the element have collected the ncast off broke and frayed disjecta of wood and field the sweeping nof the sylva household it wa remarkable that nature so kindly nconsiderate of mere huma ruin made no attempt to cove up o disguise nthese monument of he ow mortality no grass grew ove the unsightly nlandslides no moss o ivy clothed the stripped and bleached skeleton nof overthrow branch and tree the dead leaf and withered husk rotted ni thei ope grave uncrossed by vine and creepe eve the animal nexcept the lowe organization shunned those haunt of decay and rui nit wa scarcely hundred yard from one of those dreary receptacle nthat m bradley had take leave of miss minty sharpe the cabi noccupied by he fathe herself and younge brothe stood i fact no the very edge of the little hollow which wa partly filled with ndecayed wood leaf and displacement of the crumbling bank with nthe coal dust and ash which m sharpe had added from his forge that nstood few pace distant at the corne of cross road the occupant nof the cabi had also contributed to the hollow the refuse of thei nhousehold i broke box earthenware ti can and cast off clothing nand it is not improbable that the site of the cabi wa chose with nreference to this convenient disposal of useless and encumbering nimpedimenta it wa true that the locality offered little choice i nthe way of beauty a outcrop of brow granite portent of highe naltitudes extended quarte of mile from the nearest fringe of dwarf nlaurel and brush i one directio i the othe a advanced file of nbradley wood had suffered from some long forgotte fire and still nraised it blackened mast and broke stump ove the scorched and arid nsoil swept of olde underbrush and verdure o the othe side of the nroad dark ravine tangled with brier and haunted at night by owl and nwild cat struggled wearily o until blundering at last upo the edge nof the great canyo it slipped and lost itself foreve i single nfurrow of those mighty flank whe bradley had once asked sharpe why he nhad not built his house i the ravine the blacksmith had replied that nuntil the lord had appointed his time he reckoned to keep his head nabove ground and the foundation thereof howbeit the ravine o the ru a it wa locally know wa minty only saturday afternoo nresort fo recreatio o berry it wa she had explained pow ful nsoothi and solitary nshe entered the house rude square building of unpainted nboards containing sitting room kitche and two bedroom glance nat these room which were plainly furnished and whose canvas colored nwalls were adorned with gorgeous agricultural implement ncirculars patent medicine calendar with polytinted chromos and ncheaply illuminated scriptural text showed he that certai neatness nand orde had bee preserved during he absence and finding the house nempty she crossed the barre and blackened intervening space betwee nthe back doo and he fathe forge and entered the ope shed the nlight wa fading from the sky but the glow of the forge lit up the ndusty road before it and accented the blackness of the rocky ledge nbeyond small curly headed boy bearing singula likeness to nsmudged and blackened crayo drawing of minty wa mechanically nblowing the bellow and obviously intent upo something else while he nfathe powerfully built ma with quaintly dissatisfied expressio nof countenance wa with equal want of interest mechanically hammering nat horseshoe without noticing minty advent he lazily broke into nquerulous drawling chant of some vague religious characte tu re sinne tu re fo the lord bid you tu ah tu re sinne tu re why will you die nthe musical accent adapted itself to the monotonous fall of the nsledge hamme and at every repetitio of the word tu he suited the nactio to the word by turning the horseshoe with the iro i his left nhand slight grunt at the end of every stroke and the simultaneous nrepetitio of tu seemed to offe him amusement and relief minty nwithout speaking crossed the shop and administered sound box o he nbrothe ea take that and let me ketch you age layi low whe my nback turned to put o you store pant the others had fetched away i the laig said the boy opposing knee nand elbow at acute angle to furthe attack you jest get and change em said minty nthe sudde collapse of the bellow broke i upo the soothing refrai of nm sharpe and caused him to tu also it minty he said replacing the horseshoe o the coal and setting nhis powerful arm and the sledge o the anvil with a exaggerated nexpressio of weariness yes it me said minty and creatio know it time did come to nkeep that boy from ruini u with his air and conceit did ye bring ove any that feve mixte no bradley sez you re loading yerself up with so much that bitte nbark kuinine they call it ove there that you ll lift the ruff off nyou head next he allows ye ai got no ague it jest wind and ndyspepsy he sez ye strong ez ho bradley said sharpe laying aside his sledge with a aggrieved manne nwhich wa howeve a complacent a his fatigue and discontent ez one nof them nat ral bo finiki skunk ez despise recko he bega nto give ints to his parent whe he wa about knee high to richelieu nthere he o them confidential term with hisself and the almighty nthat he reckons he ke ru saw mill and ma inside at the same ntime with one hand tied behind him and this finiki is up to his nconceit he wanted to tell me that that ye handy brush dump outside ou nshanty wa unhealthy give ma with frill like that his ow way and nhe be sprinkling odo cologne and peppermint all ove the country he set you shoulde a well a any docto said minty that bone setti and nat ral gift returned sharpe a ntriumphantly a his habitual depressio would admit it ai conceit nand finiki got out book well he added afte pause wot nhappened nminty face slightly changed nothi kem back to get some thing nshe said shortly moving away and ye saw him ye s drawled minty carelessly still retreating bixby wa along here about noo he say the strange wa suthi high nand mighty i his ow country and them frisco millionaire are quite nsweet o him where are ye goi i the house well look ye minty now that you re here ye might get up batch no hot biscuit fo suppe dinne wa that promiscous and experimental nto day along richelieu nat ral fooli that think could git noutside of little suthi now if only to prop up kind of innard nsinki that take me ye ke tell me the news at suppe nlate howeve whe m sharpe had quitted his forge fo the night and nseated at his domestic board wa with dismal presentiment of future nindigestio voraciously absorbing his favorite meal of hot saleratus nbiscuits swimming i butte he had apparently forgotte his curiosity nconcerning mainwaring and settled himself to complaining chronicle of nthe day mishap nat rally havi a extra lot work o hand and nno time fo fooli what doe that ornery richelieu get up and do this nmorni ye know them ridiklus specimen that he bee chippi oute nthat ledge that the yearth slipped from dow the ru and litteri up nthe whole shanty with em well da my ski if he did ru heap nof em mixed up with coal unbeknowned to me i the forge to make nwhat he called fire essay of em nat rally could get nblessed iro hot and did know what had gone of the fire o the coal neithe fo two hour till stopped work and raked out the coal that ncomes from his hangi round that saw mill i the wood and listeni nto bradley high faluti talk about rock and stratum and sich but bradley do go cent o mini pop said minty he sez the nwoods is good enough fo him and there million to be made whe the nrailroad come along and timbe wanted but until the he got to keep hisself to pay wage and keep the nmill runni onless it ez bixby say that he hope to get that nenglishma to rope i some them frisco friend of his to take nhand ye did have any that kind talk did ye no not that kind talk said minty not that kind talk repeated he fathe with aggrieved curiosity wot kind the well said minty lifting he black eye to he fathe i ai nno account and you ai no account eithe you ai got no college neducatio ai got no friend i frisco and ai got no high toned nstyle ca play the pianne jabbe french no get french dress nwe ai got no fancy shallet a they call it with first class nview of nothing but only shanty o dry rock but afore d take nadvantage of lazy gawky boy fo it ai anything else though he ngood meani enough that happened to fall sick i my house and coax nand cosset him and wrap him i white cotto and mothe him and siste nhim and aunt sukey him and almost dry nu him gi rally jist to get nhim sweet o me and o mine and take the inside track of others d be na inji and if you allow it pop you be wuss no nigge sho said he fathe kindling with that intense gratificatio with nwhich the male receives any intimatio of alie feminine weakness it nai that minty wante know it jist that pop and ez good ez let em know seed it ai a nfool if some folk do drop thei eye and pertend to wipe the laugh out nof thei nose with handkerchief whe let out to speak may be ngood enough kempany look ye minty interrupted the blacksmith sternly half rising nfrom his seat with every trace of his forme weakness vanished from his nhardset face do you mea to say that they put o air to ye to my ndarte no said minty quickly the me did and do you ma mix nyourself up with wome meanness ke manage em pop with one nhand nm sharpe looked at his daughte flashing black eye perhaps a nuneasy recollectio of the late mr sharpe remarkable capacity i nthat respect checked his furthe rage no wot wa sayi resumed minty ez that may be thought by nothers good enough to keep kempany with baronetts ez is to be though nbaronetts might object but ai mea enough to try to steal away nsome ole woma darling boy i england o snatch some likely young nenglish girl big brothe oute the family without sayi by you nleave how you like it if richelieu wa growed up and went to nsea and it would be like his peartness and he fell sick i some nforeig land and some princess o othe skyulged him underhand away nfrom u nprobably owing to the affai of the specimen the elde sharpe did not nseem to regard the possible mesalliance of richelieu with extraordinary ndisfavo that boy is conceited enough with hai ile and fine clothes nfo anything he said plaintively but did that louise macy hev nfelle already that captai greyso wot gone him that it said minty he ki go out i the wood and whistle now nbut all the same she could hitch him i agai at any time if the othe nstrange kicked ove the trace that the style ove there at the nlookout there ai ez much heart i them two wome put togethe ez nwould make gree gal flush up playi forfeit it all i thei nbreed pop love ai going to spile thei appetite and complexion ngive em nose bleed no put drop wate into thei eye i all nthei natural bo day that wot make me mad ef thought that loo ncared bit fo that child would mind d just advise he to make nhim get up and get pack his dud out camp and go home and not come nback until he had writte permit from his mothe o the othe baronet ni office look sorte ef some one orte interfere said the blacksmith nreflectively tai exackly case fo vigilance committee tho nit agi public moral this sorte kidnappi stranger look ez nif it might bring the country into discredit i england well do you go and interfere and havi folk say ez my nose nwas put out jint ove there said minty curtly there anothe nenglishma comi up from frisco to see him to morrow ef he ai nscooped up by jenny bradley he ll guess there a nigge i the fence nsomewhere but there pop let it drop it a bad aig anyway she nconcluded rising from the table and passing he hand dow he frock nand he shapely hip a if to wipe off furthe contaminatio of the nsubject where richelieu agi said he did want suppe and like ez not he gone ove to see that nfammerly at the summit there a little girl tha he sparki about nhis ow age his ow age said minty indignantly why she double that if nshe a day well if he ai the triflinest conceitednest little limb nthat eve grew d like to know where he got it from it wa ma nstyle nm sharpe smiled darkly richelieu precocious gallantry evidently wa nnot considered a gratuitous a his experimental metallurgy but a his neyes followed his daughte wholesome phyllis like figure new idea ntook possessio of him needle to say howeve it wa i the line nof anothe personal aggrievement albeit it took the form of religious nreflectio it curous minty wot foreordained and wot ai now ye one nof them high and mighty fellow afte the lord ez come meanderi naround here and drop off ez fu ez ki hea i kind faint at nthe first house he kems to and is take i and lodged and sumptuously nfed and nat rally they get thei reward fo it now wot to hev nkept that young felle from coming here and droppi dow i my forge no i this very room and you tendi him and jist layi ove them nfolks at the lookout wot got hold ye pop do i tell ye he had lette to jim nbradley said minty quickly with a angry flash of colo i he ncheek that ai it said sharpe confidently it co he walked nnat rally you think he ride being high and mighty and that nwhere ez the parso will tell ye wot merely fi nite and huma wisdom nerrs ef that felle had ridde he have had to come by this ye nroad and by this ye forge and stop spell like any othe but it nwas foreordained that he should walk jest co it wa generally nkalkilated and reckoned o so you had no show nfo moment minty seemed struck with he fathe original theory nbut with vigorous shake of he shoulder she threw it off he eye ndarkened recko you ai thinking pop she bega wa only sayi it wa curous he rejoined quietly nevertheless nafte pause he rose coughed and going up to the young girl a she nleaned ove the dresse bent his powerful arm around he and drawing nhe and the plate she wa holding against his breast laid his bearded ncheek fo a instant softly upo he rebellious head it all right nminty he said ai it pet minty eyelid closed gently unde nthe familia pressure wot that i you hai minty he said ntactfully breaking a embarrassing pause ba grease fathe murmured minty i child voice the grow up nwoma unde that magic touch having lapsed agai into he fathe nmotherless charge of te year before it pow ful soothi and pretty said he fathe made it myself do you want some asked minty not now girl fo moment they slightly rocked each othe i that nattitude the ma dexterously the woma with infinite tenderness and nthe they separated nlate that night afte richelieu had returned and he fathe wrestled ni his fitful sleep with the remorse of his guilty indulgence at suppe nminty remained alone i he room hard at work surrounded by the ncontents of one of he mothe trunk and the fragment of certai nripped up and newly turned dress fo minty had conceived the bold nidea of altering one of he mothe gown to the fashio of certai nfascinating frock wo by louise macy it wa late whe he self imposed ntask wa completed with nervous trepidatio that wa novel to nhe minty bega to disrobe herself preparatory to trying o he new ncreatio the light of tallow candle and large swinging lante nborrowed from he fathe forge fell shyly o he milky neck and nshoulders and shone i he sparkling eye a she stood before he nlargest mirro the long glazed doo of kitche clock which she had nplaced upo he chest of drawer had poo minty bee content with the nfull free and goddess like outline that it reflected she would have nbee spared he impending disappointment fo ala the dress of he nmodel had bee framed upo symmetrically attenuated french corset and nthe unfortunate minty fulle and ample curve had unde he simple ncountry stay know no more restraining cincture tha knew the venus nof milo the alteratio wa hideous failure it wa neithe minty nstatuesque outline no louise macy graceful contou minty wa no nfool and the revelatio of this slow educatio of the figure and ntraining of outline whethe fai o false i art struck he quick nintelligence with all it full and hopeless significance bitte light nsprang to he eye she tore the wretched sham from he shoulder and nthe wrapping shawl around he threw herself heavily and sullenly o nthe bed but inactio wa not characteristic of minty emotio she npresently rose agai and taking a old work box from he trunk bega nto rummage i it recess it wa a old shell incrusted affai and nthe apparent receptacle of such cheap odds and end of jewelry a she npossessed hideous cameo ring the property of the late mr sharpe nwas missing she agai rapidly explored the content of the box and nthe a inspiratio seized he and she darted into he brothe nbedroom nthat precocious and gallant lovelace of te despite all sentiment had nbasely succumbed to the gross materialism of youthful slumbe o ncot i the corne half hidde unde the wreck of his ow careless and nhurried disrobing with one arm hanging out of the coverlid richelieu nlay supremely unconscious o the forefinge of his small but dirty hand nthe missing cameo wa still glittering guiltily with swift movement nof indignatio minty rushed with uplifted palm towards the tempting nexpanse of youthful cheek that lay invitingly exposed upo the pillow nthe she stopped suddenly nshe had see him lying thus hundred time before o the pillow nea nhim a indistinguishable mass of golde fu the helpless bulk of nsquirrel chained to the leg of his cot at his foot wall eyed cat who nhad followed his tyrannous caprice with the long suffering devotio nof he sex o the shelf above him loathsome collectio of fly nand tarantula i dull gree bottle slab of ginge bread fo light nnocturnal refectio and he ow pot of bea grease perhaps it wa nthe piteous defencelessness of youthful sleep perhaps it wa some nlingering memory of he fathe caress but a she gazed at him with ntroubled eye the juvenile reprobate slipped back into the baby boy nthat she had carried i he ow childish arm such short time ago nwhe the maternal responsibility had descended with the dead mothe nill fitting dress upo he lank girlish figure and scant virgi nbreast and he hand fell listlessly at he side nthe sleepe stirred slightly and awoke at the same moment by some nmysterious sympathy pai of beady bright eye appeared i the bulk nof fu nea his curl the cat stretched herself and eve vague nagitatio wa heard i the bottle o the shelf richelieu blinking neyes wandered from the candle to his siste and the the guilty hand nwas suddenly withdraw unde the bedclothes no matte dea said minty it ma and you ki wea it whe you nlike if you ll only ask fo it nrichelieu wondered if he wa dreaming this unexpected mildness this ninexplicable tremo i his siste voice it must be some occult ninfluence of the night seaso o the sisterly mind possibly aki to nfea of ghost he made mental note of it i view of future favor nyet fo the moment he felt embarrassedly gratified ye ai wanti nanything minty he said affectionately pail cold wate from the nfa spring no nothi he made a ostentatious movement a if to nrise yet sufficiently protracted to prevent any hasty acceptance of his nprodigal offe no dea she said still gazing at him with a absorbed look i he ndark eye nrichelieu felt slight creepy sensatio unde that lonely fa off gaze you eye look awful big at night minty he said he would have added and pretty but she wa his siste and he had the lofty fraternal nconvictio of his duty i repressing the inordinate vanity of the sex ye re sure ye ai wanti nothi not now dea she paused moment and the said deliberately but nyou would mind turni out afte su up and runni a errand fo me nove to the lookout nrichelieu eye sparkled so suddenly that eve i he absorptio nminty noticed the change but ye re not goi to tarry ove there ne ngossip you hea ye to take this ye message ye to say that it will nbe onpossible fo me to come back there o account o account of important business suggested richelieu that the perlite style ef you like she leaned ove the bed and put he lip to his forehead nstill damp with the dew of sleep and the to his long lashed lid mind nip the squirrel he practically suggested fo a instant nthei blond curl mingled o the pillow now go to sleep she said ncurtly nbut richelieu had take he white neck i the short strangulatory hug of nthe small boy and held he fast ye ll let me put o my best pant yes and wea that ring yes little sadly the ye ki count me i minty and see here his voice sank to nconfidential whispe mebbee some day ye ll be beholde to me fo lot no real jewelry nshe returned slowly to he room and opening the window looked out nupo the night the same moo that had lent such supererogatory grace to nthe natural beauty of the lookout here seemed to have failed a minty nhad i disguising the relentless limitation of nature o the cruel nbonds of custom the black plai of granite unde it ray appeared nonly to extend it poverty to some remote barrie the blackened stump nof the burnt forest stood bleake against the sky like broke and ntwisted pillar of iro the cavity of the broke ledge where richelieu nhad prospected wa hideous chasm of bluish blackness ove which npurple vapo seemed to hove the brush dump beside the house showed na cave of writhing and distorted object stiffened into dark rigidity nshe had ofte looked upo the prospect it had neve seemed so hard and nchangeless yet she accepted it a she had accepted it before nshe turned away undressed herself mechanically and went to bed she nhad a idea that she had bee very foolish that he escape from nbeing still more foolish wa something miraculous and i some measure nconnected with providence he fathe he little brothe and he dead nmothe whose dress she had recklessly spoiled but that she had eve so nslightly touched the bitterness and glory of renunciatio a writte nof heroine and fine lady by novelist and poet neve entered the nfoolish head of minty sharpe the blacksmith daughte nchape iv nit wa little afte daybreak next morning that mainwaring awoke from nthe first unrefreshing night he had passed at the lookout he wa so nfeverish and restless that he dressed himself at sunrise and cautiously nstepped out upo the still silent veranda the chair which he and nlouise macy had occupied were still it seemed to him conspicuously nconfidential with each othe and he separated them but a he looked ndow into the great canyo at his foot he wa conscious of some nundefinable change i the prospect slight mist wa rising from the nvalley a if it were the last of last night illusion the first nlevel sunbeam were obtrusively searching and the kee morning ai had na dryly practical insistence which irritated him until light footstep no the farthe end of the veranda caused him to tu sharply nit wa the singula apparitio of small boy bearing surprising nresemblance to minty sharpe and dressed i a unique fashio o ntumbled sea of blond curl chip sailo hat with broad red ribbo nrode jauntily but here the nautical suggestio changed a had the ndesire of becoming pirate which induced it red shirt with white ncolla and yellow plaid ribbo tie that also recalled minty sharpe nlightly turned the suggestio of his costume to mining short black nvelvet trouser coming to his knee and ostentatiously new short legged nboots with visible strap like curling ear completed the entirely noriginal characte of his lowe limb nmainwaring always easily gentle and familia with childre and his ninferiors looked at him with a encouraging smile richelieu fo it nwas he advanced gravely and held out his hand with the cameo ring napparent mainwaring with equal gravity shook it warmly and removed nhis hat richelieu keenly observant did the same is jim bradley out yet asked richelieu carelessly no think not but m frank mainwaring will do nrichelieu smiled the dimple the white teeth the dark laughing eye nwere surely minty i richelieu he rejoined with equal cando richelieu yes that frenchma the lord cardinal you know ma saw forrest do nhim out i st louis do him yes i the theayte nwith confused misconceptio of his meaning mainwaring tried to nrecall the historical dress of the great cardinal and fit it to the nmasquerade if such he were before him but richelieu relieved him by nadding richelieu sharpe oh that you name said mainwaring cheerfully the you re miss nminty brothe know he how jolly lucky nthey both shook hand agai richelieu eage to get rid of the burde nof his siste message which he felt wa i the way of free and easy nintercourse with this charming strange looked uneasily towards the nhouse say said mainwaring if you re i hurry you bette go i nthere and knock hea some one stirring i the kitche nrichelieu nodded but first went back to the step of the veranda npicked up small blue knotted handkerchief apparently containing some nheavy object and repassed mainwaring what have you cut it richelieu with you valuable what have you ngot there specimins said richelieu shortly and vanished nhe returned presently well cardinal did you see anybody asked nmainwaring mr bradley but jim ove to the mill m goi there did you see miss macy continued mainwaring carelessly loo loo well yes no she philanderi with captai greyso philandering with greyso echoed mainwaring i wonde yes o horseback o the ridge you mea she riding out with m with captai greyso yes ridi and philanderi persisted richelieu and what do you call philandering well recko you and she oughte know returned richelieu with nprecocious ai certainly said mainwaring with faint smile richelieu really wa nlike minty nthere wa long silence this young englishma wa becoming exceedingly nuninteresting richelieu felt that he wa gaining neithe profit no namusement and losing time m going he said good morning said mainwaring without looking up nrichelieu picked up his specimen thoroughly convinced of the nstrange glittering deceitfulness and vanished nit wa nearly eight clock whe mr bradley came from the house she napologized with slightly distrait smile fo the tardiness of the nhousehold m bradley stayed at the mill all night and will not be nhere until breakfast whe he brings you friend m richardso with nhim mainwaring scarcely repressed movement of impatience who narrives early it unfortunate that miss sharpe ca come to day ni his abstractio mainwaring did not notice that mr bradley slightly naccented minty formal appellatio and said carelessly oh that why he brothe came ove here so early did you see him asked mr bradley almost abruptly yes he is a amusing little begga but think he share his siste npreference fo m bradley he deserted me here i the veranda fo him nat the mill louise will keep you company a soo a she ha changed he dress ncontinued mr bradley she wa out riding early this morning with nfriend she very fond of early morning ride and philandering repeated mainwaring to himself it wa quite natural nfo miss macy to ride out i the morning afte the fashio of nthe country with a escort but why had the cub insisted o the philandering he had said and philandering distinctly it wa nnasty thing fo him to say any othe fellow but he mainwaring might nmisunderstand the whole thing perhaps he ought to wa he but no he ncould not repeat the gossip of child and that child the brothe of none of he inferior but wa minty a inferio did she and minty talk ntogethe about this fellow greyso at all event it would only revive nthe awkwardness of the preceding day and he resolved to say nothing nhe wa rewarded by half inquiring half confiding look i louise nbright eye whe she presently greeted him o the veranda she had nquite forgotte she said to tell him last night of he morning nengagement indeed she had half forgotte it it used to be favorite npractice of hers with captai greyso but she had lately give it up nshe believed she had not ridde since since since whe asked mainwaring well since you were ill she said frankly na quick pleasure shone i mainwaring cheek and eye but louise npretty lid did not drop no he faint quiet bloom deepe breakfast nwas already waiting whe m richardso arrived alone nhe explained that m bradley had some important and unexpected business nwhich had delayed him but which he added m bradley say may nprove interesting enough to you to excuse his absence this morning nmainwaring wa not displeased that his critical and observant host wa nnot present at thei meeting louise macy wa howeve a demurely nconscious of the different bearing of the two compatriot richardso nsomewhat self important patronage of the two lady and that ncalifornia familiarity he had acquired changed to certai uneasy ndeference towards mainwaring while the younge englishma slightly nstiff and deliberate cordiality wa nevertheless mingled with nmysterious understanding that appeared innate and unconscious louise nwas quick to see that these two me more widely divergent i quality ntha any two of he ow countryme were yet more subtly connected nby some unknow sympathy tha the most equal of american minty nprophetic belief of the effect of the two wome upo richardso wa ncertainly true a regarded mr bradley the banke large material nnature wa quickly fascinated by the demure puritanic grace of that nlady and wa inclined to exhibit somewhat broad and ostentatious ngallantry that annoyed mainwaring whe they were seated alone o nthe veranda which the lady had discreetly left to them richardso nsaid odd did hea of bradley wife before she seems spicy pretty ncomfortable creature regularly throw away with him up here nmainwaring replied coldly that she wa a admirable helpmeet of very nadmirable ma not howeve without a uneasy recollectio of he nprevious confidence respecting he husband they have bee most nthoroughly good and kind to me my ow brothe and siste could not have ndone more and certainly not with bette taste o delicacy he added nmarkedly certainly certainly said richardso hurriedly wrote to lady nmainwaring that you were take capital care of by some very honest npeople and that lady mainwaring already know what think of them and what she owes nto thei kindness said mainwaring dryly true true said richardso apologetically of course you must have nsee good deal of them only know bradley i business way he nbee trying to get the bank to help him to put up some new mill here nbut we did see it dare say he is good company rathe amusing neh nmainwaring had the gift of his class of snubbing by the polite and nforgiving oblivio of silence richardso shifted uneasily i his chai nbut continued with assumed carelessness no only knew of this cousi miss macy heard of he whe she nwas visiting some friend i menlo park last yea rathe a attractive ngirl they say colonel johnso of sacramento took quite fancy nto he it would have bee good match dare say fo he is very nrich but the thing fell through i some way the they say she wanted nto marry that spaniard young pico of the amado ranche but his family nwould hea of it somehow she deuced unlucky suppose she ll nmake mess of it with captai greyso she wa out riding with this nmorning did the bank think bradley mill good investment asked nmainwaring quietly whe richardso paused not with him i it he is not business ma you know thought he wa he seems to me a energetic ma who know his work nand is not afraid to look afte it himself that just it he ha got absurd idea of co operating with his nworkme you know and doing everything slowly and o limited scale nthe only thing to be done is to buy up all the land o this ridge ru noff the settler freeze out all the othe mill and put it into big nsa francisco company o share that the only way we would look at nit but you do conside the investment bad eve from his point of nview perhaps not and you only decline it because it is big enough fo the bank exactly richardso said mainwaring slowly rising putting his hand i his ntrousers pocket and suddenly looking dow upo the banke from the neasy level of habitual superiority wish you attend to this thing nfo me desire to make some retu to m bradley fo his kindness nwish to give him what help he want i his ow way you understand nwish it and believe my fathe wish it too if you like him to nwrite to you to that effect by no mean it not at all necessary said richardso dropping with nequal suddenness into his old world obsequiousness shall certainly ndo a you wish it is not bad investment m mainwaring and a you nsuggest very prope retu fo thei kindness and being here it nwill come quite naturally fo me to take up the affai agai and say richardso yes si a these lady are rathe short handed i thei domestic service you nknow perhaps you bette not stay to luncheo o dinne but go o to nthe summit house it only mile o two farthe and come back here nthis evening sha want you until the certainly stammered richardso ll just take leave of the lady it not at all necessary said mainwaring quietly you would only ndisturb them i thei household duty ll tell them what ve done nwith you if they ask you ll find you stick and hat i the passage nand you ca leave the veranda by these step by the way you had bette nmanage at the summit to get some one to bring my trap from here to be nforwarded to sacramento to morrow ll want conveyance o horse nof some kind myself fo ve give up walking fo while but we ca nsettle about that to night come early good morning nhe accompanied his thoroughly subjugated countryma who howeve fa nfrom attempting to reassert himself actually seemed easie and more ncheerful i his submissio to the end of the veranda and watched nhim depart a he turned back he saw the pretty figure of louise macy nleaning against the doorway how graceful and refined she looked i that nsimple morning dress what wonde that she wa admired by greyso by njohnso and by that spaniard no by jove it wa she that wanted to nmarry him what have you sent away m richardso fo asked the young girl with na half reproachful half mischievous look i he bright eye packed him off because thought it wa little too hard o you and nmr bradley to entertai him without help but a he wa ou guest you might have left that to u said miss nmacy by jove neve thought of that said mainwaring coloring i nconsternatio pray forgive me miss macy but you see knew the ma nand could say it and you could well forgive you fo you look really so cut up said louise nlaughing but do know what jenny will say of you disposing of he nconquest so summarily she stopped and regarded him more attentively ha he brought you any bad news if so it a pity you did send him naway before he quite spoiling ou cure nmainwaring thought bitterly that he had but it a cure fo all that nmiss macy he said with a attempt at cheerfulness and being cure nyou see there no longe a excuse fo my staying here have bee nmaking arrangement fo leaving here to morrow so soo do you think it soo miss macy asked mainwaring turning pale i nspite of himself quite forgot that you were here a a invalid only and that we owe nou pleasure to the accident of you pai nshe spoke little artificially he thought yet he cheek had not lost nthei pink bloom no he eye thei tranquillity had he heard minty ncriticism he might have believed that the organic omissio noticed by nhe wa fact and now that you good work a siste of charity is completed you ll nbe able to ente the world of gayety agai with clea conscience nsaid mainwaring with smile that he inwardly felt wa miserable nfailure you ll be able to resume you morning ride you know which nthe wretched invalid interrupted nlouise raised he clea eye to his without reproach indignatio o neve wonde he felt a if he had attempted a insult and failed doe my cousi know you are going so soo she asked finally no did not know myself until to day you see he added hastily nwhile his honest blood blazoned the lie i his cheek ve heard of nsome miserable business affair that will bring me back to england nsoone that expected think you should conside you health more important tha any mere nbusiness said louise do mea that you should remai here she nadded with hasty laugh but it would be pity now that you have nreaped the benefit of rest and taking care of yourself that you should nnot make it you only business to seek it elsewhere nmainwaring longed to say that withi the last half hou living o dying nhad become of little moment to him but he doubted the truth o efficacy nof this timewo heroic of passio he felt too that anything he said nwas mere subterfuge fo the real reaso of his sudde departure and nhow wa he to questio he a to that reaso i escaping from these nsubterfuges he wa compelled to lie agai with a assumptio of nchanging the subject he said calmly richardso thought he had met you nbefore i menlo park think namazed at the evident irrelevance of the remark louise said coldly nthat she did not remembe having see him before think it wa at m johnso o with m johnso o perhaps at none of those spanish ranch think he mentioned some name like pico nlouise looked at him wonderingly fo a instant and the gave way to na frank irrepressible laugh which lent he delicate but rathe set nlittle face all the colo he had missed partially relieved by he nunconce and yet mortified that he had only provoked he sense of the nludicrous he tried to laugh also the to be quite plai said louise wiping he now humid eye you nwant me to understand that you really did pay sufficient attentio nto hea correctly thank you that a pretty english compliment nsuppose dare say you would call it philandering certainly should fo do know what philandering mean nmainwaring could not reply with richelieu you ought to know no did nhe dare explai what he thought it meant and how he knew it louise nhoweve innocently solved the difficulty there a country song ve heard minty sing she said it run come philande let u be marchi every one fo his true love sarchi choose you true love now o neve nhave you bee listening to he also no said mainwaring with sudde incomprehensible but utterly nirrepressible resolutio but m marchi you know and perhaps ni must choose my true love now o neve will you help me miss macy nhe drew gently nea he he had become quite white but also very manly nand it struck he more deeply thoroughly and conscientiously sincere ntha any ma who had before addressed he she moved slightly away a nif to rest herself by laying both hand upo the back of the chai where do you expect to begi you sarchi she said leaning o nthe chai and tilting it before he o are you a vague a usual a to nlocality is it at some m johnso o m pico o here he interrupted boldly really think you ought to first tell my cousi that you are going naway to morrow she said with faint smile it such short notice nshe just i there she nodded he pretty head without raising he neyes towards the hall but it may not be so soo said mainwaring oh the the sarchi is not so important said louise raising nhe head and looking towards the hall with some uneasy but indefinable nfeminine instinct nshe wa right the sitting room doo opened and mr bradley made he nsmiling appearance m mainwaring wa just looking fo you said louise fo the first ntime raising he eye to him he not only sent off m richardso nbut he going away himself to morrow nmr bradley looked from the one to the othe i mute wonde mainwaring ncast a imploring glance at louise which had the desired effect much nmore seriously and i quaint business like way the young girl took nit upo herself to explai to mr bradley that richardso had brought nthe invalid some important news that would unfortunately not only nshorte his stay i america but eve compel him to leave the lookout nsoone tha he expected perhaps to morrow mainwaring thanked he with nhis eye and the turned to mr bradley whethe go to morrow o next day he said with simple and earnest ndirectness intend you know to see you soo agai eithe here o ni my ow home i england do not know he added with marked gravity that have succeeded i convincing you that have made you family nalready well know to my people and that he fixed his eye with nmeaning look o louise no matte whe o i what way you come to nthem you place is made ready fo you you may not like them you know nthe governo is getting to be a old ma perhaps too old fo young namericans but they will like you and you must put up with that my nmothe and sister know miss macy a well a do and will make he one nof the family nthe conscientious earnestness with which these apparent nconventionalities were uttered and some occult quality of quiet nconvictio i the young ma manne brought pleasant sparkle to the neyes of mr bradley and louise but said mr bradley gayly ou going to england is quite beyond nou present wildest dream nothing but windfall a unexpected nrise i timbe o eve the tabooed hotel speculatio could make it npossible but shall take the liberty of trying to present it to m bradley ntonight i some practical way that may convince eve his critical njudgment said mainwaring still seriously it will be he added more nlightly the famous testimonial of my cure which promised you and you will find m bradley so sceptical that you will be obliged to ndefe you going said mr bradley triumphantly come louise we nmust not forget that we have still m mainwaring present comfort to nlook afte that minty ha basely deserted u and that we ourselves nmust see that the last day of ou guest beneath ou roof are not nremembered fo thei privatio nshe led louise away with half mischievous suggestio of maternal npropriety and left mainwaring once more alone o the veranda nhe had done it certainly she must have understood his meaning and nthere wa nothing left fo him to do but to acquaint bradley with his nintentions to night and press he fo final answe i the morning nthere would be no indelicacy the i asking he fo a interview more nfree from interruptio tha this public veranda without conceit he ndid not doubt what the answe would be his indecisio his sudde nresolutio to leave he had bee all based upo the uncertainty of his now feeling the propriety of his declaratio the possibility of some nprevious experience of hers that might compromise him convinced by nhe unembarrassed manne of he innocence o rathe satisfied of he nindifference to richardso gossip he had bee hurried by his feeling ninto a unexpected avowal brought up i the perfect security of his now social positio and familiarly conscious without vanity of nit importance and powe i such situatio he believed without nundervaluing louise charm o independence that he had no one else ntha himself to consult eve the slight uneasiness that still pursued nhim wa more due to his habitual conscientiousness of his ow intentio ntha to any fea that she would not fully respond to it indeed with nhis conservative idea of prope feminine self restraint louise calm npassivity and undemonstrative attitude were proof of he superiority nhad she blushed overmuch cried o throw herself into his arm he nwould have doubted the wisdom of so easy selectio it wa true he had nknow he scarcely three week if he chose to be content with that his now accessible record of three century should be sufficient fo he nand condone any irregularity nnevertheless a a hou slipped away and louise did not make he nappearance eithe o the veranda o i the little sitting room off the nhall mainwaring became more uneasy a to the incompleteness of thei ninterview perhaps faint suspicio of the inadequacy of he response nbega to trouble him but he still fatuously regarded it rathe a nowing to his ow hurried and unfinished declaratio it wa true that nhe had said half what he intended to say it wa true that she might nhave misunderstood it a the conventional gallantry of the situatio na terrible thought the light bante of the habitual love making namerica to which she had bee accustomed perhaps eve now she nrelegated him to the level of greyso and this accounted fo he nsingula impassiveness a impassiveness that certainly wa singula nnow he reflected upo it that might have bee eve contempt the last nthought pricked his deep conscientiousness he walked hurriedly up and ndow the veranda and the suddenly re entering his room took up nsheet of note pape and bega to write to he ca you grant me few moment interview alone cannot bea you nshould think that what wa trying to tell you whe we were interrupted nwas prompted by anything but the deepest sincerity and convictio no that am willing it should be passed ove lightly by you o be nforgotte pray give me chance of proving it by saying you will see nme m nbut how should he convey this to he his delicacy revolted against nhanding it to he behind mr bradley back o the prestidigitatio of nslipping it into he lap o unde he plate before them at luncheo he nthought fo a instant of the chinama but gentleme except i that mirro of nature the stage usually hesitate to subo othe people nservants o entrust woma secret to he inferior he remembered nthat louise room wa at the farthe end of the house and it low nwindow gave upo the veranda and wa guarded at night by film of nwhite and blue curtain that were parted during the day to allow na triangula revelatio of pale blue and white draped interio nmainwaring reflected that the low inside window ledge wa easily naccessible from the veranda would afford capital lodgment fo the nnote and be quickly see by the fai occupant of the room o entering nhe sauntered slowly past the window the room wa empty the moment npropitious slight breeze wa stirring the blue ribbon of the ncurtai it would be necessary to secure the note with something he nreturned along the veranda to the step where he had noticed small nirregula stone lying which had evidently escaped from richelieu bag nof treasure specimen and had bee overlooked by that ingenuous child nit wa of pretty peacock blue colo and besides securing pape nwould be sure to attract he attentio he placed his note o the inside nledge and the blue stone atop and went away with sense of relief nanothe half hou passed without incident he could hea the voice nof the two wome i the kitche and dining room afte while they nappeared to cease and he heard the sound of a opening doo it nthe occurred to him that the veranda wa still too exposed fo nconfidential interview and he resolved to descend the step pas nbefore the window of the kitche where louise might see him and npenetrate the shrubbery where she might be induced to follow him they nwould not be interrupted no overheard there nbut he had barely left the veranda before the figure of richelieu nwho had bee patiently waiting fo mainwaring disappearance emerged nstealthily from the shrubbery he had discovered his loss o handing his fire assay to the good humored bradley fo late examinatio and he nhad retraced his way step by step looking everywhere fo his missing nstone with the unbounded hopefulness lazy persistency and lofty ndisregard fo time and occupatio know only to the genuine boy nhe remembered to have placed his knotted bag upo the veranda and nslipping off his stiff boot slowly and softly slid along against the nwall of the house looking carefully o the floo and yet preserving na studied negligence of demeano with one hand i his pocket and his nsmall mouth contracted into singularly soothing and almost voiceless nwhistle richelieu ow peculia accomplishment but no stone appeared nlike most of his genus he wa superstitious and repeated to himself the ncabalistic formula losi seeki findi keepi presumed nto be of great efficacy i such case with religious fervo he had nlaboriously reached the end of the veranda whe he noticed the ope nwindow of louise room and stopped a perfunctory duty to look i nand the richelieu sharpe stood fo a instant utterly confounded and naghast at this crowning proof of the absolute infamy and sickening nenormity of ma nthere wa his stone his richelieu ow specime carefully gathered nby himself and none othe and now stole abstracted skyugled smouged hooked by this rotte skunkified long legged nsplay footed ho laughi nigge toothed o nary despot and nworse tha all actually made to do infamous duty a love toke candy gift philanderi box to his richelieu girl fo nlouise belonged to that innocent and vague outside seraglio of nrichelieu boyish dream and put atop of lette to he and nprovidence permitted such a outrage wot wa he richelieu sent to nschool fo and organized wickedness i the shape of gorilla injins like nthis allowed to ride high horse rampant ove californey he looked nat the heaven i mute appeal and the providence not immediately ninterfering he thrust his ow small arm into the window regained his npriceless treasure and fled swiftly na fateful silence ensued the wind slightly moved the curtai outward na if i playful attempt to follow him and the subsided moment nlate apparently re enforced by othe wind o sympathizing with nrichelieu it lightly lifted the unlucky missive and cast it softly from nthe window but here anothe wind lying i wait caught it cleverly nand tossed it i long curve into the abyss fo a instant it seemed nto float lazily a o the mirrored surface of lake until turning nupo it side it suddenly darted into utte oblivio nwhe mainwaring returned from the shrubbery he went softly to the nwindow the disappearance of the lette and stone satisfied him of the nsuccess of his stratagem and fo the space of three hour relieved his nanxiety but at the end of that time finding no response from louise nhis forme uneasiness returned wa she offended o the first doubt of nhe acceptance of him crossed his mind na sudde and inexplicable sense of shame came upo him at the same nmoment he heard his name called from the step turned and beheld nminty nhe dark eye were shining with pleasant light and he lip parted o nhe white teeth with frank happy smile she advanced and held out he nhand he took it with mingling of disappointment and embarrassment you re wondering why kem o here arte sent word this morning that ni kelkilated not to come well twixt the and now suthi happened nwe ve had fine doi ove at ou house you bet pop do know which nend he standi o and recko that fo about te minute did nknow my ow name but ez soo ez got fairly hold the hull thing nand had it put straight i my mind sez to myself minty sharpe sez ni the first thing fo you to do now is to put o ye bonnet and shawl nand trapse ove to jim bradley and help them two womenfolks get dinne nfo themselves and that sick strange and continued minty throwing nherself into chai and fanning he glowing face with he apro ye nam but you have not told me what ha happened said mainwaring with nconstrained smile and a uneasy glance towards the house that so said minty with brilliant laugh clea forgot the nhull gist of the thing well we re rich folk now ove tha o barre nledge that onery brothe of mine richelieu hez take some of his nspecimens ove to jim bradley to be tested and bradley just to please nthat child take em and not a hou ago bradley come running likety nswitch ove to pop to tell him to put up his notice fo the hull of nthat ledge where the forge stand is mine silve and coppe afore nye knew it lordy half the folk oute the summit and the mill wa nscattered dow tha all ove it richardso that strange ez know nyou kem tha too with jim and he allows ef bradley essay is right nit worth more tha hundred thousand dollar ez it stand suppose must congratulate you miss sharpe said mainwaring with na attempt at interest but his attentio still preoccupied with the nope doorway oh they know all about it said minty following the directio of his nabstracted eye with slight darkening of he ow jest kem out nthe kitche the othe way and jim sent em note but allowed d ntell you myself specially ez you are going away to morrow who said wa going away to morrow asked mainwaring uneasily loo macy ah she did but may change my mind you know he continued with nfaint smile nminty shook he curl decisively recko she know she said dryly she got law and gospel fo wot she say but ye she come ask he nlook ye loo she added a the two wome appeared at the doorway nwith certai exaggeratio of congratulatory manne that struck nmainwaring a being a artificial and disturbed a his ow did si nfrancis ye say he wa going to morrow that what understood returned louise with cold astonishment nletting he clea indifferent eye fall upo mainwaring do not know nthat he ha changed his mind unless a miss sharpe is great capitalist now she is willing to use nhe power of persuasio added mr bradley with slight acidulous npointing of he usual prim playfulness recko minty sharpe the same ez she allus wos unless more so nreturned minty with a honest egotism that carried so much convictio nto the heare a to condone it vanity but kem ye to do day nwork gal and allow to pitch i and do it and not sit ye swoppi ncompliments and keeping him from packi his dud onless she stopped nand looked around at the uneasy unsympathetic circle with faint ntremulousness of lip that belied the brave black eye above it onless ni i ye way nthe two wome sprang forward with feminine bewildering excess of nprotestatio and mainwaring suddenly pierced through his oute selfish nembarrassment to his more honest depth stammered quickly look here miss sharpe if you think of running away agai afte nhaving come all the way here to make u share the knowledge of you good nfortune and you bette heart by jove ll go back with you nbut here the two wome effusively hurried he away from the dangerous nproximity of such sympathetic honesty and moment late mainwaring nheard he laughing voice a of old ringing i the kitche and the na if unconsciously responding to the significant commo sense that lay ni he last allusio to him he went to his room and grimly bega his npacking nhe did not agai see louise alone at thei informal luncheo the nconversatio turned upo the more absorbing topic of the sharpes ndiscovery it extent and it probable effect upo the fortune of nthe locality he noticed abstractedly that both mr bradley and he ncousi showed real o assumed scepticism of it value this did nnot disturb him greatly except fo it intended check upo minty nenthusiasm he wa more conscious perhaps with faint touch of nmortified vanity that his ow contemplated departure wa of lesse nimportance tha this local excitement yet i his growing convictio nthat all wa ove if indeed it had eve begu betwee himself and nlouise he wa grateful to this natural diversio of incident which nspared them both a interval of embarrassing commonplace and with nthe suspicio of some indefinable insincerity eithe of his ow o nlouise haunting him minty frank heartiness and outspoke loyalty ngave him strange relief it seemed to him a if the clea cool breath nof the forest had entered with he homely garment and the steadfast ntruth of nature were incarnate i he shining eye how fa this poetic nfancy would have bee consistent o eve coexistent with any gleam of ntenderness o self forgetfulness i louise equally pretty orb nleave the satirical feminine reade to determine nit wa late whe bradley at last returned bringing furthe and more ncomplete corroboratio of the truth of sharpe good fortune two nexperts had arrived one from pine flat and anothe from the summit and nupo this statement richardso had offered to purchase a interest i nthe discovery that would at once enable the blacksmith to develop his nmine should wonde mainwaring he added cheerfully if he nput you into it too and make you eternal fortune with lark falling from the sky all round you it a pity you ncould get put into something said mr bradley straightening he npretty brow m not gold mine my dea said bradley pleasantly no gold finde returned his wife with cruel little depressio nof he pink nostril but you ca work all night i that stupid mill nand the she added i low voice to escape minty attentio spend nthe whole of the next day examining and following up boy discovery nthat his ow relation had bee too lazy and too ignorant to understand nand profit by suppose that next you will be hunting up site o the nothe side of the canyo where somebody else ca put up hotel and nrui you ow prospect na sensitive shadow of pai quickly dimmed bradley glance not the nfirst o last time evidently fo it wa gradually bringing out nbackground of sadness i his intelligent eye but the next moment he nturned kindly to mainwaring and bega to deplore the necessity of his nearly departure which richardso had already made know to him with npractical and satisfying reason hope you wo forget my dea fellow that you most really urgent nbusiness is to look afte you health and if hereafte you ll only nremembe the old lookout enough to impress that fact upo you shall nfeel that any poo service have rendered you ha bee amply repaid nmainwaring notwithstanding that he winced slightly at this fateful necho of louise advice returned the grasp of his friend hand with a nhonest pressure equal to his ow he longed now only fo the coming of nrichardso to complete his scheme of grateful benefactio to his host nthe banke came fortunately a the conversatio bega to flag and mr nbradley half coquettish ill humo of pretty woma and louise nabstracted indifference were becoming so noticeable a to eve impress nminty into thoughtful taciturnity the graciousness of his receptio nby mr bradley somewhat restored his forme ostentatious gallantry and nhis self satisfied domineering manne had enough masculine powe i it nto favorably affect the three wome who it must be confessed were nlittle bored by the fine abstraction of bradley and mainwaring nafte few moment mainwaring rose and with significant glance at nrichardso to remind him of his proposed conference with bradley turned nto leave the room he wa obliged to pas louise who wa sitting by the ntable his attentio wa suddenly arrested by something i he hand with nwhich she wa listlessly playing it wa the stone which he had put o nhis lette to he na he had not bee present whe bradley arrived he did not know that nthis fateful object had bee brought home by his host who afte nreceiving it from richelieu had put it i his pocket to illustrate nhis story of the discovery o the contrary it seemed that louise ncareless exposure of his foolish stratagem wa gratuitously and npurposely cruel nevertheless he stopped and looked at he that a quee stone you have there he said i tone which she nrecognized a coldly and ostentatiously civil yes she replied without looking up it the outcrop of that mine nshe handed it to him a if to obviate any furthe remark thought you nhad see it before the outcrop he repeated dryly that is it it it is the indicatio no sig of something important that below it is it nlouise shrugged he shoulder sceptically it do follow it just na likely to cove rubbish afte you ve take the trouble to look thanks he said with measured gentleness and passed quietly out of nthe room nthe moo had already rise whe bradley with his brierwood pipe npreceded richardso upo the veranda the latte threw his large frame ninto louise rocking chai nea the edge of the abyss bradley with nhis ow chai tilted against the side of the house afte the national nfashio waited fo him to speak the absence of mainwaring and the nstimulus of mr bradley graciousness had give the banke certai ncondescending familiarity which bradley received with amused and nironical tolerance that his twinkling eye made partly visible i the ndarkness one of the thing wanted to talk to you about bradley wa that old naffai of the advance you asked fo from the bank we did not quite see nou way to it the and speaking a business ma it is really nmatte of business now but it ha lately bee put to me i light that nwould make the doing of it possible you understand the fact of the nmatte is this si robert mainwaring the fathe of the young nfellow you ve got i you house is one of ou director and nlargest shareholder and ca tell you if you do suspect it nalready you ve bee lucky bradley deucedly lucky to have had him i nyou house and to have rendered him service he the hei to one nof the largest landed estate i his country one of the oldest county nfamilies and will step into the title some day but ahem he coughed npatronizingly you knew all that no well that charming wife of nyours at least doe fo she bee talking about it gad bradley it ntakes those wome to find out anything of that kind eh nthe light i bradley eye and his pipe went slowly out togethe the we ll say that affai of the advance is a good a settled it nsi robert wish you understand and this young fellow wish and if nyou ll come dow to the bank next week we ll arrange it fo you nthink you ll admit they re doing the handsome to you and yours and ntherefore he lowered his voice confidentially you ll see bradley nthat it will only be the honorable thing i you you know to look upo nthe affai a finished and i fact to do all you ca he drew his nchai close to to to drop this othe foolishness do think quite understand you said bradley slowly but you wife doe if you do returned richardso bluntly nmea this foolish flirtatio betwee louise macy and mainwaring which ni utterly preposterous why ma it ca possibly come to anything nand it could be allowed fo moment look at his positio and hers ni should think a practical ma it would strike you only one thing strike me richardso interrupted bradley i nsingularly distinct whispe rising and moving neare the speake it ni that you re sitting perilously nea the edge of this veranda fo by nthe living god if you do take yourself out of that chai and out of nthis house wo be answerable fo the consequence hold o there minute will you said mainwaring voice from the nwindow nboth me turned towards it long leg wa protruding from mainwaring nwindow it wa quickly followed by the othe leg and body of the noccupant and the next moment mainwaring come towards the two me with nhis hand i his pocket not so loud he said looking towards the house let that ma go said bradley i repressed voice you and nmainwaring ca speak togethe afterwards that ma must stay until he hears what have got to say said nmainwaring stepping betwee them he wa very white and grave i nthe moonlight but very quiet and he did not take his hand from his npockets ve listened to what he said because he came here o my nbusiness which wa simply to offe to do you service that wa all nbradley that told him to do this rot about what he expects of you i nretu is his ow impertinence if you punched his head whe he bega nit it would have bee all right but since he ha begu it before he ngoes think he ought to hea me tell you that have already offered nmyself to miss macy and she ha refused me if she had give me the nleast encouragement should have told you before furthe want to nsay that i spite of that ma insinuation firmly believe that no none is aware of the circumstance except miss macy and myself had no idea of intimating that anything had happened that wa not nhighly honorable and creditable to you and the young lady bega nrichardso hurriedly do know that it wa necessary fo you to have any idea o the nsubject at all said mainwaring sternly no that having bee show nhow you have insulted this gentlema and myself you need trouble u a ninstant longe with you company you need not come back will manage nmy othe affair myself very well m mainwaring but you may be sure that shall certainly ntake the first opportunity to explai myself to si robert returned nrichardso a with a attempt at dignity he strode away nthere wa a interval of silence do be too hard upo fellow bradley said mainwaring a bradley nremained dark and motionless i the shadow it is poo retu m nmaking you fo you kindness but swea neve thought of anything nlike like this no did said bradley bitterly know it and that what make it so infernally bad fo me forgive nme wo you think of me old fellow a the wretchedest as you eve nmet but not such cad a this would make me a mainwaring stepped nout from the moonlight towards him with extended hand bradley grasped nit warmly thanks there thanks old fellow and bradley say do nsay anything to you wife fo do think she know it and nbradley look here did like to be anything but plai before that nfellow but do mind telling you now that it all ove that nreally think louise miss macy did altogethe understand me eithe nwith anothe shake of the hand they separated fo the night fo long ntime afte mainwaring had gone bradley remained gazing thoughtfully ninto the great canyo he thought of the time whe he had first come nthere full of life and enthusiasm making a ideal world of his pure nand wholesome eyrie o the ledge what else he thought will probably nneve be know until the misunderstanding of honorable and chivalrous nme by charming and illogical sex shall incite the audacious pe of nsome more daring romance nwhe he returned to the house he said kindly to his wife have bee nthinking to day about you hotel scheme and shall write to sacramento nto night to accept that capitalist offe nchape nthe su wa just rising i two year of mutatio and change it had see nthe little cottage clinging like swallow nest to the rocky cave of na great sierra canyo give way to straggling many galleried hotel nand doze blackened chimney rise above the barre tableland where nonce had stood the lonely forge to that conservative orb of light and nheat there must have bee peculia satisfactio i looking dow few nhours earlie upo the battlement and gable of oldenhurst whose base nwas deeply embedded i the matured foundation and settled tradition nof a english county fo the rising su had fo te century found noldenhurst i it place from the heavy stone terrace that covered the ndead and forgotte wall where rom sentinel had once paced to nthe little grating i the cloistered quadrangle where it had see ncistercia brothe place the morning dole it had daily welcomed the ngrowth of this vast and picturesque excrescence of the time it had nsmiled every morning upo this formidable yet quaint incrustatio nof powe and custom ignoring a oldenhurst itself had ignored the ngenerations who possessed it the me who built it the me who carried nit with fire and sword the me who had lied and cringed fo it the nking who had give it to favorite the few brave heart who had died nfo it i exile and the one o two who had bought and paid fo it fo noldenhurst had absorbed all these and more until it had become story nof the past incarnate i stone greenwood and flowe it had eve ndrained the life blood from adjacent hamlet repaying them with tumuli ngrowths like it ow i the shape of purposeless lodge quaintly nincompetent hospital and school and church where the inestimable nblessing and knowledge of it gospel were taught and fostered no had nit dealt more kindly with the gentry withi it wall sending some to nthe scaffold pillorying others i infamous office reducing few to npoverty and halting it late guest with gout and paralysis it had ngive them i exchange the dubious immortality of portrait gallery nfrom which they stared with stony and equal resignatio it had npreserved thei useless armo and accoutrement it had set up thei nmarble effigy i church o laid them i cross legged attitude to ntrip up the unwary until i death a i life they got betwee the ncongregatio and the truth that wa taught there it had allowed a noldenhurst crusade with broke nose like pugilist o the strength nof his having bee twice to the holy land to hide the beautifully nilluminated word from the lowlie worshippe o the humble bench it nhad sent a iconoclastic bishop of the reformatio to neare minste nto ostentatiously occupy the place of the consecrated image he had noverthrow small wonde that crowding the oldenhurst retainer ngradually into smalle space with occasional sabbath glimpse of the nliving ruler of oldenhurst already i railed off exaltatio it had nforced them to accept oldenhurst a synonym of eternity and left the nknowledge of highe powe to what time they should be turned out nto thei longe sleep unde the tende grass of the beautiful oute nchurchyard nand eve so while every stone of the pile of oldenhurst and every tree ni it leafy park might have bee eloquent with the story of vanity nselfishness and unequal justice it had bee left to the infinite mercy nof nature to seal thei lip with spell of beauty that left mankind nequally dumb earth ai and moisture had entered into gentle nconspiracy to softe mellow and clothe it external blemish of nbreach and accident it irregula desig it addition accretion nruins and lapse with harmonious charm of outline and colo poet nromancers and historian had equally conspired to illuminate the ndark passage and uglie inconsistency of it interio life with the nglamou of thei ow fancy the fragment of menacing keep with it nchoked oubliette became bowe of tende ivy the grim story of it ncrimes properly edited by contemporary bard of the family passed ninto charming ballad eve the superstitious darkness of it religious nhouse had escaped through falle roof and shattered wall leaving only nthe foliated and su pierced scree of front with it rose window and npinnacle of cross behind pilgrim from all land had come to see nit fierce republican had crossed the sea to gaze at it mediaeval noutlines and copy them i wood and stucco o thei younge soil npoliticians had equally pointed to it a convincing evidence of thei now principle and i refutatio of each othe and it had survived nboth fo it wa this belief i it ow perpetuity that wa it strength nand weakness and that belief wa neve stronge tha o this bright naugust morning whe it wa o the verge of dissolutio telegram nbrought to si robert mainwaring had eve the a completely shattered nand disintegrated oldenhurst i all it wa and all it meant a if the nbrow pape envelope had bee itself charged with the electric fluid nsi robert mainwaring whose family had fo three century possessed noldenhurst had received the news of his financial rui and the vast npile which had survived the repeated invasio of superstitio force nintrigue and eve progress had succumbed to foe it founder and nproprietors had loftily ignored and left to jew and trader the nacquisitio of money except by despoilment gift royal favo o ninheritance had bee unknow at oldenhurst the present degenerate ncustodia of it fortune staggering unde the weight of it nsentimental mortmai already alluded to had speculated i orde to nkeep up it material strength that wa gradually shrinking through nimpoverished land and the ruined trade it had despised he had invested nlargely i california mine and wa the chief shareholde i sa nfrancisco bank but the mine had proved worthless the bank had that nmorning suspended payment owing to the failure of large land and ntimbe company o the sierra which it had imprudently carried nthe spark which had demolished oldenhurst had bee fired from the new ntelegraph statio i the hotel above the great sierra canyo nthere wa large house party at oldenhurst that morning but it had nbee part of the history of the mainwarings to accept defeat gallantly nand a became thei blood si percival the second gentlema o the nleft a you entered the library unhorsed dying o distant moo nwith handful of follower abandoned by charming prince and nmiserable cause wa scarcely greate hero tha this ruined but nundaunted gentlema of eighty entering the breakfast room few nhours late a jauntily a his gout would permit and conscientiously ndispensing the hospitality of his crumbling house whe he had narranged few pleasure party fo the day and himself thoughtfully nanticipated the different taste of his guest he turned to lady nmainwaring do forget that somebody ought to go to the statio to meet the nbradleys frank writes from st moritz that they are due here to day nlady mainwaring glanced quickly at he husband and said sotto voce do nyou think they ll care to come now they probably have heard all about nit not how it affect me returned si robert i the same tone and na they might think that because frank wa with them o that california nmountai we would believe it had something to do with richardso ninvolving the bank i that wretched company we must really insist upo nthei coming bradley echoed the ho captai fitzharry overhearing the name nduring late forage o the sideboard bradley there wa a awfully npretty america at biarritz travelling with cousi think miss nmaso o macy those sort of people you know who have companio na pretty a themselves bring you dow with the othe barrel if one nmisses eh very cleve both of them and hardly any accent m bradley wa very dea friend of frank and most kind to him nsaid lady mainwaring gravely did know there wa m bradley really he did come to the nfore the said the unabashed captai deuced hard to follow up those namerica husband and thei wife would thank you if you did said lady griselda narmige with sweet smile if it is the mr bradley mea said lady canterbridge from the nlowe end of the table looking up from he lette who look little nlike mr summertree and ha pretty cousi with he who ha very good nfrocks m afraid you wo be able to get he dow here she booked nwith engagement fo the next six week she and he cousi made all the nrunning at grigsby royal and she ha quite deposed that othe america nbeauty i northforeland good grace she regularly affiche him and nit is piteous to see him follow he about no my dea do believe nthey ll come to any one of le rank tha marquis if they did m nsure canterbridge would have had them at buckenthorpe already wonde if there wa eve anything i frank admiratio of this miss nmacy said lady mainwaring few moment late lingering beside he nhusband i his study really do know said si robert abstractedly his letter were nfilled with he praise and richardso thought pray do mentio that ma name agai said lady mainwaring with nthe first indicatio of feeling she had show should trust him but why do you ask returned he husband nlady mainwaring wa silent fo moment she is very rich believe nshe said slowly at least frank writes that some neighbor of theirs nwhom he met i the engadine told him they had sold the site of that nabsurd cottage where he wa ill fo some extravagant sum my dea geraldine said the old ma affectionately taking his wife nhand i his ow that now fo the first time trembled if you have any nhope based upo what you are thinking of now let it be the last and nleast you forget that paget told u that with the best care he could nscarcely ensure frank retu to perfect health eve if god i his nmercy spared him long enough to take my place what girl would be nwilling to tie herself to ma doomed to sickness and poverty hardly nthe one you speak of my dea nlady canterbridge proved true prophet mr bradley and miss macy ndid not come regretfully alleging previous engagement made o the ncontinent with the duke of northforeland and the marquis of dungeness nbut the unexpected and apocryphal husband did arrive myself have not nsee my wife and cousi since returned from my visit to you so ni switzerland am glad they were able to amuse themselves without nwaiting fo me at londo hotel though should have preferred to nhave met them here si robert and lady mainwaring were courteous but nslightly embarrassed lady canterbridge who had come to the statio i nbored curiosity raised he clea blue eye to his he did not look like na fool complaisant o fashionably cynical husband this well dressed nwell mannered but quietly and sympathetically observant ma did he nreally care fo his selfish wife wa it perfect trust o some absurd ntransatlantic custom she did not understand him it wearied he and she nturned he eye indifferently away bradley little irritated he knew nnot why at the scrutiny of this tall handsome gentlemanly looking nwoma who howeve i spite of he broad shoulder and narrow hip npossessed refined muliebrity superio to mere womanliness of outline nturned slightly towards si robert lady canterbridge frank cousi nexplained si robert hesitatingly a if conscious of some vague nawkwardness bradley and lady canterbridge both bowed possibly the nlatte salutatio wa the most masculine and bradley eventually nforgetting he presence plunged into a earnest sympathetic and nintelligent account of the conditio i which he found the invalid at nst moritz the old ma at first listened with a almost perfunctory ncourtesy and hesitating reserve but a bradley wa lapsing into nequal reserve and they drove up to the gate of the quadrangle he nunexpectedly warmed with word o two of serious welcome looking up nwith half unconscious smile bradley met lady canterbridge examining neyes nthe next morning finding a opportunity to be alone with him bradley nwith tactful mingling of sympathy and directness informed his host nthat he wa cognizant of the disaste that had overtake the bank and ndelicately begged him to accept any service he could rende him pardo nme he said if speak a plainly to you a would to you so my nfriendship fo him justifies a equal frankness to any one he love but ni should not intrude upo you confidence if did not believe that my nknowledge and assistance might be of benefit to you although did not nsell my land to richardso o approve of his method he continued nfea it wa some suggestio of mine that eventually induced him to form nthe large and more disastrous scheme that ruined the bank so you see nhe added lightly claim right to offe you my service touched nby bradley sincerity and discreet intelligence si robert wa equally nfrank during the recital of his california investment chronicle nof almost fatuous speculatio and imbecile enterprise bradley wa nprofoundly moved at the naive ignorance of business and hopeless ningenuousness of this old habitue of cynical world and a intriguing nand insincere society to whom no scheme had bee too wild fo nacceptance a bradley listened with half saddened smile to the grave nvisions of this aged enthusiast he remembered the so unsophisticated nsimplicity what he had considered a the boyishness of immaturity wa nthe taint of the utterly unpractical mainwaring blood it wa upo this nblood and others like it that oldenhurst had fo century waxed and nfattened nbradley wa true to his promise of assistance and with the aid of two no three of his brothe millionaire whose knowledge of the resource nof the locality wa no le powerful and convincing tha the security nof thei actual wealth managed to stay the immediate actio of the ncatastrophe until the affair of the sierra land and timbe company ncould be examined and some pla of reconstructio arranged nduring this interval of five month i which the credit of si robert nmainwaring wa preserved with the secret of his disaste bradley wa nfrequent and welcome visito to oldenhurst apart from his strange and nchivalrous friendship fo the mainwarings which wa a incomprehensible nto si robert a si robert equally eccentric and quixotic nspeculations had bee to bradley he bega to feel singula and weird nfascinatio fo the place patient marty i the vast londo house he nhad take fo his wife and cousi amusement he loved to escape the nloneliness of it autum solitude o the occasional greate loneliness nof his wife social triumph the handsome thoughtful ma who nsometimes appeared at the foot of his wife table o melted away like na well bred ghost i the hollow emptiness of he brilliant reception npiqued the languid curiosity of few distinguished personage know nfo his tactful observance of convenances that others forgot had made npoint of challenging this gentlemanly apparitio and had followed it up nwith courteous civility which led to exchange of much respect but no nincrease of acquaintance he had eve spent week at buckenthorpe with ncanterbridge i the covert and lady canterbridge i the music room and nlibrary he had returned more thoughtful and fo some time afte nwas more frequent i his appearance at home and more earnest i his nrenewed effort to induce his wife to retu to america with him you ll neve be happy anywhere but i california among those commo npeople she replied and while wa willing to share you poverty nthere she added dryly prefe to share you wealth among civilized nladies and gentleme besides she continued we must conside louise nshe is a good a engaged to lord dunshunne and do not intend that nyou shall make mess of he affair here a you did i california nit wa the first time he had heard of lord dunshunne proposal it nwas the first allusio she had eve made to louise and mainwaring nmeantime the autum leaf had falle silently ove the broad terrace nof oldenhurst with little change to the fortune of the great house nitself the christmas house party included lady canterbridge whose nhusband wa still detained at homburg i company with dunshunne nand bradley whose wife and cousi lingered o the continent he wa nslightly embarrassed whe lady canterbridge turned to him one afternoo na they were returning from the lake and congratulated him abruptly upo nlouise engagement perhaps you do care to be congratulated she said a he did not nimmediately respond and you had a little to do with it a with that nothe it is woma functio what othe echoed bradley nlady canterbridge slightly turned he handsome head towards him a she nwalked unbendingly at his side tell me how you manage to keep nyou absolute simplicity so fresh do you suppose it wa know at noldenhurst that frank had quite compromised himself with miss macy ove nthere it certainly wa not know ove there said bradley curtly do be angry with me nsuch a appeal from the tall indifferent woma at his side so nconfidently superio to criticism and uttered i low tone made him nsmile albeit uneasily only meant to congratulate you she continued carelessly dunshunne is not bad sort of fellow and will come into good nproperty some day and the society is so made up of caprice just nnow that it is well fo you wife cousi to make the most of he nopportunities while they last she is very popula now but next nseaso seeing that bradley remained silent she did not finish nthe sentence but said with he usual abruptness do you know miss naraminta eulalie sharpe nbradley started could any one recognize honest minty i the hopeless nvulgarity which this fine lady had managed to carelessly import into he nname his eye kindled she is a old friend of mine lady canterbridge how fortunate the ca please you by giving you good news of he nshe is the coming sensatio they say she is very rich but quite one of nthe people you know i fact she make no scruple of telling you he nfathe wa blacksmith think and take the dea old ma with he neverywhere fitzharry raf about he and say he naivete is something ntoo delicious she is regularly i with some of the best people already nlady dungeness ha take he up and northforeland is only waiting fo nyou cousi engagement to be able to go ove decently shall ask nhe to buckenthorpe come now a a apology fo my rudeness to you ncousi she wa very womanly now i spite of he high colla he nstraight back and he tightly fitting jacket a she stood there nsmiling suddenly he smile faded she drew he breath i quickly nshe had caught glimpse of his usually thoughtful face and eye now nilluminated with some pleasant memory thank you he said smilingly yet with certai hesitatio a nhe thought of the lookout and araminta eulalie sharpe and tried to nreconcile them with the lady before him should like it very much the you have know miss sharpe long time continued lady ncanterbridge a they walked o while we were at the lookout she wa ou nearest neighbo and suppose you wife will conside it quite prope fo you to nsee he agai at my house said lady canterbridge with retu of nconventional levity oh quite said bradley nthey had reached the low norma arched side entrance to the quadrangle na bradley swung ope the bolt studded oake doo to let he pas she nsaid carelessly the you are not coming i now no shall walk little longe and am quite forgive am thanking you very much he said smiling directly into he blue neyes she lowered them and vanished into the darkness of the passage nthe news of minty success wa furthe corroborated by si robert nwho late that evening called bradley into the study frank ha bee nwriting from nice that he ha renewed his acquaintance with some old ncalifornia friend of yours m and miss sharpe lady canterbridge nsays that they are well know i londo to some of ou friend but nwould like to ask you something about them lady mainwaring wa o the npoint of inviting them here whe received lette from m sharpe nasking fo business interview pray who is this sharpe you say he writes fo business interview asked bradley yes nbradley hesitated fo moment and the said quietly perhaps the nam justified i breach of confidence to him i orde to answe you nquestio he is the ma who ha assumed all the liability of the nsierra land and timbe company to enable the bank to resume payment nbut he did it o the conditio that you were neve to know it fo the nrest he wa blacksmith who made fortune a lady canterbridge will ntell you how very odd how kind mea should like to have bee civil to him no frank account alone should see him o business and be civil to him afterwards si nrobert received the america levity with his usual seriousness no they must come here fo christmas his daughte is araminta eulalie sharpe said bradley i defiant memory of lady ncanterbridge nsi robert winced audibly shall rely o you my dea boy to help me nmake it pleasant fo them he said nchristmas came but not minty it drew large contingent from noldenhurst to the quaint old church who came to view the gree wreathed nmonuments and wall spotted with crimso berry a if with the blood nof forme oldenhurst warrior and to impress the wondering villager nwith the ineffable goodness and bounty of the creato towards the lord nof oldenhurst and thei friend si robert little gouty kept the nhouse and bradley somewhat uneasy at the sharpes absence but more ndistrait with othe thought wandered listlessly i the long library nat the lowe angle it wa embayed into the octago space of forme ntowe which wa furnished a quaint recess fo writing o study npierced through it enormous wall with lance shaped window hidde by nheavy curtain he wa gazing abstractedly at the melancholy eye of si npercival looking dow from the dark panel opposite whe he heard the ncrisp rustle of skirt lady canterbridge tightly and stiffly buttoned ni black from he long narrow boot to he slim white collared neck nstood beside him with praye book i he ungloved hand bradley ncolored quickly the penetrating incense of the christmas bough nand branch that decked the wall and ceiling mingled with some nindefinable intoxicating aura from the woma at his side confused his nsenses he seemed to be losing himself i some forgotte past coeval nwith the long quaintly lighted room the rich hanging and the painted nancesto of this handsome woma he recovered himself with a effort nand said you are going to church may meet them coming home it all the same you like him she said nabruptly pointing to the portrait thought you did not care fo that nsort of ma ove there ma like that must have felt the impotence of his sacrifice before he ndied and that condoned everything said bradley thoughtfully the you do think him fool bob say it wa fai bargai fo na title and a office and that by dying he escaped trial and the nconfiscatio of what he had nbradley did not reply am disturbing you illusion agai yet rathe like them think nyou are quite capable of sacrifice perhaps you know what it is nalready nhe felt that she wa looking at him he felt equally that he could not nrespond with commonplace he wa silent have offended you agai m bradley she said please be nchristia and pardo me you know this is seaso of peace and ngoodwill she raised he blue eye at the same moment to the christmas ndecorations o the ceiling they were standing before the parted drapery nof the lance window midway betwee the arched curtain hung spray nof mistletoe the conceit of mischievous housemaid thei eye met it nsimultaneously nbradley had lady canterbridge slim white hand i his ow the next nmoment voice were heard i the passage and the doo nearly opposite to nthem opened deliberately the idea of thei apparent seclusio and half ncompromising attitude flashed through the mind of both at the same ntime lady canterbridge stepped quickly backward drawing bradley with nhe into the embrasure of the window the fold of the curtai swung ntogethe and concealed them from view nthe doo had bee opened by the footma ushering i broad shouldered nma who wa carrying travelling bag and a umbrella i his hand ndropping into a arm chai before the curtai he waved away the nfootma who eve now mechanically repeated previously vai attempt nto relieve the strange of his luggage you leave that ere grip sack where it is young ma and tell si nrobert mainwaring that m demande sharpe of californy wish to nsee him o business o business do ye hea you hang onte that nsentence o business it about ez much ez you ki carry recko nand leave that grip sack alone nfrom behind the curtai bradley made sudde movement to go forward nbut lady canterbridge now quite pale but collected restrained him with na warning movement of he hand si robert stick and halting step were nnext heard along the passage and he entered the room his simple and ncourteous greeting of the strange wa instantly followed by renewed nattack upo the grip sack and renewed defence of it by the nstrange no si robert said the voice argumentatively this ye a business ninterview and until it ove if you please we ll remai ez we ai ni demande sharpe of californy and and my darte minty oncet had nthe pleasure of knowing you boy ove tha and of meeting him agi the nothe day at nice think said si robert voice gently that these are not the only nclaims you have upo me have only day o two ago heard from nm bradley that owe to you generous hand and you disinterested nliberality the saving of my california fortune nthere wa the momentary sound of pushed back chai stamping of nfeet and the m sharpe voice rose high with the blacksmith old nquerulous aggrieved utterance so it that finiki conceited bradley agi that giv me away nef that ma all fired belief i his being the angel gabriel and da nwebste rolled inte one do beat anythi suppose that high flyi njay bird kalkilated to put you and me and my gal and ye boy inte nharness fo his fou ho chariot and he sitti kam o the box drivi nu why do he tend to his ow business and look arte his ow nconcerns instead leaving jinny bradley and loo macy dependent no king and queen and titled folk ge rally and he jim bradley nphilanderi with anothe ma wife while that tha ma is hard at nwork tryi to make honest livi fe his wife bucki agi faro a nthe tige ge rally at monaco eh and that ma inte meddli with nme ef continued the voice dropped to tone of hopeless moral nconvictio ef there a ma mo aly despise it that finiki jim nbradley you quite misunderstand me my dea si said si robert hurried nvoice he told me you had pledged him to secrecy and he only revealed nit to explai why you wished to see me nthere wa grunt of half placated wrath from sharpe and the the voice nresumed but more deliberately well to come back to business you ve ngot boy francis and ve got darte araminty they ve sorte ntake shine to each othe and they want to get married mind ye wait na moment it wa allus so no si whe my gal araminty first seed nyou boy i californy she wa poo and she did kalkilate to get ninte anybody family unbeknownst o o sufferance the she got rich nand you got poo and the hold o minit she allows doe my girl nthat there ai any neare chance thei making match tha they nwere afore fo she is goi to hev it said that she married you so nfu the chance of some day becomi lady mainwaring one moment m sharpe said the voice of the baronet gravely am nboth flattered and pained by what believe to be the kindly object of nyou visit indeed may say have gathered suspicio of what might nbe the sequel of this most unhappy acquaintance of my so and you ndaughte but cannot believe that he ha kept you i ignorance of his nunfortunate prospect and his still more unfortunate state of health whe told ye to hold o minit continued the blacksmith voice nwith touch of querulousness i it accent that wa jist wot wa ncomi to knowed part of it from my ow pocket she knowed the rest nof it from his lip and the doctor she interviewed and the she say to nme sez my girl minty pop she sez he got nothing to live fo now nbut his title and that he neve may live to get so that think ye ki njist go pop and fairly and squarely a honest ma ask his fathe nto let me hev him them my darte ow word si robert and whe ni tell ye that she got millio dollar to back them ye ll know nshe mean business every time did francis know that you were coming here bless ye no he do know that she would have him ef it kem to that nhe ai eve asked he she would let him until she wa sure of nyou the you mea to say there is no engagement i course not reckoned to do the square thing first with ye nthe halting step of the baronet crossing the room wa heard distinctly nhe had stopped beside sharpe my dea m sharpe he said i ntroubled voice cannot permit this sacrifice it is too too great the said sharpe voice querulously m afraid we must do without nyou permissio did recko to find sort british jim bradley ni you if you ca permit my darte to sacrifice herself by marryi nyou so ca permit he to sacrifice he love and him by not nmarryi him so recko this ye interview is ove am afraid we are both old fool m sharpe but we will talk this nove with lady mainwaring come there wa evidently slight struggle nnea the chai ove some inanimate object but the next moment the nbaronet voice rose persuasively really must insist upo nrelieving you of you bag and umbrella well if you ll let me telegraph yes to minty do care if ye ndo nwhe the room wa quiet agai lady canterbridge and james bradley nsilently slipped from the curtai and without word separated at the ndoo nthere wa merry christmas at oldenhurst and at nice but whethe nminty loving sacrifice wa accepted o not o whethe she eve nreigned a lady mainwaring o lived a untitled widow cannot nsay but a oldenhurst still exists i all it pride and powe it is npresumed that the peril that threatened it fortune wa averted nand that if anothe heroine wa not found worthy of frame i it npicture gallery at least it had bee sustained a of old by devotio nand renunciatio\n"
     ]
    }
   ],
   "source": [
    "print(documents[0])"
   ]
  },
  {
   "cell_type": "code",
   "execution_count": 13,
   "id": "former-benefit",
   "metadata": {},
   "outputs": [
    {
     "name": "stdout",
     "output_type": "stream",
     "text": [
      "Length of traning data:  106\n"
     ]
    }
   ],
   "source": [
    "# The training data after remove some numbers, special characters, and unwanted spaces\n",
    "print(\"Length of traning data: \", len(documents))"
   ]
  },
  {
   "cell_type": "markdown",
   "id": "hazardous-realtor",
   "metadata": {},
   "source": [
    "# 2. Perform data exploration"
   ]
  },
  {
   "cell_type": "code",
   "execution_count": 157,
   "id": "appropriate-fiction",
   "metadata": {},
   "outputs": [
    {
     "name": "stdout",
     "output_type": "stream",
     "text": [
      "[10, 6, 6, 10, 10, 10, 10, 10, 10, 8, 6, 10]\n"
     ]
    }
   ],
   "source": [
    "# Let see how many text files data for each author\n",
    "import matplotlib.pyplot as plt\n",
    "num_of_labels = [0 for i in range(0,12,1)]\n",
    "for i in range(len(y)):\n",
    "    for j in range(len(num_of_labels)):\n",
    "        if y[i] == j:\n",
    "            num_of_labels[j] = num_of_labels[j]+1\n",
    "print(num_of_labels)"
   ]
  },
  {
   "cell_type": "code",
   "execution_count": 158,
   "id": "unavailable-boxing",
   "metadata": {},
   "outputs": [],
   "source": [
    "# This is not an imbalence data so I think this data is good enough as exprerimental data for applying several\n",
    "# supervised methos to test."
   ]
  },
  {
   "cell_type": "code",
   "execution_count": 159,
   "id": "economic-robinson",
   "metadata": {
    "scrolled": false
   },
   "outputs": [
    {
     "data": {
      "text/plain": [
       "Text(0.5, 1.0, 'Total number of texts file for each author')"
      ]
     },
     "execution_count": 159,
     "metadata": {},
     "output_type": "execute_result"
    },
    {
     "data": {
      "image/png": "[encoded data removed]",
      "text/plain": [
       "<Figure size 1440x504 with 1 Axes>"
      ]
     },
     "metadata": {
      "needs_background": "light"
     },
     "output_type": "display_data"
    }
   ],
   "source": [
    "labels = [\"abraham_lincoln\", \"alexander_pope\", \"alfred_russel_wallace\", \"ambrose_bierce\", \"andrew_lang\", \n",
    "         \"anthony_trollope\", \"barnness_orczy\", \"beatrix_pother\", \"benjamin_disreali\", \"bertrand_russell\",\n",
    "         \"bram_stroker\", \"bret_harte\"]\n",
    "\n",
    "plt.figure(figsize=(20, 7))\n",
    "plt.bar(labels, num_of_labels)\n",
    "plt.title('Total number of texts file for each author')"
   ]
  },
  {
   "cell_type": "code",
   "execution_count": 160,
   "id": "smoking-needle",
   "metadata": {},
   "outputs": [
    {
     "name": "stdout",
     "output_type": "stream",
     "text": [
      "[1364954, 2635703, 3877423, 1835919, 2390413, 6050328, 4886331, 319762, 5261171, 2563908, 2930544, 2147467]\n"
     ]
    }
   ],
   "source": [
    "# Let see how many words data for each author\n",
    "number_of_words = [0 for i in range(0,12,1)]\n",
    "for i in range(len(y)):\n",
    "    for j in range(len(number_of_words)):\n",
    "        if y[i] == j:\n",
    "            number_of_words[j] = number_of_words[j]+len(documents[i])\n",
    "print(number_of_words)"
   ]
  },
  {
   "cell_type": "code",
   "execution_count": 161,
   "id": "modified-payday",
   "metadata": {
    "scrolled": false
   },
   "outputs": [
    {
     "data": {
      "text/plain": [
       "Text(0.5, 1.0, 'Total number of words for each author')"
      ]
     },
     "execution_count": 161,
     "metadata": {},
     "output_type": "execute_result"
    },
    {
     "data": {
      "image/png": "[encoded data removed]",
      "text/plain": [
       "<Figure size 1440x504 with 1 Axes>"
      ]
     },
     "metadata": {
      "needs_background": "light"
     },
     "output_type": "display_data"
    }
   ],
   "source": [
    "labels = [\"abraham_lincoln\", \"alexander_pope\", \"alfred_russel_wallace\", \"ambrose_bierce\", \"andrew_lang\", \n",
    "         \"anthony_trollope\", \"barnness_orczy\", \"beatrix_pother\", \"benjamin_disreali\", \"bertrand_russell\",\n",
    "         \"bram_stroker\", \"bret_harte\"]\n",
    "\n",
    "plt.figure(figsize=(20, 7))\n",
    "plt.bar(labels, number_of_words)\n",
    "plt.title('Total number of words for each author')"
   ]
  },
  {
   "cell_type": "markdown",
   "id": "neural-valve",
   "metadata": {},
   "source": [
    "# 3. Using Bag of Word, apply supervised models such as Naive Bayes, Logistic Regression, Decision Tree, Random Forest, KNN, SVM and Gradient Boosting, including GridSearchCV."
   ]
  },
  {
   "cell_type": "code",
   "execution_count": 162,
   "id": "plain-training",
   "metadata": {},
   "outputs": [],
   "source": [
    "# I am using the Bag of Word method to convert text documents into corresponding numerical features."
   ]
  },
  {
   "cell_type": "code",
   "execution_count": 14,
   "id": "controlled-contribution",
   "metadata": {},
   "outputs": [],
   "source": [
    "from sklearn.feature_extraction.text import CountVectorizer\n",
    "vectorizer = CountVectorizer(max_features=1500, min_df=5, max_df=0.7, stop_words=stopwords.words('english'))\n",
    "X = vectorizer.fit_transform(documents).toarray()"
   ]
  },
  {
   "cell_type": "code",
   "execution_count": 17,
   "id": "nasty-international",
   "metadata": {
    "scrolled": true
   },
   "outputs": [
    {
     "name": "stdout",
     "output_type": "stream",
     "text": [
      "1500\n"
     ]
    }
   ],
   "source": [
    "print(len(X[0]))"
   ]
  },
  {
   "cell_type": "code",
   "execution_count": 19,
   "id": "under-market",
   "metadata": {},
   "outputs": [
    {
     "name": "stdout",
     "output_type": "stream",
     "text": [
      "Total words in data:  159000\n"
     ]
    }
   ],
   "source": [
    "count = 0\n",
    "for i in range(len(X)):\n",
    "    count = count + len(X[i])\n",
    "print(\"Total words in data: \", count)"
   ]
  },
  {
   "cell_type": "code",
   "execution_count": 164,
   "id": "local-stroke",
   "metadata": {},
   "outputs": [],
   "source": [
    "# Divides data into 20% test set and 80% training set"
   ]
  },
  {
   "cell_type": "code",
   "execution_count": 165,
   "id": "pediatric-cameroon",
   "metadata": {},
   "outputs": [
    {
     "name": "stdout",
     "output_type": "stream",
     "text": [
      "Training data:  84 for features 84 for targets\n",
      "Training data:  22 for features 22 for targets\n"
     ]
    }
   ],
   "source": [
    "from sklearn.model_selection import train_test_split\n",
    "X_train, X_test, y_train, y_test = train_test_split(X, y, test_size=0.2, random_state=0)\n",
    "\n",
    "print(\"Training data: \", len(X_train), \"for features\", len(y_train), \"for targets\")\n",
    "print(\"Training data: \", len(X_test), \"for features\", len(y_test), \"for targets\")"
   ]
  },
  {
   "cell_type": "markdown",
   "id": "documentary-lending",
   "metadata": {},
   "source": [
    "## Naive Bayes"
   ]
  },
  {
   "cell_type": "code",
   "execution_count": 169,
   "id": "hairy-korean",
   "metadata": {},
   "outputs": [
    {
     "name": "stdout",
     "output_type": "stream",
     "text": [
      "Confusion matrix:  \n",
      " [[0 0 0 0 0 0 0 0 2 0 0]\n",
      " [0 1 0 0 0 0 0 0 0 0 0]\n",
      " [0 0 2 0 0 0 0 0 0 0 0]\n",
      " [0 0 0 0 0 0 0 0 3 0 0]\n",
      " [0 0 0 0 2 0 0 0 0 0 0]\n",
      " [0 0 0 0 1 0 0 0 3 0 0]\n",
      " [0 0 0 0 0 0 0 0 1 0 0]\n",
      " [0 0 0 0 0 0 0 1 0 0 0]\n",
      " [0 0 0 0 0 0 0 0 2 0 0]\n",
      " [0 0 0 0 0 0 0 0 0 2 0]\n",
      " [0 0 0 0 0 0 0 0 1 0 1]]\n",
      "Classification report:  \n",
      "               precision    recall  f1-score   support\n",
      "\n",
      "           0       0.00      0.00      0.00         2\n",
      "           1       1.00      1.00      1.00         1\n",
      "           2       1.00      1.00      1.00         2\n",
      "           3       0.00      0.00      0.00         3\n",
      "           4       0.67      1.00      0.80         2\n",
      "           5       0.00      0.00      0.00         4\n",
      "           6       0.00      0.00      0.00         1\n",
      "           7       1.00      1.00      1.00         1\n",
      "           8       0.17      1.00      0.29         2\n",
      "           9       1.00      1.00      1.00         2\n",
      "          11       1.00      0.50      0.67         2\n",
      "\n",
      "    accuracy                           0.50        22\n",
      "   macro avg       0.53      0.59      0.52        22\n",
      "weighted avg       0.44      0.50      0.43        22\n",
      "\n",
      "Accuracy score:  0.5\n"
     ]
    }
   ],
   "source": [
    "#Import Gaussian Naive Bayes model\n",
    "from sklearn.naive_bayes import GaussianNB\n",
    "#Import scikit-learn metrics module for accuracy calculation\n",
    "from sklearn import metrics\n",
    "from sklearn.metrics import classification_report, confusion_matrix, accuracy_score\n",
    "#Create a Gaussian Classifier\n",
    "gnb = GaussianNB()\n",
    "#Train the model using the training sets\n",
    "gnb.fit(X_train, y_train)\n",
    "#Predict the response for test dataset\n",
    "y_pred = gnb.predict(X_test)\n",
    "print(\"Confusion matrix: \", \"\\n\", confusion_matrix(y_test,y_pred))\n",
    "print(\"Classification report: \", \"\\n\", classification_report(y_test,y_pred))\n",
    "print(\"Accuracy score: \", accuracy_score(y_test, y_pred))"
   ]
  },
  {
   "cell_type": "markdown",
   "id": "incorporated-charger",
   "metadata": {},
   "source": [
    "## Logistic Regression"
   ]
  },
  {
   "cell_type": "code",
   "execution_count": 194,
   "id": "adopted-lender",
   "metadata": {},
   "outputs": [
    {
     "name": "stdout",
     "output_type": "stream",
     "text": [
      "Confusion matrix:  \n",
      " [[2 0 0 0 0 0 0 0 0 0 0 0]\n",
      " [0 1 0 0 0 0 0 0 0 0 0 0]\n",
      " [0 0 2 0 0 0 0 0 0 0 0 0]\n",
      " [0 0 0 1 0 0 0 0 0 0 0 2]\n",
      " [0 0 0 0 2 0 0 0 0 0 0 0]\n",
      " [0 0 0 0 0 2 0 0 0 0 1 1]\n",
      " [0 0 0 0 0 0 1 0 0 0 0 0]\n",
      " [0 0 0 0 0 0 0 1 0 0 0 0]\n",
      " [0 0 0 0 0 0 0 0 2 0 0 0]\n",
      " [0 0 0 0 0 0 0 0 0 2 0 0]\n",
      " [0 0 0 0 0 0 0 0 0 0 0 0]\n",
      " [0 0 0 0 0 0 0 0 0 0 0 2]]\n",
      "Classification report:  \n",
      "               precision    recall  f1-score   support\n",
      "\n",
      "           0       1.00      1.00      1.00         2\n",
      "           1       1.00      1.00      1.00         1\n",
      "           2       1.00      1.00      1.00         2\n",
      "           3       1.00      0.33      0.50         3\n",
      "           4       1.00      1.00      1.00         2\n",
      "           5       1.00      0.50      0.67         4\n",
      "           6       1.00      1.00      1.00         1\n",
      "           7       1.00      1.00      1.00         1\n",
      "           8       1.00      1.00      1.00         2\n",
      "           9       1.00      1.00      1.00         2\n",
      "          10       0.00      0.00      0.00         0\n",
      "          11       0.40      1.00      0.57         2\n",
      "\n",
      "    accuracy                           0.82        22\n",
      "   macro avg       0.87      0.82      0.81        22\n",
      "weighted avg       0.95      0.82      0.83        22\n",
      "\n",
      "Accuracy score:  0.8181818181818182\n"
     ]
    }
   ],
   "source": [
    "# import the class\n",
    "from sklearn.linear_model import LogisticRegression\n",
    "# instantiate the model (using the default parameters)\n",
    "logreg_dafault = LogisticRegression(solver='saga')\n",
    "# fit the model with data\n",
    "logreg_dafault.fit(X_train,y_train)\n",
    "#Predict the Y values from X_test data\n",
    "y_pred_LR = logreg_dafault.predict(X_test)\n",
    "print(\"Confusion matrix: \", \"\\n\", confusion_matrix(y_test,y_pred_LR))\n",
    "print(\"Classification report: \", \"\\n\", classification_report(y_test,y_pred_LR))\n",
    "print(\"Accuracy score: \", accuracy_score(y_test, y_pred_LR))"
   ]
  },
  {
   "cell_type": "markdown",
   "id": "collectible-strain",
   "metadata": {},
   "source": [
    "## Random Forest "
   ]
  },
  {
   "cell_type": "code",
   "execution_count": 168,
   "id": "vulnerable-glory",
   "metadata": {},
   "outputs": [
    {
     "name": "stdout",
     "output_type": "stream",
     "text": [
      "Confusion matrix:  \n",
      " [[2 0 0 0 0 0 0 0 0 0 0]\n",
      " [0 1 0 0 0 0 0 0 0 0 0]\n",
      " [0 0 2 0 0 0 0 0 0 0 0]\n",
      " [0 0 0 2 0 0 0 0 0 0 1]\n",
      " [1 0 0 0 1 0 0 0 0 0 0]\n",
      " [1 0 0 0 0 3 0 0 0 0 0]\n",
      " [0 0 0 0 0 0 1 0 0 0 0]\n",
      " [0 0 0 0 0 0 0 1 0 0 0]\n",
      " [0 0 0 0 1 0 0 0 1 0 0]\n",
      " [0 0 0 0 0 0 0 0 0 2 0]\n",
      " [0 0 0 0 0 0 0 0 0 0 2]]\n",
      "Classification report:  \n",
      "               precision    recall  f1-score   support\n",
      "\n",
      "           0       0.50      1.00      0.67         2\n",
      "           1       1.00      1.00      1.00         1\n",
      "           2       1.00      1.00      1.00         2\n",
      "           3       1.00      0.67      0.80         3\n",
      "           4       0.50      0.50      0.50         2\n",
      "           5       1.00      0.75      0.86         4\n",
      "           6       1.00      1.00      1.00         1\n",
      "           7       1.00      1.00      1.00         1\n",
      "           8       1.00      0.50      0.67         2\n",
      "           9       1.00      1.00      1.00         2\n",
      "          11       0.67      1.00      0.80         2\n",
      "\n",
      "    accuracy                           0.82        22\n",
      "   macro avg       0.88      0.86      0.84        22\n",
      "weighted avg       0.88      0.82      0.82        22\n",
      "\n",
      "Accuracy score:  0.8181818181818182\n"
     ]
    }
   ],
   "source": [
    "#Import Random Forest Model\n",
    "from sklearn.ensemble import RandomForestClassifier\n",
    "classifier = RandomForestClassifier(n_estimators=1000, random_state=0)\n",
    "classifier.fit(X_train, y_train)\n",
    "y_pred_rf = classifier.predict(X_test)\n",
    "print(\"Confusion matrix: \", \"\\n\", confusion_matrix(y_test,y_pred_rf))\n",
    "print(\"Classification report: \", \"\\n\", classification_report(y_test,y_pred_rf))\n",
    "print(\"Accuracy score: \", accuracy_score(y_test, y_pred_rf))"
   ]
  },
  {
   "cell_type": "markdown",
   "id": "absolute-nelson",
   "metadata": {},
   "source": [
    "## Decision Tree"
   ]
  },
  {
   "cell_type": "code",
   "execution_count": 180,
   "id": "worth-glasgow",
   "metadata": {},
   "outputs": [
    {
     "name": "stdout",
     "output_type": "stream",
     "text": [
      "Confusion matrix:  \n",
      " [[1 0 0 0 0 0 0 0 0 1 0]\n",
      " [0 0 0 0 1 0 0 0 0 0 0]\n",
      " [1 0 1 0 0 0 0 0 0 0 0]\n",
      " [0 0 0 0 1 2 0 0 0 0 0]\n",
      " [1 0 0 0 1 0 0 0 0 0 0]\n",
      " [0 1 0 1 0 2 0 0 0 0 0]\n",
      " [0 0 0 0 0 0 1 0 0 0 0]\n",
      " [0 0 0 0 0 0 0 1 0 0 0]\n",
      " [0 1 0 0 0 0 0 0 1 0 0]\n",
      " [0 0 0 0 0 0 0 0 0 0 2]\n",
      " [0 0 0 0 0 0 0 0 0 0 2]]\n",
      "Classification report:  \n",
      "               precision    recall  f1-score   support\n",
      "\n",
      "           0       0.33      0.50      0.40         2\n",
      "           1       0.00      0.00      0.00         1\n",
      "           2       1.00      0.50      0.67         2\n",
      "           3       0.00      0.00      0.00         3\n",
      "           4       0.33      0.50      0.40         2\n",
      "           5       0.50      0.50      0.50         4\n",
      "           6       1.00      1.00      1.00         1\n",
      "           7       1.00      1.00      1.00         1\n",
      "           8       1.00      0.50      0.67         2\n",
      "           9       0.00      0.00      0.00         2\n",
      "          11       0.50      1.00      0.67         2\n",
      "\n",
      "    accuracy                           0.45        22\n",
      "   macro avg       0.52      0.50      0.48        22\n",
      "weighted avg       0.47      0.45      0.44        22\n",
      "\n",
      "Accuracy score:  0.45454545454545453\n"
     ]
    }
   ],
   "source": [
    "# Import Decision Tree Classifier\n",
    "from sklearn.tree import DecisionTreeClassifier\n",
    "clf = DecisionTreeClassifier()\n",
    "clf = clf.fit(X_train,y_train)\n",
    "y_pred_DT = clf.predict(X_test)\n",
    "print(\"Confusion matrix: \", \"\\n\", confusion_matrix(y_test,y_pred_DT))\n",
    "print(\"Classification report: \", \"\\n\", classification_report(y_test,y_pred_DT))\n",
    "print(\"Accuracy score: \", accuracy_score(y_test, y_pred_DT))"
   ]
  },
  {
   "cell_type": "markdown",
   "id": "broadband-fairy",
   "metadata": {},
   "source": [
    "## Decision Tree with Entropy"
   ]
  },
  {
   "cell_type": "code",
   "execution_count": 182,
   "id": "deadly-maryland",
   "metadata": {},
   "outputs": [
    {
     "name": "stdout",
     "output_type": "stream",
     "text": [
      "Confusion matrix:  \n",
      " [[2 0 0 0 0 0 0 0 0 0 0 0]\n",
      " [0 0 0 0 1 0 0 0 0 0 0 0]\n",
      " [0 0 1 0 0 0 0 0 0 1 0 0]\n",
      " [0 0 0 1 0 1 0 0 1 0 0 0]\n",
      " [1 0 0 0 1 0 0 0 0 0 0 0]\n",
      " [0 0 0 1 0 2 1 0 0 0 0 0]\n",
      " [0 0 0 0 0 0 1 0 0 0 0 0]\n",
      " [0 0 0 0 0 0 0 1 0 0 0 0]\n",
      " [0 0 0 0 0 0 0 0 2 0 0 0]\n",
      " [0 0 0 0 0 0 0 0 0 2 0 0]\n",
      " [0 0 0 0 0 0 0 0 0 0 0 0]\n",
      " [0 0 0 0 0 0 0 0 0 0 2 0]]\n",
      "Classification report:  \n",
      "               precision    recall  f1-score   support\n",
      "\n",
      "           0       0.67      1.00      0.80         2\n",
      "           1       0.00      0.00      0.00         1\n",
      "           2       1.00      0.50      0.67         2\n",
      "           3       0.50      0.33      0.40         3\n",
      "           4       0.50      0.50      0.50         2\n",
      "           5       0.67      0.50      0.57         4\n",
      "           6       0.50      1.00      0.67         1\n",
      "           7       1.00      1.00      1.00         1\n",
      "           8       0.67      1.00      0.80         2\n",
      "           9       0.67      1.00      0.80         2\n",
      "          10       0.00      0.00      0.00         0\n",
      "          11       0.00      0.00      0.00         2\n",
      "\n",
      "    accuracy                           0.59        22\n",
      "   macro avg       0.51      0.57      0.52        22\n",
      "weighted avg       0.58      0.59      0.56        22\n",
      "\n",
      "Accuracy score:  0.5909090909090909\n"
     ]
    }
   ],
   "source": [
    "# Create Decision Tree classifer object with Entropy\n",
    "clfe = DecisionTreeClassifier(criterion='entropy')\n",
    "clfe = clfe.fit(X_train,y_train)\n",
    "y_pred_DTe = clfe.predict(X_test)\n",
    "print(\"Confusion matrix: \", \"\\n\", confusion_matrix(y_test,y_pred_DTe))\n",
    "print(\"Classification report: \", \"\\n\", classification_report(y_test,y_pred_DTe))\n",
    "print(\"Accuracy score: \", accuracy_score(y_test, y_pred_DTe))"
   ]
  },
  {
   "cell_type": "markdown",
   "id": "exceptional-cedar",
   "metadata": {},
   "source": [
    "## Gradient Boosting"
   ]
  },
  {
   "cell_type": "code",
   "execution_count": 183,
   "id": "occupied-meter",
   "metadata": {},
   "outputs": [
    {
     "name": "stdout",
     "output_type": "stream",
     "text": [
      "Confusion matrix:  \n",
      " [[2 0 0 0 0 0 0 0 0 0 0]\n",
      " [0 1 0 0 0 0 0 0 0 0 0]\n",
      " [0 0 2 0 0 0 0 0 0 0 0]\n",
      " [0 0 0 1 1 0 0 0 0 0 1]\n",
      " [1 0 0 0 1 0 0 0 0 0 0]\n",
      " [0 0 0 1 0 2 0 1 0 0 0]\n",
      " [0 0 0 0 0 0 1 0 0 0 0]\n",
      " [0 0 0 0 0 0 0 1 0 0 0]\n",
      " [0 0 0 0 0 0 0 0 2 0 0]\n",
      " [0 0 0 0 0 1 0 0 0 1 0]\n",
      " [0 0 0 0 0 0 0 0 0 0 2]]\n",
      "Classification report:  \n",
      "               precision    recall  f1-score   support\n",
      "\n",
      "           0       0.67      1.00      0.80         2\n",
      "           1       1.00      1.00      1.00         1\n",
      "           2       1.00      1.00      1.00         2\n",
      "           3       0.50      0.33      0.40         3\n",
      "           4       0.50      0.50      0.50         2\n",
      "           5       0.67      0.50      0.57         4\n",
      "           6       1.00      1.00      1.00         1\n",
      "           7       0.50      1.00      0.67         1\n",
      "           8       1.00      1.00      1.00         2\n",
      "           9       1.00      0.50      0.67         2\n",
      "          11       0.67      1.00      0.80         2\n",
      "\n",
      "    accuracy                           0.73        22\n",
      "   macro avg       0.77      0.80      0.76        22\n",
      "weighted avg       0.74      0.73      0.71        22\n",
      "\n",
      "Accuracy score:  0.7272727272727273\n"
     ]
    }
   ],
   "source": [
    "from sklearn.ensemble import GradientBoostingClassifier\n",
    "from sklearn.metrics import mean_squared_error\n",
    "clf_GB = GradientBoostingClassifier(random_state=0)\n",
    "clf_GB.fit(X_train, y_train)\n",
    "y_pred_GB = clf_GB.predict(X_test)\n",
    "print(\"Confusion matrix: \", \"\\n\", confusion_matrix(y_test,y_pred_GB))\n",
    "print(\"Classification report: \", \"\\n\", classification_report(y_test,y_pred_GB))\n",
    "print(\"Accuracy score: \", accuracy_score(y_test, y_pred_GB))"
   ]
  },
  {
   "cell_type": "markdown",
   "id": "turned-introduction",
   "metadata": {},
   "source": [
    "## SVM(Support Vector Machines)"
   ]
  },
  {
   "cell_type": "code",
   "execution_count": 186,
   "id": "agricultural-manitoba",
   "metadata": {},
   "outputs": [
    {
     "name": "stdout",
     "output_type": "stream",
     "text": [
      "Confusion matrix:  \n",
      " [[1 0 0 0 0 0 0 1 0 0 0]\n",
      " [0 1 0 0 0 0 0 0 0 0 0]\n",
      " [0 0 0 0 0 0 0 0 2 0 0]\n",
      " [0 0 0 1 0 0 0 1 0 0 1]\n",
      " [0 0 0 0 0 0 0 1 1 0 0]\n",
      " [0 0 0 0 0 0 0 1 3 0 0]\n",
      " [0 0 0 0 0 0 0 0 1 0 0]\n",
      " [0 0 0 0 0 0 0 1 0 0 0]\n",
      " [0 0 0 0 0 0 0 0 2 0 0]\n",
      " [0 0 0 0 0 0 0 0 2 0 0]\n",
      " [0 0 0 0 0 0 0 0 0 0 2]]\n",
      "Classification report:  \n",
      "               precision    recall  f1-score   support\n",
      "\n",
      "           0       1.00      0.50      0.67         2\n",
      "           1       1.00      1.00      1.00         1\n",
      "           2       0.00      0.00      0.00         2\n",
      "           3       1.00      0.33      0.50         3\n",
      "           4       0.00      0.00      0.00         2\n",
      "           5       0.00      0.00      0.00         4\n",
      "           6       0.00      0.00      0.00         1\n",
      "           7       0.20      1.00      0.33         1\n",
      "           8       0.18      1.00      0.31         2\n",
      "           9       0.00      0.00      0.00         2\n",
      "          11       0.67      1.00      0.80         2\n",
      "\n",
      "    accuracy                           0.36        22\n",
      "   macro avg       0.37      0.44      0.33        22\n",
      "weighted avg       0.36      0.36      0.29        22\n",
      "\n",
      "Accuracy score:  0.36363636363636365\n"
     ]
    }
   ],
   "source": [
    "from sklearn.pipeline import make_pipeline\n",
    "from sklearn.preprocessing import StandardScaler\n",
    "from sklearn.svm import SVC\n",
    "import numpy as np\n",
    "import warnings\n",
    "warnings.filterwarnings('ignore')\n",
    "warnings.simplefilter('ignore')\n",
    "clf_SVM = make_pipeline(StandardScaler(), SVC(gamma='auto',max_iter=200,probability=True))\n",
    "clf_SVM.fit(X_train, y_train)\n",
    "y_test_SVM = clf_SVM.predict(X_test)\n",
    "print(\"Confusion matrix: \", \"\\n\", confusion_matrix(y_test,y_test_SVM))\n",
    "print(\"Classification report: \", \"\\n\", classification_report(y_test,y_test_SVM))\n",
    "print(\"Accuracy score: \", accuracy_score(y_test, y_test_SVM))"
   ]
  },
  {
   "cell_type": "markdown",
   "id": "persistent-andorra",
   "metadata": {},
   "source": [
    "## KNN"
   ]
  },
  {
   "cell_type": "code",
   "execution_count": 187,
   "id": "inclusive-supervisor",
   "metadata": {},
   "outputs": [
    {
     "name": "stdout",
     "output_type": "stream",
     "text": [
      "Confusion matrix:  \n",
      " [[2 0 0 0 0 0 0 0 0 0 0]\n",
      " [0 1 0 0 0 0 0 0 0 0 0]\n",
      " [0 0 2 0 0 0 0 0 0 0 0]\n",
      " [0 0 0 2 0 0 0 0 0 0 1]\n",
      " [0 0 0 1 0 0 0 1 0 0 0]\n",
      " [1 0 0 0 0 1 0 0 0 0 2]\n",
      " [0 0 0 0 1 0 0 0 0 0 0]\n",
      " [0 0 0 0 0 0 0 1 0 0 0]\n",
      " [0 0 0 1 0 0 0 0 1 0 0]\n",
      " [0 0 0 0 0 0 0 0 0 2 0]\n",
      " [0 0 0 0 0 0 0 0 0 0 2]]\n",
      "Classification report:  \n",
      "               precision    recall  f1-score   support\n",
      "\n",
      "           0       0.67      1.00      0.80         2\n",
      "           1       1.00      1.00      1.00         1\n",
      "           2       1.00      1.00      1.00         2\n",
      "           3       0.50      0.67      0.57         3\n",
      "           4       0.00      0.00      0.00         2\n",
      "           5       1.00      0.25      0.40         4\n",
      "           6       0.00      0.00      0.00         1\n",
      "           7       0.50      1.00      0.67         1\n",
      "           8       1.00      0.50      0.67         2\n",
      "           9       1.00      1.00      1.00         2\n",
      "          11       0.40      1.00      0.57         2\n",
      "\n",
      "    accuracy                           0.64        22\n",
      "   macro avg       0.64      0.67      0.61        22\n",
      "weighted avg       0.69      0.64      0.59        22\n",
      "\n",
      "Accuracy score:  0.6363636363636364\n"
     ]
    }
   ],
   "source": [
    "from sklearn.neighbors import KNeighborsClassifier\n",
    "neigh = KNeighborsClassifier(n_neighbors=1)\n",
    "neigh.fit(X_train, y_train)\n",
    "y_test_knn = neigh.predict(X_test)\n",
    "print(\"Confusion matrix: \", \"\\n\", confusion_matrix(y_test,y_test_knn))\n",
    "print(\"Classification report: \", \"\\n\", classification_report(y_test,y_test_knn))\n",
    "print(\"Accuracy score: \", accuracy_score(y_test, y_test_knn))"
   ]
  },
  {
   "cell_type": "markdown",
   "id": "first-virtue",
   "metadata": {},
   "source": [
    "## Summary - 1"
   ]
  },
  {
   "cell_type": "code",
   "execution_count": 201,
   "id": "responsible-compact",
   "metadata": {},
   "outputs": [],
   "source": [
    "# 1. Accuracy score with Naive Bayes:  0.5\n",
    "# 2. Accuracy score with Logistic Regression:  0.8181818181818182\n",
    "# 3. Accuracy score with Random Forest:  0.8181818181818182\n",
    "# 4. Accuracy score with Decision Tree:  0.45454545454545453 without Entropy AND 0.5909090909090909 with Entropy\n",
    "# 5. Accuracy score with Gradient Boosting: 0.7272727272727273\n",
    "# 6. Accuracy score with SVM(Support Vector Machines): 0.36363636363636365\n",
    "# 7. Accuracy score with KNN: 0.6363636363636364"
   ]
  },
  {
   "cell_type": "markdown",
   "id": "secondary-lighting",
   "metadata": {},
   "source": [
    "# Applying GridSearchCV"
   ]
  },
  {
   "cell_type": "markdown",
   "id": "oriented-burning",
   "metadata": {},
   "source": [
    "## Logistic Regression"
   ]
  },
  {
   "cell_type": "code",
   "execution_count": 190,
   "id": "gross-reggae",
   "metadata": {},
   "outputs": [
    {
     "name": "stdout",
     "output_type": "stream",
     "text": [
      "The best parameter for Logistic Regression model:  {'C': 0.001, 'dual': False, 'fit_intercept': True, 'max_iter': 150, 'penalty': 'l2', 'solver': 'saga'}\n"
     ]
    }
   ],
   "source": [
    "from sklearn.model_selection import GridSearchCV\n",
    "from sklearn.linear_model import LogisticRegression\n",
    "import warnings\n",
    "warnings.filterwarnings('ignore')\n",
    "warnings.simplefilter('ignore')\n",
    "\n",
    "params = {'penalty':['l1', 'l2'],'dual':[True, False],'C':[0.001, 0.01, 0.1, 1, 10, 100, 1000], \n",
    "          'fit_intercept':[True, False],'solver':['saga'],'max_iter':[100,150]}\n",
    "\n",
    "gridlog = GridSearchCV(LogisticRegression(), params,scoring= 'f1_micro', cv=5, n_jobs=2)\n",
    "gridlog.fit(X_train, y_train)\n",
    "print(\"The best parameter for Logistic Regression model: \",gridlog.best_params_)"
   ]
  },
  {
   "cell_type": "code",
   "execution_count": 191,
   "id": "direct-uzbekistan",
   "metadata": {},
   "outputs": [
    {
     "name": "stdout",
     "output_type": "stream",
     "text": [
      "Confusion matrix:  \n",
      " [[2 0 0 0 0 0 0 0 0 0 0 0]\n",
      " [0 1 0 0 0 0 0 0 0 0 0 0]\n",
      " [0 0 2 0 0 0 0 0 0 0 0 0]\n",
      " [0 0 0 3 0 0 0 0 0 0 0 0]\n",
      " [0 0 0 0 2 0 0 0 0 0 0 0]\n",
      " [0 0 0 0 0 1 0 0 0 0 1 2]\n",
      " [0 0 0 0 0 0 1 0 0 0 0 0]\n",
      " [0 0 0 0 0 0 0 1 0 0 0 0]\n",
      " [0 0 0 0 1 0 0 0 1 0 0 0]\n",
      " [0 0 0 0 0 0 0 0 0 2 0 0]\n",
      " [0 0 0 0 0 0 0 0 0 0 0 0]\n",
      " [0 0 0 0 0 0 0 0 0 0 0 2]]\n",
      "Classification report:  \n",
      "               precision    recall  f1-score   support\n",
      "\n",
      "           0       1.00      1.00      1.00         2\n",
      "           1       1.00      1.00      1.00         1\n",
      "           2       1.00      1.00      1.00         2\n",
      "           3       1.00      1.00      1.00         3\n",
      "           4       0.67      1.00      0.80         2\n",
      "           5       1.00      0.25      0.40         4\n",
      "           6       1.00      1.00      1.00         1\n",
      "           7       1.00      1.00      1.00         1\n",
      "           8       1.00      0.50      0.67         2\n",
      "           9       1.00      1.00      1.00         2\n",
      "          10       0.00      0.00      0.00         0\n",
      "          11       0.50      1.00      0.67         2\n",
      "\n",
      "    accuracy                           0.82        22\n",
      "   macro avg       0.85      0.81      0.79        22\n",
      "weighted avg       0.92      0.82      0.81        22\n",
      "\n",
      "Accuracy score:  0.8181818181818182\n"
     ]
    }
   ],
   "source": [
    "#using the parameters from gridseaarchCV for Logistic Regression\n",
    "logreg = LogisticRegression(C= 0.001, dual= False, fit_intercept = True, max_iter=150, penalty= 'l2', solver='saga')\n",
    "# fit the model with data\n",
    "logreg.fit(X_train,y_train)\n",
    "#Predict the Y values from X_test data\n",
    "y_pred_LR_GridSearchCV = logreg.predict(X_test)\n",
    "print(\"Confusion matrix: \", \"\\n\", confusion_matrix(y_test,y_pred_LR_GridSearchCV))\n",
    "print(\"Classification report: \", \"\\n\", classification_report(y_test,y_pred_LR_GridSearchCV))\n",
    "print(\"Accuracy score: \", accuracy_score(y_test, y_pred_LR_GridSearchCV))"
   ]
  },
  {
   "cell_type": "markdown",
   "id": "animated-buffalo",
   "metadata": {},
   "source": [
    "## Random Forest"
   ]
  },
  {
   "cell_type": "code",
   "execution_count": 199,
   "id": "broken-palace",
   "metadata": {},
   "outputs": [
    {
     "name": "stdout",
     "output_type": "stream",
     "text": [
      "The best parameter for Decision Tree model:  {'criterion': 'gini', 'max_depth': 10, 'max_features': 'auto', 'max_leaf_nodes': 12, 'min_samples_split': 2, 'n_estimators': 250}\n"
     ]
    }
   ],
   "source": [
    "from sklearn.ensemble import RandomForestClassifier\n",
    "params = {'n_estimators':[200,250],'criterion':['gini','entropy'], 'max_depth':[8,10,12],\n",
    "         'min_samples_split':[1,2],'max_leaf_nodes':[10,12],'max_features':['auto', 'sqrt', 'log2']}\n",
    "rf = RandomForestClassifier()\n",
    "grid_rf = GridSearchCV(rf, params)\n",
    "grid_rf.fit(X_train, y_train)\n",
    "print(\"The best parameter for Decision Tree model: \",grid_rf.best_params_)"
   ]
  },
  {
   "cell_type": "code",
   "execution_count": 200,
   "id": "welsh-hazard",
   "metadata": {},
   "outputs": [
    {
     "name": "stdout",
     "output_type": "stream",
     "text": [
      "Confusion matrix:  \n",
      " [[1 0 0 0 0 0 0 1 0 0 0]\n",
      " [0 1 0 0 0 0 0 0 0 0 0]\n",
      " [0 0 2 0 0 0 0 0 0 0 0]\n",
      " [0 0 0 2 0 0 0 0 0 0 1]\n",
      " [1 0 0 0 1 0 0 0 0 0 0]\n",
      " [0 0 0 0 0 3 0 1 0 0 0]\n",
      " [0 0 0 0 0 0 1 0 0 0 0]\n",
      " [0 0 0 0 0 0 0 1 0 0 0]\n",
      " [0 0 0 0 1 0 0 0 1 0 0]\n",
      " [0 0 0 0 0 0 0 0 0 2 0]\n",
      " [0 0 0 0 0 0 0 0 0 0 2]]\n",
      "Classification report:  \n",
      "               precision    recall  f1-score   support\n",
      "\n",
      "           0       0.50      0.50      0.50         2\n",
      "           1       1.00      1.00      1.00         1\n",
      "           2       1.00      1.00      1.00         2\n",
      "           3       1.00      0.67      0.80         3\n",
      "           4       0.50      0.50      0.50         2\n",
      "           5       1.00      0.75      0.86         4\n",
      "           6       1.00      1.00      1.00         1\n",
      "           7       0.33      1.00      0.50         1\n",
      "           8       1.00      0.50      0.67         2\n",
      "           9       1.00      1.00      1.00         2\n",
      "          11       0.67      1.00      0.80         2\n",
      "\n",
      "    accuracy                           0.77        22\n",
      "   macro avg       0.82      0.81      0.78        22\n",
      "weighted avg       0.85      0.77      0.78        22\n",
      "\n",
      "Accuracy score:  0.7727272727272727\n"
     ]
    }
   ],
   "source": [
    "#Create a Gaussian Classifier\n",
    "clf_RF = RandomForestClassifier(criterion='gini', max_depth= 10, max_features='auto', \n",
    "                                max_leaf_nodes= 12, min_samples_split= 2, n_estimators= 250)\n",
    "\n",
    "#Train the model using the training sets y_pred=clf.predict(X_test)\n",
    "clf_RF.fit(X_train,y_train)\n",
    "\n",
    "# Using model to predict\n",
    "y_pred_RF_GridSearchCV = clf_RF.predict(X_test)\n",
    "print(\"Confusion matrix: \", \"\\n\", confusion_matrix(y_test,y_pred_RF_GridSearchCV))\n",
    "print(\"Classification report: \", \"\\n\", classification_report(y_test,y_pred_RF_GridSearchCV))\n",
    "print(\"Accuracy score: \", accuracy_score(y_test, y_pred_RF_GridSearchCV))"
   ]
  },
  {
   "cell_type": "markdown",
   "id": "printable-twelve",
   "metadata": {},
   "source": [
    "## Gradient Boosting"
   ]
  },
  {
   "cell_type": "code",
   "execution_count": 206,
   "id": "otherwise-distance",
   "metadata": {},
   "outputs": [
    {
     "name": "stdout",
     "output_type": "stream",
     "text": [
      "The best parameter for Decision Tree model:  {'learning_rate': 0.06, 'max_depth': 12, 'max_features': 'log2', 'max_leaf_nodes': 2, 'min_samples_split': 4, 'n_estimators': 200}\n"
     ]
    }
   ],
   "source": [
    "from sklearn.model_selection import GridSearchCV\n",
    "from sklearn.ensemble import GradientBoostingClassifier\n",
    "# Call the model\n",
    "clf_GB = GradientBoostingClassifier()\n",
    "params = {'learning_rate':[0.06,0.08],'n_estimators':[200,250], 'max_depth':[8,9,10,12],\n",
    "         'min_samples_split':[2,4],'max_leaf_nodes':[1,2],'max_features':['auto', 'sqrt', 'log2']}\n",
    "\n",
    "grid_gb = GridSearchCV(clf_GB, params)\n",
    "grid_gb.fit(X_train, y_train)\n",
    "print(\"The best parameter for Decision Tree model: \",grid_gb.best_params_)"
   ]
  },
  {
   "cell_type": "code",
   "execution_count": 207,
   "id": "steady-drunk",
   "metadata": {},
   "outputs": [
    {
     "name": "stdout",
     "output_type": "stream",
     "text": [
      "Confusion matrix:  \n",
      " [[2 0 0 0 0 0 0 0 0 0 0]\n",
      " [0 1 0 0 0 0 0 0 0 0 0]\n",
      " [0 0 2 0 0 0 0 0 0 0 0]\n",
      " [0 0 0 3 0 0 0 0 0 0 0]\n",
      " [1 0 0 0 1 0 0 0 0 0 0]\n",
      " [1 0 0 0 0 3 0 0 0 0 0]\n",
      " [0 0 0 0 0 0 1 0 0 0 0]\n",
      " [0 0 0 0 0 0 0 1 0 0 0]\n",
      " [0 0 0 1 0 0 0 0 1 0 0]\n",
      " [0 0 0 0 0 0 0 0 0 2 0]\n",
      " [0 0 0 0 0 0 0 0 0 0 2]]\n",
      "Classification report:  \n",
      "               precision    recall  f1-score   support\n",
      "\n",
      "           0       0.50      1.00      0.67         2\n",
      "           1       1.00      1.00      1.00         1\n",
      "           2       1.00      1.00      1.00         2\n",
      "           3       0.75      1.00      0.86         3\n",
      "           4       1.00      0.50      0.67         2\n",
      "           5       1.00      0.75      0.86         4\n",
      "           6       1.00      1.00      1.00         1\n",
      "           7       1.00      1.00      1.00         1\n",
      "           8       1.00      0.50      0.67         2\n",
      "           9       1.00      1.00      1.00         2\n",
      "          11       1.00      1.00      1.00         2\n",
      "\n",
      "    accuracy                           0.86        22\n",
      "   macro avg       0.93      0.89      0.88        22\n",
      "weighted avg       0.92      0.86      0.86        22\n",
      "\n",
      "Accuracy score:  0.8636363636363636\n"
     ]
    }
   ],
   "source": [
    "# Call the model\n",
    "clf_GB = GradientBoostingClassifier(learning_rate= 0.06, max_depth= 12, max_features= 'log2',\n",
    "                                    max_leaf_nodes= 2, min_samples_split= 4, n_estimators= 200,random_state=0)\n",
    "#Fit the model\n",
    "clf_GB.fit(X_train, y_train)\n",
    "#Use the model to predict\n",
    "y_pred_GB_GridSearchCV = clf_GB.predict(X_test)\n",
    "print(\"Confusion matrix: \", \"\\n\", confusion_matrix(y_test,y_pred_GB_GridSearchCV))\n",
    "print(\"Classification report: \", \"\\n\", classification_report(y_test,y_pred_GB_GridSearchCV))\n",
    "print(\"Accuracy score: \", accuracy_score(y_test, y_pred_GB_GridSearchCV))"
   ]
  },
  {
   "cell_type": "markdown",
   "id": "square-honey",
   "metadata": {},
   "source": [
    "## Decision Tree"
   ]
  },
  {
   "cell_type": "code",
   "execution_count": 197,
   "id": "radio-habitat",
   "metadata": {},
   "outputs": [
    {
     "name": "stdout",
     "output_type": "stream",
     "text": [
      "The best parameter for Decision Tree model:  {'criterion': 'gini', 'max_depth': 9, 'max_leaf_nodes': 12, 'min_samples_split': 3, 'splitter': 'best'}\n"
     ]
    }
   ],
   "source": [
    "from sklearn.tree import DecisionTreeClassifier\n",
    "from sklearn.model_selection import GridSearchCV\n",
    "\n",
    "params = {'criterion':['gini','entropy'], 'splitter':['best', 'random'],'max_depth':[4,5,6,7,8,9,10],\n",
    "          'min_samples_split':[1,2,3,4,5],'max_leaf_nodes':[10,12,14,16,18,20]}\n",
    "dt = DecisionTreeClassifier()\n",
    "grid_dt = GridSearchCV(dt, params)\n",
    "grid_dt.fit(X_train, y_train)\n",
    "print(\"The best parameter for Decision Tree model: \",grid_dt.best_params_)"
   ]
  },
  {
   "cell_type": "code",
   "execution_count": 198,
   "id": "neural-basement",
   "metadata": {},
   "outputs": [
    {
     "name": "stdout",
     "output_type": "stream",
     "text": [
      "Confusion matrix:  \n",
      " [[2 0 0 0 0 0 0 0 0 0 0 0]\n",
      " [0 1 0 0 0 0 0 0 0 0 0 0]\n",
      " [0 0 0 0 0 0 0 0 0 2 0 0]\n",
      " [1 0 0 1 0 0 0 0 1 0 0 0]\n",
      " [1 0 0 0 1 0 0 0 0 0 0 0]\n",
      " [0 0 0 0 0 4 0 0 0 0 0 0]\n",
      " [0 0 0 0 0 1 0 0 0 0 0 0]\n",
      " [0 0 0 0 0 0 0 1 0 0 0 0]\n",
      " [0 1 0 0 0 0 0 0 1 0 0 0]\n",
      " [0 0 0 0 0 0 0 0 0 2 0 0]\n",
      " [0 0 0 0 0 0 0 0 0 0 0 0]\n",
      " [0 0 0 0 0 0 0 0 0 0 1 1]]\n",
      "Classification report:  \n",
      "               precision    recall  f1-score   support\n",
      "\n",
      "           0       0.50      1.00      0.67         2\n",
      "           1       0.50      1.00      0.67         1\n",
      "           2       0.00      0.00      0.00         2\n",
      "           3       1.00      0.33      0.50         3\n",
      "           4       1.00      0.50      0.67         2\n",
      "           5       0.80      1.00      0.89         4\n",
      "           6       0.00      0.00      0.00         1\n",
      "           7       1.00      1.00      1.00         1\n",
      "           8       0.50      0.50      0.50         2\n",
      "           9       0.50      1.00      0.67         2\n",
      "          10       0.00      0.00      0.00         0\n",
      "          11       1.00      0.50      0.67         2\n",
      "\n",
      "    accuracy                           0.64        22\n",
      "   macro avg       0.57      0.57      0.52        22\n",
      "weighted avg       0.67      0.64      0.59        22\n",
      "\n",
      "Accuracy score:  0.6363636363636364\n"
     ]
    }
   ],
   "source": [
    "#using the parameters from gridseaarchCV for Decision Tree model\n",
    "clf = DecisionTreeClassifier(criterion= 'entropy', max_depth= 9, max_leaf_nodes= 12, min_samples_split= 3, \n",
    "                             splitter= 'best')\n",
    "# Train Decision Tree Classifer\n",
    "clf = clf.fit(X_train,y_train)\n",
    "#Predict the response for test dataset\n",
    "y_pred_DT_GridSearchCV = clf.predict(X_test)\n",
    "print(\"Confusion matrix: \", \"\\n\", confusion_matrix(y_test,y_pred_DT_GridSearchCV))\n",
    "print(\"Classification report: \", \"\\n\", classification_report(y_test,y_pred_DT_GridSearchCV))\n",
    "print(\"Accuracy score: \", accuracy_score(y_test, y_pred_DT_GridSearchCV))"
   ]
  },
  {
   "cell_type": "markdown",
   "id": "german-bracket",
   "metadata": {},
   "source": [
    "## SVM"
   ]
  },
  {
   "cell_type": "code",
   "execution_count": 202,
   "id": "tracked-conviction",
   "metadata": {},
   "outputs": [
    {
     "name": "stdout",
     "output_type": "stream",
     "text": [
      "The best parameter for SVM model:  {'C': 1, 'kernel': 'linear', 'max_iter': 100}\n"
     ]
    }
   ],
   "source": [
    "from sklearn import svm\n",
    "svc = svm.SVC(gamma='auto')\n",
    "parameters = {'kernel':('linear','rbf'), \n",
    "              'C':[1, 20],'max_iter':[100,200]}\n",
    "clf = GridSearchCV(svc, parameters)\n",
    "clf.fit(X_train, y_train)\n",
    "print(\"The best parameter for SVM model: \",clf.best_params_)"
   ]
  },
  {
   "cell_type": "code",
   "execution_count": 203,
   "id": "fewer-madison",
   "metadata": {
    "scrolled": true
   },
   "outputs": [
    {
     "name": "stdout",
     "output_type": "stream",
     "text": [
      "Confusion matrix:  \n",
      " [[2 0 0 0 0 0 0 0 0 0 0 0]\n",
      " [0 1 0 0 0 0 0 0 0 0 0 0]\n",
      " [0 0 2 0 0 0 0 0 0 0 0 0]\n",
      " [0 0 0 2 0 0 0 0 0 0 0 1]\n",
      " [1 0 0 0 1 0 0 0 0 0 0 0]\n",
      " [0 0 0 0 2 0 0 1 0 0 1 0]\n",
      " [0 1 0 0 0 0 0 0 0 0 0 0]\n",
      " [0 0 0 0 0 0 0 1 0 0 0 0]\n",
      " [0 0 0 0 2 0 0 0 0 0 0 0]\n",
      " [0 0 0 0 0 0 0 0 0 2 0 0]\n",
      " [0 0 0 0 0 0 0 0 0 0 0 0]\n",
      " [0 0 0 0 0 0 0 0 0 0 0 2]]\n",
      "Classification report:  \n",
      "               precision    recall  f1-score   support\n",
      "\n",
      "           0       0.67      1.00      0.80         2\n",
      "           1       0.50      1.00      0.67         1\n",
      "           2       1.00      1.00      1.00         2\n",
      "           3       1.00      0.67      0.80         3\n",
      "           4       0.20      0.50      0.29         2\n",
      "           5       0.00      0.00      0.00         4\n",
      "           6       0.00      0.00      0.00         1\n",
      "           7       0.50      1.00      0.67         1\n",
      "           8       0.00      0.00      0.00         2\n",
      "           9       1.00      1.00      1.00         2\n",
      "          10       0.00      0.00      0.00         0\n",
      "          11       0.67      1.00      0.80         2\n",
      "\n",
      "    accuracy                           0.59        22\n",
      "   macro avg       0.46      0.60      0.50        22\n",
      "weighted avg       0.50      0.59      0.52        22\n",
      "\n",
      "Accuracy score:  0.5909090909090909\n"
     ]
    }
   ],
   "source": [
    "clf_SVM = make_pipeline(StandardScaler(), SVC(gamma='auto',C= 1, kernel= 'linear', max_iter= 100,\n",
    "                                              probability=True))\n",
    "clf_SVM.fit(X_train, y_train)\n",
    "y_test_SVM_GridSearchCV = clf_SVM.predict(X_test)\n",
    "print(\"Confusion matrix: \", \"\\n\", confusion_matrix(y_test,y_test_SVM_GridSearchCV))\n",
    "print(\"Classification report: \", \"\\n\", classification_report(y_test,y_test_SVM_GridSearchCV))\n",
    "print(\"Accuracy score: \", accuracy_score(y_test, y_test_SVM_GridSearchCV))"
   ]
  },
  {
   "cell_type": "markdown",
   "id": "visible-differential",
   "metadata": {},
   "source": [
    "## KNN"
   ]
  },
  {
   "cell_type": "code",
   "execution_count": 214,
   "id": "dominican-plate",
   "metadata": {},
   "outputs": [
    {
     "name": "stdout",
     "output_type": "stream",
     "text": [
      "The best parameter for SVM model:  {'n_neighbors': 1, 'weights': 'uniform'}\n"
     ]
    }
   ],
   "source": [
    "from sklearn.neighbors import KNeighborsClassifier\n",
    "k_range = list(range(1,11))\n",
    "weight_options = [\"uniform\", \"distance\"]\n",
    "param_grid = dict(n_neighbors = k_range, weights = weight_options)\n",
    "#print (param_grid)\n",
    "knn = KNeighborsClassifier()\n",
    "grid = GridSearchCV(knn, param_grid, cv = 6, scoring = 'accuracy')\n",
    "grid.fit(X_train, y_train)\n",
    "print(\"The best parameter for SVM model: \",grid.best_params_)"
   ]
  },
  {
   "cell_type": "code",
   "execution_count": 213,
   "id": "muslim-sailing",
   "metadata": {},
   "outputs": [
    {
     "name": "stdout",
     "output_type": "stream",
     "text": [
      "Confusion matrix:  \n",
      " [[2 0 0 0 0 0 0 0 0 0 0]\n",
      " [0 1 0 0 0 0 0 0 0 0 0]\n",
      " [0 0 2 0 0 0 0 0 0 0 0]\n",
      " [0 0 0 2 0 0 0 0 0 0 1]\n",
      " [0 0 0 1 0 0 0 1 0 0 0]\n",
      " [1 0 0 0 0 1 0 0 0 0 2]\n",
      " [0 0 0 0 1 0 0 0 0 0 0]\n",
      " [0 0 0 0 0 0 0 1 0 0 0]\n",
      " [0 0 0 1 0 0 0 0 1 0 0]\n",
      " [0 0 0 0 0 0 0 0 0 2 0]\n",
      " [0 0 0 0 0 0 0 0 0 0 2]]\n",
      "Classification report:  \n",
      "               precision    recall  f1-score   support\n",
      "\n",
      "           0       0.67      1.00      0.80         2\n",
      "           1       1.00      1.00      1.00         1\n",
      "           2       1.00      1.00      1.00         2\n",
      "           3       0.50      0.67      0.57         3\n",
      "           4       0.00      0.00      0.00         2\n",
      "           5       1.00      0.25      0.40         4\n",
      "           6       0.00      0.00      0.00         1\n",
      "           7       0.50      1.00      0.67         1\n",
      "           8       1.00      0.50      0.67         2\n",
      "           9       1.00      1.00      1.00         2\n",
      "          11       0.40      1.00      0.57         2\n",
      "\n",
      "    accuracy                           0.64        22\n",
      "   macro avg       0.64      0.67      0.61        22\n",
      "weighted avg       0.69      0.64      0.59        22\n",
      "\n",
      "Accuracy score:  0.6363636363636364\n"
     ]
    }
   ],
   "source": [
    "neigh = KNeighborsClassifier(n_neighbors=1,weights='uniform')\n",
    "neigh.fit(X_train, y_train)\n",
    "y_test_knn = neigh.predict(X_test)\n",
    "print(\"Confusion matrix: \", \"\\n\", confusion_matrix(y_test,y_test_knn))\n",
    "print(\"Classification report: \", \"\\n\", classification_report(y_test,y_test_knn))\n",
    "print(\"Accuracy score: \", accuracy_score(y_test, y_test_knn))"
   ]
  },
  {
   "cell_type": "markdown",
   "id": "engaging-charter",
   "metadata": {},
   "source": [
    "## Summary - 2"
   ]
  },
  {
   "cell_type": "code",
   "execution_count": null,
   "id": "published-westminster",
   "metadata": {},
   "outputs": [],
   "source": [
    "######### BEFORE USING GRIDSEARCHCV\n",
    "# 1. Accuracy score with Naive Bayes:  0.5\n",
    "# 2. Accuracy score with Logistic Regression:  0.8181818181818182\n",
    "# 3. Accuracy score with Random Forest:  0.8181818181818182\n",
    "# 4. Accuracy score with Decision Tree:  0.45454545454545453 without Entropy AND 0.5909090909090909 with Entropy\n",
    "# 5. Accuracy score with Gradient Boosting: 0.7272727272727273\n",
    "# 6. Accuracy score with SVM(Support Vector Machines): 0.36363636363636365\n",
    "# 7. Accuracy score with KNN: 0.6363636363636364\n",
    "\n",
    "\n",
    "######### AFTER USING GRIDSEARCHCV\n",
    "# 1. \n",
    "# 2. Accuracy score with Logistic Regression:  0.8181818181818182 ==== 0.8181818181818182\n",
    "# 3. Accuracy score with Random Forest:  0.8181818181818182 >>>> 0.7727272727272727\n",
    "# 4. Accuracy score with Decision Tree:  0.45454545454545453 without Entropy AND 0.5909090909090909 with Entropy \n",
    "# <<<< 0.6363636363636364\n",
    "# 5. Accuracy score with Gradient Boosting: 0.7272727272727273 <<<< 0.8636363636363636\n",
    "# 6. Accuracy score with SVM(Support Vector Machines): 0.36363636363636365 <<<< 0.5909090909090909\n",
    "# 7. Accuracy score with KNN: 0.6363636363636364 ==== 0.6363636363636364"
   ]
  },
  {
   "cell_type": "markdown",
   "id": "elementary-commander",
   "metadata": {},
   "source": [
    "# 4. Similar to 3., but using TF-IDF."
   ]
  },
  {
   "cell_type": "code",
   "execution_count": 12,
   "id": "critical-designation",
   "metadata": {},
   "outputs": [],
   "source": [
    "from sklearn.feature_extraction.text import TfidfVectorizer\n",
    "tfidfconverter = TfidfVectorizer(max_features=1500, min_df=5, max_df=0.7, stop_words=stopwords.words('english'))\n",
    "X_TFIDF = tfidfconverter.fit_transform(documents).toarray()"
   ]
  },
  {
   "cell_type": "code",
   "execution_count": 13,
   "id": "timely-thirty",
   "metadata": {},
   "outputs": [
    {
     "name": "stdout",
     "output_type": "stream",
     "text": [
      "Training data:  84 for features 84 for targets\n",
      "Training data:  22 for features 22 for targets\n"
     ]
    }
   ],
   "source": [
    "from sklearn.model_selection import train_test_split\n",
    "X_train_TFIDF, X_test_TFIDF, y_train_TFIDF, y_test_TFIDF = train_test_split(X_TFIDF, y, test_size=0.2, \n",
    "                                                                            random_state=0)\n",
    "print(\"Training data: \", len(X_train_TFIDF), \"for features\", len(y_train_TFIDF), \"for targets\")\n",
    "print(\"Training data: \", len(X_test_TFIDF), \"for features\", len(y_test_TFIDF), \"for targets\")"
   ]
  },
  {
   "cell_type": "markdown",
   "id": "second-appointment",
   "metadata": {},
   "source": [
    "## Naive Bayes"
   ]
  },
  {
   "cell_type": "code",
   "execution_count": 14,
   "id": "expanded-mistake",
   "metadata": {},
   "outputs": [
    {
     "name": "stdout",
     "output_type": "stream",
     "text": [
      "Confusion matrix:  \n",
      " [[0 0 0 0 0 0 0 0 2 0 0]\n",
      " [0 1 0 0 0 0 0 0 0 0 0]\n",
      " [0 0 2 0 0 0 0 0 0 0 0]\n",
      " [0 0 0 0 1 0 0 0 2 0 0]\n",
      " [0 0 0 0 2 0 0 0 0 0 0]\n",
      " [0 0 0 0 1 0 0 0 3 0 0]\n",
      " [0 0 0 0 0 0 0 0 1 0 0]\n",
      " [0 0 0 0 0 0 0 1 0 0 0]\n",
      " [0 0 0 0 0 0 0 0 2 0 0]\n",
      " [0 0 0 0 0 0 0 0 0 2 0]\n",
      " [0 0 0 0 0 0 0 0 1 0 1]]\n",
      "Classification report:  \n",
      "               precision    recall  f1-score   support\n",
      "\n",
      "           0       0.00      0.00      0.00         2\n",
      "           1       1.00      1.00      1.00         1\n",
      "           2       1.00      1.00      1.00         2\n",
      "           3       0.00      0.00      0.00         3\n",
      "           4       0.50      1.00      0.67         2\n",
      "           5       0.00      0.00      0.00         4\n",
      "           6       0.00      0.00      0.00         1\n",
      "           7       1.00      1.00      1.00         1\n",
      "           8       0.18      1.00      0.31         2\n",
      "           9       1.00      1.00      1.00         2\n",
      "          11       1.00      0.50      0.67         2\n",
      "\n",
      "    accuracy                           0.50        22\n",
      "   macro avg       0.52      0.59      0.51        22\n",
      "weighted avg       0.43      0.50      0.42        22\n",
      "\n",
      "Accuracy score:  0.5\n"
     ]
    }
   ],
   "source": [
    "#Import Gaussian Naive Bayes model\n",
    "from sklearn.naive_bayes import GaussianNB\n",
    "#Import scikit-learn metrics module for accuracy calculation\n",
    "from sklearn import metrics\n",
    "from sklearn.metrics import classification_report, confusion_matrix, accuracy_score\n",
    "#Create a Gaussian Classifier\n",
    "gnb_TFIDF = GaussianNB()\n",
    "#Train the model using the training sets\n",
    "gnb_TFIDF.fit(X_train_TFIDF, y_train_TFIDF)\n",
    "#Predict the response for test dataset\n",
    "y_pred_NB_TFIDF = gnb_TFIDF.predict(X_test_TFIDF)\n",
    "print(\"Confusion matrix: \", \"\\n\", confusion_matrix(y_test_TFIDF,y_pred_NB_TFIDF))\n",
    "print(\"Classification report: \", \"\\n\", classification_report(y_test_TFIDF,y_pred_NB_TFIDF))\n",
    "print(\"Accuracy score: \", accuracy_score(y_test_TFIDF, y_pred_NB_TFIDF))"
   ]
  },
  {
   "cell_type": "markdown",
   "id": "sorted-freeware",
   "metadata": {},
   "source": [
    "## Logistic Regression"
   ]
  },
  {
   "cell_type": "code",
   "execution_count": 15,
   "id": "embedded-shore",
   "metadata": {},
   "outputs": [
    {
     "name": "stdout",
     "output_type": "stream",
     "text": [
      "Confusion matrix:  \n",
      " [[2 0 0 0 0 0 0 0 0 0 0]\n",
      " [0 1 0 0 0 0 0 0 0 0 0]\n",
      " [0 0 2 0 0 0 0 0 0 0 0]\n",
      " [0 0 0 3 0 0 0 0 0 0 0]\n",
      " [0 0 0 0 2 0 0 0 0 0 0]\n",
      " [0 0 0 0 0 2 0 0 0 0 2]\n",
      " [0 0 0 0 0 0 1 0 0 0 0]\n",
      " [0 0 0 0 0 0 0 1 0 0 0]\n",
      " [0 0 0 0 1 0 0 0 1 0 0]\n",
      " [0 0 0 0 0 0 0 0 0 2 0]\n",
      " [0 0 0 0 0 0 0 0 0 0 2]]\n",
      "Classification report:  \n",
      "               precision    recall  f1-score   support\n",
      "\n",
      "           0       1.00      1.00      1.00         2\n",
      "           1       1.00      1.00      1.00         1\n",
      "           2       1.00      1.00      1.00         2\n",
      "           3       1.00      1.00      1.00         3\n",
      "           4       0.67      1.00      0.80         2\n",
      "           5       1.00      0.50      0.67         4\n",
      "           6       1.00      1.00      1.00         1\n",
      "           7       1.00      1.00      1.00         1\n",
      "           8       1.00      0.50      0.67         2\n",
      "           9       1.00      1.00      1.00         2\n",
      "          11       0.50      1.00      0.67         2\n",
      "\n",
      "    accuracy                           0.86        22\n",
      "   macro avg       0.92      0.91      0.89        22\n",
      "weighted avg       0.92      0.86      0.86        22\n",
      "\n",
      "Accuracy score:  0.8636363636363636\n"
     ]
    }
   ],
   "source": [
    "# import the class\n",
    "from sklearn.linear_model import LogisticRegression\n",
    "# instantiate the model (using the default parameters)\n",
    "logreg_TFIDF = LogisticRegression(solver='saga')\n",
    "# fit the model with data\n",
    "logreg_TFIDF.fit(X_train_TFIDF, y_train_TFIDF)\n",
    "#Predict the Y values from X_test data\n",
    "y_pred_LR_TFIDF = logreg_TFIDF.predict(X_test_TFIDF)\n",
    "print(\"Confusion matrix: \", \"\\n\", confusion_matrix(y_test_TFIDF,y_pred_LR_TFIDF))\n",
    "print(\"Classification report: \", \"\\n\", classification_report(y_test_TFIDF,y_pred_LR_TFIDF))\n",
    "print(\"Accuracy score: \", accuracy_score(y_test_TFIDF, y_pred_LR_TFIDF))"
   ]
  },
  {
   "cell_type": "markdown",
   "id": "baking-improvement",
   "metadata": {},
   "source": [
    "## Random Forest"
   ]
  },
  {
   "cell_type": "code",
   "execution_count": 16,
   "id": "complex-newfoundland",
   "metadata": {},
   "outputs": [
    {
     "name": "stdout",
     "output_type": "stream",
     "text": [
      "Confusion matrix:  \n",
      " [[2 0 0 0 0 0 0 0 0 0 0]\n",
      " [0 1 0 0 0 0 0 0 0 0 0]\n",
      " [0 0 2 0 0 0 0 0 0 0 0]\n",
      " [0 0 0 2 0 0 0 0 0 0 1]\n",
      " [0 0 0 0 2 0 0 0 0 0 0]\n",
      " [0 0 0 0 0 4 0 0 0 0 0]\n",
      " [0 0 0 0 0 0 1 0 0 0 0]\n",
      " [0 0 0 0 0 0 0 1 0 0 0]\n",
      " [0 0 0 0 1 0 0 0 1 0 0]\n",
      " [0 0 0 0 0 0 0 0 0 2 0]\n",
      " [0 0 0 0 0 0 1 0 0 0 1]]\n",
      "Classification report:  \n",
      "               precision    recall  f1-score   support\n",
      "\n",
      "           0       1.00      1.00      1.00         2\n",
      "           1       1.00      1.00      1.00         1\n",
      "           2       1.00      1.00      1.00         2\n",
      "           3       1.00      0.67      0.80         3\n",
      "           4       0.67      1.00      0.80         2\n",
      "           5       1.00      1.00      1.00         4\n",
      "           6       0.50      1.00      0.67         1\n",
      "           7       1.00      1.00      1.00         1\n",
      "           8       1.00      0.50      0.67         2\n",
      "           9       1.00      1.00      1.00         2\n",
      "          11       0.50      0.50      0.50         2\n",
      "\n",
      "    accuracy                           0.86        22\n",
      "   macro avg       0.88      0.88      0.86        22\n",
      "weighted avg       0.90      0.86      0.86        22\n",
      "\n",
      "Accuracy score:  0.8636363636363636\n"
     ]
    }
   ],
   "source": [
    "#Import Random Forest Model\n",
    "from sklearn.ensemble import RandomForestClassifier\n",
    "classifier = RandomForestClassifier(n_estimators=1000, random_state=0)\n",
    "classifier.fit(X_train_TFIDF, y_train_TFIDF)\n",
    "y_pred_rf_TFIDF = classifier.predict(X_test_TFIDF)\n",
    "print(\"Confusion matrix: \", \"\\n\", confusion_matrix(y_test_TFIDF,y_pred_rf_TFIDF))\n",
    "print(\"Classification report: \", \"\\n\", classification_report(y_test_TFIDF,y_pred_rf_TFIDF))\n",
    "print(\"Accuracy score: \", accuracy_score(y_test_TFIDF, y_pred_rf_TFIDF))"
   ]
  },
  {
   "cell_type": "markdown",
   "id": "completed-treasury",
   "metadata": {},
   "source": [
    "## Decision Tree"
   ]
  },
  {
   "cell_type": "code",
   "execution_count": 19,
   "id": "hollow-amazon",
   "metadata": {
    "scrolled": false
   },
   "outputs": [
    {
     "name": "stdout",
     "output_type": "stream",
     "text": [
      "Confusion matrix:  \n",
      " [[1 0 0 0 0 1 0 0 0 0 0]\n",
      " [0 0 0 0 1 0 0 0 0 0 0]\n",
      " [0 0 2 0 0 0 0 0 0 0 0]\n",
      " [0 0 0 1 1 0 0 0 1 0 0]\n",
      " [0 0 1 0 1 0 0 0 0 0 0]\n",
      " [0 0 0 0 0 3 0 0 1 0 0]\n",
      " [0 0 0 0 0 0 1 0 0 0 0]\n",
      " [0 0 0 0 0 0 0 1 0 0 0]\n",
      " [0 0 1 0 0 0 0 0 1 0 0]\n",
      " [0 0 0 0 0 0 0 0 0 2 0]\n",
      " [0 0 1 0 0 0 0 0 0 0 1]]\n",
      "Classification report:  \n",
      "               precision    recall  f1-score   support\n",
      "\n",
      "           0       1.00      0.50      0.67         2\n",
      "           1       0.00      0.00      0.00         1\n",
      "           2       0.40      1.00      0.57         2\n",
      "           3       1.00      0.33      0.50         3\n",
      "           4       0.33      0.50      0.40         2\n",
      "           5       0.75      0.75      0.75         4\n",
      "           6       1.00      1.00      1.00         1\n",
      "           7       1.00      1.00      1.00         1\n",
      "           8       0.33      0.50      0.40         2\n",
      "           9       1.00      1.00      1.00         2\n",
      "          11       1.00      0.50      0.67         2\n",
      "\n",
      "    accuracy                           0.64        22\n",
      "   macro avg       0.71      0.64      0.63        22\n",
      "weighted avg       0.73      0.64      0.63        22\n",
      "\n",
      "Accuracy score:  0.6363636363636364\n"
     ]
    }
   ],
   "source": [
    "# Import Decision Tree Classifier\n",
    "from sklearn.tree import DecisionTreeClassifier\n",
    "clf = DecisionTreeClassifier()\n",
    "clf = clf.fit(X_train_TFIDF, y_train_TFIDF)\n",
    "y_pred_DT_TFIDF = clf.predict(X_test_TFIDF)\n",
    "print(\"Confusion matrix: \", \"\\n\", confusion_matrix(y_test_TFIDF,y_pred_DT_TFIDF))\n",
    "print(\"Classification report: \", \"\\n\", classification_report(y_test_TFIDF,y_pred_DT_TFIDF))\n",
    "print(\"Accuracy score: \", accuracy_score(y_test_TFIDF, y_pred_DT_TFIDF))"
   ]
  },
  {
   "cell_type": "markdown",
   "id": "chronic-method",
   "metadata": {},
   "source": [
    "## Decision Tree with Entropy"
   ]
  },
  {
   "cell_type": "code",
   "execution_count": 22,
   "id": "comfortable-damage",
   "metadata": {
    "scrolled": false
   },
   "outputs": [
    {
     "name": "stdout",
     "output_type": "stream",
     "text": [
      "Confusion matrix:  \n",
      " [[1 0 1 0 0 0 0 0 0 0 0]\n",
      " [0 1 0 0 0 0 0 0 0 0 0]\n",
      " [0 0 0 0 0 1 0 0 0 1 0]\n",
      " [0 0 0 3 0 0 0 0 0 0 0]\n",
      " [0 0 1 0 1 0 0 0 0 0 0]\n",
      " [0 0 0 0 1 3 0 0 0 0 0]\n",
      " [0 0 0 0 0 0 1 0 0 0 0]\n",
      " [0 0 0 0 0 0 0 1 0 0 0]\n",
      " [0 0 0 0 1 0 0 0 1 0 0]\n",
      " [0 0 0 0 1 0 0 0 0 1 0]\n",
      " [0 0 0 0 0 1 0 0 0 0 1]]\n",
      "Classification report:  \n",
      "               precision    recall  f1-score   support\n",
      "\n",
      "           0       1.00      0.50      0.67         2\n",
      "           1       1.00      1.00      1.00         1\n",
      "           2       0.00      0.00      0.00         2\n",
      "           3       1.00      1.00      1.00         3\n",
      "           4       0.25      0.50      0.33         2\n",
      "           5       0.60      0.75      0.67         4\n",
      "           6       1.00      1.00      1.00         1\n",
      "           7       1.00      1.00      1.00         1\n",
      "           8       1.00      0.50      0.67         2\n",
      "           9       0.50      0.50      0.50         2\n",
      "          11       1.00      0.50      0.67         2\n",
      "\n",
      "    accuracy                           0.64        22\n",
      "   macro avg       0.76      0.66      0.68        22\n",
      "weighted avg       0.72      0.64      0.65        22\n",
      "\n",
      "Accuracy score:  0.6363636363636364\n"
     ]
    }
   ],
   "source": [
    "# Import Decision Tree Classifier\n",
    "from sklearn.tree import DecisionTreeClassifier\n",
    "clf = DecisionTreeClassifier(criterion='entropy')\n",
    "clf = clf.fit(X_train_TFIDF, y_train_TFIDF)\n",
    "y_pred_DT_TFIDF_entro = clf.predict(X_test_TFIDF)\n",
    "print(\"Confusion matrix: \", \"\\n\", confusion_matrix(y_test_TFIDF,y_pred_DT_TFIDF_entro))\n",
    "print(\"Classification report: \", \"\\n\", classification_report(y_test_TFIDF,y_pred_DT_TFIDF_entro))\n",
    "print(\"Accuracy score: \", accuracy_score(y_test_TFIDF, y_pred_DT_TFIDF_entro))"
   ]
  },
  {
   "cell_type": "markdown",
   "id": "three-vienna",
   "metadata": {},
   "source": [
    "## Gradient Boosting"
   ]
  },
  {
   "cell_type": "code",
   "execution_count": 23,
   "id": "terminal-valve",
   "metadata": {},
   "outputs": [
    {
     "name": "stdout",
     "output_type": "stream",
     "text": [
      "Confusion matrix:  \n",
      " [[2 0 0 0 0 0 0 0 0 0 0 0]\n",
      " [0 1 0 0 0 0 0 0 0 0 0 0]\n",
      " [0 0 2 0 0 0 0 0 0 0 0 0]\n",
      " [0 0 0 2 0 0 0 0 0 0 1 0]\n",
      " [0 0 0 0 1 0 0 0 1 0 0 0]\n",
      " [0 0 0 0 0 3 0 0 1 0 0 0]\n",
      " [0 0 0 0 0 0 1 0 0 0 0 0]\n",
      " [0 0 0 0 0 0 0 1 0 0 0 0]\n",
      " [0 0 0 0 0 0 0 1 1 0 0 0]\n",
      " [0 0 0 1 0 0 0 0 0 1 0 0]\n",
      " [0 0 0 0 0 0 0 0 0 0 0 0]\n",
      " [0 0 0 0 0 0 0 1 0 0 0 1]]\n",
      "Classification report:  \n",
      "               precision    recall  f1-score   support\n",
      "\n",
      "           0       1.00      1.00      1.00         2\n",
      "           1       1.00      1.00      1.00         1\n",
      "           2       1.00      1.00      1.00         2\n",
      "           3       0.67      0.67      0.67         3\n",
      "           4       1.00      0.50      0.67         2\n",
      "           5       1.00      0.75      0.86         4\n",
      "           6       1.00      1.00      1.00         1\n",
      "           7       0.33      1.00      0.50         1\n",
      "           8       0.33      0.50      0.40         2\n",
      "           9       1.00      0.50      0.67         2\n",
      "          10       0.00      0.00      0.00         0\n",
      "          11       1.00      0.50      0.67         2\n",
      "\n",
      "    accuracy                           0.73        22\n",
      "   macro avg       0.78      0.70      0.70        22\n",
      "weighted avg       0.86      0.73      0.76        22\n",
      "\n",
      "Accuracy score:  0.7272727272727273\n"
     ]
    }
   ],
   "source": [
    "from sklearn.ensemble import GradientBoostingClassifier\n",
    "from sklearn.metrics import mean_squared_error\n",
    "clf_GB = GradientBoostingClassifier(random_state=0)\n",
    "clf_GB.fit(X_train_TFIDF, y_train_TFIDF)\n",
    "y_pred_GB_TFIDF = clf_GB.predict(X_test_TFIDF)\n",
    "print(\"Confusion matrix: \", \"\\n\", confusion_matrix(y_test_TFIDF,y_pred_GB_TFIDF))\n",
    "print(\"Classification report: \", \"\\n\", classification_report(y_test_TFIDF,y_pred_GB_TFIDF))\n",
    "print(\"Accuracy score: \", accuracy_score(y_test_TFIDF, y_pred_GB_TFIDF))"
   ]
  },
  {
   "cell_type": "markdown",
   "id": "loving-wiring",
   "metadata": {},
   "source": [
    "## SVM(Support Vector Machines)"
   ]
  },
  {
   "cell_type": "code",
   "execution_count": 25,
   "id": "specified-sweet",
   "metadata": {},
   "outputs": [
    {
     "name": "stdout",
     "output_type": "stream",
     "text": [
      "Confusion matrix:  \n",
      " [[2 0 0 0 0 0 0 0 0 0 0]\n",
      " [0 1 0 0 0 0 0 0 0 0 0]\n",
      " [0 0 1 1 0 0 0 0 0 0 0]\n",
      " [0 0 0 3 0 0 0 0 0 0 0]\n",
      " [0 0 0 1 1 0 0 0 0 0 0]\n",
      " [0 0 0 4 0 0 0 0 0 0 0]\n",
      " [0 0 0 1 0 0 0 0 0 0 0]\n",
      " [0 0 0 0 0 0 0 1 0 0 0]\n",
      " [0 0 0 2 0 0 0 0 0 0 0]\n",
      " [0 0 0 1 0 0 0 0 0 1 0]\n",
      " [0 0 0 0 0 0 0 1 0 0 1]]\n",
      "Classification report:  \n",
      "               precision    recall  f1-score   support\n",
      "\n",
      "           0       1.00      1.00      1.00         2\n",
      "           1       1.00      1.00      1.00         1\n",
      "           2       1.00      0.50      0.67         2\n",
      "           3       0.23      1.00      0.38         3\n",
      "           4       1.00      0.50      0.67         2\n",
      "           5       0.00      0.00      0.00         4\n",
      "           6       0.00      0.00      0.00         1\n",
      "           7       0.50      1.00      0.67         1\n",
      "           8       0.00      0.00      0.00         2\n",
      "           9       1.00      0.50      0.67         2\n",
      "          11       1.00      0.50      0.67         2\n",
      "\n",
      "    accuracy                           0.50        22\n",
      "   macro avg       0.61      0.55      0.52        22\n",
      "weighted avg       0.55      0.50      0.46        22\n",
      "\n",
      "Accuracy score:  0.5\n"
     ]
    }
   ],
   "source": [
    "from sklearn.pipeline import make_pipeline\n",
    "from sklearn.preprocessing import StandardScaler\n",
    "from sklearn.svm import SVC\n",
    "import numpy as np\n",
    "clf_SVM = make_pipeline(StandardScaler(), SVC(gamma='auto',max_iter=200,probability=True))\n",
    "clf_SVM.fit(X_train_TFIDF, y_train_TFIDF)\n",
    "y_test_SVM_TFIDF = clf_SVM.predict(X_test_TFIDF)\n",
    "print(\"Confusion matrix: \", \"\\n\", confusion_matrix(y_test_TFIDF,y_test_SVM_TFIDF))\n",
    "print(\"Classification report: \", \"\\n\", classification_report(y_test_TFIDF,y_test_SVM_TFIDF))\n",
    "print(\"Accuracy score: \", accuracy_score(y_test_TFIDF, y_test_SVM_TFIDF))"
   ]
  },
  {
   "cell_type": "markdown",
   "id": "characteristic-decrease",
   "metadata": {},
   "source": [
    "## KNN"
   ]
  },
  {
   "cell_type": "code",
   "execution_count": 26,
   "id": "alternative-acrobat",
   "metadata": {},
   "outputs": [
    {
     "name": "stdout",
     "output_type": "stream",
     "text": [
      "Confusion matrix:  \n",
      " [[2 0 0 0 0 0 0 0 0 0 0]\n",
      " [0 1 0 0 0 0 0 0 0 0 0]\n",
      " [0 0 2 0 0 0 0 0 0 0 0]\n",
      " [0 0 0 3 0 0 0 0 0 0 0]\n",
      " [0 0 0 0 2 0 0 0 0 0 0]\n",
      " [0 0 0 1 0 0 0 0 1 0 2]\n",
      " [0 0 0 0 0 0 0 0 1 0 0]\n",
      " [0 0 0 0 0 0 0 1 0 0 0]\n",
      " [0 0 0 0 0 0 0 0 2 0 0]\n",
      " [0 0 0 0 0 0 0 0 0 2 0]\n",
      " [0 0 0 0 0 0 0 0 0 0 2]]\n",
      "Classification report:  \n",
      "               precision    recall  f1-score   support\n",
      "\n",
      "           0       1.00      1.00      1.00         2\n",
      "           1       1.00      1.00      1.00         1\n",
      "           2       1.00      1.00      1.00         2\n",
      "           3       0.75      1.00      0.86         3\n",
      "           4       1.00      1.00      1.00         2\n",
      "           5       0.00      0.00      0.00         4\n",
      "           6       0.00      0.00      0.00         1\n",
      "           7       1.00      1.00      1.00         1\n",
      "           8       0.50      1.00      0.67         2\n",
      "           9       1.00      1.00      1.00         2\n",
      "          11       0.50      1.00      0.67         2\n",
      "\n",
      "    accuracy                           0.77        22\n",
      "   macro avg       0.70      0.82      0.74        22\n",
      "weighted avg       0.65      0.77      0.69        22\n",
      "\n",
      "Accuracy score:  0.7727272727272727\n"
     ]
    }
   ],
   "source": [
    "from sklearn.neighbors import KNeighborsClassifier\n",
    "neigh = KNeighborsClassifier(n_neighbors=1)\n",
    "neigh.fit(X_train_TFIDF, y_train_TFIDF)\n",
    "y_test_knn_TFIDF = neigh.predict(X_test_TFIDF)\n",
    "print(\"Confusion matrix: \", \"\\n\", confusion_matrix(y_test_TFIDF,y_test_knn_TFIDF))\n",
    "print(\"Classification report: \", \"\\n\", classification_report(y_test_TFIDF,y_test_knn_TFIDF))\n",
    "print(\"Accuracy score: \", accuracy_score(y_test_TFIDF, y_test_knn_TFIDF))"
   ]
  },
  {
   "cell_type": "markdown",
   "id": "sudden-logistics",
   "metadata": {},
   "source": [
    "## Summary - 3"
   ]
  },
  {
   "cell_type": "code",
   "execution_count": 27,
   "id": "fossil-curve",
   "metadata": {},
   "outputs": [],
   "source": [
    "######### USING BAG OF WORDS WITHOUT TF-IDF\n",
    "# 1. Accuracy score with Naive Bayes:  0.5\n",
    "# 2. Accuracy score with Logistic Regression:  0.8181818181818182\n",
    "# 3. Accuracy score with Random Forest:  0.8181818181818182\n",
    "# 4. Accuracy score with Decision Tree:  0.45454545454545453 without Entropy AND 0.5909090909090909 with Entropy\n",
    "# 5. Accuracy score with Gradient Boosting: 0.7272727272727273\n",
    "# 6. Accuracy score with SVM(Support Vector Machines): 0.36363636363636365\n",
    "# 7. Accuracy score with KNN: 0.6363636363636364\n",
    "\n",
    "\n",
    "######### USING BAG OF WORDS WITH TF-IDF\n",
    "# 1. Accuracy score with Naive Bayes:  0.5\n",
    "# 2. Accuracy score with Logistic Regression:  0.8636363636363636 (increased)\n",
    "# 3. Accuracy score with Random Forest:  0.8636363636363636 (increased)\n",
    "# 4. Accuracy score with Decision Tree:  0.6363636363636364 (increased) without Entropy \n",
    "# AND 0.6363636363636364 (increased) with Entropy\n",
    "# 5. Accuracy score with Gradient Boosting: 0.7272727272727273 (increased)\n",
    "# 6. Accuracy score with SVM(Support Vector Machines): 0.5 (decreased)\n",
    "# 7. Accuracy score with KNN: 0.7727272727272727 (increased)"
   ]
  },
  {
   "cell_type": "markdown",
   "id": "final-baking",
   "metadata": {},
   "source": [
    "# 5. Similar to 3., but using word2vec."
   ]
  },
  {
   "cell_type": "code",
   "execution_count": 105,
   "id": "advised-argument",
   "metadata": {},
   "outputs": [],
   "source": [
    "train, test = train_test_split(documents, test_size=0.2, random_state=0)"
   ]
  },
  {
   "cell_type": "markdown",
   "id": "dominant-serbia",
   "metadata": {},
   "source": [
    "# 9. Write up analysis and conclusions."
   ]
  },
  {
   "cell_type": "code",
   "execution_count": 20,
   "id": "interested-category",
   "metadata": {},
   "outputs": [],
   "source": [
    "# This is re result when I used Bag of Word to my data and then apply supervised models such as Naive Bayes, \n",
    "# Logistic Regression, Decision Tree, Random Forest, KNN, SVM and Gradient Boosting. We can see that \n",
    "# Logistic Regression and Random Forest had the highest accuracy (at 0.818) and SVM(Support Vector Machines) had \n",
    "# the lowest accuracy.\n",
    "\n",
    "######### USING BAG OF WORD WITHOUT GRIDSEARCHCV\n",
    "# 1. Accuracy score with Naive Bayes:  0.5\n",
    "# 2. Accuracy score with Logistic Regression:  0.8181818181818182\n",
    "# 3. Accuracy score with Random Forest:  0.8181818181818182\n",
    "# 4. Accuracy score with Decision Tree:  0.45454545454545453 without Entropy AND 0.5909090909090909 with Entropy\n",
    "# 5. Accuracy score with Gradient Boosting: 0.7272727272727273\n",
    "# 6. Accuracy score with SVM(Support Vector Machines): 0.36363636363636365\n",
    "# 7. Accuracy score with KNN: 0.6363636363636364\n",
    "\n",
    "######### USING BAG OF WORD WITH GRIDSEARCHCV\n",
    "# 1. Could not use GRIDSEARCHCV\n",
    "# 2. Accuracy score with Logistic Regression:  0.8181818181818182 ==== 0.8181818181818182\n",
    "# 3. Accuracy score with Random Forest:  0.8181818181818182 >>>> 0.7727272727272727\n",
    "# 4. Accuracy score with Decision Tree:  0.45454545454545453 without Entropy AND 0.5909090909090909 with Entropy \n",
    "# <<<< 0.6363636363636364\n",
    "# 5. Accuracy score with Gradient Boosting: 0.7272727272727273 <<<< 0.8636363636363636\n",
    "# 6. Accuracy score with SVM(Support Vector Machines): 0.36363636363636365 <<<< 0.5909090909090909\n",
    "# 7. Accuracy score with KNN: 0.6363636363636364 ==== 0.6363636363636364\n",
    "\n",
    "# And after I used GRIDSEARCHCV we can see that almost they get higher accucary with GRIDSEARCHCV, unless \n",
    "# Random Forest has been reduced the accuracy. The reason could be I have not found it best parameters.\n",
    "\n",
    "\n",
    "######### USING BAG OF WORDS WITH TF-IDF\n",
    "# 1. Accuracy score with Naive Bayes:  0.5 (keep)\n",
    "# 2. Accuracy score with Logistic Regression:  0.8636363636363636 (increased)\n",
    "# 3. Accuracy score with Random Forest:  0.8636363636363636 (increased)\n",
    "# 4. Accuracy score with Decision Tree:  0.6363636363636364 (increased) without Entropy \n",
    "# AND 0.6363636363636364 (increased) with Entropy\n",
    "# 5. Accuracy score with Gradient Boosting: 0.7272727272727273 (increased)\n",
    "# 6. Accuracy score with SVM(Support Vector Machines): 0.5 (decreased)\n",
    "# 7. Accuracy score with KNN: 0.7727272727272727 (increased)\n",
    "\n",
    "# I also applied TF-IDF and BAG OF WORDS in the same time, the results is quite good. Even without uing \n",
    "# GRIDSEARCHCV I also get high accuracy, event higher than the accuracy USING BAG OF WORD WITH GRIDSEARCHCV (at \n",
    "# Logistic Regression, Random Forest, Decision Tree, Decision Tree with Entropy, Gradient Boosting, KNN)\n",
    "# We can make the conclusion that USING BAG OF WORDS WITH TF-IDF would be leading to better accuracy in this task.\n",
    "\n",
    "# For applying RNN for text classification, until now I have been tried so many type of model(with different type\n",
    "# of number of layers or numbers of weight) but I still could not get good result. In my opinion, the reason of \n",
    "# this dispoiting is I have not used the suitable methods for data preprocessing and have not found the best model\n",
    "# and best parameter such as: The maximum number of words to be used. (most frequent) - MAX_NB_WORDS, \n",
    "# Max number of words in each complaint - MAX_SEQUENCE_LENGTH and EMBEDDING_DIM. Also depending on my experient\n",
    "# on dealing with text data (preprocessing, text desiged model for training)."
   ]
  },
  {
   "cell_type": "code",
   "execution_count": null,
   "id": "quality-consent",
   "metadata": {},
   "outputs": [],
   "source": []
  }
 ],
 "metadata": {
  "kernelspec": {
   "display_name": "Python 3",
   "language": "python",
   "name": "python3"
  },
  "language_info": {
   "codemirror_mode": {
    "name": "ipython",
    "version": 3
   },
   "file_extension": ".py",
   "mimetype": "text/x-python",
   "name": "python",
   "nbconvert_exporter": "python",
   "pygments_lexer": "ipython3",
   "version": "3.7.3"
  }
 },
 "nbformat": 4,
 "nbformat_minor": 5
}
